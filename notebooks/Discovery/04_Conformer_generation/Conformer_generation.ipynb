{
 "cells": [
  {
   "cell_type": "markdown",
   "metadata": {},
   "source": [
    "# Conformer Generation\n",
    "\n",
    "This notebook illustrates the use of the [Conformer API](https://downloads.ccdc.cam.ac.uk/documentation/API/descriptive_docs/conformer.html).\n",
    "\n",
    "The API does not yet read stereochemical information, so requires a 3D structure as input if stereochemistry is to be handled properly. Thus, if the structures intended as input to the Conformer API\n",
    "are available as SMILES (or, say, a 2D SDF file), we recommend the use of [RDKit](http://rdkit.org/) to generate an initial 3D structure which is then used as input to the conformer generator.\n",
    "Note that work is underway to rectify this situation, and the CCDC API will thus be able to correctly handle stereochemical SMILES in a future release.\n",
    "\n",
    "It is assumed that the input structures are all in the desired charge and tautomeric states. No protonation/deprotonation or tautomer standardization/enumeration is done here.\n",
    "\n",
    "#### References\n",
    "\n",
    "The Conformer API use CSD-derived conformational distributions to generate conformers for small molecules:\n",
    "* https://downloads.ccdc.cam.ac.uk/documentation/API/descriptive_docs/conformer.html\n",
    "* https://downloads.ccdc.cam.ac.uk/documentation/API/modules/conformer_api.html\n",
    "\n",
    "The associated publication describes the statistical validation performed, which also includes comparisons with PDB structures:\n",
    "* https://pubs.acs.org/doi/abs/10.1021/acs.jcim.7b00697\n",
    "\n",
    "In addition, there is a large amount of literature describing various comparisons between CSD, PDB and computed small-molecule conformations. A sample is given below:\n",
    "* https://journals.iucr.org/d/issues/2017/03/00/ba5249/ba5249.pdf\n",
    "* https://link.springer.com/article/10.1007/s10822-011-9538-6\n",
    "* https://www.ncbi.nlm.nih.gov/pmc/articles/PMC5553890/"
   ]
  },
  {
   "cell_type": "code",
   "execution_count": null,
   "metadata": {},
   "outputs": [],
   "source": [
    "%run ../Discovery_Notebook_Utils.py"
   ]
  },
  {
   "cell_type": "code",
   "execution_count": null,
   "metadata": {},
   "outputs": [],
   "source": [
    "from ccdc.conformer import MoleculeMinimiser, ConformerGenerator\n",
    "from ccdc.search import SubstructureSearch, SMARTSSubstructure\n",
    "from ccdc.descriptors import MolecularDescriptors"
   ]
  },
  {
   "cell_type": "code",
   "execution_count": null,
   "metadata": {},
   "outputs": [],
   "source": []
  },
  {
   "cell_type": "markdown",
   "metadata": {},
   "source": [
    "### Configuration"
   ]
  },
  {
   "cell_type": "markdown",
   "metadata": {},
   "source": [
    "We will be using Lapatinib as our test molecule..."
   ]
  },
  {
   "cell_type": "code",
   "execution_count": null,
   "metadata": {},
   "outputs": [],
   "source": [
    "smiles, name = 'CS(=O)(=O)CCNCc1ccc(o1)c2ccc3c(c2)c(ncn3)Nc4ccc(c(c4)Cl)OCc5cccc(c5)F', 'Lapatinib'"
   ]
  },
  {
   "cell_type": "code",
   "execution_count": null,
   "metadata": {},
   "outputs": [],
   "source": []
  },
  {
   "cell_type": "markdown",
   "metadata": {},
   "source": [
    "### Initialization"
   ]
  },
  {
   "cell_type": "code",
   "execution_count": null,
   "metadata": {},
   "outputs": [],
   "source": [
    "logger.info(script_info)"
   ]
  },
  {
   "cell_type": "code",
   "execution_count": null,
   "metadata": {},
   "outputs": [],
   "source": []
  },
  {
   "cell_type": "markdown",
   "metadata": {},
   "source": [
    "<a id=\"mol_prep\"></a>\n",
    "\n",
    "### Molecule Preparation\n",
    "\n",
    "As noted above, if starting from SMILES, we currently recommend the use of RDKit to generate an initial 3D structure which is then used as input to the Conformer API..."
   ]
  },
  {
   "cell_type": "code",
   "execution_count": null,
   "metadata": {},
   "outputs": [],
   "source": [
    "rdk_mol = Chem.MolFromSmiles(smiles)  # Convert SMILES to an RDKit molecule object\n",
    "\n",
    "rdk_mol.SetProp('_Name', name)  # _Name is a special property that gets recorded in the molfile header, which can be convenient\n",
    "\n",
    "rdk_mol = Chem.AddHs(rdk_mol)  # Hydrogens are required for 3D structure generation\n",
    "\n",
    "assert AllChem.EmbedMolecule(rdk_mol) == 0, \"Error! RDKit 'EmbedMolecule' failed!\" # Generate a 3D structure using distance geomettry\n",
    "\n",
    "molblock = Chem.MolToMolBlock(rdk_mol)  # Convert RDKit molecule to a string representation (SDF format)"
   ]
  },
  {
   "cell_type": "markdown",
   "metadata": {},
   "source": [
    "We can then create a CCDC molecule from this starting structure, and standardize the molecular representation to ensure conformance with CSD conventions..."
   ]
  },
  {
   "cell_type": "code",
   "execution_count": null,
   "metadata": {},
   "outputs": [],
   "source": [
    "mol = Molecule.from_string(molblock)  # Make CCDC molecule object from the string representation\n",
    "\n",
    "mol.remove_hydrogens()  # Remove Hydrogens as these will be added using the API below\n",
    "\n",
    "mol.assign_bond_types(which='unknown')\n",
    "\n",
    "mol.standardise_delocalised_bonds()\n",
    "\n",
    "mol.standardise_aromatic_bonds()\n",
    "\n",
    "mol.add_hydrogens()"
   ]
  },
  {
   "cell_type": "markdown",
   "metadata": {},
   "source": [
    "Depict the CCDC molecule..."
   ]
  },
  {
   "cell_type": "code",
   "execution_count": null,
   "metadata": {},
   "outputs": [],
   "source": [
    "mol2html(mol)"
   ]
  },
  {
   "cell_type": "markdown",
   "metadata": {},
   "source": [
    "Save for use later..."
   ]
  },
  {
   "cell_type": "code",
   "execution_count": null,
   "metadata": {},
   "outputs": [],
   "source": [
    "with MoleculeWriter('lapatinib.mol2') as writer:\n",
    "    \n",
    "    writer.write(mol)"
   ]
  },
  {
   "cell_type": "code",
   "execution_count": null,
   "metadata": {},
   "outputs": [],
   "source": []
  },
  {
   "cell_type": "markdown",
   "metadata": {},
   "source": [
    "### Simple minimization and superimposition\n",
    "\n",
    "First, we simply minimise our molecule and then superimpose the minimised structure onto the original.\n",
    "\n",
    "To minimise the molecule, we use a [MoleculeMinimiser](https://downloads.ccdc.cam.ac.uk/documentation/API/modules/conformer_api.html#molecule-minimisation) object..."
   ]
  },
  {
   "cell_type": "code",
   "execution_count": null,
   "metadata": {},
   "outputs": [],
   "source": [
    "minimiser = MoleculeMinimiser()"
   ]
  },
  {
   "cell_type": "code",
   "execution_count": null,
   "metadata": {},
   "outputs": [],
   "source": [
    "minimised_mol = minimiser.minimise(mol)"
   ]
  },
  {
   "cell_type": "markdown",
   "metadata": {},
   "source": [
    "Overlay the minimised structure onto the original using all heavy atoms..."
   ]
  },
  {
   "cell_type": "code",
   "execution_count": null,
   "metadata": {},
   "outputs": [],
   "source": [
    "overlayed_mol = MolecularDescriptors.overlay(mol, minimised_mol, zip(mol.heavy_atoms, minimised_mol.heavy_atoms))\n",
    "\n",
    "rmsd = MolecularDescriptors.rmsd(mol, overlayed_mol)\n",
    "\n",
    "logger.info(f\"RMSD: {rmsd:.3f}\")"
   ]
  },
  {
   "cell_type": "markdown",
   "metadata": {},
   "source": [
    "Export the structures..."
   ]
  },
  {
   "cell_type": "code",
   "execution_count": null,
   "metadata": {},
   "outputs": [],
   "source": [
    "with MoleculeWriter('minimised.mol2') as writer:\n",
    "    \n",
    "    writer.write(overlayed_mol)"
   ]
  },
  {
   "cell_type": "markdown",
   "metadata": {},
   "source": [
    "Visualize the exported structures in PyMOL..."
   ]
  },
  {
   "cell_type": "code",
   "execution_count": null,
   "metadata": {},
   "outputs": [],
   "source": [
    "# pymol = start_pymol()\n",
    "\n",
    "# if pymol:\n",
    "    \n",
    "#     pymol.do('set stick_radius, 0.1')\n",
    "#     pymol.do('set sphere_scale, 0.2')\n",
    "    \n",
    "#     pymol.load('lapatinib.mol2')  # See above\n",
    "#     pymol.load('minimised.mol2')\n",
    "    \n",
    "#     pymol.do(f\"hide everything, elem H and bound_to elem C\")  # Hide non-polar Hydrogens"
   ]
  },
  {
   "cell_type": "code",
   "execution_count": null,
   "metadata": {},
   "outputs": [],
   "source": []
  },
  {
   "cell_type": "markdown",
   "metadata": {},
   "source": [
    "### Generating Conformers\n",
    "\n",
    "Here we illustrate the generation of conformers for the molecule used above, using a [ConformerGenerator](https://downloads.ccdc.cam.ac.uk/documentation/API/modules/conformer_api.html#ccdc.conformer.ConformerGenerator). It can be configured _via_ it's [settings](https://downloads.ccdc.cam.ac.uk/documentation/API/modules/conformer_api.html#ccdc.conformer.ConformerSettings) attribute."
   ]
  },
  {
   "cell_type": "code",
   "execution_count": null,
   "metadata": {},
   "outputs": [],
   "source": [
    "conformer_generator = ConformerGenerator()\n",
    "\n",
    "conformer_generator.settings.max_conformers = 20 "
   ]
  },
  {
   "cell_type": "markdown",
   "metadata": {},
   "source": [
    "The [ConformerHitList](https://downloads.ccdc.cam.ac.uk/documentation/API/modules/conformer_api.html#ccdc.conformer.ConformerHitList) object produced contains attributes relating to the overall performance of the run; for example, whether or not the sampling limit was reached and how many rotamers had no observations in the CSD."
   ]
  },
  {
   "cell_type": "code",
   "execution_count": null,
   "metadata": {},
   "outputs": [],
   "source": [
    "conformers = conformer_generator.generate(mol)\n",
    "\n",
    "len(conformers), conformers.sampling_limit_reached, conformers.n_rotamers_with_no_observations"
   ]
  },
  {
   "cell_type": "markdown",
   "metadata": {},
   "source": [
    "#### Analysing the conformers\n",
    "\n",
    "The individual [ConformerHit](https://downloads.ccdc.cam.ac.uk/documentation/API/modules/conformer_api.html#ccdc.conformer.ConformerHit) objects have a `normalised_score` attribute, which is a value between 0.0 (most probable) and 1.0 (least probable); conformers are listed in probability order (the most probable first). \n",
    "\n",
    "A method is also provided to calculate the RMSD of each conformer in the hit list with respect to the input molecule as supplied (the default) or to a minimised version of the input molecule."
   ]
  },
  {
   "cell_type": "code",
   "execution_count": null,
   "metadata": {},
   "outputs": [],
   "source": [
    "conformers_df = pd.DataFrame(\n",
    "                    data   =[(x.normalised_score,  x.rmsd(),          x.rmsd(wrt='minimised')) for x in conformers],\n",
    "                    columns=['Normalized Score',  'RMSD (original)', 'RMSD (minimised)']\n",
    "                )\n",
    "\n",
    "conformers_df.shape"
   ]
  },
  {
   "cell_type": "code",
   "execution_count": null,
   "metadata": {},
   "outputs": [],
   "source": [
    "conformers_df"
   ]
  },
  {
   "cell_type": "code",
   "execution_count": null,
   "metadata": {},
   "outputs": [],
   "source": []
  },
  {
   "cell_type": "markdown",
   "metadata": {},
   "source": [
    "### Superimposition of conformers onto a substructure\n",
    "\n",
    "Conformers can be superimposed using all atoms, exactly as shown above for the minimised structure. However, this is not usually very informative, so instead we will illustrate the superposition of the conformers generated above onto a substructure. This method better highlights the similarities and differences between conformers.\n",
    "It can also be easily extended to superimpose conformers for different molecules that share a substructure, such as members of a congeneric series (although we will not illustrate this here).\n",
    "\n",
    "\n",
    "A [substructure search](https://downloads.ccdc.cam.ac.uk/documentation/API/descriptive_docs/substructure_searching.html) is used to tag conformers with the substructure of interest, so we specify a substructure query for the superimposition using a SMARTS string...\n"
   ]
  },
  {
   "cell_type": "code",
   "execution_count": null,
   "metadata": {},
   "outputs": [],
   "source": [
    "query = 'n1cnc(N)c2ccccc12' # 4-amino quinazoline"
   ]
  },
  {
   "cell_type": "code",
   "execution_count": null,
   "metadata": {},
   "outputs": [],
   "source": [
    "searcher = SubstructureSearch()\n",
    "\n",
    "substructure = SMARTSSubstructure(query)"
   ]
  },
  {
   "cell_type": "code",
   "execution_count": null,
   "metadata": {},
   "outputs": [],
   "source": [
    "_ = searcher.add_substructure(substructure)\n",
    "\n",
    "tagged = searcher.search([x.molecule for x in conformers], max_hits_per_structure=1)"
   ]
  },
  {
   "cell_type": "markdown",
   "metadata": {},
   "source": [
    "We use first (_i.e._ best-scoring) conformer as reference..."
   ]
  },
  {
   "cell_type": "code",
   "execution_count": null,
   "metadata": {},
   "outputs": [],
   "source": [
    "reference = tagged[0]\n",
    "\n",
    "ref_molecule, ref_match_atoms = reference.molecule, reference.match_atoms()"
   ]
  },
  {
   "cell_type": "markdown",
   "metadata": {},
   "source": [
    "Perform superimposition using substructure..."
   ]
  },
  {
   "cell_type": "code",
   "execution_count": null,
   "metadata": {},
   "outputs": [],
   "source": [
    "superimposed = [MolecularDescriptors.overlay(ref_molecule, hit.molecule, zip(ref_match_atoms, hit.match_atoms())) for hit in tagged]"
   ]
  },
  {
   "cell_type": "markdown",
   "metadata": {},
   "source": [
    "Write superimposed structures..."
   ]
  },
  {
   "cell_type": "code",
   "execution_count": null,
   "metadata": {},
   "outputs": [],
   "source": [
    "superimposed_dir = Path('superimposed')\n",
    "\n",
    "superimposed_dir.mkdir(exist_ok=True)\n",
    "\n",
    "for n, hit in enumerate(superimposed, 1):\n",
    "    \n",
    "    superimposed_file = superimposed_dir / f'conformer_{n:03d}.mol2'\n",
    "    \n",
    "    with MoleculeWriter(str(superimposed_file)) as writer:\n",
    "\n",
    "        writer.write(hit)        "
   ]
  },
  {
   "cell_type": "markdown",
   "metadata": {},
   "source": [
    "Visualise superimposed structures in PyMOL (_N.B._ can be a bit slow)..."
   ]
  },
  {
   "cell_type": "code",
   "execution_count": null,
   "metadata": {},
   "outputs": [],
   "source": [
    "# pymol = start_pymol()\n",
    "\n",
    "# if pymol:\n",
    "\n",
    "#     pymol.do('set stick_radius, 0.1')\n",
    "#     pymol.do('set sphere_scale, 0.2')\n",
    "\n",
    "#     for superimposed in superimposed_dir.glob('conformer_*.mol2'):\n",
    "\n",
    "#         pymol.load(str(superimposed))\n",
    "\n",
    "#     pymol.do(f\"hide everything, elem H and bound_to elem C\")"
   ]
  },
  {
   "cell_type": "code",
   "execution_count": null,
   "metadata": {},
   "outputs": [],
   "source": []
  },
  {
   "cell_type": "markdown",
   "metadata": {},
   "source": [
    "### Conformer generation for multiple molecules\n",
    "\n",
    "Conformer generation can also be performed on input files containing multiple molecules. As noted above, we assume that the input structures are already in the desired charge and tautomeric state."
   ]
  },
  {
   "cell_type": "markdown",
   "metadata": {},
   "source": [
    "As input we will use a MOL2 file (see the Input_for_GOLD notebook in the Docking folder for details of its preparation)..."
   ]
  },
  {
   "cell_type": "code",
   "execution_count": null,
   "metadata": {},
   "outputs": [],
   "source": [
    "input_file = 'input.mol2'"
   ]
  },
  {
   "cell_type": "markdown",
   "metadata": {},
   "source": [
    "We will output the conformers to an SDF file (_N.B._ file format is taken from file extension)..."
   ]
  },
  {
   "cell_type": "code",
   "execution_count": null,
   "metadata": {},
   "outputs": [],
   "source": [
    "output_file = 'conformers.sdf'"
   ]
  },
  {
   "cell_type": "markdown",
   "metadata": {},
   "source": [
    "Generate conformers using the Conformer API..."
   ]
  },
  {
   "cell_type": "code",
   "execution_count": null,
   "metadata": {},
   "outputs": [],
   "source": [
    "conformer_generator = ConformerGenerator()\n",
    "\n",
    "conformer_generator.settings.max_conformers = 20 \n",
    "\n",
    "conformer_generator.settings.superimpose_conformers_onto_reference = True"
   ]
  },
  {
   "cell_type": "code",
   "execution_count": null,
   "metadata": {},
   "outputs": [],
   "source": [
    "%%time\n",
    "\n",
    "with EntryReader(str(input_file)) as reader:  # Initital 3D structure\n",
    "        \n",
    "    with EntryWriter(str(output_file)) as writer: # Conformers\n",
    "\n",
    "        for entry in reader:\n",
    "\n",
    "            mol = entry.molecule\n",
    "\n",
    "            # Standardize molecular representation to ensure conformance with CSD conventions...\n",
    "\n",
    "            mol.remove_hydrogens()\n",
    "            mol.assign_bond_types(which='unknown')\n",
    "            mol.standardise_delocalised_bonds()\n",
    "            mol.standardise_aromatic_bonds()\n",
    "            mol.add_hydrogens()\n",
    "\n",
    "            # Generate conformers...\n",
    "\n",
    "            conformers = conformer_generator.generate(mol)\n",
    "            \n",
    "            # Write conformers to file, along with per-conformer stats...\n",
    "            \n",
    "            for conformer in conformers:\n",
    "                \n",
    "                attributes = {**entry.attributes, **{x: getattr(conformer, x) for x in ['normalised_score']}}\n",
    "                \n",
    "                entry = Entry.from_molecule(conformer.molecule, **attributes)\n",
    "\n",
    "                writer.write(entry)"
   ]
  },
  {
   "cell_type": "markdown",
   "metadata": {},
   "source": [
    "Inspect the conformers generated in PyMOL...\n",
    "\n",
    "_N.B._ Use `Movie > Show All States` to show all conformers at once."
   ]
  },
  {
   "cell_type": "code",
   "execution_count": null,
   "metadata": {},
   "outputs": [],
   "source": [
    "# pymol = start_pymol()\n",
    "\n",
    "# if pymol:\n",
    "    \n",
    "#     pymol.do('set stick_radius, 0.1')\n",
    "    \n",
    "#     pymol.load(output_file)\n",
    "    \n",
    "#     pymol.do(f\"hide everything, elem H and bound_to elem C\")"
   ]
  },
  {
   "cell_type": "code",
   "execution_count": null,
   "metadata": {},
   "outputs": [],
   "source": []
  }
 ],
 "metadata": {
  "kernelspec": {
   "display_name": "Python 3 (ipykernel)",
   "language": "python",
   "name": "python3"
  },
  "language_info": {
   "codemirror_mode": {
    "name": "ipython",
    "version": 3
   },
   "file_extension": ".py",
   "mimetype": "text/x-python",
   "name": "python",
   "nbconvert_exporter": "python",
   "pygments_lexer": "ipython3",
   "version": "3.7.11"
  }
 },
 "nbformat": 4,
 "nbformat_minor": 4
}
