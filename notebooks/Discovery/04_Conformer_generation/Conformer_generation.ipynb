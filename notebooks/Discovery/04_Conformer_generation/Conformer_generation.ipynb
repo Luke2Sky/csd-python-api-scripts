{
 "cells": [
  {
   "attachments": {},
   "cell_type": "markdown",
   "metadata": {},
   "source": [
    "```\n",
    "This script can be used for any purpose without limitation subject to the\n",
    "conditions at http://www.ccdc.cam.ac.uk/Community/Pages/Licences/v2.aspx\n",
    "\n",
    "This permission notice and the following statement of attribution must be\n",
    "included in all copies or substantial portions of this script.\n",
    "\n",
    "2022-06-01: Made available by the Cambridge Crystallographic Data Centre.\n",
    "\n",
    "```"
   ]
  },
  {
   "attachments": {},
   "cell_type": "markdown",
   "metadata": {},
   "source": [
    "# Conformer Generation\n",
    "\n",
    "This notebook illustrates the use of the [Conformer API](https://downloads.ccdc.cam.ac.uk/documentation/API/descriptive_docs/conformer.html).\n",
    "\n",
    "#### References\n",
    "\n",
    "The Conformer API use CSD-derived conformational distributions to generate conformers for small molecules:\n",
    "* https://downloads.ccdc.cam.ac.uk/documentation/API/descriptive_docs/conformer.html\n",
    "* https://downloads.ccdc.cam.ac.uk/documentation/API/modules/conformer_api.html\n",
    "\n",
    "The associated publication describes the statistical validation performed, which also includes comparisons with PDB structures:\n",
    "* https://pubs.acs.org/doi/abs/10.1021/acs.jcim.7b00697\n",
    "\n",
    "In addition, there is a large amount of literature describing various comparisons between CSD, PDB and computed small-molecule conformations. A sample is given below:\n",
    "* https://journals.iucr.org/d/issues/2017/03/00/ba5249/ba5249.pdf\n",
    "* https://link.springer.com/article/10.1007/s10822-011-9538-6\n",
    "* https://www.ncbi.nlm.nih.gov/pmc/articles/PMC5553890/"
   ]
  },
  {
   "cell_type": "code",
   "execution_count": 1,
   "metadata": {},
   "outputs": [],
   "source": [
    "import logging\n",
    "from pathlib import Path\n",
    "from platform import platform\n",
    "import sys\n",
    "import os\n",
    "from time import time\n",
    "import subprocess\n",
    "\n",
    "import warnings"
   ]
  },
  {
   "cell_type": "code",
   "execution_count": 2,
   "metadata": {},
   "outputs": [],
   "source": [
    "with warnings.catch_warnings():\n",
    "    warnings.filterwarnings(action='ignore', category=DeprecationWarning)  # Ignore current 'distutils Version classes are deprecated' warning\n",
    "    \n",
    "    import pandas as pd\n",
    "    \n",
    "    import plotly.express as px"
   ]
  },
  {
   "cell_type": "code",
   "execution_count": 3,
   "metadata": {},
   "outputs": [],
   "source": [
    "from IPython.display import HTML\n",
    "\n",
    "from IPython.core.interactiveshell import InteractiveShell\n",
    "InteractiveShell.ast_node_interactivity = 'all'"
   ]
  },
  {
   "cell_type": "code",
   "execution_count": 4,
   "metadata": {},
   "outputs": [],
   "source": [
    "import ccdc\n",
    "from ccdc.molecule import Molecule\n",
    "from ccdc.entry import Entry\n",
    "from ccdc.conformer import MoleculeMinimiser, ConformerGenerator\n",
    "from ccdc.search import SubstructureSearch, SMARTSSubstructure\n",
    "from ccdc.descriptors import MolecularDescriptors\n",
    "from ccdc.diagram import DiagramGenerator\n",
    "from ccdc.io import MoleculeReader, EntryReader, MoleculeWriter, EntryWriter"
   ]
  },
  {
   "cell_type": "code",
   "execution_count": null,
   "metadata": {},
   "outputs": [],
   "source": []
  },
  {
   "attachments": {},
   "cell_type": "markdown",
   "metadata": {},
   "source": [
    "### Configuration"
   ]
  },
  {
   "cell_type": "code",
   "execution_count": 5,
   "metadata": {},
   "outputs": [],
   "source": [
    "def run_hermes(file_names):\n",
    "    hermes_exe = r'C:\\Program Files\\CCDC\\Discovery_2022\\Hermes\\hermes.exe' \n",
    "    rlist = [hermes_exe] + file_names\n",
    "    if os.path.exists(hermes_exe):\n",
    "        status = subprocess.Popen(rlist, creationflags=0x00000008)\n",
    "    else:\n",
    "        print(f\"Skipping visualisation in Hermes as hermes executable not available {hermes_exe}\")"
   ]
  },
  {
   "attachments": {},
   "cell_type": "markdown",
   "metadata": {},
   "source": [
    "### Initialization"
   ]
  },
  {
   "cell_type": "code",
   "execution_count": 6,
   "metadata": {},
   "outputs": [],
   "source": [
    "logger = logging.getLogger(__name__)\n",
    "\n",
    "if not logger.hasHandlers():\n",
    "    handler = logging.StreamHandler()\n",
    "    handler.setFormatter(logging.Formatter('[%(asctime)s %(levelname)-7s] %(message)s', datefmt='%y-%m-%d %H:%M:%S'))\n",
    "    logger.addHandler(handler)\n",
    "    logger.setLevel(logging.INFO)"
   ]
  },
  {
   "cell_type": "code",
   "execution_count": 7,
   "metadata": {},
   "outputs": [],
   "source": [
    "logger.info(f\"\"\"\n",
    "Platform:                     {platform()}\n",
    "\n",
    "Python exe:                   {sys.executable}\n",
    "Python version:               {'.'.join(str(x) for x in sys.version_info[:3])}\n",
    "\n",
    "CSD version:                  {ccdc.io.csd_version()}\n",
    "CSD directory:                {ccdc.io.csd_directory()}\n",
    "API version:                  {ccdc.__version__}\n",
    "\n",
    "CSDHOME:                      {os.environ.get('CSDHOME', 'Not set')}\n",
    "CCDC_LICENSING_CONFIGURATION: {os.environ.get('CCDC_LICENSING_CONFIGURATION', 'Not set')}\n",
    "\"\"\")"
   ]
  },
  {
   "attachments": {},
   "cell_type": "markdown",
   "metadata": {},
   "source": [
    "Set up a CCDC Diagram Generator..."
   ]
  },
  {
   "cell_type": "code",
   "execution_count": 8,
   "metadata": {},
   "outputs": [],
   "source": [
    "diagram_generator = DiagramGenerator()\n",
    "\n",
    "diagram_generator.settings.return_type = 'SVG'\n",
    "diagram_generator.settings.explicit_polar_hydrogens = False\n",
    "diagram_generator.settings.shrink_symbols = False"
   ]
  },
  {
   "attachments": {},
   "cell_type": "markdown",
   "metadata": {},
   "source": [
    "<a id=\"mol_prep\"></a>\n",
    "\n",
    "### Molecule Preparation"
   ]
  },
  {
   "attachments": {},
   "cell_type": "markdown",
   "metadata": {},
   "source": [
    "We will be using Lapatinib as our test molecule (_N.B._ this structure is just the main component of [DINXIJ](https://www.ccdc.cam.ac.uk/structures/Search?Ccdcid=DINXIJ))..."
   ]
  },
  {
   "cell_type": "code",
   "execution_count": 9,
   "metadata": {},
   "outputs": [],
   "source": [
    "with MoleculeReader('lapatinib.mol2') as reader:\n",
    "    \n",
    "    mol = reader[0]"
   ]
  },
  {
   "attachments": {},
   "cell_type": "markdown",
   "metadata": {},
   "source": [
    "Depict the molecule..."
   ]
  },
  {
   "cell_type": "code",
   "execution_count": 10,
   "metadata": {},
   "outputs": [],
   "source": [
    "HTML(diagram_generator.image(mol))"
   ]
  },
  {
   "attachments": {},
   "cell_type": "markdown",
   "metadata": {},
   "source": [
    "### Simple minimization and superimposition\n",
    "\n",
    "First, we simply minimise our molecule and then superimpose the minimised structure onto the original.\n",
    "\n",
    "To minimise the molecule, we use a [MoleculeMinimiser](https://downloads.ccdc.cam.ac.uk/documentation/API/modules/conformer_api.html#molecule-minimisation) object..."
   ]
  },
  {
   "cell_type": "code",
   "execution_count": 11,
   "metadata": {},
   "outputs": [],
   "source": [
    "minimiser = MoleculeMinimiser()"
   ]
  },
  {
   "cell_type": "code",
   "execution_count": 12,
   "metadata": {},
   "outputs": [],
   "source": [
    "minimised_mol = minimiser.minimise(mol)"
   ]
  },
  {
   "attachments": {},
   "cell_type": "markdown",
   "metadata": {},
   "source": [
    "Overlay the minimised structure onto the original using all heavy atoms..."
   ]
  },
  {
   "cell_type": "code",
   "execution_count": 13,
   "metadata": {},
   "outputs": [],
   "source": [
    "overlay = MolecularDescriptors.Overlay(mol, minimised_mol) # , zip(mol.heavy_atoms, minimised_mol.heavy_atoms))\n",
    "\n",
    "logger.info(f\"RMSD: {overlay.rmsd:.3f}\")"
   ]
  },
  {
   "attachments": {},
   "cell_type": "markdown",
   "metadata": {},
   "source": [
    "Export the overlayed structure..."
   ]
  },
  {
   "cell_type": "code",
   "execution_count": 14,
   "metadata": {},
   "outputs": [],
   "source": [
    "overlayed_mol = overlay.molecule\n",
    "\n",
    "overlayed_mol.identifier = 'minimised_and_overlayed'"
   ]
  },
  {
   "cell_type": "code",
   "execution_count": 15,
   "metadata": {},
   "outputs": [],
   "source": [
    "with MoleculeWriter('minimised.mol2') as writer:\n",
    "    \n",
    "    writer.write(overlayed_mol)"
   ]
  },
  {
   "attachments": {},
   "cell_type": "markdown",
   "metadata": {},
   "source": [
    "Visualize the exported structures in Hermes..."
   ]
  },
  {
   "cell_type": "code",
   "execution_count": 16,
   "metadata": {},
   "outputs": [],
   "source": [
    "run_hermes(['lapatinib.mol2', 'minimised.mol2'])"
   ]
  },
  {
   "attachments": {
    "4f1b244e-7b56-4fcc-bacd-65441244e0e4.png": {
     "image/png": "[encoded data removed]"
    }
   },
   "cell_type": "markdown",
   "metadata": {},
   "source": [
    "The original structure is in cyan, the overlayed structure in magenta. Note that the display was set up manually.\n",
    "\n",
    "![image.png](attachment:4f1b244e-7b56-4fcc-bacd-65441244e0e4.png)"
   ]
  },
  {
   "cell_type": "code",
   "execution_count": null,
   "metadata": {},
   "outputs": [],
   "source": []
  },
  {
   "attachments": {},
   "cell_type": "markdown",
   "metadata": {},
   "source": [
    "### Generating Conformers\n",
    "\n",
    "Here we illustrate the generation of conformers for the molecule used above, using a [ConformerGenerator](https://downloads.ccdc.cam.ac.uk/documentation/API/modules/conformer_api.html#ccdc.conformer.ConformerGenerator). It can be configured _via_ it's [settings](https://downloads.ccdc.cam.ac.uk/documentation/API/modules/conformer_api.html#ccdc.conformer.ConformerSettings) attribute."
   ]
  },
  {
   "cell_type": "code",
   "execution_count": 17,
   "metadata": {},
   "outputs": [],
   "source": [
    "conformer_generator = ConformerGenerator()\n",
    "\n",
    "conformer_generator.settings.max_conformers = 20 "
   ]
  },
  {
   "attachments": {},
   "cell_type": "markdown",
   "metadata": {},
   "source": [
    "The [ConformerHitList](https://downloads.ccdc.cam.ac.uk/documentation/API/modules/conformer_api.html#ccdc.conformer.ConformerHitList) object produced contains attributes relating to the overall performance of the run; for example, whether or not the sampling limit was reached and how many rotamers had no observations in the CSD."
   ]
  },
  {
   "cell_type": "code",
   "execution_count": 18,
   "metadata": {},
   "outputs": [],
   "source": [
    "conformers = conformer_generator.generate(mol)\n",
    "\n",
    "len(conformers), conformers.sampling_limit_reached, conformers.n_rotamers_with_no_observations"
   ]
  },
  {
   "cell_type": "code",
   "execution_count": null,
   "metadata": {},
   "outputs": [],
   "source": []
  },
  {
   "attachments": {},
   "cell_type": "markdown",
   "metadata": {},
   "source": [
    "#### Analysing the conformers\n",
    "\n",
    "The individual [ConformerHit](https://downloads.ccdc.cam.ac.uk/documentation/API/modules/conformer_api.html#ccdc.conformer.ConformerHit) objects have a `normalised_score` attribute, which is a value between 0.0 (most probable) and 1.0 (least probable); conformers are listed in probability order (the most probable first). \n",
    "\n",
    "A method is also provided to calculate the RMSD of each conformer in the hit list with respect to the input molecule as supplied (the default) or to a minimised version of the input molecule."
   ]
  },
  {
   "cell_type": "code",
   "execution_count": 19,
   "metadata": {},
   "outputs": [],
   "source": [
    "conformers_df = pd.DataFrame(\n",
    "                    data   =[(x.normalised_score,  x.rmsd(),          x.rmsd(wrt='minimised')) for x in conformers],\n",
    "                    columns=['Normalized Score',  'RMSD (original)', 'RMSD (minimised)']\n",
    "                )\n",
    "\n",
    "conformers_df.shape"
   ]
  },
  {
   "cell_type": "code",
   "execution_count": 20,
   "metadata": {},
   "outputs": [],
   "source": [
    "conformers_df"
   ]
  },
  {
   "attachments": {},
   "cell_type": "markdown",
   "metadata": {},
   "source": [
    "### Superimposition of conformers onto a substructure\n",
    "\n",
    "Conformers can be superimposed using all atoms, exactly as shown above for the minimised structure. However, this is not usually very informative, so instead we will illustrate the superposition of the conformers generated above onto a substructure. This method better highlights the similarities and differences between conformers.\n",
    "It can also be easily extended to superimpose conformers for different molecules that share a substructure, such as members of a congeneric series (although we will not illustrate this here).\n",
    "\n",
    "\n",
    "A [substructure search](https://downloads.ccdc.cam.ac.uk/documentation/API/descriptive_docs/substructure_searching.html) is used to tag conformers with the substructure of interest, so we specify a substructure query for the superimposition using a SMARTS string...\n"
   ]
  },
  {
   "cell_type": "code",
   "execution_count": 21,
   "metadata": {},
   "outputs": [],
   "source": [
    "query = 'n1cnc(N)c2ccccc12' # 4-amino quinazoline"
   ]
  },
  {
   "cell_type": "code",
   "execution_count": 22,
   "metadata": {},
   "outputs": [],
   "source": [
    "searcher = SubstructureSearch()\n",
    "\n",
    "substructure = SMARTSSubstructure(query)"
   ]
  },
  {
   "cell_type": "code",
   "execution_count": 23,
   "metadata": {},
   "outputs": [],
   "source": [
    "_ = searcher.add_substructure(substructure)\n",
    "\n",
    "tagged = searcher.search([x.molecule for x in conformers], max_hits_per_structure=1)"
   ]
  },
  {
   "attachments": {},
   "cell_type": "markdown",
   "metadata": {},
   "source": [
    "We use first (_i.e._ best-scoring) conformer as reference..."
   ]
  },
  {
   "cell_type": "code",
   "execution_count": 24,
   "metadata": {},
   "outputs": [],
   "source": [
    "reference = tagged[0]\n",
    "\n",
    "ref_molecule, ref_match_atoms = reference.molecule, reference.match_atoms()"
   ]
  },
  {
   "attachments": {},
   "cell_type": "markdown",
   "metadata": {},
   "source": [
    "Perform superimposition using substructure..."
   ]
  },
  {
   "cell_type": "code",
   "execution_count": 25,
   "metadata": {},
   "outputs": [],
   "source": [
    "superimposed = [MolecularDescriptors.Overlay(ref_molecule, substructure.molecule, zip(ref_match_atoms, substructure.match_atoms())) for substructure in tagged]"
   ]
  },
  {
   "attachments": {},
   "cell_type": "markdown",
   "metadata": {},
   "source": [
    "Write the superimposed conformers..."
   ]
  },
  {
   "cell_type": "code",
   "execution_count": 26,
   "metadata": {},
   "outputs": [],
   "source": [
    "superimposed_dir = Path('superimposed')\n",
    "\n",
    "superimposed_dir.mkdir(exist_ok=True)\n",
    "\n",
    "for n, conformer in enumerate(superimposed, 1):\n",
    "    \n",
    "    name = f'conformer_{n:03d}'\n",
    "    \n",
    "    superimposed_mol = conformer.molecule\n",
    "    \n",
    "    superimposed_mol.identifier = name\n",
    "    \n",
    "    superimposed_file = superimposed_dir / f'{name}.mol2'\n",
    "    \n",
    "    with MoleculeWriter(str(superimposed_file)) as writer:\n",
    "\n",
    "        writer.write(superimposed_mol)        "
   ]
  },
  {
   "attachments": {},
   "cell_type": "markdown",
   "metadata": {},
   "source": [
    "Visualise superimposed structures in Hermes..."
   ]
  },
  {
   "cell_type": "code",
   "execution_count": 27,
   "metadata": {},
   "outputs": [],
   "source": [
    "run_hermes([str(x) for x in superimposed_dir.glob('conformer_*.mol2')])"
   ]
  },
  {
   "attachments": {
    "4617c2b0-7288-494a-9505-89ad8744af89.png": {
     "image/png": "[encoded data removed]"
    }
   },
   "cell_type": "markdown",
   "metadata": {},
   "source": [
    "![image.png](attachment:4617c2b0-7288-494a-9505-89ad8744af89.png)"
   ]
  },
  {
   "cell_type": "code",
   "execution_count": null,
   "metadata": {},
   "outputs": [],
   "source": []
  },
  {
   "attachments": {},
   "cell_type": "markdown",
   "metadata": {},
   "source": [
    "### Conformer generation for multiple molecules\n",
    "\n",
    "Conformer generation can also be performed on input files containing multiple molecules. As noted above, we assume that the input structures are already in the desired charge and tautomeric state."
   ]
  },
  {
   "attachments": {},
   "cell_type": "markdown",
   "metadata": {},
   "source": [
    "As input we will use an SDF file (see the '[Input for GOLD](../08_Docking/00a_Input_for_GOLD.ipynb)' notebook for details of its creation)..."
   ]
  },
  {
   "cell_type": "code",
   "execution_count": 28,
   "metadata": {},
   "outputs": [],
   "source": [
    "input_file = 'input.sdf'"
   ]
  },
  {
   "attachments": {},
   "cell_type": "markdown",
   "metadata": {},
   "source": [
    "We will output the conformers to a single SDF file..."
   ]
  },
  {
   "cell_type": "code",
   "execution_count": 29,
   "metadata": {},
   "outputs": [],
   "source": [
    "output_file = 'conformers.sdf'"
   ]
  },
  {
   "attachments": {},
   "cell_type": "markdown",
   "metadata": {},
   "source": [
    "Generate conformers using the Conformer API..."
   ]
  },
  {
   "cell_type": "code",
   "execution_count": 30,
   "metadata": {},
   "outputs": [],
   "source": [
    "conformer_generator = ConformerGenerator()\n",
    "\n",
    "conformer_generator.settings.max_conformers = 20 \n",
    "\n",
    "conformer_generator.settings.superimpose_conformers_onto_reference = True"
   ]
  },
  {
   "cell_type": "code",
   "execution_count": 31,
   "metadata": {},
   "outputs": [],
   "source": [
    "%%time\n",
    "\n",
    "with EntryReader(str(input_file)) as reader:  # Initital 3D structure\n",
    "        \n",
    "    with EntryWriter(str(output_file)) as writer: # Conformers\n",
    "\n",
    "        for entry in reader:\n",
    "\n",
    "            mol = entry.molecule\n",
    "\n",
    "            # Generate conformers...\n",
    "\n",
    "            conformers = conformer_generator.generate(mol)\n",
    "            \n",
    "            # Write conformers to file, along with per-conformer stats...\n",
    "            \n",
    "            for conformer in conformers:\n",
    "                \n",
    "                attributes = {**entry.attributes, **{x: getattr(conformer, x) for x in ['normalised_score']}}\n",
    "                \n",
    "                entry = Entry.from_molecule(conformer.molecule, **attributes)\n",
    "\n",
    "                writer.write(entry)"
   ]
  },
  {
   "cell_type": "code",
   "execution_count": 32,
   "metadata": {},
   "outputs": [],
   "source": [
    "run_hermes([output_file])"
   ]
  },
  {
   "attachments": {},
   "cell_type": "markdown",
   "metadata": {},
   "source": [
    "Note that the conformers for each input molecule are automatically superimposed (onto the minimum energy conformer), but that no attempt is made to superimpose the different molecules.\n",
    "\n",
    "If they shared a common scaffold, superimposition of different molecules could be performed usingthe substructure-based technique illustrated above."
   ]
  },
  {
   "attachments": {},
   "cell_type": "markdown",
   "metadata": {},
   "source": [
    "### 3D structure from SMILES\n",
    "\n",
    "It is now possible to generate API molecules from SMILES..."
   ]
  },
  {
   "cell_type": "code",
   "execution_count": 33,
   "metadata": {},
   "outputs": [],
   "source": [
    "smiles, name = 'CS(=O)(=O)CCNCc1ccc(o1)c2ccc3c(c2)c(ncn3)Nc4ccc(c(c4)Cl)OCc5cccc(c5)F', 'Lapatinib'"
   ]
  },
  {
   "cell_type": "code",
   "execution_count": 34,
   "metadata": {},
   "outputs": [],
   "source": [
    "mol = Molecule.from_string(smiles)\n",
    "\n",
    "mol.identifier = name"
   ]
  },
  {
   "attachments": {},
   "cell_type": "markdown",
   "metadata": {},
   "source": [
    "The '0D' molecule generated initially has no 3D coordinates, and the 2D depiction is rather poor..."
   ]
  },
  {
   "cell_type": "code",
   "execution_count": 35,
   "metadata": {},
   "outputs": [],
   "source": [
    "assert all(x.coordinates is None for x in mol.atoms)"
   ]
  },
  {
   "cell_type": "code",
   "execution_count": 36,
   "metadata": {},
   "outputs": [],
   "source": [
    "HTML(diagram_generator.image(mol))"
   ]
  },
  {
   "attachments": {},
   "cell_type": "markdown",
   "metadata": {},
   "source": [
    "This situation can be fixed by generating a single conformer, as might be required _e.g._ as input for GOLD docking..."
   ]
  },
  {
   "cell_type": "code",
   "execution_count": 37,
   "metadata": {},
   "outputs": [],
   "source": [
    "conformer_generator = ConformerGenerator()\n",
    "\n",
    "conformer_generator.settings.max_conformers = 1  # Generate only a single conformer"
   ]
  },
  {
   "cell_type": "code",
   "execution_count": 38,
   "metadata": {},
   "outputs": [],
   "source": [
    "mol = conformer_generator.generate(mol)[0].molecule"
   ]
  },
  {
   "cell_type": "code",
   "execution_count": 39,
   "metadata": {},
   "outputs": [],
   "source": [
    "[x.coordinates for x in mol.atoms][:3]"
   ]
  },
  {
   "cell_type": "code",
   "execution_count": 40,
   "metadata": {},
   "outputs": [],
   "source": [
    "HTML(diagram_generator.image(mol))"
   ]
  }
 ],
 "metadata": {
  "kernelspec": {
   "display_name": "Python 3 (ipykernel)",
   "language": "python",
   "name": "python3"
  },
  "language_info": {
   "codemirror_mode": {
    "name": "ipython",
    "version": 3
   },
   "file_extension": ".py",
   "mimetype": "text/x-python",
   "name": "python",
   "nbconvert_exporter": "python",
   "pygments_lexer": "ipython3",
   "version": "3.9.16"
  }
 },
 "nbformat": 4,
 "nbformat_minor": 4
}
