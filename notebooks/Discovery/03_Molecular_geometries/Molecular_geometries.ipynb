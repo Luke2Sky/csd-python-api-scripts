{
 "cells": [
  {
   "cell_type": "markdown",
   "metadata": {},
   "source": [
    "# Molecular Geometry Analysis\n",
    "\n",
    "[Mogul](https://www.ccdc.cam.ac.uk/support-and-resources/ccdcresources/mogul_2020_1.pdf) uses a knowledge-base of intramolecular geometric parameters dervided from the CSD to perform geometric analyses on small molecules.\n",
    "Similar molecular geometry analyses may be performed using the [Conformer API](https://downloads.ccdc.cam.ac.uk/documentation/API/descriptive_docs/molecular_geometry_analysis.html)."
   ]
  },
  {
   "cell_type": "code",
   "execution_count": null,
   "metadata": {},
   "outputs": [],
   "source": [
    "%run ../Discovery_Notebook_utils.py"
   ]
  },
  {
   "cell_type": "code",
   "execution_count": null,
   "metadata": {},
   "outputs": [],
   "source": [
    "from io import StringIO"
   ]
  },
  {
   "cell_type": "code",
   "execution_count": null,
   "metadata": {},
   "outputs": [],
   "source": [
    "from ccdc.conformer import GeometryAnalyser"
   ]
  },
  {
   "cell_type": "code",
   "execution_count": null,
   "metadata": {},
   "outputs": [],
   "source": []
  },
  {
   "cell_type": "markdown",
   "metadata": {},
   "source": [
    "### Configuration"
   ]
  },
  {
   "cell_type": "code",
   "execution_count": null,
   "metadata": {},
   "outputs": [],
   "source": []
  },
  {
   "cell_type": "markdown",
   "metadata": {},
   "source": [
    "### Initialization"
   ]
  },
  {
   "cell_type": "code",
   "execution_count": null,
   "metadata": {},
   "outputs": [],
   "source": [
    "logger.info(script_info)"
   ]
  },
  {
   "cell_type": "code",
   "execution_count": null,
   "metadata": {},
   "outputs": [],
   "source": []
  },
  {
   "cell_type": "markdown",
   "metadata": {},
   "source": [
    "### Geometry analysis of a small molecule"
   ]
  },
  {
   "cell_type": "markdown",
   "metadata": {},
   "source": [
    "First, set up a CCDC [Geometry Analyser](https://downloads.ccdc.cam.ac.uk/documentation/API/modules/conformer_api.html#ccdc.conformer.GeometryAnalyser)..."
   ]
  },
  {
   "cell_type": "code",
   "execution_count": null,
   "metadata": {},
   "outputs": [],
   "source": [
    "analyser = GeometryAnalyser()\n",
    "\n",
    "analyser.settings.generalisation = False  # Use only fully-defined distributions\n",
    "analyser.settings.ring.analyse = False  # Can be slow, so disable for now"
   ]
  },
  {
   "cell_type": "markdown",
   "metadata": {},
   "source": [
    "Next, we load a molecule to analyse. This is a local copy of the ligand [4QQ](https://www.ebi.ac.uk/pdbe/entry/pdb/1ett/bound/4QQ) from the PDBe structure [1ETT](https://www.ebi.ac.uk/pdbe/entry/pdb/1ett) (Bovine Thrombin)."
   ]
  },
  {
   "cell_type": "code",
   "execution_count": null,
   "metadata": {},
   "outputs": [],
   "source": [
    "ligand_file = '1ett.mol2'"
   ]
  },
  {
   "cell_type": "code",
   "execution_count": null,
   "metadata": {},
   "outputs": [],
   "source": [
    "with MoleculeReader(ligand_file) as reader:\n",
    "    \n",
    "    molecule = reader[0]"
   ]
  },
  {
   "cell_type": "code",
   "execution_count": null,
   "metadata": {},
   "outputs": [],
   "source": []
  },
  {
   "cell_type": "markdown",
   "metadata": {},
   "source": [
    "Standardise the molecule to CSD conventions...\n",
    "\n",
    "_N.B._ this is not always necessary, but is quick and can't hurt for structures taken from outside the CSD ecosystem."
   ]
  },
  {
   "cell_type": "code",
   "execution_count": null,
   "metadata": {},
   "outputs": [],
   "source": [
    "molecule.remove_hydrogens()\n",
    "molecule.assign_bond_types(which='unknown')\n",
    "molecule.standardise_aromatic_bonds()  \n",
    "molecule.standardise_delocalised_bonds()\n",
    "molecule.add_hydrogens()"
   ]
  },
  {
   "cell_type": "code",
   "execution_count": null,
   "metadata": {},
   "outputs": [],
   "source": [
    "SVG(diagram_generator.image(molecule))"
   ]
  },
  {
   "cell_type": "code",
   "execution_count": null,
   "metadata": {},
   "outputs": [],
   "source": []
  },
  {
   "cell_type": "markdown",
   "metadata": {},
   "source": [
    "Analyse our molecule of interest..."
   ]
  },
  {
   "cell_type": "code",
   "execution_count": null,
   "metadata": {},
   "outputs": [],
   "source": [
    "analysed_mol = analyser.analyse_molecule(molecule)\n",
    "\n",
    "len(analysed_mol.analysed_torsions)  # Number of torsions found"
   ]
  },
  {
   "cell_type": "markdown",
   "metadata": {},
   "source": [
    "Make a dataframe of the analysis results...\n",
    "\n",
    "* `value` is the value of the torsion angle in the molecule being analysed.\n",
    "* `unusual` indicates whether the geometric feature is considered unusual or not.\n",
    "* `enough_hits` indicates whether there are enough hits in the CSD for a sound judgement.\n",
    "* `d_min` is the distance to the nearest value in the CSD.\n",
    "* `local_density` is the percentage of CSD values within 10 degrees of query value.\n",
    "* `depiction` is a 2D depiction with the torsion highlighted.\n",
    "* `object` is the API torsion object, cached here for later reference."
   ]
  },
  {
   "cell_type": "markdown",
   "metadata": {},
   "source": [
    "Local utility to depict a molecule with a torsion highlighted..."
   ]
  },
  {
   "cell_type": "code",
   "execution_count": null,
   "metadata": {},
   "outputs": [],
   "source": [
    "def depict_torsion(torsion):\n",
    "\n",
    "    return diagram_generator.image(molecule, highlight_atoms=[molecule.atoms[x] for x in torsion.atom_indices])"
   ]
  },
  {
   "cell_type": "code",
   "execution_count": null,
   "metadata": {},
   "outputs": [],
   "source": [
    "torsions_df = pd.DataFrame(\n",
    "                [('-'.join(x.atom_labels), x.value, x.unusual, x.enough_hits, x.d_min, x.local_density, depict_torsion(x), x) for x in analysed_mol.analysed_torsions],\n",
    "                columns=['atom_labels', 'value', 'unusual', 'enough_hits', 'd_min', 'local_density', 'depiction', 'object']\n",
    "            ).sort_values('d_min', ascending=False).reset_index(drop=True)\n",
    "\n",
    "torsions_df.shape"
   ]
  },
  {
   "cell_type": "markdown",
   "metadata": {},
   "source": [
    "For convenience, we will examine further only the subset of torsions considered 'unusual' and with enough hits to be reasonably certain of the result..."
   ]
  },
  {
   "cell_type": "code",
   "execution_count": null,
   "metadata": {},
   "outputs": [],
   "source": [
    "unusual_df = torsions_df.query(\"unusual and enough_hits\").drop(['unusual', 'enough_hits'], axis=1).reset_index(drop=True)\n",
    "\n",
    "unusual_df.shape"
   ]
  },
  {
   "cell_type": "code",
   "execution_count": null,
   "metadata": {},
   "outputs": [],
   "source": [
    "show_dataframe(unusual_df.drop('object', axis=1).head(3))  # Top three"
   ]
  },
  {
   "cell_type": "code",
   "execution_count": null,
   "metadata": {},
   "outputs": [],
   "source": []
  },
  {
   "cell_type": "markdown",
   "metadata": {},
   "source": [
    "### Plotting distributions of CSD values\n",
    "\n",
    "Plotting a histogram of the CSD values used in the geometry analysis can be a great help in evaluating the result.\n",
    "\n",
    "We will illustrate plotting with the first unusual torsion found above..."
   ]
  },
  {
   "cell_type": "code",
   "execution_count": null,
   "metadata": {},
   "outputs": [],
   "source": [
    "n = 0\n",
    "\n",
    "torsion = unusual_df.iloc[n]['object']  # Extract the cached API torsion object from dataframe"
   ]
  },
  {
   "cell_type": "code",
   "execution_count": null,
   "metadata": {},
   "outputs": [],
   "source": [
    "torsion.value, len(torsion.distribution)  # Value in analysed molecule and number of observed values in the CSD"
   ]
  },
  {
   "cell_type": "markdown",
   "metadata": {},
   "source": [
    "Create a histogram and display it using Altair..."
   ]
  },
  {
   "cell_type": "code",
   "execution_count": null,
   "metadata": {},
   "outputs": [],
   "source": [
    "plot = (altair.Chart(pd.DataFrame({'distribution':  torsion.distribution}))\n",
    "        .mark_bar().encode(altair.X('distribution:Q', bin=altair.Bin(extent=[0, 180], step=5.0)), y='count()') +\n",
    "    altair.Chart(pd.DataFrame([{\"value\": [abs(torsion.value)]}]))\n",
    "        .mark_rule().encode(x='value:Q'))\n",
    "\n",
    "plot"
   ]
  },
  {
   "cell_type": "code",
   "execution_count": null,
   "metadata": {},
   "outputs": [],
   "source": []
  },
  {
   "cell_type": "markdown",
   "metadata": {},
   "source": [
    "Now, it would be nice to be able to add the histograms to a table, so they could be inspected alongside the summary data and depiction.\n",
    "\n",
    "One way to do this is to generate PNGs for the plots and display them _via_ inline HTML. However, I haven't go this working on Windows yet, so the (slightly fragile) solution below just uses the HTML generated by Altair. Note that the plots may disappear; if this happen, redo the 'show dataframe' step. If the depictions appear small, try widening your browser window."
   ]
  },
  {
   "cell_type": "code",
   "execution_count": null,
   "metadata": {},
   "outputs": [],
   "source": [
    "# Local utility to generate a torsion-angle histogram\n",
    "\n",
    "def torsion_plot(index):\n",
    "    \n",
    "    torsion = unusual_df.iloc[index]['object']\n",
    "\n",
    "    plot = (\n",
    "        altair.Chart(pd.DataFrame({'distribution':  torsion.distribution}))\n",
    "            .mark_bar().encode(altair.X('distribution:Q', bin=altair.Bin(extent=[0, 180], step=5.0)), y='count()') +\n",
    "        altair.Chart(pd.DataFrame([{\"value\": [abs(torsion.value)]}]))\n",
    "            .mark_rule().encode(x='value:Q')\n",
    "        .properties(\n",
    "            width=400,\n",
    "            height=200\n",
    "        )\n",
    "    )\n",
    "\n",
    "    with StringIO() as buffer:\n",
    "\n",
    "        plot.save(buffer, 'html')\n",
    "\n",
    "        html = buffer.getvalue().replace('vis', f'vis_{index:02d}')  # NB. Make div names unique\n",
    "                   \n",
    "    return html"
   ]
  },
  {
   "cell_type": "markdown",
   "metadata": {},
   "source": [
    "Add the histograms to the table..."
   ]
  },
  {
   "cell_type": "code",
   "execution_count": null,
   "metadata": {},
   "outputs": [],
   "source": [
    "unusual_df = unusual_df.assign(torsion_plot = [torsion_plot(index) for index in unusual_df.index.values])"
   ]
  },
  {
   "cell_type": "code",
   "execution_count": null,
   "metadata": {},
   "outputs": [],
   "source": [
    "show_dataframe(unusual_df.head())"
   ]
  },
  {
   "cell_type": "code",
   "execution_count": null,
   "metadata": {},
   "outputs": [],
   "source": []
  },
  {
   "cell_type": "markdown",
   "metadata": {},
   "source": [
    "### Visualisation of 3D structure\n",
    "\n",
    "It would be even greater to add a marked-up 3D depiction to the table to complete the picture, and the CCDC is working on a web-based visualizer that will allow this. When this is ready, an example will be added to a future iteration of this notebook."
   ]
  }
 ],
 "metadata": {
  "kernelspec": {
   "display_name": "Python 3 (ipykernel)",
   "language": "python",
   "name": "python3"
  },
  "language_info": {
   "codemirror_mode": {
    "name": "ipython",
    "version": 3
   },
   "file_extension": ".py",
   "mimetype": "text/x-python",
   "name": "python",
   "nbconvert_exporter": "python",
   "pygments_lexer": "ipython3",
   "version": "3.7.11"
  }
 },
 "nbformat": 4,
 "nbformat_minor": 4
}
