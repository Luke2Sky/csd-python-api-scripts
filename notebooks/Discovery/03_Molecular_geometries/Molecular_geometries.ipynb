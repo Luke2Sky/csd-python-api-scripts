{
 "cells": [
  {
   "cell_type": "markdown",
   "metadata": {},
   "source": [
    "```\n",
    "This script can be used for any purpose without limitation subject to the\n",
    "conditions at http://www.ccdc.cam.ac.uk/Community/Pages/Licences/v2.aspx\n",
    "\n",
    "This permission notice and the following statement of attribution must be\n",
    "included in all copies or substantial portions of this script.\n",
    "\n",
    "2022-06-01: Made available by the Cambridge Crystallographic Data Centre.\n",
    "\n",
    "```"
   ]
  },
  {
   "cell_type": "markdown",
   "metadata": {},
   "source": [
    "# Molecular Geometry Analysis\n",
    "\n",
    "[Mogul](https://www.ccdc.cam.ac.uk/support-and-resources/ccdcresources/mogul_2020_1.pdf) uses a knowledge-base of intramolecular geometric parameters dervided from the CSD to perform geometric analyses on small molecules.\n",
    "Similar molecular geometry analyses may be performed using the [Conformer API](https://downloads.ccdc.cam.ac.uk/documentation/API/descriptive_docs/molecular_geometry_analysis.html)."
   ]
  },
  {
   "cell_type": "code",
   "execution_count": null,
   "metadata": {},
   "outputs": [],
   "source": [
    "import logging\n",
    "from pathlib import Path\n",
    "from platform import platform\n",
    "import sys\n",
    "import os\n",
    "from time import time\n",
    "\n",
    "import warnings"
   ]
  },
  {
   "cell_type": "code",
   "execution_count": null,
   "metadata": {},
   "outputs": [],
   "source": [
    "with warnings.catch_warnings():\n",
    "    warnings.filterwarnings(action='ignore', category=DeprecationWarning)  # Ignore current 'distutils Version classes are deprecated' warning\n",
    "    \n",
    "    import pandas as pd\n",
    "\n",
    "    import plotly.express as px"
   ]
  },
  {
   "cell_type": "code",
   "execution_count": null,
   "metadata": {},
   "outputs": [],
   "source": [
    "from IPython.display import HTML\n",
    "\n",
    "from IPython.core.interactiveshell import InteractiveShell\n",
    "InteractiveShell.ast_node_interactivity = 'all'"
   ]
  },
  {
   "cell_type": "code",
   "execution_count": null,
   "metadata": {},
   "outputs": [],
   "source": [
    "import ccdc\n",
    "from ccdc.conformer import GeometryAnalyser\n",
    "from ccdc.io import MoleculeReader\n",
    "from ccdc.diagram import DiagramGenerator"
   ]
  },
  {
   "cell_type": "code",
   "execution_count": null,
   "metadata": {},
   "outputs": [],
   "source": []
  },
  {
   "cell_type": "markdown",
   "metadata": {},
   "source": [
    "### Configuration"
   ]
  },
  {
   "cell_type": "code",
   "execution_count": null,
   "metadata": {},
   "outputs": [],
   "source": []
  },
  {
   "cell_type": "markdown",
   "metadata": {},
   "source": [
    "### Initialization"
   ]
  },
  {
   "cell_type": "code",
   "execution_count": null,
   "metadata": {},
   "outputs": [],
   "source": [
    "logger = logging.getLogger(__name__)\n",
    "\n",
    "if not logger.hasHandlers():\n",
    "    handler = logging.StreamHandler()\n",
    "    handler.setFormatter(logging.Formatter('[%(asctime)s %(levelname)-7s] %(message)s', datefmt='%y-%m-%d %H:%M:%S'))\n",
    "    logger.addHandler(handler)\n",
    "    logger.setLevel(logging.INFO)"
   ]
  },
  {
   "cell_type": "code",
   "execution_count": null,
   "metadata": {},
   "outputs": [],
   "source": [
    "logger.info(f\"\"\"\n",
    "Platform:                     {platform()}\n",
    "\n",
    "Python exe:                   {sys.executable}\n",
    "Python version:               {'.'.join(str(x) for x in sys.version_info[:3])}\n",
    "\n",
    "CSD version:                  {ccdc.io.csd_version()}\n",
    "CSD directory:                {ccdc.io.csd_directory()}\n",
    "API version:                  {ccdc.__version__}\n",
    "\n",
    "CSDHOME:                      {os.environ.get('CSDHOME', 'Not set')}\n",
    "CCDC_LICENSING_CONFIGURATION: {os.environ.get('CCDC_LICENSING_CONFIGURATION', 'Not set')}\n",
    "\"\"\")"
   ]
  },
  {
   "cell_type": "markdown",
   "metadata": {},
   "source": [
    "Set up a CCDC Diagram Generator..."
   ]
  },
  {
   "cell_type": "code",
   "execution_count": null,
   "metadata": {},
   "outputs": [],
   "source": [
    "diagram_generator = DiagramGenerator()\n",
    "\n",
    "diagram_generator.settings.return_type = 'SVG'\n",
    "diagram_generator.settings.explicit_polar_hydrogens = False\n",
    "diagram_generator.settings.shrink_symbols = False"
   ]
  },
  {
   "cell_type": "markdown",
   "metadata": {},
   "source": [
    "Utility to help with display in JupyterLab..."
   ]
  },
  {
   "cell_type": "code",
   "execution_count": null,
   "metadata": {},
   "outputs": [],
   "source": [
    "show_df = lambda df: HTML(df.to_html(escape=False).replace(r'\\n', ''))\n",
    "\n",
    "# show_df = lambda df: df.style.set_properties(**{'text-align': 'left'})"
   ]
  },
  {
   "cell_type": "code",
   "execution_count": null,
   "metadata": {},
   "outputs": [],
   "source": []
  },
  {
   "cell_type": "markdown",
   "metadata": {},
   "source": [
    "### Geometry analysis of a small molecule"
   ]
  },
  {
   "cell_type": "markdown",
   "metadata": {},
   "source": [
    "First, set up a CCDC [Geometry Analyser](https://downloads.ccdc.cam.ac.uk/documentation/API/modules/conformer_api.html#ccdc.conformer.GeometryAnalyser)..."
   ]
  },
  {
   "cell_type": "code",
   "execution_count": null,
   "metadata": {},
   "outputs": [],
   "source": [
    "analyser = GeometryAnalyser()\n",
    "\n",
    "analyser.settings.generalisation = False  # Use only fully-defined distributions\n",
    "analyser.settings.ring.analyse   = False  # Can be slow, so disable it for now"
   ]
  },
  {
   "cell_type": "markdown",
   "metadata": {},
   "source": [
    "Next, we load a molecule to analyse. This is a local copy of the ligand [4QQ](https://www.ebi.ac.uk/pdbe/entry/pdb/1ett/bound/4QQ) from the PDBe structure [1ETT](https://www.ebi.ac.uk/pdbe/entry/pdb/1ett) (Bovine Thrombin)."
   ]
  },
  {
   "cell_type": "code",
   "execution_count": null,
   "metadata": {},
   "outputs": [],
   "source": [
    "ligand_file = '1ett.mol2'"
   ]
  },
  {
   "cell_type": "code",
   "execution_count": null,
   "metadata": {},
   "outputs": [],
   "source": [
    "with MoleculeReader(ligand_file) as reader:\n",
    "    \n",
    "    molecule = reader[0]"
   ]
  },
  {
   "cell_type": "markdown",
   "metadata": {},
   "source": [
    "If we depict the molecule, we see that benzene rings are not shown as aromatic as would be expected..."
   ]
  },
  {
   "cell_type": "code",
   "execution_count": null,
   "metadata": {},
   "outputs": [],
   "source": [
    "HTML(diagram_generator.image(molecule))"
   ]
  },
  {
   "cell_type": "markdown",
   "metadata": {},
   "source": [
    "We thus standardise the molecule to CSD conventions...\n",
    "\n",
    "_N.B._ this is not always necessary, but is quick and can't hurt for structures taken from outside the CSD ecosystem."
   ]
  },
  {
   "cell_type": "code",
   "execution_count": null,
   "metadata": {},
   "outputs": [],
   "source": [
    "molecule.remove_hydrogens()\n",
    "molecule.assign_bond_types(which='unknown')\n",
    "molecule.standardise_aromatic_bonds()  \n",
    "molecule.add_hydrogens()"
   ]
  },
  {
   "cell_type": "code",
   "execution_count": null,
   "metadata": {},
   "outputs": [],
   "source": [
    "HTML(diagram_generator.image(molecule))"
   ]
  },
  {
   "cell_type": "code",
   "execution_count": null,
   "metadata": {},
   "outputs": [],
   "source": []
  },
  {
   "cell_type": "markdown",
   "metadata": {},
   "source": [
    "Analyse our molecule of interest..."
   ]
  },
  {
   "cell_type": "code",
   "execution_count": null,
   "metadata": {},
   "outputs": [],
   "source": [
    "analysed_mol = analyser.analyse_molecule(molecule)\n",
    "\n",
    "len(analysed_mol.analysed_torsions)  # Number of torsions found"
   ]
  },
  {
   "cell_type": "markdown",
   "metadata": {},
   "source": [
    "Make a dataframe of the analysis results...\n",
    "\n",
    "* `value` is the value of the torsion angle in the molecule being analysed.\n",
    "* `unusual` indicates whether the geometric feature is considered unusual or not.\n",
    "* `enough_hits` indicates whether there are enough hits in the CSD for a sound judgement.\n",
    "* `d_min` is the distance to the nearest value in the CSD.\n",
    "* `local_density` is the percentage of CSD values within 10 degrees of query value.\n",
    "* `depiction` is a 2D depiction with the torsion highlighted.\n",
    "* `object` is the API torsion object, cached here for later reference."
   ]
  },
  {
   "cell_type": "markdown",
   "metadata": {},
   "source": [
    "Local utility to depict a molecule with a torsion highlighted..."
   ]
  },
  {
   "cell_type": "code",
   "execution_count": null,
   "metadata": {},
   "outputs": [],
   "source": [
    "def depict_torsion(torsion):\n",
    "\n",
    "    return diagram_generator.image(molecule, highlight_atoms=[molecule.atoms[x] for x in torsion.atom_indices])"
   ]
  },
  {
   "cell_type": "code",
   "execution_count": null,
   "metadata": {},
   "outputs": [],
   "source": [
    "torsions_df = pd.DataFrame(\n",
    "                [('-'.join(x.atom_labels), x.value, x.unusual, x.enough_hits, x.d_min, x.local_density, depict_torsion(x), x) for x in analysed_mol.analysed_torsions],\n",
    "                columns=['atom_labels', 'value', 'unusual', 'enough_hits', 'd_min', 'local_density', 'depiction', 'object']\n",
    "            ).sort_values('d_min', ascending=False).reset_index(drop=True)\n",
    "\n",
    "torsions_df.shape"
   ]
  },
  {
   "cell_type": "markdown",
   "metadata": {},
   "source": [
    "For convenience, we will examine further only the subset of torsions considered 'unusual' and with enough hits to be reasonably certain of the result..."
   ]
  },
  {
   "cell_type": "code",
   "execution_count": null,
   "metadata": {},
   "outputs": [],
   "source": [
    "with warnings.catch_warnings():\n",
    "    warnings.filterwarnings(action='ignore', category=DeprecationWarning)  # Ignore current 'distutils Version classes are deprecated' warning\n",
    "    \n",
    "    unusual_df = torsions_df.query(\"unusual and enough_hits\").drop(['unusual', 'enough_hits'], axis=1).reset_index(drop=True)\n",
    "\n",
    "unusual_df.shape"
   ]
  },
  {
   "cell_type": "code",
   "execution_count": null,
   "metadata": {},
   "outputs": [],
   "source": [
    "show_df(unusual_df.drop('object', axis=1).head(3))  # Top three"
   ]
  },
  {
   "cell_type": "code",
   "execution_count": null,
   "metadata": {},
   "outputs": [],
   "source": []
  },
  {
   "cell_type": "markdown",
   "metadata": {},
   "source": [
    "### Plotting distributions of CSD values\n",
    "\n",
    "Plotting a histogram of the CSD values used in the geometry analysis can be a great help in evaluating the result.\n",
    "\n",
    "We will illustrate plotting with one of the unusual torsions shown above..."
   ]
  },
  {
   "cell_type": "code",
   "execution_count": null,
   "metadata": {},
   "outputs": [],
   "source": [
    "n = 1\n",
    "\n",
    "torsion = unusual_df.iloc[n]['object']  # Extract the cached API torsion object from dataframe"
   ]
  },
  {
   "cell_type": "code",
   "execution_count": null,
   "metadata": {},
   "outputs": [],
   "source": [
    "with warnings.catch_warnings():\n",
    "    warnings.filterwarnings(action='ignore', category=DeprecationWarning)  # Ignore current 'distutils Version classes are deprecated' warning\n",
    "    \n",
    "    (px.histogram(\n",
    "            x=torsion.distribution,\n",
    "            range_x=(0, 180),\n",
    "            title='Distribution of torsions in CSD with observed value marked'\n",
    "        )\n",
    "        .update_xaxes(title_text=\"Torsion Angle\")\n",
    "        .update_yaxes(title_text=\"Number of observations\")\n",
    "        .add_vline(x=abs(torsion.value))\n",
    "        .show()\n",
    "    )"
   ]
  },
  {
   "cell_type": "code",
   "execution_count": null,
   "metadata": {},
   "outputs": [],
   "source": []
  }
 ],
 "metadata": {
  "kernelspec": {
   "display_name": "Python 3 (ipykernel)",
   "language": "python",
   "name": "python3"
  },
  "language_info": {
   "codemirror_mode": {
    "name": "ipython",
    "version": 3
   },
   "file_extension": ".py",
   "mimetype": "text/x-python",
   "name": "python",
   "nbconvert_exporter": "python",
   "pygments_lexer": "ipython3",
   "version": "3.7.13"
  }
 },
 "nbformat": 4,
 "nbformat_minor": 4
}
