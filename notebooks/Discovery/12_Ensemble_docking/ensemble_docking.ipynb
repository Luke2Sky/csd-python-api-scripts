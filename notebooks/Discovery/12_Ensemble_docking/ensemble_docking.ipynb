{
 "cells": [
  {
   "cell_type": "markdown",
   "id": "3e360057",
   "metadata": {},
   "source": [
    "This script can be used for any purpose without limitation subject to the conditions at http://www.ccdc.cam.ac.uk/Community/Pages/Licences/v2.aspx\n",
    "\n",
    "This permission notice and the following statement of attribution must be included in all copies or substantial portions of this script.\n",
    "\n",
    "2023-07-20: Written by Fabio Montisci and made available by the Cambridge Crystallographic Data Centre.\n"
   ]
  },
  {
   "cell_type": "markdown",
   "id": "1c85d9ac",
   "metadata": {},
   "source": [
    "# Ensemble Docking with the CSD Python API\n",
    "\n",
    "This script exemplifies the use of the CSD Python API to perform ensemble docking simulations with GOLD in the presence of functional waters. It follows the same workflow of the tutorial at https://www.ccdc.cam.ac.uk/media/Documentation/0D5504D3-81F2-46D3-9D1D-16787D07F70B/GOLD-tutorial-EnsembleDocking.pdf, which makes use of Hermes GUI to run GOLD."
   ]
  },
  {
   "cell_type": "code",
   "execution_count": null,
   "id": "76f5fb0f",
   "metadata": {},
   "outputs": [],
   "source": [
    "# Import all the necessary libraries and CSD Python API modules.\n",
    "\n",
    "import os\n",
    "import requests\n",
    "import pandas as pd\n",
    "import warnings\n",
    "\n",
    "from ccdc import io\n",
    "from ccdc.docking import Docker\n",
    "from ccdc.protein import Protein\n",
    "from ccdc.molecule import Molecule\n",
    "from ccdc.utilities import to_utf8, output_file\n",
    "from ccdc_notebook_utilities import run_hermes\n",
    "\n",
    "warnings.filterwarnings(\"ignore\", category=DeprecationWarning) # To ignore pandas deprecation warning when plotting"
   ]
  },
  {
   "cell_type": "markdown",
   "id": "91f6af22",
   "metadata": {},
   "source": [
    "### Download the proteins from the PDB"
   ]
  },
  {
   "cell_type": "markdown",
   "id": "16469d72",
   "metadata": {},
   "source": [
    "First, we specify the PDB codes of the proteins that we want to include in the ensemble as items of a list. We also initialise an empty list to wich we will append the proteins as CSD Python API protein objects."
   ]
  },
  {
   "cell_type": "code",
   "execution_count": null,
   "id": "52d57dfd",
   "metadata": {},
   "outputs": [],
   "source": [
    "pdb_codes = ['1E2H', '1E2I', '1OF1', '4IVQ']\n",
    "proteins = [] "
   ]
  },
  {
   "cell_type": "markdown",
   "id": "41871716",
   "metadata": {},
   "source": [
    "We now iterate through the list containing the PDB codes. For each of them we download the file from the Protein Data Bank website and we save it in our working directory. We the use 'Protein.from_file' method to read the file and generate a protein object that we append to the empty 'proteins' list."
   ]
  },
  {
   "cell_type": "code",
   "execution_count": null,
   "id": "90cfd8de",
   "metadata": {},
   "outputs": [],
   "source": [
    "# Loop through the PDB codes.\n",
    "for pdb_code in pdb_codes: \n",
    "    print(f'Downloading {pdb_code}...')\n",
    "    pdb_request = requests.Session().get(f'https://files.rcsb.org/download/{pdb_code}.pdb')\n",
    "    pdb_request.raise_for_status()\n",
    "    filename = f'{pdb_code}.pdb'\n",
    "    with output_file(filename) as pdb_file:\n",
    "        pdb_file.write(to_utf8(pdb_request.text))\n",
    "    protein = Protein.from_file(f'{pdb_code}.pdb')\n",
    "    proteins.append(protein)\n",
    "print('Done.')"
   ]
  },
  {
   "cell_type": "markdown",
   "id": "2cf136a6",
   "metadata": {},
   "source": [
    "### Get the ligand from the PDB"
   ]
  },
  {
   "cell_type": "markdown",
   "id": "9fd402f4",
   "metadata": {},
   "source": [
    "We also specify the PDB code of the entry from which we want to extract the ligand, and its label in the PDB file."
   ]
  },
  {
   "cell_type": "code",
   "execution_count": null,
   "id": "115c1c51",
   "metadata": {},
   "outputs": [],
   "source": [
    "ligand_pdb = '1E2K'\n",
    "ligand_label = 'A:TMC500'"
   ]
  },
  {
   "cell_type": "markdown",
   "id": "9186c39e",
   "metadata": {},
   "source": [
    "Similarly to what we did before, we download the file from the PDB website and use it to create the protein object 'ligand_protein'."
   ]
  },
  {
   "cell_type": "code",
   "execution_count": null,
   "id": "522b029d",
   "metadata": {},
   "outputs": [],
   "source": [
    "print(f'Downloading {ligand_pdb}(PDB file containing the ligand)...')\n",
    "pdb_request = requests.Session().get(f'https://files.rcsb.org/download/{ligand_pdb}.pdb')\n",
    "pdb_request.raise_for_status()\n",
    "filename = f'{ligand_pdb}.pdb'\n",
    "with output_file(filename) as pdb_file:\n",
    "    pdb_file.write(to_utf8(pdb_request.text))\n",
    "ligand_protein = Protein.from_file(f'{ligand_pdb}.pdb')\n",
    "print(f'Done.')"
   ]
  },
  {
   "cell_type": "markdown",
   "id": "e7b1ed34",
   "metadata": {},
   "source": [
    "We then loop through the ligands in the protein object and check if their identifier is equal to the value we stored in 'ligand_label'. We extract the TMC ligand into a CSD Python API moelcule object named 'tmc500_1e2k'."
   ]
  },
  {
   "cell_type": "code",
   "execution_count": null,
   "id": "e1d2ef44",
   "metadata": {},
   "outputs": [],
   "source": [
    "print(f'Getting ligand {ligand_label} from {ligand_pdb}...')\n",
    "tmc500_1e2k = [ligand for ligand in ligand_protein.ligands if ligand.identifier == ligand_label][0]\n",
    "print('Done.')"
   ]
  },
  {
   "cell_type": "markdown",
   "id": "914f3e3f",
   "metadata": {},
   "source": [
    "### Get the active waters"
   ]
  },
  {
   "cell_type": "markdown",
   "id": "70696e24",
   "metadata": {},
   "source": [
    "Finally, we need to get the functional waters from the the 1E21 structure (we select 1E21 because it is the one that contains all 3 functional waters). We need to inspect the file in advance and know the labels of the water molecules we want to extract.\n",
    "We can then loop through the all the waters in the protein and add them to a list if they have the right identifier."
   ]
  },
  {
   "cell_type": "code",
   "execution_count": null,
   "id": "6a165128",
   "metadata": {},
   "outputs": [],
   "source": [
    "waters = []\n",
    "print(f'Extracting active waters from 1E2I...')\n",
    "for protein in proteins:\n",
    "    if protein.identifier == '1E2I':\n",
    "        for water in protein.waters:\n",
    "            if water.identifier in ['A:HOH2023', 'A:HOH2044', 'A:HOH2123']:\n",
    "                waters.append(water)\n",
    "print('Done.')"
   ]
  },
  {
   "cell_type": "markdown",
   "id": "5a446822",
   "metadata": {},
   "source": [
    "We now have everything we need for the docking: the proteins, the ligand and the functional waters. However, we also need to prepare all these items before we can proceed with the simulation."
   ]
  },
  {
   "cell_type": "markdown",
   "id": "e73291d1",
   "metadata": {},
   "source": [
    "### Prepare, superimpose and export the proteins"
   ]
  },
  {
   "cell_type": "markdown",
   "id": "efa32e8e",
   "metadata": {},
   "source": [
    "To prepare the proteins we loop through the 'proteins' list ans we delete all chains except chain A, all the ligands, metals, and waters. We then protonate the proteins and call the 'sort_atoms_by_residue' method to tidy things up."
   ]
  },
  {
   "cell_type": "code",
   "execution_count": null,
   "id": "f15b3466",
   "metadata": {},
   "outputs": [],
   "source": [
    "for protein in proteins:\n",
    "    print(f'Preparing protein {protein.identifier}...')\n",
    "    for chain in protein.chains:\n",
    "        if chain.identifier != 'A':\n",
    "            protein.remove_chain(chain.identifier)\n",
    "    for ligand in protein.ligands:\n",
    "        protein.remove_ligand(ligand.identifier)\n",
    "    protein.remove_all_metals()\n",
    "    protein.remove_all_waters()\n",
    "    protein.add_hydrogens()\n",
    "    protein.sort_atoms_by_residue()\n",
    "print('Done.')"
   ]
  },
  {
   "cell_type": "markdown",
   "id": "384ce4c9",
   "metadata": {},
   "source": [
    "We also need to make sure that the proteins are superimposed on top of each other."
   ]
  },
  {
   "cell_type": "code",
   "execution_count": null,
   "id": "a3e06bb9",
   "metadata": {},
   "outputs": [],
   "source": [
    "print(f'Superimposing all the proteins...')\n",
    "for i in range(1, len(proteins)):\n",
    "    Protein.ChainSuperposition().superpose(proteins[0].chains[0], proteins[i].chains[0])\n",
    "print('Done.')"
   ]
  },
  {
   "cell_type": "markdown",
   "id": "51b53f4a",
   "metadata": {},
   "source": [
    "At this point, we want to save the prepared proteins as mol2 files. We initialise an empty list in which we will store the prepared file names and an empty molecule object to which we will add all the prepared protein objects. We will need the first for to add the proteins to GOLD configuration file and the latter to calculate a common binding site for all the proteins in the ensemble."
   ]
  },
  {
   "cell_type": "code",
   "execution_count": null,
   "id": "03675e2b",
   "metadata": {},
   "outputs": [],
   "source": [
    "prepared_protein_files = []\n",
    "merged_protein = Molecule()\n",
    "for protein in proteins:\n",
    "    with io.MoleculeWriter(f'{protein.identifier}_prepared.mol2') as protein_writer:\n",
    "        protein_writer.write(protein)\n",
    "    prepared_protein_files.append(f'{protein.identifier}_prepared.mol2')\n",
    "    print(f'Saving {protein.identifier}_prepared.mol2')\n",
    "    merged_protein.add_molecule(protein)\n",
    "print('Done.')"
   ]
  },
  {
   "cell_type": "markdown",
   "id": "0fd295ba",
   "metadata": {},
   "source": [
    "### Prepare and export the ligand"
   ]
  },
  {
   "cell_type": "markdown",
   "id": "2733fef2",
   "metadata": {},
   "source": [
    "We then need to prepare the ligand with the Ligand Preparation class. Note that this class works with Entry objects, not Molecule objects. ?Therefore, we first save the ligand as a mol2 file and then read it with the Entry Reader to prepare it.  Finally, we save the prepared ligand as a new mol2 file."
   ]
  },
  {
   "cell_type": "code",
   "execution_count": null,
   "id": "3564c192",
   "metadata": {},
   "outputs": [],
   "source": [
    "print('Preparing the ligand...')\n",
    "with io.MoleculeWriter('ligand.mol2') as lig_writer:\n",
    "    lig_writer.write(tmc500_1e2k)\n",
    "ligand_prep = Docker.LigandPreparation()\n",
    "prepared_lig = ligand_prep.prepare(io.EntryReader('ligand.mol2')[0])\n",
    "with io.MoleculeWriter(f'ligand_{ligand_pdb}_prepared.mol2') as prepared_lig_writer:\n",
    "    prepared_lig_writer.write(prepared_lig.molecule)\n",
    "print('Done.')"
   ]
  },
  {
   "cell_type": "markdown",
   "id": "b9461a96",
   "metadata": {},
   "source": [
    "### Prepare and export the active waters"
   ]
  },
  {
   "cell_type": "markdown",
   "id": "c02abdcd",
   "metadata": {},
   "source": [
    "Preparing the active waters is easy. We just loop through the list, protonate them and save them as mol2 files."
   ]
  },
  {
   "cell_type": "code",
   "execution_count": null,
   "id": "3b702f74",
   "metadata": {},
   "outputs": [],
   "source": [
    "print('Exporting the active waters...')\n",
    "for i, water in enumerate(waters):\n",
    "    water.add_hydrogens()\n",
    "    with io.MoleculeWriter(f'water_{i + 1}.mol2') as water_writer:\n",
    "        water_writer.write(water)\n",
    "print('Done.')"
   ]
  },
  {
   "cell_type": "markdown",
   "id": "825a3233",
   "metadata": {},
   "source": [
    "### Set the docking settings"
   ]
  },
  {
   "cell_type": "markdown",
   "id": "4a8979b9",
   "metadata": {},
   "source": [
    "At this point we can start setting up the docking simulation. We instantiate the Docker and access its settings. All the changes we do to the settigns will be written in the conf file."
   ]
  },
  {
   "cell_type": "code",
   "execution_count": null,
   "id": "cb8faf76",
   "metadata": {},
   "outputs": [],
   "source": [
    "docker = Docker()\n",
    "settings = docker.settings"
   ]
  },
  {
   "cell_type": "markdown",
   "id": "d7aedba0",
   "metadata": {},
   "source": [
    "We loop through the 'prepared_protein_files' list and add the absolute path of each protein file to the settings. "
   ]
  },
  {
   "cell_type": "code",
   "execution_count": null,
   "id": "bf2cfca8",
   "metadata": {},
   "outputs": [],
   "source": [
    "for protein_file in prepared_protein_files:\n",
    "    settings.add_protein_file(os.path.abspath(protein_file))"
   ]
  },
  {
   "cell_type": "markdown",
   "id": "c154c5bf",
   "metadata": {},
   "source": [
    "We do the same for the ligand and we specify the number of docking poses we wish to obtain from the simulation."
   ]
  },
  {
   "cell_type": "code",
   "execution_count": null,
   "id": "82d74222",
   "metadata": {},
   "outputs": [],
   "source": [
    "settings.add_ligand_file(os.path.abspath(f'ligand_{ligand_pdb}_prepared.mol2'), 10)"
   ]
  },
  {
   "cell_type": "markdown",
   "id": "fcb266ae",
   "metadata": {},
   "source": [
    "We also use the prepared ligand molecule object position to calculate the binding site of the merged protein, specifying a radius in Angstroms. "
   ]
  },
  {
   "cell_type": "code",
   "execution_count": null,
   "id": "e211784d",
   "metadata": {},
   "outputs": [],
   "source": [
    "lig = prepared_lig.molecule\n",
    "settings.binding_site = settings.BindingSiteFromLigand(merged_protein, lig, 6.0)"
   ]
  },
  {
   "cell_type": "markdown",
   "id": "86a50f7f",
   "metadata": {},
   "source": [
    "We then add the paths of the active water molecules. We also need to specify some settings. Toggle will make sure that GOLD decides itself if that particular water molecule will be kept or displaced for a given solution. Trans_spin means and movable_distance=1.0 mean that the water molecules are allowed to rotate and translate inside a 1 Angstrom box."
   ]
  },
  {
   "cell_type": "code",
   "execution_count": null,
   "id": "cd7d1e7d",
   "metadata": {},
   "outputs": [],
   "source": [
    "for i in range(len(waters)):\n",
    "    water_path = os.path.join(os.getcwd(), f'water_{i + 1}.mol2')\n",
    "    settings.add_water_file(water_path, toggle_state='toggle', spin_state='trans_spin', movable_distance=1.0)"
   ]
  },
  {
   "cell_type": "markdown",
   "id": "77d50b68",
   "metadata": {},
   "source": [
    "We can now take care of the simulation parameters.\n",
    "* We first specify which fitness function to use. The options are ‘goldscore’, ‘chemscore’, ‘asp’, ‘plp’ and we will use the latter, which offers a good performance and is the faster in the majority of cases. \n",
    "* We set the autoscle parameter to 75%. This controls how much searching is performed. The docker will determine how much docking is reasonable to perform on a ligand based on the number of rotatable bonds and the number of hydrogen donors and acceptors. This percentage will scale the amount of docking done to perform faster or more thorough docking. 75% is the standard for ensemble docking.\n",
    "* We switch off early termination to ensure that as many solutions as possible are explored.\n",
    "* We switch on flipping corners to to allow GOLD to perform a limited conformational search of cyclic systems by allowing free corners of the rings in the ligand to flip above and below the plane of their neighbouring atoms."
   ]
  },
  {
   "cell_type": "code",
   "execution_count": null,
   "id": "894f1fa5",
   "metadata": {},
   "outputs": [],
   "source": [
    "settings.fitness_function = 'plp'\n",
    "settings.autoscale = 75\n",
    "settings.early_termination = False\n",
    "settings.flip_free_corners = True"
   ]
  },
  {
   "cell_type": "markdown",
   "id": "71e37209",
   "metadata": {},
   "source": [
    "Finally, we set up the output our simulation will produce, by specifying an output folder, an output mol2 file containing all the docking poses, and the name of GOLD configuration file."
   ]
  },
  {
   "cell_type": "code",
   "execution_count": null,
   "id": "50505d9b",
   "metadata": {},
   "outputs": [],
   "source": [
    "out_path = os.path.join(os.getcwd(), 'results')\n",
    "if not os.path.exists(out_path):\n",
    "    os.makedirs(out_path)\n",
    "settings.output_directory = out_path\n",
    "settings.output_file = 'docking_poses.mol2'\n",
    "conf_file = os.path.join(out_path, 'ensemble.conf')"
   ]
  },
  {
   "cell_type": "markdown",
   "id": "6abb4514",
   "metadata": {},
   "source": [
    "### Run the docking"
   ]
  },
  {
   "cell_type": "markdown",
   "id": "fb4ba2e7",
   "metadata": {},
   "source": [
    "We can now perform the actual docking simulation."
   ]
  },
  {
   "cell_type": "code",
   "execution_count": null,
   "id": "123d3012",
   "metadata": {},
   "outputs": [],
   "source": [
    "results = docker.dock(conf_file)\n",
    "print('Docking Completed.')"
   ]
  },
  {
   "cell_type": "markdown",
   "id": "91c6e4fa",
   "metadata": {},
   "source": [
    "Starting from a superimposed set of protein structures, GOLD evolves a separate population ligand conformations for each protein structure that is part of the ensemble. The best ligand conformation found in any of the ensemble structures is returned. "
   ]
  },
  {
   "cell_type": "markdown",
   "id": "91f9daca",
   "metadata": {},
   "source": [
    "### Visualise the results"
   ]
  },
  {
   "cell_type": "markdown",
   "id": "e005efd3",
   "metadata": {},
   "source": [
    "Now that the docking is complete we call Hermes GUI to visualise the results. You can find the 'run_hermes' function in 'ccdc_notebook_utilities', available in the ccdc-opensource GitHub repository (https://github.com/ccdc-opensource/csd-python-api-scripts/tree/main/notebooks)."
   ]
  },
  {
   "cell_type": "code",
   "execution_count": null,
   "id": "7e8ecff4",
   "metadata": {},
   "outputs": [],
   "source": [
    "print('Opening Hermes GUI to visualise results.')\n",
    "run_hermes(conf_file)"
   ]
  },
  {
   "cell_type": "markdown",
   "id": "2e48760c",
   "metadata": {},
   "source": [
    "The 10 docking solutions are given in their docked order with their corresponding fitness score, but they can be ordered by clicking on this PLP Fitness header. The protein that the solution corresponds to is identifiable by the ensemble index number (1-4). "
   ]
  },
  {
   "cell_type": "markdown",
   "id": "3d4952c0",
   "metadata": {},
   "source": [
    "### Plot best score for each protein"
   ]
  },
  {
   "cell_type": "markdown",
   "id": "d8b3eb6a",
   "metadata": {},
   "source": [
    "We can also use Python to postprocess the results. In this simple example we parse the generated GOLD ligand log file to get the best score achieved for each of the protein in the ensemble."
   ]
  },
  {
   "cell_type": "code",
   "execution_count": null,
   "id": "7050d85d",
   "metadata": {},
   "outputs": [],
   "source": [
    "scores = []\n",
    "print('Parsing the ligand logfile.')\n",
    "with open(os.path.join(out_path, f'gold_ligand_{ligand_pdb}_prepared_m1.log')) as lig_logfile:\n",
    "    for line in (lig_logfile.readlines() [-8:][:4]):\n",
    "        print(line, end ='')\n",
    "        cols = line.split()\n",
    "        scores.append(cols[2])\n",
    "scores = [float(i) for i in scores]"
   ]
  },
  {
   "cell_type": "markdown",
   "id": "a6cc7494",
   "metadata": {},
   "source": [
    "We then add these scores to a Pandas dataframe and generate a bar plot."
   ]
  },
  {
   "cell_type": "code",
   "execution_count": null,
   "id": "cca4836a",
   "metadata": {
    "scrolled": false
   },
   "outputs": [],
   "source": [
    "ensemble_df = pd.DataFrame(columns=['Protein', 'Score'])\n",
    "ensemble_df['Protein'] = pdb_codes\n",
    "ensemble_df['Score'] = scores\n",
    "ensemble_df['Score'] = ensemble_df['Score'].astype(float)\n",
    "ensemble_df.plot.bar(x='Protein', y='Score', rot=0, title='Best Pose per Protein', xlabel='Protein', ylabel='PLP Score', ylim=(min(scores)-10,max(scores)+5))\n",
    "print('Plotting the score of the best pose for each protein in the ensemble.')"
   ]
  }
 ],
 "metadata": {
  "kernelspec": {
   "display_name": "Python [conda env:csd] *",
   "language": "python",
   "name": "conda-env-csd-py"
  },
  "language_info": {
   "codemirror_mode": {
    "name": "ipython",
    "version": 3
   },
   "file_extension": ".py",
   "mimetype": "text/x-python",
   "name": "python",
   "nbconvert_exporter": "python",
   "pygments_lexer": "ipython3",
   "version": "3.9.16"
  }
 },
 "nbformat": 4,
 "nbformat_minor": 5
}
