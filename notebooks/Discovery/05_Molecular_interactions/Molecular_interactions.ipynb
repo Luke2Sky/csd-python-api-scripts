{
 "cells": [
  {
   "cell_type": "markdown",
   "metadata": {},
   "source": [
    "```\n",
    "This script can be used for any purpose without limitation subject to the\n",
    "conditions at http://www.ccdc.cam.ac.uk/Community/Pages/Licences/v2.aspx\n",
    "\n",
    "This permission notice and the following statement of attribution must be\n",
    "included in all copies or substantial portions of this script.\n",
    "\n",
    "2022-06-01: Made available by the Cambridge Crystallographic Data Centre.\n",
    "\n",
    "```"
   ]
  },
  {
   "cell_type": "markdown",
   "metadata": {},
   "source": [
    "# Molecular interaction preferences and the Interaction API\n",
    "\n",
    "[IsoStar](https://www.ccdc.cam.ac.uk/solutions/csd-core/components/isostar/) is a knowledge-base of intermolecular interaction preferences derived from the CSD and PDB. This data can also be accessed _via_ the [Interaction API](https://downloads.ccdc.cam.ac.uk/documentation/API/descriptive_docs/interaction.html)."
   ]
  },
  {
   "cell_type": "code",
   "execution_count": 1,
   "metadata": {},
   "outputs": [],
   "source": [
    "from pathlib import Path\n",
    "import sys\n",
    "sys.path.append('../..')\n",
    "from ccdc_notebook_utilities import create_logger\n",
    "\n",
    "import os\n",
    "from time import time\n",
    "\n",
    "import warnings"
   ]
  },
  {
   "cell_type": "code",
   "execution_count": 2,
   "metadata": {},
   "outputs": [],
   "source": [
    "import pandas as pd"
   ]
  },
  {
   "cell_type": "code",
   "execution_count": 3,
   "metadata": {},
   "outputs": [],
   "source": [
    "with warnings.catch_warnings():\n",
    "    warnings.filterwarnings(action='ignore', category=DeprecationWarning)  # Ignore current 'distutils Version classes are deprecated' warning\n",
    "    \n",
    "    import plotly.express as px"
   ]
  },
  {
   "cell_type": "code",
   "execution_count": 4,
   "metadata": {},
   "outputs": [],
   "source": [
    "from IPython.display import HTML\n",
    "\n",
    "from IPython.core.interactiveshell import InteractiveShell\n",
    "InteractiveShell.ast_node_interactivity = 'all'"
   ]
  },
  {
   "cell_type": "code",
   "execution_count": 5,
   "metadata": {},
   "outputs": [],
   "source": [
    "import ccdc\n",
    "from ccdc.interaction import InteractionLibrary\n",
    "from ccdc.diagram import DiagramGenerator\n",
    "from ccdc.io import EntryReader"
   ]
  },
  {
   "cell_type": "markdown",
   "metadata": {},
   "source": [
    "### Initialization"
   ]
  },
  {
   "cell_type": "code",
   "execution_count": 6,
   "metadata": {},
   "outputs": [],
   "source": [
    "logger = create_logger()"
   ]
  },
  {
   "cell_type": "markdown",
   "metadata": {},
   "source": [
    "Set up a CCDC Diagram Generator..."
   ]
  },
  {
   "cell_type": "code",
   "execution_count": 7,
   "metadata": {},
   "outputs": [],
   "source": [
    "diagram_generator = DiagramGenerator()\n",
    "\n",
    "diagram_generator.settings.return_type = 'SVG'\n",
    "diagram_generator.settings.explicit_polar_hydrogens = False\n",
    "diagram_generator.settings.shrink_symbols = False"
   ]
  },
  {
   "cell_type": "markdown",
   "metadata": {},
   "source": [
    "Utility to help with display in JupyterLab..."
   ]
  },
  {
   "cell_type": "code",
   "execution_count": 8,
   "metadata": {},
   "outputs": [],
   "source": [
    "show_df = lambda df: df.style.set_properties(**{'text-align': 'left'})"
   ]
  },
  {
   "cell_type": "markdown",
   "metadata": {},
   "source": [
    "Initialise the IsoStar central and contact group libraries..."
   ]
  },
  {
   "cell_type": "code",
   "execution_count": 9,
   "metadata": {},
   "outputs": [],
   "source": [
    "central_lib = InteractionLibrary.CentralGroupLibrary()\n",
    "contact_lib = InteractionLibrary.ContactGroupLibrary()"
   ]
  },
  {
   "cell_type": "markdown",
   "metadata": {},
   "source": [
    "### Inspect the interaction group libraries"
   ]
  },
  {
   "cell_type": "markdown",
   "metadata": {},
   "source": [
    "Available central groups..."
   ]
  },
  {
   "cell_type": "code",
   "execution_count": 10,
   "metadata": {},
   "outputs": [],
   "source": [
    "len(central_lib.groups)"
   ]
  },
  {
   "cell_type": "code",
   "execution_count": 11,
   "metadata": {},
   "outputs": [],
   "source": [
    "print('\\n'.join(x.name for x in central_lib.groups[:10]))  # First ten names"
   ]
  },
  {
   "cell_type": "markdown",
   "metadata": {},
   "source": [
    "Available contact groups..."
   ]
  },
  {
   "cell_type": "code",
   "execution_count": 12,
   "metadata": {},
   "outputs": [],
   "source": [
    "len(contact_lib.groups)"
   ]
  },
  {
   "cell_type": "code",
   "execution_count": 13,
   "metadata": {},
   "outputs": [],
   "source": [
    "print('\\n'.join(x.name for x in contact_lib.groups[:10]))   # First ten names"
   ]
  },
  {
   "cell_type": "markdown",
   "metadata": {},
   "source": [
    "We can visualise the substructure query used to define any group..."
   ]
  },
  {
   "cell_type": "code",
   "execution_count": 14,
   "metadata": {},
   "outputs": [],
   "source": [
    "group = central_lib.group_by_name('aromatic-aromatic ester')\n",
    "\n",
    "HTML(diagram_generator.image(group.substructure_query))"
   ]
  },
  {
   "cell_type": "code",
   "execution_count": 15,
   "metadata": {},
   "outputs": [],
   "source": [
    "group = contact_lib.group_by_name('sulfoxide/sulfone O')\n",
    "\n",
    "HTML(diagram_generator.image(group.substructure_query))"
   ]
  },
  {
   "cell_type": "markdown",
   "metadata": {},
   "source": [
    "### Perform an Interaction Analysis\n",
    "\n",
    "We will perform an interaction analyis for aliphatic ketones...."
   ]
  },
  {
   "cell_type": "code",
   "execution_count": 16,
   "metadata": {},
   "outputs": [],
   "source": [
    "central_group = central_lib.group_by_name('aliphatic-aliphatic ketone')\n",
    "\n",
    "HTML(diagram_generator.image(central_group.substructure_query))"
   ]
  },
  {
   "cell_type": "markdown",
   "metadata": {},
   "source": [
    "The contact groups for which data is available for this central group..."
   ]
  },
  {
   "cell_type": "code",
   "execution_count": 17,
   "metadata": {},
   "outputs": [],
   "source": [
    "contact_groups = [x for x in central_group.contact_groups() if x]\n",
    "\n",
    "len(contact_groups)"
   ]
  },
  {
   "cell_type": "markdown",
   "metadata": {},
   "source": [
    "We can show the data for these groups as a dataframe..."
   ]
  },
  {
   "cell_type": "code",
   "execution_count": 18,
   "metadata": {},
   "outputs": [],
   "source": [
    "def make_row(contact_group):\n",
    "    \n",
    "    data = central_group.interaction_data(contact_group)\n",
    "        \n",
    "    return [contact_group.name, data.ncontacts, *data.relative_density]"
   ]
  },
  {
   "cell_type": "code",
   "execution_count": 19,
   "metadata": {},
   "outputs": [],
   "source": [
    "def depiction(name): # Depiction of a contact-group substruture query\n",
    "    \n",
    "    return diagram_generator.image(contact_lib.group_by_name(name).substructure_query)"
   ]
  },
  {
   "cell_type": "code",
   "execution_count": 20,
   "metadata": {},
   "outputs": [],
   "source": [
    "contacts_df = (\n",
    "    pd.DataFrame(\n",
    "        data=[make_row(x) for x in contact_groups],\n",
    "        columns=['Contact Group', 'No. of Contacts', 'Relative Density', 'Std. Dev.']\n",
    "    )\n",
    "    .sort_values('Relative Density', ascending=False)\n",
    "    .assign(depiction = lambda df: df['Contact Group'].apply(depiction))\n",
    ")\n",
    "\n",
    "contacts_df.shape"
   ]
  },
  {
   "cell_type": "code",
   "execution_count": 21,
   "metadata": {
    "tags": []
   },
   "outputs": [],
   "source": [
    "show_df(contacts_df.head(5))"
   ]
  },
  {
   "cell_type": "markdown",
   "metadata": {},
   "source": [
    "### Inspect which central and contact groups are present in a molecule"
   ]
  },
  {
   "cell_type": "markdown",
   "metadata": {},
   "source": [
    "Retrieve an example molecule from the CSD (or load one from file)..."
   ]
  },
  {
   "cell_type": "code",
   "execution_count": 22,
   "metadata": {},
   "outputs": [],
   "source": [
    "refcode = 'AABHTZ'\n",
    "\n",
    "with EntryReader('CSD') as reader:\n",
    "    \n",
    "    molecule = reader.molecule(refcode)"
   ]
  },
  {
   "cell_type": "code",
   "execution_count": 23,
   "metadata": {},
   "outputs": [],
   "source": [
    "HTML(diagram_generator.image(molecule))"
   ]
  },
  {
   "cell_type": "markdown",
   "metadata": {},
   "source": [
    "Local utility to display a molecule with a substructure highlighted..."
   ]
  },
  {
   "cell_type": "code",
   "execution_count": 24,
   "metadata": {},
   "outputs": [],
   "source": [
    "depict_group = lambda mol, group: diagram_generator.image(mol, highlight_atoms=group.match_atoms())"
   ]
  },
  {
   "cell_type": "markdown",
   "metadata": {},
   "source": [
    "#### Central Groups\n",
    "\n",
    "Identify the central groups in the molecule of interest..."
   ]
  },
  {
   "cell_type": "code",
   "execution_count": 25,
   "metadata": {},
   "outputs": [],
   "source": [
    "central_group_hits = central_lib.search_molecule(molecule)\n",
    "\n",
    "len(central_group_hits)"
   ]
  },
  {
   "cell_type": "code",
   "execution_count": 26,
   "metadata": {},
   "outputs": [],
   "source": [
    "central_groups_df = pd.DataFrame([(group.name, depict_group(molecule, group)) for group in central_group_hits], columns=['Group', 'Depiction'])\n",
    "\n",
    "show_df(central_groups_df.head(3))"
   ]
  },
  {
   "cell_type": "markdown",
   "metadata": {},
   "source": [
    "#### Contact Groups\n",
    "\n",
    "Identify the contact groups in the molecule of interest..."
   ]
  },
  {
   "cell_type": "code",
   "execution_count": 27,
   "metadata": {},
   "outputs": [],
   "source": [
    "contact_group_hits = contact_lib.search_molecule(molecule)\n",
    "\n",
    "len(contact_group_hits)"
   ]
  },
  {
   "cell_type": "code",
   "execution_count": 28,
   "metadata": {},
   "outputs": [],
   "source": [
    "contact_groups_df = pd.DataFrame([(group.name, depict_group(molecule, group)) for group in central_group_hits], columns=['Group', 'Depiction'])\n",
    "\n",
    "show_df(contact_groups_df.head(3))"
   ]
  }
 ],
 "metadata": {
  "kernelspec": {
   "display_name": "Python 3 (ipykernel)",
   "language": "python",
   "name": "python3"
  },
  "language_info": {
   "codemirror_mode": {
    "name": "ipython",
    "version": 3
   },
   "file_extension": ".py",
   "mimetype": "text/x-python",
   "name": "python",
   "nbconvert_exporter": "python",
   "pygments_lexer": "ipython3",
   "version": "3.9.16"
  }
 },
 "nbformat": 4,
 "nbformat_minor": 4
}
