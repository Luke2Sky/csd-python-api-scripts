{
 "cells": [
  {
   "cell_type": "markdown",
   "metadata": {},
   "source": [
    "# Editing molecules\n",
    "\n",
    "This notebook illustrates the use of the [Molecule API](https://downloads.ccdc.cam.ac.uk/documentation/API/descriptive_docs/molecule_editing.html) to create and modify molecules.\n",
    "\n",
    "This one is definately Under Construction!"
   ]
  },
  {
   "cell_type": "code",
   "execution_count": null,
   "metadata": {},
   "outputs": [],
   "source": [
    "from platform import platform\n",
    "import sys\n",
    "import os\n",
    "from pathlib import Path\n",
    "import logging"
   ]
  },
  {
   "cell_type": "code",
   "execution_count": null,
   "metadata": {},
   "outputs": [],
   "source": [
    "from IPython.display import HTML"
   ]
  },
  {
   "cell_type": "code",
   "execution_count": null,
   "metadata": {},
   "outputs": [],
   "source": [
    "import ccdc\n",
    "from ccdc.io import csd_version"
   ]
  },
  {
   "cell_type": "code",
   "execution_count": null,
   "metadata": {},
   "outputs": [],
   "source": [
    "from ccdc.io import EntryReader\n",
    "from ccdc.diagram import DiagramGenerator\n",
    "from ccdc.molecule import Molecule, Atom, Bond"
   ]
  },
  {
   "cell_type": "code",
   "execution_count": null,
   "metadata": {},
   "outputs": [],
   "source": []
  },
  {
   "cell_type": "markdown",
   "metadata": {},
   "source": [
    "### Initialization"
   ]
  },
  {
   "cell_type": "markdown",
   "metadata": {},
   "source": [
    "Set up a logger object, with timestamp _etc._..."
   ]
  },
  {
   "cell_type": "code",
   "execution_count": null,
   "metadata": {},
   "outputs": [],
   "source": [
    "logger = logging.getLogger(__name__)\n",
    "handler = logging.StreamHandler()\n",
    "handler.setFormatter(logging.Formatter('[%(asctime)s %(levelname)-7s] %(message)s', datefmt='%y-%m-%d %H:%M:%S'))\n",
    "logger.addHandler(handler)\n",
    "logger.setLevel(logging.INFO)"
   ]
  },
  {
   "cell_type": "code",
   "execution_count": null,
   "metadata": {},
   "outputs": [],
   "source": [
    "logger.info(f\"\"\"\n",
    "Platform:       {platform()}\n",
    "Python version: {'.'.join(str(x) for x in sys.version_info[:3])}\n",
    "Python exe:     {sys.executable}\n",
    "CSD version:    {csd_version()}\n",
    "CSDHOME:        {os.environ['CSDHOME']}\n",
    "API version:    {ccdc.__version__}\n",
    "\"\"\")"
   ]
  },
  {
   "cell_type": "code",
   "execution_count": null,
   "metadata": {},
   "outputs": [],
   "source": []
  },
  {
   "cell_type": "markdown",
   "metadata": {},
   "source": [
    "### Creating a molecule from scratch\n",
    "\n",
    "https://downloads.ccdc.cam.ac.uk/documentation/API/descriptive_docs/molecule_editing.html#building-molecules-from-scratch"
   ]
  },
  {
   "cell_type": "code",
   "execution_count": null,
   "metadata": {},
   "outputs": [],
   "source": [
    "mol = Molecule(identifier='my molecule')"
   ]
  },
  {
   "cell_type": "markdown",
   "metadata": {},
   "source": [
    "#### Add atoms"
   ]
  },
  {
   "cell_type": "code",
   "execution_count": null,
   "metadata": {},
   "outputs": [],
   "source": [
    "a1 = Atom('N', coordinates=(-0.301, -0.968, 4.080), formal_charge=1)\n",
    "a2 = Atom('C', coordinates=(-1.590, -1.256, 4.148))\n",
    "a3 = Atom('C', coordinates=(-2.144, -2.420, 3.669))\n",
    "a4 = Atom('C', coordinates=(-1.327, -3.345, 3.075))\n",
    "a5 = Atom('C', coordinates=( 0.200, -3.055, 2.977))\n",
    "a6 = Atom('C', coordinates=( 0.447, -1.874, 3.505))"
   ]
  },
  {
   "cell_type": "code",
   "execution_count": null,
   "metadata": {},
   "outputs": [],
   "source": [
    "a1_id = mol.add_atom(a1)\n",
    "a2_id = mol.add_atom(a2)\n",
    "a3_id = mol.add_atom(a3)\n",
    "a4_id = mol.add_atom(a4)\n",
    "a5_id = mol.add_atom(a5)\n",
    "a6_id = mol.add_atom(a6)"
   ]
  },
  {
   "cell_type": "markdown",
   "metadata": {},
   "source": [
    "#### Add bonds"
   ]
  },
  {
   "cell_type": "code",
   "execution_count": null,
   "metadata": {},
   "outputs": [],
   "source": [
    "aromatic_bond_type = Bond.BondType(5)"
   ]
  },
  {
   "cell_type": "code",
   "execution_count": null,
   "metadata": {},
   "outputs": [],
   "source": [
    "b1_id = mol.add_bond(aromatic_bond_type, a1_id, a2_id)\n",
    "b2_id = mol.add_bond(aromatic_bond_type, a2_id, a3_id)\n",
    "b3_id = mol.add_bond(aromatic_bond_type, a3_id, a4_id)\n",
    "b4_id = mol.add_bond(aromatic_bond_type, a4_id, a5_id)\n",
    "b5_id = mol.add_bond(aromatic_bond_type, a5_id, a6_id)\n",
    "b6_id = mol.add_bond(aromatic_bond_type, a6_id, a1_id)"
   ]
  },
  {
   "cell_type": "code",
   "execution_count": null,
   "metadata": {},
   "outputs": [],
   "source": [
    "mol.add_hydrogens()"
   ]
  },
  {
   "cell_type": "code",
   "execution_count": null,
   "metadata": {},
   "outputs": [],
   "source": [
    "mol.smiles"
   ]
  },
  {
   "cell_type": "code",
   "execution_count": null,
   "metadata": {},
   "outputs": [],
   "source": []
  }
 ],
 "metadata": {
  "kernelspec": {
   "display_name": "Python 3 (ipykernel)",
   "language": "python",
   "name": "python3"
  },
  "language_info": {
   "codemirror_mode": {
    "name": "ipython",
    "version": 3
   },
   "file_extension": ".py",
   "mimetype": "text/x-python",
   "name": "python",
   "nbconvert_exporter": "python",
   "pygments_lexer": "ipython3",
   "version": "3.7.13"
  }
 },
 "nbformat": 4,
 "nbformat_minor": 4
}
