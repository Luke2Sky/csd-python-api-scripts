{
 "cells": [
  {
   "cell_type": "markdown",
   "metadata": {},
   "source": [
    "# Complexes from Covalent Docking (substructure method)\n",
    "\n",
    "**Important!** Currently, covalent docking cannot be fully configured using the API. We thus suggested that the docking is set up _via_ Hermes. Once a working configuration has been created, it can be used _via_ the API or the GOLD HPC tools.\n",
    "\n",
    "This notebook illustrates making complexes from covalent docking results. For a normal GOLD run this could be done straightforwardly in Hermes (`File > Export Complex` or using the API [Docker.Results.make_complex](https://downloads.ccdc.cam.ac.uk/documentation/API/modules/docking_api.html?highlight=make_complex#ccdc.docking.Docker.Results.make_complex) method.\n",
    "\n",
    "The reason this notebook has been created is that these normal ways of making complexes do not quite work as expected for covlent dockings.\n",
    "\n",
    "The mechanism GOLD uses for covalent docking requires the linker atom to be present in both the protein target and the ligands (see the companion notebook on [Ligand Preparation for Covalent Docking](01_Ligand_Preparation_for_Covalent_Docking.ipynb) for more details). This is reflected in the solutions, in that the linker atom is present in both the protein and the solution and there is no actual bond between the protein and docked ligand. This is fine for preliminary visualization in Hermes, but means any exported complex is unphysical and not suitable for further computation without modification.\n",
    "\n",
    "We acknowledge that this situation isn't satisfactory and intend to rectify it in time: this notebook attempts to illustrate a short-term fix for the issue.\n",
    "\n",
    "It is assumed a covalent docking has been performed using the `gold_substructure.conf` GOLD configuration file in this directory, which uses the substructure file method to identify the covalent warhead fragment in the ligand (see section 5.6.3 'Setting Up Substructure-Based Covalent Links' in the GOLD user guide). If an alternative mechanism was used, this notebook won't work.\n",
    "\n",
    "It is also assumed the linker is a simple S, O or NH. If these assumptions are false the notebook won't work. \n",
    "\n",
    "If the docking system is more complex than is assumed, the code will need modification. Please let me know."
   ]
  },
  {
   "cell_type": "code",
   "execution_count": null,
   "metadata": {},
   "outputs": [],
   "source": [
    "from platform import platform\n",
    "import sys\n",
    "import os\n",
    "from pathlib import Path\n",
    "import logging\n",
    "import time\n",
    "import subprocess\n",
    "import re"
   ]
  },
  {
   "cell_type": "code",
   "execution_count": null,
   "metadata": {},
   "outputs": [],
   "source": [
    "import ccdc\n",
    "\n",
    "from ccdc.io import MoleculeReader, EntryWriter  # EntryReader, EntryWriter, \n",
    "from ccdc.docking import Docker\n",
    "from ccdc.search import MoleculeSubstructure, SubstructureSearch"
   ]
  },
  {
   "cell_type": "code",
   "execution_count": null,
   "metadata": {},
   "outputs": [],
   "source": []
  },
  {
   "cell_type": "markdown",
   "metadata": {},
   "source": [
    "#### Config"
   ]
  },
  {
   "cell_type": "markdown",
   "metadata": {},
   "source": [
    "Method by which the ligand linker atom was specified in the docking (_i.e._ using an atom number or a substructure file)..."
   ]
  },
  {
   "cell_type": "code",
   "execution_count": null,
   "metadata": {},
   "outputs": [],
   "source": [
    "method = 'substructure'  # 'atom'"
   ]
  },
  {
   "cell_type": "markdown",
   "metadata": {},
   "source": [
    "Dir from which files will read and written..."
   ]
  },
  {
   "cell_type": "code",
   "execution_count": null,
   "metadata": {},
   "outputs": [],
   "source": [
    "working_dir = Path('.')"
   ]
  },
  {
   "cell_type": "markdown",
   "metadata": {},
   "source": [
    "GOLD conf file; file must exist..."
   ]
  },
  {
   "cell_type": "code",
   "execution_count": null,
   "metadata": {},
   "outputs": [],
   "source": [
    "conf_file = working_dir / f'gold_{method}.conf'"
   ]
  },
  {
   "cell_type": "markdown",
   "metadata": {},
   "source": [
    "File format in which to export protein-ligand complex for a docking solution..."
   ]
  },
  {
   "cell_type": "code",
   "execution_count": null,
   "metadata": {},
   "outputs": [],
   "source": [
    "export_format = 'mol2' "
   ]
  },
  {
   "cell_type": "code",
   "execution_count": null,
   "metadata": {},
   "outputs": [],
   "source": []
  },
  {
   "cell_type": "markdown",
   "metadata": {},
   "source": [
    "#### Initialization"
   ]
  },
  {
   "cell_type": "code",
   "execution_count": null,
   "metadata": {},
   "outputs": [],
   "source": [
    "# Set up and configure a logger...\n",
    "\n",
    "logger = logging.getLogger(__name__)\n",
    "\n",
    "handler = logging.StreamHandler()\n",
    "handler.setFormatter(logging.Formatter('[%(asctime)s %(levelname)-7s] %(message)s', datefmt='%y-%m-%d %H:%M:%S'))\n",
    "logger.addHandler(handler)\n",
    "logger.setLevel(logging.INFO)"
   ]
  },
  {
   "cell_type": "code",
   "execution_count": null,
   "metadata": {},
   "outputs": [],
   "source": [
    "# Locate Hermes executable...\n",
    "\n",
    "csd_dir = Path(ccdc.io.csd_directory()).parent  # CSD System directory\n",
    "version = csd_dir.name.replace('CSD_', '')  # Release version\n",
    "discovery_dir = csd_dir.parent / f'Discovery_{version}'  # Corresponding Discovery directory\n",
    "    \n",
    "hermes_exe  = str(discovery_dir / 'Hermes' / 'hermes.exe') if platform().startswith('Windows') else str(discovery_dir / 'bin' / 'hermes')  # Linux or MacOS"
   ]
  },
  {
   "cell_type": "code",
   "execution_count": null,
   "metadata": {},
   "outputs": [],
   "source": [
    "# Output platform etc. info useful for debugging...\n",
    "\n",
    "logger.info(f\"\"\" \n",
    "Platform:                     {platform()}\n",
    "\n",
    "Python exe:                   {sys.executable}\n",
    "Python version:               {'.'.join(str(x) for x in sys.version_info[:3])}\n",
    "\n",
    "CSD version:                  {ccdc.io.csd_version()}\n",
    "CSD directory:                {ccdc.io.csd_directory()}\n",
    "API version:                  {ccdc.__version__}\n",
    "\n",
    "CSDHOME:                      {os.environ.get('CSDHOME', 'Not set')}\n",
    "CCDC_LICENSING_CONFIGURATION: {os.environ.get('CCDC_LICENSING_CONFIGURATION', 'Not set')}\n",
    "\"\"\")"
   ]
  },
  {
   "cell_type": "code",
   "execution_count": null,
   "metadata": {},
   "outputs": [],
   "source": []
  },
  {
   "cell_type": "markdown",
   "metadata": {},
   "source": [
    "#### Setup\n",
    "\n",
    "Covalent docking is not yet handled properly by the Python API. We thus first read the GOLD conf file as a simple text file and extract the records pertaining to covalent docking. \n",
    "Note that this method is not a general method of parsing GOLD conf file, but is sufficient in this case."
   ]
  },
  {
   "cell_type": "code",
   "execution_count": null,
   "metadata": {},
   "outputs": [],
   "source": [
    "with conf_file.open('r') as file:\n",
    "    \n",
    "    lines = file.read().split('\\n')\n",
    "\n",
    "pattern = re.compile(r'^(covalent\\w+)\\s*=\\s*([\\w\\.]+)')\n",
    "\n",
    "options = {}\n",
    "\n",
    "for line in lines:\n",
    "    \n",
    "    match = pattern.match(line)\n",
    "    \n",
    "    if not match: continue\n",
    "\n",
    "    key, value = match.groups()\n",
    "\n",
    "    options[key] = value\n",
    "\n",
    "options"
   ]
  },
  {
   "cell_type": "code",
   "execution_count": null,
   "metadata": {},
   "outputs": [],
   "source": []
  },
  {
   "cell_type": "markdown",
   "metadata": {},
   "source": [
    "Here we determine the index of the linker atom in the protein from the record in the conf file, which will be the same for all complexes.\n",
    "\n",
    "Note that, as GOLD uses 1-based indexing (what we are calling 'atom number') but the API uses 0-based indexing, we convert the GOLD atom numbers to 0-based indexes."
   ]
  },
  {
   "cell_type": "code",
   "execution_count": null,
   "metadata": {},
   "outputs": [],
   "source": [
    "protein_atom_index = int(options['covalent_protein_atom_no']) - 1\n",
    "\n",
    "protein_atom_index"
   ]
  },
  {
   "cell_type": "code",
   "execution_count": null,
   "metadata": {},
   "outputs": [],
   "source": []
  },
  {
   "cell_type": "markdown",
   "metadata": {},
   "source": [
    "We will use the substructure used to define the ligand linker atom in the docking to identify it again in the complexes. \n",
    "\n",
    "As it is conceivable the substructure might match groups on the protein, we add constraints such that it can only match a ligand moiety withing the complex.\n",
    "\n",
    "The substructure-searcher will be used for all complexes, so we only need to configure it once here."
   ]
  },
  {
   "cell_type": "code",
   "execution_count": null,
   "metadata": {},
   "outputs": [],
   "source": [
    "with MoleculeReader(options['covalent_substructure_filename']) as reader:\n",
    "    \n",
    "    substructure_mol = reader[0]"
   ]
  },
  {
   "cell_type": "code",
   "execution_count": null,
   "metadata": {},
   "outputs": [],
   "source": [
    "substructure = MoleculeSubstructure(substructure_mol)"
   ]
  },
  {
   "cell_type": "code",
   "execution_count": null,
   "metadata": {},
   "outputs": [],
   "source": [
    "for atom in substructure.atoms:\n",
    "    \n",
    "    atom.add_protein_atom_type_constraint('LIGAND')"
   ]
  },
  {
   "cell_type": "code",
   "execution_count": null,
   "metadata": {},
   "outputs": [],
   "source": [
    "searcher = SubstructureSearch()\n",
    "\n",
    "_ = searcher.add_substructure(substructure)"
   ]
  },
  {
   "cell_type": "markdown",
   "metadata": {},
   "source": [
    "Index of the ligand linker atom within the substructure (see above for a note on indexing)..."
   ]
  },
  {
   "cell_type": "code",
   "execution_count": null,
   "metadata": {},
   "outputs": [],
   "source": [
    "substructure_atom_index = int(options['covalent_substructure_atom_no']) - 1\n",
    "\n",
    "substructure_atom_index"
   ]
  },
  {
   "cell_type": "code",
   "execution_count": null,
   "metadata": {},
   "outputs": [],
   "source": []
  },
  {
   "cell_type": "markdown",
   "metadata": {},
   "source": [
    "Next we load the conf file properly _via_ the API and hence get a docking [Results](https://downloads.ccdc.cam.ac.uk/documentation/API/modules/docking_api.html?highlight=make_complex#ccdc.docking.Docker.Results) object..."
   ]
  },
  {
   "cell_type": "code",
   "execution_count": null,
   "metadata": {},
   "outputs": [],
   "source": [
    "settings = Docker.Settings.from_file(str(conf_file))\n",
    "\n",
    "docker = Docker(settings=settings)\n",
    "\n",
    "results = docker.results\n",
    "\n",
    "len(results.ligands)"
   ]
  },
  {
   "cell_type": "code",
   "execution_count": null,
   "metadata": {},
   "outputs": [],
   "source": []
  },
  {
   "cell_type": "markdown",
   "metadata": {},
   "source": [
    "#### Example\n",
    "\n",
    "We will use the first solution as an example..."
   ]
  },
  {
   "cell_type": "code",
   "execution_count": null,
   "metadata": {},
   "outputs": [],
   "source": [
    "solution = results.ligands[0]\n",
    "\n",
    "solution.identifier"
   ]
  },
  {
   "cell_type": "code",
   "execution_count": null,
   "metadata": {},
   "outputs": [],
   "source": []
  },
  {
   "cell_type": "markdown",
   "metadata": {},
   "source": [
    "Make a complex from the solution..."
   ]
  },
  {
   "cell_type": "code",
   "execution_count": null,
   "metadata": {},
   "outputs": [],
   "source": [
    "complexed = results.make_complex(solution) \n",
    "\n",
    "complexed.remove_unknown_atoms()  # Remove lone pairs for export"
   ]
  },
  {
   "cell_type": "code",
   "execution_count": null,
   "metadata": {},
   "outputs": [],
   "source": []
  },
  {
   "cell_type": "markdown",
   "metadata": {},
   "source": [
    "Here we get the protein linker atom in the complex.\n",
    "\n",
    "It is assumed here that the linker atom is singly-connected, _i.e._ is a typical S or O and is 'bare', without a hydrogen. This assumption is made as it simplifies the processing. The code below checks for it so if you do have hydrogen on your linker atoms (or have a more exotic system where the linker is not a typical S or O) it will fail. It would be possible to take account of this, so let me know if it is necessary."
   ]
  },
  {
   "cell_type": "code",
   "execution_count": null,
   "metadata": {},
   "outputs": [],
   "source": [
    "protein_linker_atom = complexed.atoms[protein_atom_index]\n",
    "\n",
    "assert len(protein_linker_atom.bonds) == 1, f\"Error! Protein linker atom has more than one bond!\"\n",
    "\n",
    "logger.info(f\"Protein linker atom: {protein_linker_atom.residue_label}/{protein_linker_atom.label} ({protein_linker_atom.index + 1})\")"
   ]
  },
  {
   "cell_type": "code",
   "execution_count": null,
   "metadata": {},
   "outputs": [],
   "source": []
  },
  {
   "cell_type": "markdown",
   "metadata": {},
   "source": [
    "Here we get the ligand linker atom in the complex using a substructure search.\n",
    "\n",
    "Note again that it is assumed that the linker atom is singly-connected."
   ]
  },
  {
   "cell_type": "code",
   "execution_count": null,
   "metadata": {},
   "outputs": [],
   "source": [
    "matches = searcher.search(complexed)\n",
    "\n",
    "assert matches, \"Error! No ligand substructure match in complex!\"\n",
    "\n",
    "match = matches[0]\n",
    "\n",
    "ligand_linker_atom = match.match_atoms()[substructure_atom_index]\n",
    "\n",
    "logger.info(f\"Ligand linker atom: {ligand_linker_atom.residue_label}/{ligand_linker_atom.label} ({ligand_linker_atom.index+1})\")"
   ]
  },
  {
   "cell_type": "code",
   "execution_count": null,
   "metadata": {},
   "outputs": [],
   "source": []
  },
  {
   "cell_type": "markdown",
   "metadata": {},
   "source": [
    "Remove any hydrogens on the ligand linker atom (which is possible if the nucleophile is a lysine N, for example). After this, it is assumed that the ligand linker atom is singly-connected and can safely be deleted. If it is _not_ singly-connected (_e.g._ if the nucleophile was a methylated lysine, perhaps: is this likely to happen?), then more elaboration will be required."
   ]
  },
  {
   "cell_type": "code",
   "execution_count": null,
   "metadata": {},
   "outputs": [],
   "source": [
    "for bond in ligand_linker_atom.bonds:\n",
    "\n",
    "    x_atom = [atom for atom in bond.atoms if atom != ligand_linker_atom][0]\n",
    "\n",
    "    if x_atom.atomic_number == 1:\n",
    "        \n",
    "        logger.info(f\"Removing H from ligand linker atom of '{solution.identifier}'.\")\n",
    "\n",
    "        complexed.remove_atom(x_atom)"
   ]
  },
  {
   "cell_type": "code",
   "execution_count": null,
   "metadata": {},
   "outputs": [],
   "source": [
    "assert len(ligand_linker_atom.bonds) == 1, f\"Error! Ligand linker atom has more than one bond!\""
   ]
  },
  {
   "cell_type": "code",
   "execution_count": null,
   "metadata": {},
   "outputs": [],
   "source": []
  },
  {
   "cell_type": "markdown",
   "metadata": {},
   "source": [
    "Get the remaining (heavy) ligand atom attached to the ligand linker atom..."
   ]
  },
  {
   "cell_type": "code",
   "execution_count": null,
   "metadata": {},
   "outputs": [],
   "source": [
    "ligand_atom = [atom for atom in ligand_linker_atom.bonds[0].atoms if atom != ligand_linker_atom][0]"
   ]
  },
  {
   "cell_type": "code",
   "execution_count": null,
   "metadata": {},
   "outputs": [],
   "source": []
  },
  {
   "cell_type": "markdown",
   "metadata": {},
   "source": [
    "Remove the now-superfluous ligand linker atom..."
   ]
  },
  {
   "cell_type": "code",
   "execution_count": null,
   "metadata": {},
   "outputs": [],
   "source": [
    "complexed.remove_atom(ligand_linker_atom)"
   ]
  },
  {
   "cell_type": "code",
   "execution_count": null,
   "metadata": {},
   "outputs": [],
   "source": []
  },
  {
   "cell_type": "markdown",
   "metadata": {},
   "source": [
    "Attach protein linker atom to ligand atom..."
   ]
  },
  {
   "cell_type": "code",
   "execution_count": null,
   "metadata": {},
   "outputs": [],
   "source": [
    "complexed.add_bond(1, protein_linker_atom, ligand_atom)"
   ]
  },
  {
   "cell_type": "code",
   "execution_count": null,
   "metadata": {},
   "outputs": [],
   "source": []
  },
  {
   "cell_type": "markdown",
   "metadata": {},
   "source": [
    "Export the now covalently-bound complex complex..."
   ]
  },
  {
   "cell_type": "code",
   "execution_count": null,
   "metadata": {},
   "outputs": [],
   "source": [
    "complex_file = working_dir / f'complexed_{method}.mol2'\n",
    "\n",
    "with EntryWriter(complex_file) as writer:\n",
    "    \n",
    "    writer.write(complexed)"
   ]
  },
  {
   "cell_type": "code",
   "execution_count": null,
   "metadata": {},
   "outputs": [],
   "source": []
  },
  {
   "cell_type": "markdown",
   "metadata": {},
   "source": [
    "Inspection of this complex in Hermes will show that the linker atom is no longer duplicated and that a bond exists between the protein and ligand."
   ]
  },
  {
   "cell_type": "code",
   "execution_count": null,
   "metadata": {},
   "outputs": [],
   "source": [
    "status = subprocess.Popen([hermes_exe, complex_file.as_posix()], creationflags=0x00000008)"
   ]
  },
  {
   "cell_type": "code",
   "execution_count": null,
   "metadata": {},
   "outputs": [],
   "source": []
  },
  {
   "cell_type": "markdown",
   "metadata": {},
   "source": [
    "#### Exporting all solutions as complexes\n",
    "\n",
    "This facility can also be used to export all solutions. In the example below, solutions are exported in descending order of fitness for each input ligand."
   ]
  },
  {
   "cell_type": "code",
   "execution_count": null,
   "metadata": {},
   "outputs": [],
   "source": [
    "complexes_dir = working_dir / f'complexes_{method}'\n",
    "\n",
    "complexes_dir.mkdir(exist_ok=True)"
   ]
  },
  {
   "cell_type": "code",
   "execution_count": null,
   "metadata": {
    "tags": []
   },
   "outputs": [],
   "source": [
    "for n, solution in enumerate(results.ligands, 1):\n",
    "\n",
    "    # Make a complex from the solution...\n",
    "\n",
    "    complexed = results.make_complex(solution) \n",
    "\n",
    "    complexed.remove_unknown_atoms()  # Remove lone pairs for export\n",
    "\n",
    "    # Determine linker atom in protein (from conf file)...\n",
    "    \n",
    "    protein_linker_atom = complexed.atoms[protein_atom_index]\n",
    "\n",
    "    assert len(protein_linker_atom.bonds) == 1, f\"Error! Protein linker atom has more than one bond!\"\n",
    "\n",
    "    logger.debug(f\"Protein linker atom: {protein_linker_atom.residue_label}/{protein_linker_atom.label} ({protein_linker_atom.index+1})\")\n",
    "\n",
    "    # Determine linker atom in ligand using substructure...\n",
    "\n",
    "    matches = searcher.search(complexed)\n",
    "    \n",
    "    assert matches, \"Error! No ligand substructure match in complex!\"\n",
    "\n",
    "    match = matches[0]\n",
    "\n",
    "    ligand_linker_atom = match.match_atoms()[substructure_atom_index]\n",
    "\n",
    "    logger.debug(f\"Ligand linker atom: {ligand_linker_atom.residue_label}/{ligand_linker_atom.label} ({ligand_linker_atom.index+1})\")\n",
    "    \n",
    "    # Remove any Hs on ligand linker atom such that it is singly-connected...\n",
    "    \n",
    "    for bond in ligand_linker_atom.bonds:\n",
    "\n",
    "        x_atom = [atom for atom in bond.atoms if atom != ligand_linker_atom][0]\n",
    "\n",
    "        if x_atom.atomic_number == 1:\n",
    "\n",
    "            complexed.remove_atom(x_atom)\n",
    "            \n",
    "    assert len(ligand_linker_atom.bonds) == 1, f\"Error! Ligand linker atom has more than one bond!\"\n",
    "\n",
    "    # Get the remaining ligand atom attached to the linker atom...\n",
    "\n",
    "    ligand_atom = [atom for atom in ligand_linker_atom.bonds[0].atoms if atom != ligand_linker_atom][0]\n",
    "\n",
    "    # Remove the now-superfluous ligand linker atom...\n",
    "\n",
    "    complexed.remove_atom(ligand_linker_atom)\n",
    "\n",
    "    # Attach protein linker atom to ligand atom...\n",
    "\n",
    "    complexed.add_bond(1, protein_linker_atom, ligand_atom)\n",
    "\n",
    "    # Export complex...\n",
    "\n",
    "    complex_file = complexes_dir / f'complex_{n:03d}.mol2'\n",
    "\n",
    "    with EntryWriter(str(complex_file)) as writer:\n",
    "\n",
    "        writer.write(complexed)\n",
    "\n",
    "    logger.info(f\"Solution '{solution.identifier:30}' written to file {complex_file}.\")"
   ]
  },
  {
   "cell_type": "code",
   "execution_count": null,
   "metadata": {},
   "outputs": [],
   "source": []
  }
 ],
 "metadata": {
  "kernelspec": {
   "display_name": "Python 3 (ipykernel)",
   "language": "python",
   "name": "python3"
  },
  "language_info": {
   "codemirror_mode": {
    "name": "ipython",
    "version": 3
   },
   "file_extension": ".py",
   "mimetype": "text/x-python",
   "name": "python",
   "nbconvert_exporter": "python",
   "pygments_lexer": "ipython3",
   "version": "3.7.13"
  }
 },
 "nbformat": 4,
 "nbformat_minor": 4
}
