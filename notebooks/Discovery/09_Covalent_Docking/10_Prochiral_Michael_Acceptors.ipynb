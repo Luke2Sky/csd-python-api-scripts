{
 "cells": [
  {
   "cell_type": "markdown",
   "metadata": {},
   "source": [
    "# Prochiral Michael Acceptors\n",
    "\n",
    "Here we examine substituted acrylamides as examples of prochiral Michael Acceptors. These are important as the addition reaction can give rise to chiral centres which need to be taken into account. "
   ]
  },
  {
   "cell_type": "code",
   "execution_count": null,
   "metadata": {},
   "outputs": [],
   "source": [
    "from rdkit.Chem import MolFromSmiles, MolFromMolBlock, MolToSmiles, MolToMolBlock, AddHs, RemoveHs, Mol, SanitizeMol\n",
    "\n",
    "from rdkit.Chem.AllChem import EmbedMolecule, ReactionFromSmarts"
   ]
  },
  {
   "cell_type": "code",
   "execution_count": null,
   "metadata": {},
   "outputs": [],
   "source": [
    "from rdkit.Chem.rdmolops import AssignStereochemistryFrom3D\n",
    "\n",
    "from rdkit.Chem.EnumerateStereoisomers import EnumerateStereoisomers, StereoEnumerationOptions\n",
    "\n",
    "from rdkit.Chem.Draw import MolsToGridImage"
   ]
  },
  {
   "cell_type": "code",
   "execution_count": null,
   "metadata": {},
   "outputs": [],
   "source": [
    "from rdkit.Chem import PandasTools\n",
    "from rdkit.Chem.Draw import IPythonConsole\n",
    "\n",
    "PandasTools.RenderImagesInAllDataFrames()\n",
    "IPythonConsole.ipython_useSVG = True"
   ]
  },
  {
   "cell_type": "code",
   "execution_count": null,
   "metadata": {},
   "outputs": [],
   "source": []
  },
  {
   "cell_type": "markdown",
   "metadata": {},
   "source": [
    "#### Reaction"
   ]
  },
  {
   "cell_type": "markdown",
   "metadata": {},
   "source": [
    "The reaction is a combined addition and keto-enol rearrangement..."
   ]
  },
  {
   "cell_type": "code",
   "execution_count": null,
   "metadata": {},
   "outputs": [],
   "source": [
    "reaction = ReactionFromSmarts('[O:1]=[C,S:2]-[C:3]=[C:4].[Sv2H:5]>>[O:1]=[C,S:2]-[C:3]-[C:4]-[S:5]')\n",
    "\n",
    "reaction"
   ]
  },
  {
   "cell_type": "markdown",
   "metadata": {},
   "source": [
    "Note that the reaction could also be fully specified, _i.e._ with H counts made explicit. This can have advantages, but means distinct versions would be necessary for the various substitution patterns. The version below would only work for unsubsubstituted acceptors, for example.\n",
    "\n",
    "The advantage of using a fully specified reaction is that it reaction works even if stereo is assigned from 3D and the mol is not recreated from a string."
   ]
  },
  {
   "cell_type": "code",
   "execution_count": null,
   "metadata": {},
   "outputs": [],
   "source": [
    "# reaction = ReactionFromSmarts('[O:1]=[C,S:2]-[CH:3]=[CH2:4].[Sv2H1:5]>>[O:1]=[C,S:2]-[CH2:3]-[CH2:4]-[SH0:5]')\n",
    "\n",
    "# reaction"
   ]
  },
  {
   "cell_type": "code",
   "execution_count": null,
   "metadata": {},
   "outputs": [],
   "source": []
  },
  {
   "cell_type": "markdown",
   "metadata": {},
   "source": [
    "Thiol with an identifiable tag that be removed easily later..."
   ]
  },
  {
   "cell_type": "code",
   "execution_count": null,
   "metadata": {},
   "outputs": [],
   "source": [
    "tagged_thiol = MolFromSmiles('S[At]')"
   ]
  },
  {
   "cell_type": "code",
   "execution_count": null,
   "metadata": {},
   "outputs": [],
   "source": []
  },
  {
   "cell_type": "markdown",
   "metadata": {},
   "source": [
    "#### Input with assigned chiral centre"
   ]
  },
  {
   "cell_type": "code",
   "execution_count": null,
   "metadata": {},
   "outputs": [],
   "source": [
    "# Assign stero from SMILES...\n",
    "\n",
    "smiles = '[C@H](Br)(I)NC(=O)\\C(C)=C(/Cl)F'  # Acetamide is Prochiral\n",
    "\n",
    "# smiles = '[C@H](Br)(I)NC(=O)C=C'  # Acetamide is not prochiral\n",
    "\n",
    "mol = MolFromSmiles(smiles)\n",
    "\n",
    "print(MolToSmiles(mol))\n",
    "\n",
    "mol"
   ]
  },
  {
   "cell_type": "code",
   "execution_count": null,
   "metadata": {},
   "outputs": [],
   "source": []
  },
  {
   "cell_type": "code",
   "execution_count": null,
   "metadata": {},
   "outputs": [],
   "source": [
    "# # Assign stereo from 3D...\n",
    "# # N.B. This will be an arbitrary (random) enantiomer unless a seed is specified for the embedding step.\n",
    "\n",
    "# smiles = 'C(Br)(I)NC(=O)C(C)=C(Cl)F'  # Acetamide is Prochiral\n",
    "\n",
    "# # smiles = 'C(Br)(I)NC(=O)C=C'  # Acetamide is not prochiral\n",
    "\n",
    "# mol = MolFromSmiles(smiles)\n",
    "\n",
    "# mol = AddHs(mol)  # Hs are required for 3D structure generation (also copies mol)\n",
    "\n",
    "# assert EmbedMolecule(mol) != -1, \"Error! The 3D embedding of the molecule failed.\"\n",
    "\n",
    "# AssignStereochemistryFrom3D(mol)\n",
    "\n",
    "# mol.Compute2DCoords()  # For depiction\n",
    "\n",
    "# # mol = RemoveHs(mol)  # Redundant if mol recreated from string\n",
    "\n",
    "# # Recreate mol from string seems to be required for reaction to work if stereo assigned from 3D...\n",
    "\n",
    "# mol = MolFromSmiles(MolToSmiles(mol))  # MolBlock also works\n",
    "\n",
    "# # mol = MolFromMolBlock(MolToMolBlock(mol))  # SMILES also works\n",
    "\n",
    "# # mol = Mol(mol)  # N.B. Copying mol doesn't work\n",
    "\n",
    "# print(MolToSmiles(mol))\n",
    "\n",
    "# mol"
   ]
  },
  {
   "cell_type": "code",
   "execution_count": null,
   "metadata": {},
   "outputs": [],
   "source": []
  },
  {
   "cell_type": "markdown",
   "metadata": {},
   "source": [
    "#### Perform the reaction"
   ]
  },
  {
   "cell_type": "code",
   "execution_count": null,
   "metadata": {},
   "outputs": [],
   "source": [
    "products = reaction.RunReactants((mol, tagged_thiol))\n",
    "\n",
    "new_mol = products[0][0]\n",
    "\n",
    "SanitizeMol(new_mol)\n",
    "\n",
    "print(MolToSmiles(new_mol))\n",
    "\n",
    "new_mol"
   ]
  },
  {
   "cell_type": "code",
   "execution_count": null,
   "metadata": {},
   "outputs": [],
   "source": []
  },
  {
   "cell_type": "markdown",
   "metadata": {},
   "source": [
    "#### Enumerate the new chiral centres\n",
    "\n",
    "https://www.rdkit.org/docs/source/rdkit.Chem.EnumerateStereoisomers.html\n",
    "\n",
    "Note that, by default, the code only expands unspecified stereocenters."
   ]
  },
  {
   "cell_type": "markdown",
   "metadata": {},
   "source": [
    "_N.B._ Recreating the product mol from string (SMILES or MolBlock) seems to be required for stereo enumeration to work (again, a deep copy of the mol doesn't work)"
   ]
  },
  {
   "cell_type": "code",
   "execution_count": null,
   "metadata": {},
   "outputs": [],
   "source": [
    "assert len(tuple(EnumerateStereoisomers(new_mol))) == 1\n",
    "\n",
    "new_mol = MolFromMolBlock(MolToMolBlock(new_mol))  # SMILES also works\n",
    "\n",
    "# # mol = Mol(mol)  # N.B. Copying mol doesn't work\n",
    "\n",
    "mols = tuple(EnumerateStereoisomers(new_mol))\n",
    "\n",
    "assert len(mols) > 1  # If input was prochiral!\n",
    "\n",
    "MolsToGridImage(mols, molsPerRow=4, useSVG=True)"
   ]
  },
  {
   "cell_type": "code",
   "execution_count": null,
   "metadata": {},
   "outputs": [],
   "source": []
  }
 ],
 "metadata": {
  "kernelspec": {
   "display_name": "Python 3",
   "language": "python",
   "name": "python3"
  },
  "language_info": {
   "codemirror_mode": {
    "name": "ipython",
    "version": 3
   },
   "file_extension": ".py",
   "mimetype": "text/x-python",
   "name": "python",
   "nbconvert_exporter": "python",
   "pygments_lexer": "ipython3",
   "version": "3.7.11"
  }
 },
 "nbformat": 4,
 "nbformat_minor": 4
}
