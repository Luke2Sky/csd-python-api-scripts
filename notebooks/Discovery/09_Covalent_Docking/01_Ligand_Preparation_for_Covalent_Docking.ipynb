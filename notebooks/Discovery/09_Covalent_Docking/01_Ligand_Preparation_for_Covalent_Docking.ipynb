{
 "cells": [
  {
   "cell_type": "markdown",
   "metadata": {},
   "source": [
    "```\n",
    "This script can be used for any purpose without limitation subject to the\n",
    "conditions at http://www.ccdc.cam.ac.uk/Community/Pages/Licences/v2.aspx\n",
    "\n",
    "This permission notice and the following statement of attribution must be\n",
    "included in all copies or substantial portions of this script.\n",
    "\n",
    "2022-06-01: Made available by the Cambridge Crystallographic Data Centre.\n",
    "\n",
    "```"
   ]
  },
  {
   "cell_type": "markdown",
   "metadata": {},
   "source": [
    "# Ligand Preparation for Covalent Docking\n",
    "\n",
    "This notebook illustrates the preparation of ligands for covalent docking with GOLD using a small set of acrylamide ligands to be docked into COVID-19 Main Protease (MPro). \n",
    "\n",
    "**Important!** Currently, covalent docking cannot be fully configured using the API. We thus suggested that the docking is set up _via_ Hermes. Once a working configuration has been created, it can be used _via_ the API or the GOLD HPC tools.\n",
    "\n",
    "#### Docking basics\n",
    "\n",
    "For optimal performance, GOLD requires good-quality 3D ligand structures as input (note that it only requires a single conformer as it performs flexible docking based on the input structure).\n",
    "\n",
    "In these documents, a '1D' structure means one where no meaningful 2D or 3D coordinates are present, whereas a '3D' structure is one where a realistic conformation is present. A '2D' structure would be one with a useful 2D depiction, but we are not really concerned with that here.\n",
    "\n",
    "Note that it is assumed that the input structures are all in the desired charge and tautomeric states. No protonation/deprotonation or tautomer standardization/enumeration is done here.\n",
    "\n",
    "\n",
    "#### Covalent docking specifics\n",
    "\n",
    "Preparing ligands for covalent docking is more complicated that normal due to the way covalency is handled in GOLD. Familiarity with Section 5.6 of the GOLD User Guide, 'Setting Up Covalently Bound Ligands' is assumed in what follows.\n",
    "\n",
    "In Section 5.6.1, 'Method Used for Docking Covalently Bound Ligands', it is stated: \n",
    "\n",
    "> The program assumes that there is just one atom linking the ligand to the protein (e.g. the O in a serine residue). Both protein and ligand files are set up with the link atom included (so, if the serine O is the link atom, it will appear in both the protein and ligand input files). Ideally the link atom, in both the ligand and the protein, will have a free valence available through which the link can be made.\"\n",
    "> \n",
    "> Inside the GOLD least-squares fitting routine, the link atom in the ligand will be forced to fit\n",
    "onto the link atom in the protein.\n",
    "\n",
    "In this example, a cysteine will be used as the nucleophilic residue, so the linker atom will be a sulphur instead of an oxygen. The same principles apply, however.\n",
    "\n",
    "As the link atom must be included in the ligands input to GOLD, the input structures must first be transformed into the adducted form. These structure are artificial, of course, as the protein is obviously not present and the linker atom must have an unfilled valence.\n",
    "\n",
    "Now, the CCDC API does not currently provide facilities for chemical transformations, so we again recommend the use of RDKit (chemical reaction handling is described [here](https://www.rdkit.org/docs/GettingStartedInPython.html#chemical-reactions)).\n",
    "\n",
    "Note that 'chemical reaction' is used very loosley here: the transformations specified do not need to correspond to known chemical reactions. In addition, multiple reaction steps may compressed into a single step for conveniance. For example, the nucleophilic addition and keto-enol rearrangement step implicit in the reaction of a vinyl ketone moeity (as in an acrylamide) with a nucleophile (such as a protein thiol) can be compressed into one 'reaction' as is done below.\n",
    "\n",
    "All the molecules in this test set contain an unsubstituted vinyl ketone as part if the acrylamide (_i.e._ it is substituted only on the nitrogen). This is important as the reaction with the thiol will not introduce any new stereocentres into the molecule. If one or both carbons of the vinyl group are asymmetrically substituted then the adduct will contain one or two new chiral centres. This can certainly be handled withing this general framework but inevitably introduces some complexity. For simplicity we thus focus here on the unsubstituted case; a notebook discussing the effects of substitution of the vinyl group is available on request.\n",
    "\n",
    "Although it is not an issue for the current example (due to the focus on the unsubtituted case), an important point to note is that the RDKit reaction SMARTS can be written with varying levels of strictness with regards to hydrogens. They can be written with exact hydrogen counts on all relevant atoms or written partially or wholly without hydrogens. In the latter case, RDKit must be relied upon to create valid molecules. It is generally good at this and the exceptions can be ususally be fixed using the [Chem.SanitizeMol](https://www.rdkit.org/docs/source/rdkit.Chem.rdmolops.html?highlight=sanitizemol#rdkit.Chem.rdmolops.SanitizeMol) method. This method imposes little overhead and we use it routinely here to avoid any potential problems. \n",
    "\n",
    "A closely related issue is how tightly the reacting substructures are specified. Using SMARTs primitives for _e.g._ valence and total connectivities (as well as hydrogen counts) the reaction can be restricted to only well defined cases. This is generally desirable as it means the products will be well understood; loosely-defined reactions can lead to unexpected or multiple products, issues with stereocentres _etc_. The disadvantage is that more heterogeneous input sets might need several reactions in order to cover all cases. In general, I would recomment defining the reaction as tightly as necessary given the likely inputs. This can mean doing some preliminary exploratory work to determine the diversity present in the input set, which would probably consist of some combination of visualization inspection and substructure searches. Some brief examples of such validation are included below. \n",
    "\n",
    "Another point is that the linker atom must have an 'unphysical' open valence, but that a chemically-valid molecule is required for the conformer generator. Our approach here is to use a 'chemical tag' on the thiol reactant whcih is easy to identify and remove in a final step. Astatine is used here as it is conveniently momovalent and accepted by the conformer generator but is highly unlikely to be present in the input mulecules.\n",
    "\n",
    "\n",
    "\n",
    "#### Notes on the docking system\n",
    "\n",
    "A functional docking system is provided here for demonstration purposes.\n",
    "\n",
    "The protein target is derived from [5REN](https://www.ebi.ac.uk/pdbe/entry/pdb/5ren), which is SARS-CoV-2 (_i.e._ COVID-19) Main Protease with a fragment inhibitor covalently bound to the catalysic cysteine (Cys145). The file `target\\protein.mol2` was prepared by importing the PDBe structure into Hermes and performing basic protein-preparation steps using the GOLD Wizard (see the GOLD and Hermes User Guides and asociated CCDC tutorial materials for details).\n",
    "\n",
    "Note that the preparation of this demo system has not been performed thoroughly, _e.g._ Asn and Gln orientations and His tautomers and orientatations have not been investigated in any detail. This could be important here as there are His residues in and around the active site. Thus, while the provided system is suitable for demo purposes, it should not be considered suitable for production work.\n",
    "\n",
    "The bound inhibitor was extracted and saved as `target\\ligand.mol2` for the purposes of cavity-definition only: it takes no other role in the docking. The ligand extraction leaves the bare linker S atom on the protein (Cys145.SG), as is required for covalent docking. \n",
    "\n",
    "When covalent docking multiple ligands with a common warhead, it is best to use a substructure file to define the linker: see Section 5.6.3, 'Setting Up Substructure-Based Covalent Links' in the GOLD User Guide for details. The substructure file must be in in `MOL2` format and contain appropriate Sybyl atom types. The file `substructure.mol2` provided with this example was generated from the simple example that is used below. This was exported from the notebook as a `MOL` file and loaded into Hermes, which causes Sybyl atom types to be assigned. These were visually inspected and found appropriate: the required substructure was then created by manually deleting the methyl substituents on the acrylamide N and exporting the the in the default format (_i.e._ `MOL2`). The atom index of the linker S atom was then noted and used in the setup of the docking in Hermes, as was the index of the common S atom in the protein (_i.e._ Cys145.SG).\n",
    "\n",
    "The `.conf` files provided have settings suitable for a (medium throughput) virtual screen: again, it should not be used for production work without further efforts to establish it's suitability.\n",
    "\n",
    "Please remember that the ligands used in the example are just for illustrative purposes and are not claimed to be active!\n",
    "\n",
    "#### Postprocessing\n",
    "\n",
    "It can be useful to export docking results as complete protein-ligand complexes, if, for example, further computations are to be performed. Howeever, the normal ways of making complexes do not quite work as expected for GOLD covlent dockings. This is explored further in the pair of companion notebooks [Covalent_Complexes-atom](02a_Covalent_Complexes-atom.ipynb) and [Covalent_Complexes-substructure](02b_Covalent_Complexes-substructure.ipynb)."
   ]
  },
  {
   "cell_type": "code",
   "execution_count": 1,
   "metadata": {},
   "outputs": [],
   "source": [
    "from platform import platform\n",
    "import sys\n",
    "import os\n",
    "from pathlib import Path\n",
    "import logging\n",
    "import time\n",
    "import subprocess\n",
    "import pandas as pd\n",
    "import csv\n",
    "import shutil"
   ]
  },
  {
   "cell_type": "code",
   "execution_count": 2,
   "metadata": {},
   "outputs": [
    {
     "ename": "ImportError",
     "evalue": "DLL load failed while importing rdmolfiles: The specified procedure could not be found.",
     "output_type": "error",
     "traceback": [
      "\u001b[1;31m---------------------------------------------------------------------------\u001b[0m",
      "\u001b[1;31mImportError\u001b[0m                               Traceback (most recent call last)",
      "Cell \u001b[1;32mIn[2], line 2\u001b[0m\n\u001b[0;32m      1\u001b[0m \u001b[38;5;28;01mimport\u001b[39;00m \u001b[38;5;21;01mrdkit\u001b[39;00m\n\u001b[1;32m----> 2\u001b[0m \u001b[38;5;28;01mfrom\u001b[39;00m \u001b[38;5;21;01mrdkit\u001b[39;00m \u001b[38;5;28;01mimport\u001b[39;00m Chem\n\u001b[0;32m      3\u001b[0m \u001b[38;5;28;01mfrom\u001b[39;00m \u001b[38;5;21;01mrdkit\u001b[39;00m\u001b[38;5;21;01m.\u001b[39;00m\u001b[38;5;21;01mChem\u001b[39;00m \u001b[38;5;28;01mimport\u001b[39;00m AllChem, PandasTools\n\u001b[0;32m      4\u001b[0m \u001b[38;5;28;01mfrom\u001b[39;00m \u001b[38;5;21;01mrdkit\u001b[39;00m\u001b[38;5;21;01m.\u001b[39;00m\u001b[38;5;21;01mChem\u001b[39;00m\u001b[38;5;21;01m.\u001b[39;00m\u001b[38;5;21;01mDraw\u001b[39;00m \u001b[38;5;28;01mimport\u001b[39;00m IPythonConsole\n",
      "File \u001b[1;32m~\\Anaconda3\\envs\\latest_csd_python_api\\lib\\site-packages\\rdkit\\Chem\\__init__.py:23\u001b[0m\n\u001b[0;32m     21\u001b[0m _HasSubstructMatchStr \u001b[38;5;241m=\u001b[39m rdchem\u001b[38;5;241m.\u001b[39m_HasSubstructMatchStr\n\u001b[0;32m     22\u001b[0m \u001b[38;5;28;01mfrom\u001b[39;00m \u001b[38;5;21;01mrdkit\u001b[39;00m\u001b[38;5;21;01m.\u001b[39;00m\u001b[38;5;21;01mChem\u001b[39;00m\u001b[38;5;21;01m.\u001b[39;00m\u001b[38;5;21;01mrdchem\u001b[39;00m \u001b[38;5;28;01mimport\u001b[39;00m \u001b[38;5;241m*\u001b[39m\n\u001b[1;32m---> 23\u001b[0m \u001b[38;5;28;01mfrom\u001b[39;00m \u001b[38;5;21;01mrdkit\u001b[39;00m\u001b[38;5;21;01m.\u001b[39;00m\u001b[38;5;21;01mChem\u001b[39;00m\u001b[38;5;21;01m.\u001b[39;00m\u001b[38;5;21;01mrdmolfiles\u001b[39;00m \u001b[38;5;28;01mimport\u001b[39;00m \u001b[38;5;241m*\u001b[39m\n\u001b[0;32m     24\u001b[0m \u001b[38;5;28;01mfrom\u001b[39;00m \u001b[38;5;21;01mrdkit\u001b[39;00m\u001b[38;5;21;01m.\u001b[39;00m\u001b[38;5;21;01mChem\u001b[39;00m\u001b[38;5;21;01m.\u001b[39;00m\u001b[38;5;21;01mrdmolops\u001b[39;00m \u001b[38;5;28;01mimport\u001b[39;00m \u001b[38;5;241m*\u001b[39m\n\u001b[0;32m     25\u001b[0m \u001b[38;5;28;01mfrom\u001b[39;00m \u001b[38;5;21;01mrdkit\u001b[39;00m\u001b[38;5;21;01m.\u001b[39;00m\u001b[38;5;21;01mChem\u001b[39;00m\u001b[38;5;21;01m.\u001b[39;00m\u001b[38;5;21;01mrdCIPLabeler\u001b[39;00m \u001b[38;5;28;01mimport\u001b[39;00m \u001b[38;5;241m*\u001b[39m\n",
      "\u001b[1;31mImportError\u001b[0m: DLL load failed while importing rdmolfiles: The specified procedure could not be found."
     ]
    }
   ],
   "source": [
    "import rdkit\n",
    "from rdkit import Chem\n",
    "from rdkit.Chem import AllChem, PandasTools\n",
    "from rdkit.Chem.Draw import IPythonConsole\n",
    "\n",
    "PandasTools.RenderImagesInAllDataFrames()\n",
    "IPythonConsole.ipython_useSVG = True"
   ]
  },
  {
   "cell_type": "code",
   "execution_count": null,
   "metadata": {},
   "outputs": [],
   "source": [
    "from IPython.display import HTML, SVG"
   ]
  },
  {
   "cell_type": "code",
   "execution_count": null,
   "metadata": {},
   "outputs": [],
   "source": [
    "import ccdc\n",
    "\n",
    "from ccdc.io import EntryReader, EntryWriter, MoleculeReader, MoleculeWriter\n",
    "from ccdc.entry import Entry\n",
    "from ccdc.molecule import Molecule\n",
    "from ccdc.diagram import DiagramGenerator\n",
    "from ccdc.conformer import ConformerGenerator\n",
    "from ccdc.docking import Docker"
   ]
  },
  {
   "cell_type": "markdown",
   "metadata": {},
   "source": [
    "#### Config"
   ]
  },
  {
   "cell_type": "markdown",
   "metadata": {},
   "source": [
    "Dir from which files will read and written..."
   ]
  },
  {
   "cell_type": "code",
   "execution_count": null,
   "metadata": {},
   "outputs": [],
   "source": [
    "working_dir = Path('.')"
   ]
  },
  {
   "cell_type": "markdown",
   "metadata": {},
   "source": [
    "File of input structures in CSV format, including SMILES and name column and assumed to be in current directory..."
   ]
  },
  {
   "cell_type": "code",
   "execution_count": null,
   "metadata": {},
   "outputs": [],
   "source": [
    "input_csv =  working_dir / 'input.csv'  # Required input file\n",
    "\n",
    "smiles_col, name_col = 'smiles', 'name'  # Required columns"
   ]
  },
  {
   "cell_type": "markdown",
   "metadata": {},
   "source": [
    "Output molfile for the ligand preparation process, _i.e._ the input file for GOLD...\n",
    "\n",
    "_N.B._ The file extension will determine the format written."
   ]
  },
  {
   "cell_type": "code",
   "execution_count": null,
   "metadata": {},
   "outputs": [],
   "source": [
    "output_format = 'sdf'"
   ]
  },
  {
   "cell_type": "code",
   "execution_count": null,
   "metadata": {},
   "outputs": [],
   "source": [
    "output_molfile = working_dir / f'input.{output_format}'"
   ]
  },
  {
   "cell_type": "markdown",
   "metadata": {},
   "source": [
    "Pandas display options..."
   ]
  },
  {
   "cell_type": "code",
   "execution_count": null,
   "metadata": {},
   "outputs": [],
   "source": [
    "pd.options.display.max_colwidth = 100"
   ]
  },
  {
   "cell_type": "markdown",
   "metadata": {},
   "source": [
    "Utility to improve renedering of DataFrames..."
   ]
  },
  {
   "cell_type": "code",
   "execution_count": null,
   "metadata": {},
   "outputs": [],
   "source": [
    "show_df = lambda df: df.style.set_properties(**{'text-align': 'left'})"
   ]
  },
  {
   "cell_type": "markdown",
   "metadata": {},
   "source": [
    "#### Initialization"
   ]
  },
  {
   "cell_type": "code",
   "execution_count": null,
   "metadata": {},
   "outputs": [],
   "source": [
    "# Set up and configure a logger...\n",
    "\n",
    "logger = create_logger()"
   ]
  },
  {
   "cell_type": "code",
   "execution_count": null,
   "metadata": {},
   "outputs": [],
   "source": [
    "# Set up and configure a CCDC Diagram Generator...\n",
    "\n",
    "diagram_generator = DiagramGenerator()\n",
    "\n",
    "diagram_generator.settings.return_type = 'SVG'\n",
    "diagram_generator.settings.explicit_polar_hydrogens = False\n",
    "diagram_generator.settings.shrink_symbols = False\n",
    "\n",
    "mol2html = lambda mol: HTML(diagram_generator.image(mol))  # Utility to display an API depiction"
   ]
  },
  {
   "cell_type": "code",
   "execution_count": null,
   "metadata": {},
   "outputs": [],
   "source": [
    "# Check that all required input files exist...\n",
    "\n",
    "for file in [input_csv]: assert file.exists(), f\"Error! Required file '{file}' not found.\""
   ]
  },
  {
   "cell_type": "code",
   "execution_count": null,
   "metadata": {},
   "outputs": [],
   "source": []
  },
  {
   "cell_type": "markdown",
   "metadata": {},
   "source": [
    "### Conversion of acrylamides to thiol adducts\n",
    "\n",
    "Here we illustrate the conversion of an acrylamide to an adduct."
   ]
  },
  {
   "cell_type": "markdown",
   "metadata": {},
   "source": [
    "The reaction used is defined below. Note that hydrogen counts are fully specified in both the reactant and products.\n",
    "\n",
    "A version without these counts is provided below in case you would to experiment with it."
   ]
  },
  {
   "cell_type": "code",
   "execution_count": null,
   "metadata": {},
   "outputs": [],
   "source": [
    "reaction = AllChem.ReactionFromSmarts('[O:1]=[C:2]-[CH:3]=[CH2:4].[Sv2H:5]>>[O:1]=[C:2]-[CH2:3]-[CH2:4]-[SH0:5]')\n",
    "\n",
    "reaction  # RDKit can depict reactions"
   ]
  },
  {
   "cell_type": "code",
   "execution_count": null,
   "metadata": {},
   "outputs": [],
   "source": [
    "# # Version without hydrogen counts...\n",
    "\n",
    "# reaction = AllChem.ReactionFromSmarts('[O:1]=[C:2]-[C:3]=[C:4].[Sv2:5]>>[O:1]=[C:2]-[C:3]-[C:4]-[S:5]')"
   ]
  },
  {
   "cell_type": "markdown",
   "metadata": {},
   "source": [
    "Get a simple example acrylamide..."
   ]
  },
  {
   "cell_type": "code",
   "execution_count": null,
   "metadata": {},
   "outputs": [],
   "source": [
    "mol = Chem.MolFromSmiles('CN(C)C(=O)C=C')  # Dimethyl acrylamide\n",
    "\n",
    "mol"
   ]
  },
  {
   "cell_type": "markdown",
   "metadata": {},
   "source": [
    "Instantiate the tagged thiol nucleophile...\n",
    "\n",
    "**Important!** Please note that `At` is used as a tag as it has a suitable valence and it is highly unlikely to ever occur in an input molecule: it has absolutely no chemical significance and is discarded later in the procedure."
   ]
  },
  {
   "cell_type": "code",
   "execution_count": null,
   "metadata": {},
   "outputs": [],
   "source": [
    "tag = '[At]'\n",
    "\n",
    "tagged_nucleophile = Chem.MolFromSmiles('S' + tag)"
   ]
  },
  {
   "cell_type": "markdown",
   "metadata": {},
   "source": [
    "Run the reaction..."
   ]
  },
  {
   "cell_type": "code",
   "execution_count": null,
   "metadata": {},
   "outputs": [],
   "source": [
    "products = reaction.RunReactants((mol, tagged_nucleophile))"
   ]
  },
  {
   "cell_type": "markdown",
   "metadata": {},
   "source": [
    "There is only one product, which is our adduct..."
   ]
  },
  {
   "cell_type": "code",
   "execution_count": null,
   "metadata": {},
   "outputs": [],
   "source": [
    "assert (len(products) == 1) and (len(products[0]) == 1), \"Error! No product produced by reaction.\"\n",
    "\n",
    "new_mol = products[0][0]  # Extract adduct\n",
    "\n",
    "Chem.SanitizeMol(new_mol)  # Just in case\n",
    "\n",
    "print(Chem.MolToSmiles(new_mol))\n",
    "\n",
    "new_mol"
   ]
  },
  {
   "cell_type": "code",
   "execution_count": null,
   "metadata": {},
   "outputs": [],
   "source": []
  },
  {
   "cell_type": "markdown",
   "metadata": {},
   "source": [
    "We can run same procedure on the molecules in the dataframe to inspect the results of the transformation on real molecules. "
   ]
  },
  {
   "cell_type": "code",
   "execution_count": null,
   "metadata": {},
   "outputs": [],
   "source": []
  },
  {
   "cell_type": "markdown",
   "metadata": {},
   "source": [
    "#### Load and validate input structures\n",
    "\n",
    "First we load, inspect and validate the input acrylamide structures..."
   ]
  },
  {
   "cell_type": "code",
   "execution_count": null,
   "metadata": {},
   "outputs": [],
   "source": [
    "mols_df = pd.read_csv(input_csv)\n",
    "\n",
    "assert all(col in mols_df.columns for col in [smiles_col, name_col]), f\"Error! Required column not present in '{input_csv}'.\"  # Check required cols are present\n",
    "\n",
    "PandasTools.AddMoleculeColumnToFrame(mols_df, smilesCol='smiles', molCol='mol')\n",
    "\n",
    "mols_df.shape"
   ]
  },
  {
   "cell_type": "code",
   "execution_count": null,
   "metadata": {},
   "outputs": [],
   "source": [
    "mols_df.head()"
   ]
  },
  {
   "cell_type": "markdown",
   "metadata": {},
   "source": [
    "Check all mols indeed contain an unsubstituted vinyl ketone as part of the acrylamide warhead..."
   ]
  },
  {
   "cell_type": "code",
   "execution_count": null,
   "metadata": {},
   "outputs": [],
   "source": [
    "warhead_query = Chem.MolFromSmarts('[Nv3X3]C(=O)[CH]=[CH2]')\n",
    "\n",
    "warhead_query"
   ]
  },
  {
   "cell_type": "code",
   "execution_count": null,
   "metadata": {},
   "outputs": [],
   "source": [
    "assert all(mols_df['mol'] >= warhead_query)"
   ]
  },
  {
   "cell_type": "markdown",
   "metadata": {},
   "source": [
    "Check no input molecules already contain the tag, as it is to be removed later to provide the free valence..."
   ]
  },
  {
   "cell_type": "code",
   "execution_count": null,
   "metadata": {},
   "outputs": [],
   "source": [
    "assert not any(mols_df['mol'] >= Chem.MolFromSmiles(tag))"
   ]
  },
  {
   "cell_type": "markdown",
   "metadata": {},
   "source": [
    "#### Run reaction on input structure"
   ]
  },
  {
   "cell_type": "markdown",
   "metadata": {},
   "source": [
    "Define a simple function to run the reaction on an input molecule..."
   ]
  },
  {
   "cell_type": "code",
   "execution_count": null,
   "metadata": {},
   "outputs": [],
   "source": [
    "def run_reaction(mol):\n",
    "    \n",
    "    products = reaction.RunReactants((mol, tagged_nucleophile))\n",
    "    \n",
    "    assert (len(products) == 1) and (len(products[0]) == 1), \"Error! No product produced by reaction.\"\n",
    "\n",
    "    new_mol = products[0][0]  # Extract adduct\n",
    "\n",
    "    Chem.SanitizeMol(new_mol)  # Sanitize\n",
    "\n",
    "    return new_mol"
   ]
  },
  {
   "cell_type": "markdown",
   "metadata": {},
   "source": [
    "Run the reaction on the input molecules and add them to the dataframe for easy inpection..."
   ]
  },
  {
   "cell_type": "code",
   "execution_count": null,
   "metadata": {},
   "outputs": [],
   "source": [
    "mols_df = mols_df.assign(new_mol = lambda df: df['mol'].apply(run_reaction))\n",
    "\n",
    "mols_df.shape"
   ]
  },
  {
   "cell_type": "code",
   "execution_count": null,
   "metadata": {},
   "outputs": [],
   "source": [
    "show_df(mols_df.head())"
   ]
  },
  {
   "cell_type": "markdown",
   "metadata": {},
   "source": [
    "Check that all the processed mols contain the expected tagged adduct..."
   ]
  },
  {
   "cell_type": "code",
   "execution_count": null,
   "metadata": {},
   "outputs": [],
   "source": [
    "adduct_query = Chem.MolFromSmarts(tag + '-[SX2]-[CH2]-[CH2]-C(=O)')\n",
    "\n",
    "adduct_query"
   ]
  },
  {
   "cell_type": "code",
   "execution_count": null,
   "metadata": {},
   "outputs": [],
   "source": [
    "assert all(mols_df['new_mol'] >= adduct_query)"
   ]
  },
  {
   "cell_type": "markdown",
   "metadata": {},
   "source": [
    "### The 1D to 3D conversion\n",
    "\n",
    "Here we illustrate the conversion of an adduct to a 3D structure suitable for docking."
   ]
  },
  {
   "cell_type": "code",
   "execution_count": null,
   "metadata": {},
   "outputs": [],
   "source": [
    "# Initialise a conformer generator: recall that only a single conformer is required, as GOLD performs flexible docking...\n",
    "\n",
    "conformer_generator = ConformerGenerator()\n",
    "\n",
    "conformer_generator.settings.max_conformers = 1 "
   ]
  },
  {
   "cell_type": "markdown",
   "metadata": {},
   "source": [
    "We will continue using our simple example..."
   ]
  },
  {
   "cell_type": "code",
   "execution_count": null,
   "metadata": {},
   "outputs": [],
   "source": [
    "new_mol"
   ]
  },
  {
   "cell_type": "markdown",
   "metadata": {},
   "source": [
    "Convert 1D RDKit mol to 3D API mol _via_ a string representation (we use a molblock here, but could also use SMILES)...\n",
    "...\n",
    "\n",
    "Note that hydrogens are added automatically by the conformer generator and that we take a copy of the resulting molecule as we need to edit this and this cannot be done to conformers by default."
   ]
  },
  {
   "cell_type": "code",
   "execution_count": null,
   "metadata": {},
   "outputs": [],
   "source": [
    "molblock = Chem.MolToMolBlock(new_mol)  # String representation from RDKit molecule\n",
    "\n",
    "mol = Molecule.from_string(molblock, format='mol')  # 1D API molecule\n",
    "\n",
    "mol = conformer_generator.generate(mol)[0].molecule.copy()  # Editable 3D molecule"
   ]
  },
  {
   "cell_type": "markdown",
   "metadata": {},
   "source": [
    "Note that the linker atom is tagged..."
   ]
  },
  {
   "cell_type": "code",
   "execution_count": null,
   "metadata": {},
   "outputs": [],
   "source": [
    "mol2html(mol)  # 2D depiction of 3D mol"
   ]
  },
  {
   "cell_type": "markdown",
   "metadata": {},
   "source": [
    "To remove the tag and leave a 'bare' linker atom, we will use a [SubstructureSearch](https://downloads.ccdc.cam.ac.uk/documentation/API/descriptive_docs/substructure_searching.html#setting-up-and-running-a-substructure-search) object..."
   ]
  },
  {
   "cell_type": "code",
   "execution_count": null,
   "metadata": {},
   "outputs": [],
   "source": [
    "tag_searcher = ccdc.search.SubstructureSearch()\n",
    "\n",
    "_ = tag_searcher.add_substructure(ccdc.search.SMARTSSubstructure(tag))"
   ]
  },
  {
   "cell_type": "code",
   "execution_count": null,
   "metadata": {},
   "outputs": [],
   "source": [
    "# As the tag was present in the original mol (see above), only one, single-atom substructure can be present in the hit\n",
    "\n",
    "tag_matches = tag_searcher.search(mol) \n",
    "\n",
    "assert len(tag_matches) == 1 and len(tag_matches[0].match_atoms()) == 1  # Should be a single match consisting of a single atom\n",
    "\n",
    "tag_atom = tag_matches[0].match_atoms()[0]  # Tag atom\n",
    "\n",
    "mol.remove_atom(tag_atom)  # Remove tag atom"
   ]
  },
  {
   "cell_type": "markdown",
   "metadata": {},
   "source": [
    "Note that the linker atom is now 'bare', _i.e._ has an unfilled valence..."
   ]
  },
  {
   "cell_type": "code",
   "execution_count": null,
   "metadata": {},
   "outputs": [],
   "source": [
    "mol2html(mol)  # 2D depiction"
   ]
  },
  {
   "cell_type": "markdown",
   "metadata": {},
   "source": [
    "This molecule is now ready for covalent docking, so write out a molfile for input into GOLD..."
   ]
  },
  {
   "cell_type": "code",
   "execution_count": null,
   "metadata": {},
   "outputs": [],
   "source": [
    "with EntryWriter('test.mol') as writer:\n",
    "    \n",
    "    writer.write(mol)"
   ]
  },
  {
   "cell_type": "markdown",
   "metadata": {},
   "source": [
    "Inspect molecule in Hermes..."
   ]
  },
  {
   "cell_type": "code",
   "execution_count": null,
   "metadata": {},
   "outputs": [],
   "source": [
    "status = subprocess.Popen([hermes_exe.as_posix(), 'test.mol'])  # Start Hermes in background"
   ]
  },
  {
   "cell_type": "code",
   "execution_count": null,
   "metadata": {},
   "outputs": [],
   "source": [
    "# os.unlink('test.mol')  # Tidy up"
   ]
  },
  {
   "cell_type": "markdown",
   "metadata": {},
   "source": [
    "If, in Hermes, you label the atoms with their ID numbers (`Right-Click > Labels > Label by Atom File Index`) you will see that the S linker atom is labelled 5. This is because of the way the molecule is prepared (see the numbering of the reaction SMARTS above) and will be the same for all molecules prepared this way. This fact can be used to drive the covalent docking: see the input file `gold_atom.conf` for an example of how to do this (see also the companion notebook [Covalent_Complexes‑atom](02a_Covalent_Complexes-atom.ipynb)).\n",
    "\n",
    "The docking may also be driven by using a substructure: see the input file `gold_substructure.conf` for an example of how to do this (see also the companion notebook [Covalent_Complexes‑substructure](02b_Covalent_Complexes-substructure.ipynb)). As noted above, this substructure-based method is usually to be preferred as it is somewhat more general: however, if you wish to use the atom-based method then thre is no issue with it if the molecules are properly prepared."
   ]
  },
  {
   "cell_type": "code",
   "execution_count": null,
   "metadata": {},
   "outputs": [],
   "source": []
  },
  {
   "cell_type": "markdown",
   "metadata": {},
   "source": [
    "### The complete process\n",
    "\n",
    "Here we run through the whole process in a way that could easily be extracted from the notebook and implemented as a standalone script. Such a script could then also be modified to process other systems.\n",
    "\n",
    "We do not use Pandas here as it is not necessary and would introduce an unecessary dependency for the script. Note that error checking is fairly lightweight and a script could (and should) easily be made more rubust."
   ]
  },
  {
   "cell_type": "markdown",
   "metadata": {},
   "source": [
    "Instantiate the tagged nucleophile..."
   ]
  },
  {
   "cell_type": "code",
   "execution_count": null,
   "metadata": {},
   "outputs": [],
   "source": [
    "tag = '[At]'\n",
    "\n",
    "tagged_nucleophile = Chem.MolFromSmiles('S' + tag)  # Thiol only"
   ]
  },
  {
   "cell_type": "markdown",
   "metadata": {},
   "source": [
    "Initialise a substructure searcher for removing the tag..."
   ]
  },
  {
   "cell_type": "code",
   "execution_count": null,
   "metadata": {},
   "outputs": [],
   "source": [
    "tag_searcher = ccdc.search.SubstructureSearch()\n",
    "\n",
    "_ = tag_searcher.add_substructure(ccdc.search.SMARTSSubstructure(tag))"
   ]
  },
  {
   "cell_type": "markdown",
   "metadata": {},
   "source": [
    "Initialise the conformer generator..."
   ]
  },
  {
   "cell_type": "code",
   "execution_count": null,
   "metadata": {},
   "outputs": [],
   "source": [
    "conformer_generator = ConformerGenerator()\n",
    "\n",
    "conformer_generator.settings.max_conformers = 1  # GOLD only requires a single conformer"
   ]
  },
  {
   "cell_type": "markdown",
   "metadata": {},
   "source": [
    "Read the input CSV file, process the SMILES and write the processed mols to an output SDF file...."
   ]
  },
  {
   "cell_type": "code",
   "execution_count": null,
   "metadata": {},
   "outputs": [],
   "source": [
    "MAX_MOLS = 10  # For demo, limit number to process for speed"
   ]
  },
  {
   "cell_type": "code",
   "execution_count": null,
   "metadata": {},
   "outputs": [],
   "source": [
    "logger.info(f\"Starting to process input file '{input_csv}'...\")\n",
    "\n",
    "with input_csv.open() as file:  # Open input CSV file for reading\n",
    "\n",
    "    reader = csv.DictReader(file)  # Initialise CSV reader\n",
    "\n",
    "    assert all(col in reader.fieldnames for col in [smiles_col, name_col])  # Check required columns are present\n",
    "\n",
    "    with EntryWriter(str(output_molfile)) as writer:  # Open output molfile file for writing\n",
    "\n",
    "        for mol_n, record in enumerate(reader, 1):\n",
    "\n",
    "            smiles, name = record[smiles_col], record[name_col]  # Extract required data from record\n",
    "\n",
    "            # Convert input SMILES to 2D RDKit mol...\n",
    "\n",
    "            input_mol = Chem.MolFromSmiles(smiles)\n",
    "\n",
    "            # Tranform input molecule to adduct with linker tagged...\n",
    "\n",
    "            products = reaction.RunReactants((input_mol, tagged_nucleophile))\n",
    "\n",
    "            if not (len(products) == 1) and (len(products[0]) == 1):\n",
    "\n",
    "                logger.warning(f\"Error! No product produced by reaction for mol '{name}'.\")\n",
    "\n",
    "                continue\n",
    "\n",
    "            new_mol = products[0][0]  # Extract adduct\n",
    "\n",
    "            Chem.SanitizeMol(new_mol)  # Precautionary\n",
    "\n",
    "            # Convert 2D RDKit mol to 3D API mol...\n",
    " \n",
    "            molblock = Chem.MolToMolBlock(new_mol)  # String representation from RDKit molecule\n",
    "\n",
    "            mol = Molecule.from_string(molblock, format='mol')  # 2D API molecule\n",
    "\n",
    "            mol = conformer_generator.generate(mol)[0].molecule.copy()  # Editable 3D molecule\n",
    "\n",
    "            mol.identifier = name  # The identifier gets written as the name in the the mol block header\n",
    "\n",
    "            # Remove the tag to leave a 'bare' linker, as required by GOLD...\n",
    "\n",
    "            tag_matches = tag_searcher.search(mol)  # Should be a single match consisting of a single atom\n",
    "\n",
    "            mol.remove_atom(tag_matches[0].match_atoms()[0])  # Remove tag atom\n",
    "\n",
    "            # Write to file, copying over any input properties...\n",
    "\n",
    "            writer.write(Entry.from_molecule(mol, index=mol_n, **record))\n",
    "\n",
    "            logger.info(f\"{mol_n:3d}) completed mol '{name}'.\")\n",
    "\n",
    "            if mol_n == MAX_MOLS: break  # For demo, limit number to process for speed\n",
    "\n",
    "logger.info(f\"Finished.\")"
   ]
  },
  {
   "cell_type": "markdown",
   "metadata": {},
   "source": [
    "A docking may now be run with one of the supplied GOLD configuration files and the ligands prepared here.\n",
    "\n",
    "This can be done in Hermes: `GOLD > Setup and Run a Docking > Load Existing > gold.conf`."
   ]
  },
  {
   "cell_type": "markdown",
   "metadata": {},
   "source": [
    "Or the GOLD executable could be used:"
   ]
  },
  {
   "cell_type": "markdown",
   "metadata": {},
   "source": [
    "1) Run docking using atom-based method (then see companion notebook [Covalent_Complexes‑atom](02a_Covalent_Complexes-atom.ipynb))..."
   ]
  },
  {
   "cell_type": "code",
   "execution_count": null,
   "metadata": {},
   "outputs": [],
   "source": [
    "%%time\n",
    "\n",
    "conf_file = 'gold_atom.conf'\n",
    "settings = Docker.Settings.from_file(conf_file)\n",
    "\n",
    "docker = Docker(settings=settings)\n",
    "\n",
    "results = docker.dock()\n",
    "\n",
    "# Examine the results in the GUI\n",
    "\n",
    "run_hermes(conf_file)\n",
    "\n"
   ]
  },
  {
   "cell_type": "markdown",
   "metadata": {},
   "source": [
    "2) Run docking using the (generally preferred) substructure-based method (then see companion notebook [Covalent_Complexes‑substructure](02b_Covalent_Complexes-substructure.ipynb))..."
   ]
  },
  {
   "cell_type": "code",
   "execution_count": null,
   "metadata": {},
   "outputs": [],
   "source": [
    "%%time\n",
    "\n",
    "conf_file = 'gold_substructure.conf'\n",
    "\n",
    "settings = Docker.Settings.from_file(conf_file)\n",
    "\n",
    "docker = Docker(settings=settings)\n",
    "\n",
    "results = docker.dock()\n",
    "\n",
    "# Examine the results in the GUI\n",
    "\n",
    "run_hermes(conf_file)"
   ]
  },
  {
   "cell_type": "code",
   "execution_count": null,
   "metadata": {},
   "outputs": [],
   "source": []
  }
 ],
 "metadata": {
  "kernelspec": {
   "display_name": "Python 3 (ipykernel)",
   "language": "python",
   "name": "python3"
  },
  "language_info": {
   "codemirror_mode": {
    "name": "ipython",
    "version": 3
   },
   "file_extension": ".py",
   "mimetype": "text/x-python",
   "name": "python",
   "nbconvert_exporter": "python",
   "pygments_lexer": "ipython3",
   "version": "3.9.16"
  }
 },
 "nbformat": 4,
 "nbformat_minor": 4
}
