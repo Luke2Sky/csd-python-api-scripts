{
 "cells": [
  {
   "cell_type": "markdown",
   "metadata": {},
   "source": [
    "```\n",
    "This script can be used for any purpose without limitation subject to the\n",
    "conditions at http://www.ccdc.cam.ac.uk/Community/Pages/Licences/v2.aspx\n",
    "\n",
    "This permission notice and the following statement of attribution must be\n",
    "included in all copies or substantial portions of this script.\n",
    "\n",
    "2022-06-01: Made available by the Cambridge Crystallographic Data Centre.\n",
    "\n",
    "```"
   ]
  },
  {
   "cell_type": "markdown",
   "metadata": {
    "tags": []
   },
   "source": [
    "# Maximum Common Substructure searching the CSD\n",
    "\n",
    "The [Descriptors API](https://downloads.ccdc.cam.ac.uk/documentation/API/modules/descriptors_api.html) contains a [Maximum Common Substructure](https://downloads.ccdc.cam.ac.uk/documentation/API/modules/descriptors_api.html?highlight=mcs#ccdc.descriptors.MolecularDescriptors.MaximumCommonSubstructure) (MCS) tool, which we will illustrate in this Notebook.\n",
    "\n",
    "The Maximum Common Substructure algorithm is intrinsically slow, so cannot practically be used for database searching on it's own. We thus first do a similarity search and then compute the MCS for the hitlist. See [this](02_Similarity_searching_the_CSD.ipynb) notebook for more details of Similarity searching _via_ the CSD API.\n",
    "\n",
    "The Tanimoto similarity measure is currently used for the initial search. Note that this is the conventional similarity measure based on a 2D molecular fingerprint: no 3D information is used here. The fingerprint used is path-based and related to the old [Daylight fingerprint](https://daylight.com/dayhtml/doc/theory/theory.finger.html): more details are given in the following publication: https://journals.iucr.org/j/issues/2010/02/00/kk5057/index.html.\n",
    "\n",
    "Now, Tanimoto similarity searching is not the ideal precursor to MCS matching as it is a whole-molecule measure. The Tversky similarity measure is recognized as being potentially more useful in conjunction with MCS: some example references are given below... \n",
    "\n",
    "* https://link.springer.com/article/10.1007/s10822-016-9935-y\n",
    "* https://pubs.acs.org/doi/abs/10.1021/ci5005702\n",
    "* https://www.frontiersin.org/articles/10.3389/fphar.2016.00266/full\n",
    "* https://link.springer.com/article/10.1186/s13321-017-0198-y\n",
    "\n",
    "Unfortunately, we do not yet have Tversky similarity implemented in our API, so this cannot be investigated further at this time. However, this feature has now been requested and, as it will not be difficult to implement, it should be available fairly soon. When this is available this workflow will be revisisted."
   ]
  },
  {
   "cell_type": "code",
   "execution_count": null,
   "metadata": {},
   "outputs": [],
   "source": [
    "from platform import platform\n",
    "import sys\n",
    "import os\n",
    "from pathlib import Path\n",
    "import logging\n",
    "\n",
    "import warnings"
   ]
  },
  {
   "cell_type": "code",
   "execution_count": null,
   "metadata": {},
   "outputs": [],
   "source": [
    "import pandas as pd\n",
    "\n",
    "import plotly.express as px"
   ]
  },
  {
   "cell_type": "code",
   "execution_count": null,
   "metadata": {},
   "outputs": [],
   "source": [
    "from IPython.display import HTML\n",
    "\n",
    "from IPython.core.interactiveshell import InteractiveShell\n",
    "InteractiveShell.ast_node_interactivity = 'all'"
   ]
  },
  {
   "cell_type": "code",
   "execution_count": null,
   "metadata": {},
   "outputs": [],
   "source": [
    "import ccdc\n",
    "from ccdc.diagram import DiagramGenerator\n",
    "from ccdc.io import MoleculeReader\n",
    "from ccdc.search import SimilaritySearch\n",
    "from ccdc.descriptors import MolecularDescriptors"
   ]
  },
  {
   "cell_type": "code",
   "execution_count": null,
   "metadata": {},
   "outputs": [],
   "source": []
  },
  {
   "cell_type": "markdown",
   "metadata": {},
   "source": [
    "### Configuration"
   ]
  },
  {
   "cell_type": "code",
   "execution_count": null,
   "metadata": {},
   "outputs": [],
   "source": []
  },
  {
   "cell_type": "markdown",
   "metadata": {},
   "source": [
    "### Initialization"
   ]
  },
  {
   "cell_type": "code",
   "execution_count": null,
   "metadata": {},
   "outputs": [],
   "source": [
    "logger = logging.getLogger(__name__)\n",
    "\n",
    "if not logger.hasHandlers():\n",
    "    handler = logging.StreamHandler()\n",
    "    handler.setFormatter(logging.Formatter('[%(asctime)s %(levelname)-7s] %(message)s', datefmt='%y-%m-%d %H:%M:%S'))\n",
    "    logger.addHandler(handler)\n",
    "    logger.setLevel(logging.INFO)"
   ]
  },
  {
   "cell_type": "code",
   "execution_count": null,
   "metadata": {},
   "outputs": [],
   "source": [
    "# Information useful for debugging...\n",
    "\n",
    "logger.info(f\"\"\"\n",
    "Platform:                     {platform()}\n",
    "\n",
    "Python exe:                   {sys.executable}\n",
    "Python version:               {'.'.join(str(x) for x in sys.version_info[:3])}\n",
    "\n",
    "CSD version:                  {ccdc.io.csd_version()}\n",
    "CSD directory:                {ccdc.io.csd_directory()}\n",
    "API version:                  {ccdc.__version__}\n",
    "\n",
    "CSDHOME:                      {os.environ.get('CSDHOME', 'Not set')}\n",
    "CCDC_LICENSING_CONFIGURATION: {os.environ.get('CCDC_LICENSING_CONFIGURATION', 'Not set')}\n",
    "\"\"\")"
   ]
  },
  {
   "cell_type": "markdown",
   "metadata": {},
   "source": [
    "Set up a CCDC Diagram Generator..."
   ]
  },
  {
   "cell_type": "code",
   "execution_count": null,
   "metadata": {},
   "outputs": [],
   "source": [
    "diagram_generator = DiagramGenerator()\n",
    "\n",
    "diagram_generator.settings.return_type = 'SVG'\n",
    "diagram_generator.settings.explicit_polar_hydrogens = False\n",
    "diagram_generator.settings.shrink_symbols = False"
   ]
  },
  {
   "cell_type": "markdown",
   "metadata": {},
   "source": [
    "Utility to help with display in JupyterLab..."
   ]
  },
  {
   "cell_type": "code",
   "execution_count": null,
   "metadata": {},
   "outputs": [],
   "source": [
    "show_df = lambda df: HTML(df.to_html(escape=False).replace(r'\\n', ''))\n",
    "\n",
    "# show_df = lambda df: df.style.set_properties(**{'text-align': 'left'})"
   ]
  },
  {
   "cell_type": "code",
   "execution_count": null,
   "metadata": {},
   "outputs": [],
   "source": []
  },
  {
   "cell_type": "markdown",
   "metadata": {},
   "source": [
    "<a id=\"mol_prep\"></a>\n",
    "\n",
    "### Query Molecule Preparation\n",
    "\n",
    "We will use Lapatinib as our query molecule.\n",
    "\n",
    "First, we use a query loaded from a molfile. As this was generated using MarvinSketch and does not have hydrogens added, we add hydrogens and normalize the bond types to CSD conventions..."
   ]
  },
  {
   "cell_type": "code",
   "execution_count": null,
   "metadata": {},
   "outputs": [],
   "source": [
    "with MoleculeReader('Lapatinib.mol') as reader:\n",
    "    \n",
    "    query_mol = reader[0]\n",
    "\n",
    "query_mol.add_hydrogens()\n",
    "\n",
    "query_mol.assign_bond_types(which='all')"
   ]
  },
  {
   "cell_type": "code",
   "execution_count": null,
   "metadata": {},
   "outputs": [],
   "source": [
    "HTML(diagram_generator.image(query_mol))"
   ]
  },
  {
   "cell_type": "code",
   "execution_count": null,
   "metadata": {},
   "outputs": [],
   "source": []
  },
  {
   "cell_type": "markdown",
   "metadata": {},
   "source": [
    "### Similarity Searching\n",
    "\n",
    "First, we will use the Search API to search the CSD using a similarity query. "
   ]
  },
  {
   "cell_type": "code",
   "execution_count": null,
   "metadata": {},
   "outputs": [],
   "source": [
    "threshold = 0.5  # Tanimoto similarity threshold to use in the search"
   ]
  },
  {
   "cell_type": "markdown",
   "metadata": {},
   "source": [
    "Instantiate a similarity-searcher object..."
   ]
  },
  {
   "cell_type": "code",
   "execution_count": null,
   "metadata": {},
   "outputs": [],
   "source": [
    "searcher = SimilaritySearch(query_mol, threshold=threshold)"
   ]
  },
  {
   "cell_type": "markdown",
   "metadata": {},
   "source": [
    "We can set CSD search filters _via_ the searcher's [settings](https://downloads.ccdc.cam.ac.uk/documentation/API/modules/search_api.html#ccdc.search.Search.Settings) object; this ensures hits are of sufficient resolution _etc._ (we use a 'subroutine' to do this as we'll need to apply these settings again below)..."
   ]
  },
  {
   "cell_type": "code",
   "execution_count": null,
   "metadata": {},
   "outputs": [],
   "source": [
    "def set_search_filters(searcher):\n",
    "    \n",
    "    settings = searcher.settings\n",
    "    \n",
    "    settings.has_3d_coordinates = True\n",
    "    settings.max_r_factor       = 5  # NB. Percentage not fraction; 0.05 in Conquest\n",
    "    settings.no_disorder        = 'Non-hydrogen'\n",
    "    settings.no_errors          = True\n",
    "    settings.not_polymeric      = True\n",
    "    settings.no_ions            = False\n",
    "    settings.no_powder          = True\n",
    "    settings.only_organic       = True"
   ]
  },
  {
   "cell_type": "code",
   "execution_count": null,
   "metadata": {},
   "outputs": [],
   "source": [
    "set_search_filters(searcher)"
   ]
  },
  {
   "cell_type": "markdown",
   "metadata": {},
   "source": [
    "Search the CSD using the similarity query..."
   ]
  },
  {
   "cell_type": "code",
   "execution_count": null,
   "metadata": {},
   "outputs": [],
   "source": [
    "%%time\n",
    "\n",
    "hits = searcher.search()\n",
    "\n",
    "len(hits)"
   ]
  },
  {
   "cell_type": "markdown",
   "metadata": {},
   "source": [
    "Examine a table of the hits..."
   ]
  },
  {
   "cell_type": "code",
   "execution_count": null,
   "metadata": {},
   "outputs": [],
   "source": [
    "hits_df = pd.DataFrame(\n",
    "            data=[(hit.identifier, hit.similarity, hit.entry.synonyms[0] if hit.entry.synonyms else '', diagram_generator.image(hit.molecule)) for hit in hits],\n",
    "            columns=['Refcode', 'Similarity', 'Name', 'Depiction']\n",
    "            )\n",
    "\n",
    "hits_df.shape"
   ]
  },
  {
   "cell_type": "code",
   "execution_count": null,
   "metadata": {
    "tags": []
   },
   "outputs": [],
   "source": [
    "show_df(hits_df)"
   ]
  },
  {
   "cell_type": "code",
   "execution_count": null,
   "metadata": {},
   "outputs": [],
   "source": []
  },
  {
   "cell_type": "markdown",
   "metadata": {},
   "source": [
    "### MCS matching of similarity-search hits\n",
    "\n",
    "We will now look at MCS matching on the hits from the similarity search. This set is of a more tractable size, and should contains molecules with relevant structures."
   ]
  },
  {
   "cell_type": "markdown",
   "metadata": {},
   "source": [
    "First, we instantiate an MCS searcher object..."
   ]
  },
  {
   "cell_type": "code",
   "execution_count": null,
   "metadata": {},
   "outputs": [],
   "source": [
    "mcs = MolecularDescriptors.MaximumCommonSubstructure()"
   ]
  },
  {
   "cell_type": "markdown",
   "metadata": {},
   "source": [
    "Use object to examine the first hit..."
   ]
  },
  {
   "cell_type": "code",
   "execution_count": null,
   "metadata": {},
   "outputs": [],
   "source": [
    "hit = hits[0]"
   ]
  },
  {
   "cell_type": "markdown",
   "metadata": {},
   "source": [
    "This is a salt, and therefor contains multiple components..."
   ]
  },
  {
   "cell_type": "code",
   "execution_count": null,
   "metadata": {},
   "outputs": [],
   "source": [
    "HTML(diagram_generator.image(hit.molecule))"
   ]
  },
  {
   "cell_type": "markdown",
   "metadata": {},
   "source": [
    "For convenience, extract the list of component molecules from the hit molecule..."
   ]
  },
  {
   "cell_type": "code",
   "execution_count": null,
   "metadata": {},
   "outputs": [],
   "source": [
    "mols = hit.molecule.components\n",
    "\n",
    "len(mols)"
   ]
  },
  {
   "cell_type": "markdown",
   "metadata": {},
   "source": [
    "We will examine these components individually.\n",
    "\n",
    "The first component in the hit is the bioactive component..."
   ]
  },
  {
   "cell_type": "code",
   "execution_count": null,
   "metadata": {},
   "outputs": [],
   "source": [
    "atoms, bonds = mcs.search(query_mol, mols[0])\n",
    "\n",
    "len(atoms), len(bonds)"
   ]
  },
  {
   "cell_type": "markdown",
   "metadata": {},
   "source": [
    "Note that the values returned by the MCS [search](https://downloads.ccdc.cam.ac.uk/documentation/API/modules/descriptors_api.html?highlight=maximumcommonsubstructure#ccdc.descriptors.MolecularDescriptors.MaximumCommonSubstructure.search) are tuple of pairs of matching atoms or bonds in the MCS shared by the query and the hit. The atoms can be used to highlight the MCS in the query and hit using the Diagram API [diagram generator](https://downloads.ccdc.cam.ac.uk/documentation/API/modules/diagram_api.html?highlight=diagram_generator#ccdc.diagram.DiagramGenerator)."
   ]
  },
  {
   "cell_type": "markdown",
   "metadata": {},
   "source": [
    "Query..."
   ]
  },
  {
   "cell_type": "code",
   "execution_count": null,
   "metadata": {},
   "outputs": [],
   "source": [
    "HTML(diagram_generator.image(query_mol, highlight_atoms=[x[0] for x in atoms]))"
   ]
  },
  {
   "cell_type": "markdown",
   "metadata": {},
   "source": [
    "Hit..."
   ]
  },
  {
   "cell_type": "code",
   "execution_count": null,
   "metadata": {},
   "outputs": [],
   "source": [
    "HTML(diagram_generator.image(mols[0], highlight_atoms=[x[1] for x in atoms]))"
   ]
  },
  {
   "cell_type": "markdown",
   "metadata": {},
   "source": [
    "The second component in the hit is the counterion; the MCS obtained is thus not really meaningful..."
   ]
  },
  {
   "cell_type": "code",
   "execution_count": null,
   "metadata": {},
   "outputs": [],
   "source": [
    "atoms, bonds = mcs.search(query_mol, mols[1])\n",
    "\n",
    "len(atoms), len(bonds)"
   ]
  },
  {
   "cell_type": "markdown",
   "metadata": {},
   "source": [
    "Query..."
   ]
  },
  {
   "cell_type": "code",
   "execution_count": null,
   "metadata": {},
   "outputs": [],
   "source": [
    "HTML(diagram_generator.image(query_mol, highlight_atoms=[x[0] for x in atoms]))"
   ]
  },
  {
   "cell_type": "markdown",
   "metadata": {},
   "source": [
    "Hit..."
   ]
  },
  {
   "cell_type": "code",
   "execution_count": null,
   "metadata": {},
   "outputs": [],
   "source": [
    "HTML(diagram_generator.image(mols[1], highlight_atoms=[x[1] for x in atoms]))"
   ]
  },
  {
   "cell_type": "markdown",
   "metadata": {},
   "source": [
    "Thus, the MCS can be used to identify the 'best' component, _i.e._ that which shares the largest MCS with the query mol.\n",
    "\n",
    "Let us make another table of the hits, this time using MCS-based depictions like those shown above.\n",
    "\n",
    "For this, we will use a utility function to find the best component for each hit, as described above..."
   ]
  },
  {
   "cell_type": "code",
   "execution_count": null,
   "metadata": {},
   "outputs": [],
   "source": [
    "# Count atoms in query for use in calculating 'MCS fraction' (N.B. this is all atoms including hydrogens)...\n",
    "\n",
    "n_query_atoms = len(query_mol.atoms)\n",
    "\n",
    "n_query_atoms"
   ]
  },
  {
   "cell_type": "code",
   "execution_count": null,
   "metadata": {},
   "outputs": [],
   "source": [
    "def get_best(hit):\n",
    "    \n",
    "    mcs_size, best_mol, best_atoms = 0, None, None\n",
    "\n",
    "    for mol in hit.molecule.components:\n",
    "\n",
    "        atoms, bonds = mcs.search(query_mol, mol)  # Tuples of pairs of matching atoms and bonds\n",
    "        \n",
    "        if len(atoms) > mcs_size: \n",
    "\n",
    "            mcs_size = len(atoms)\n",
    "\n",
    "            best_mol, best_atoms = mol, atoms\n",
    "            \n",
    "    mcs_fraction = round(mcs_size / n_query_atoms, 2)\n",
    "            \n",
    "    query_image = diagram_generator.image(query_mol, highlight_atoms=[x[0] for x in best_atoms])\n",
    "    \n",
    "    best_image  = diagram_generator.image(best_mol, highlight_atoms=[x[1] for x in best_atoms])\n",
    "            \n",
    "    return mcs_size, mcs_fraction, query_image, best_image"
   ]
  },
  {
   "cell_type": "markdown",
   "metadata": {},
   "source": [
    "Test the utility fucntion on the first hit..."
   ]
  },
  {
   "cell_type": "code",
   "execution_count": null,
   "metadata": {},
   "outputs": [],
   "source": [
    "mcs_size, mcs_fraction, query_image, best_image = get_best(hit)"
   ]
  },
  {
   "cell_type": "code",
   "execution_count": null,
   "metadata": {},
   "outputs": [],
   "source": [
    "mcs_size, mcs_fraction"
   ]
  },
  {
   "cell_type": "code",
   "execution_count": null,
   "metadata": {},
   "outputs": [],
   "source": [
    "HTML(query_image)"
   ]
  },
  {
   "cell_type": "code",
   "execution_count": null,
   "metadata": {},
   "outputs": [],
   "source": [
    "HTML(best_image)"
   ]
  },
  {
   "cell_type": "markdown",
   "metadata": {},
   "source": [
    "This seems satisfactory, so let's create the table..."
   ]
  },
  {
   "cell_type": "code",
   "execution_count": null,
   "metadata": {},
   "outputs": [],
   "source": [
    "%%time\n",
    "\n",
    "hits_df = pd.DataFrame(\n",
    "            data=[(hit.identifier, hit.similarity,  hit.entry.synonyms[0] if hit.entry.synonyms else '', *get_best(hit)) for hit in hits],\n",
    "            columns=['Refcode', 'Similarity', 'Name', 'MCS size', 'MCS fraction', 'Query', 'MCS Hit']\n",
    "            )\n",
    "\n",
    "hits_df.shape"
   ]
  },
  {
   "cell_type": "code",
   "execution_count": null,
   "metadata": {},
   "outputs": [],
   "source": [
    "show_df(hits_df)"
   ]
  },
  {
   "cell_type": "code",
   "execution_count": null,
   "metadata": {},
   "outputs": [],
   "source": []
  },
  {
   "cell_type": "markdown",
   "metadata": {},
   "source": [
    "We could order the table by other metrics that the initial similarity, such as the MCS fraction..."
   ]
  },
  {
   "cell_type": "code",
   "execution_count": null,
   "metadata": {},
   "outputs": [],
   "source": [
    "# show_df(hits_df.sort_values('MCS fraction', ascending=False))"
   ]
  },
  {
   "cell_type": "code",
   "execution_count": null,
   "metadata": {},
   "outputs": [],
   "source": []
  },
  {
   "cell_type": "markdown",
   "metadata": {},
   "source": [
    "We could also potentially plot summary figures..."
   ]
  },
  {
   "cell_type": "code",
   "execution_count": null,
   "metadata": {},
   "outputs": [],
   "source": [
    "with warnings.catch_warnings():\n",
    "    warnings.filterwarnings(action='ignore', category=DeprecationWarning)  # Ignore current 'distutils Version classes are deprecated' warning\n",
    "    \n",
    "    px.scatter(hits_df, x='Similarity', y='MCS fraction')"
   ]
  },
  {
   "cell_type": "code",
   "execution_count": null,
   "metadata": {},
   "outputs": [],
   "source": []
  }
 ],
 "metadata": {
  "kernelspec": {
   "display_name": "Python 3 (ipykernel)",
   "language": "python",
   "name": "python3"
  },
  "language_info": {
   "codemirror_mode": {
    "name": "ipython",
    "version": 3
   },
   "file_extension": ".py",
   "mimetype": "text/x-python",
   "name": "python",
   "nbconvert_exporter": "python",
   "pygments_lexer": "ipython3",
   "version": "3.7.13"
  }
 },
 "nbformat": 4,
 "nbformat_minor": 4
}
