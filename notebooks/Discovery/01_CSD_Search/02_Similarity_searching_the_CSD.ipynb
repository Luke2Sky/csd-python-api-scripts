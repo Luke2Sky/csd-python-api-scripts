{
 "cells": [
  {
   "cell_type": "markdown",
   "metadata": {},
   "source": [
    "```\n",
    "This script can be used for any purpose without limitation subject to the\n",
    "conditions at http://www.ccdc.cam.ac.uk/Community/Pages/Licences/v2.aspx\n",
    "\n",
    "This permission notice and the following statement of attribution must be\n",
    "included in all copies or substantial portions of this script.\n",
    "\n",
    "2022-06-01: Made available by the Cambridge Crystallographic Data Centre.\n",
    "\n",
    "```"
   ]
  },
  {
   "cell_type": "markdown",
   "metadata": {},
   "source": [
    "# Similarity searching the CSD\n",
    "\n",
    "The Tanimoto similarity measure is currently used for similarity searching. Note that this is the conventional similarity measure based on a 2D molecular fingerprint: no 3D information is used here. The fingerprint used is path-based and related to the old [Daylight fingerprint](https://daylight.com/dayhtml/doc/theory/theory.finger.html): more details are given in the following publication: https://journals.iucr.org/j/issues/2010/02/00/kk5057/index.html."
   ]
  },
  {
   "cell_type": "code",
   "execution_count": null,
   "metadata": {},
   "outputs": [],
   "source": [
    "from platform import platform\n",
    "import sys\n",
    "import os\n",
    "from pathlib import Path\n",
    "import logging\n",
    "\n",
    "import warnings"
   ]
  },
  {
   "cell_type": "code",
   "execution_count": null,
   "metadata": {},
   "outputs": [],
   "source": [
    "import pandas as pd"
   ]
  },
  {
   "cell_type": "code",
   "execution_count": null,
   "metadata": {},
   "outputs": [],
   "source": [
    "from IPython.display import HTML\n",
    "\n",
    "from IPython.core.interactiveshell import InteractiveShell\n",
    "InteractiveShell.ast_node_interactivity = 'all'"
   ]
  },
  {
   "cell_type": "code",
   "execution_count": null,
   "metadata": {},
   "outputs": [],
   "source": [
    "import ccdc\n",
    "from ccdc.diagram import DiagramGenerator\n",
    "from ccdc.io import MoleculeReader\n",
    "from ccdc.molecule import Molecule\n",
    "from ccdc.search import SimilaritySearch\n",
    "from ccdc.conformer import ConformerGenerator"
   ]
  },
  {
   "cell_type": "code",
   "execution_count": null,
   "metadata": {},
   "outputs": [],
   "source": []
  },
  {
   "cell_type": "markdown",
   "metadata": {},
   "source": [
    "### Configuration"
   ]
  },
  {
   "cell_type": "code",
   "execution_count": null,
   "metadata": {},
   "outputs": [],
   "source": []
  },
  {
   "cell_type": "markdown",
   "metadata": {},
   "source": [
    "### Initialization"
   ]
  },
  {
   "cell_type": "code",
   "execution_count": null,
   "metadata": {},
   "outputs": [],
   "source": [
    "logger = logging.getLogger(__name__)\n",
    "\n",
    "if not logger.hasHandlers():\n",
    "    handler = logging.StreamHandler()\n",
    "    handler.setFormatter(logging.Formatter('[%(asctime)s %(levelname)-7s] %(message)s', datefmt='%y-%m-%d %H:%M:%S'))\n",
    "    logger.addHandler(handler)\n",
    "    logger.setLevel(logging.INFO)"
   ]
  },
  {
   "cell_type": "code",
   "execution_count": null,
   "metadata": {},
   "outputs": [],
   "source": [
    "# Information useful for debugging...\n",
    "\n",
    "logger.info(f\"\"\"\n",
    "Platform:                     {platform()}\n",
    "\n",
    "Python exe:                   {sys.executable}\n",
    "Python version:               {'.'.join(str(x) for x in sys.version_info[:3])}\n",
    "\n",
    "CSD version:                  {ccdc.io.csd_version()}\n",
    "CSD directory:                {ccdc.io.csd_directory()}\n",
    "API version:                  {ccdc.__version__}\n",
    "\n",
    "CSDHOME:                      {os.environ.get('CSDHOME', 'Not set')}\n",
    "CCDC_LICENSING_CONFIGURATION: {os.environ.get('CCDC_LICENSING_CONFIGURATION', 'Not set')}\n",
    "\"\"\")"
   ]
  },
  {
   "cell_type": "markdown",
   "metadata": {},
   "source": [
    "Set up a CCDC Diagram Generator..."
   ]
  },
  {
   "cell_type": "code",
   "execution_count": null,
   "metadata": {},
   "outputs": [],
   "source": [
    "diagram_generator = DiagramGenerator()\n",
    "\n",
    "diagram_generator.settings.return_type = 'SVG'\n",
    "diagram_generator.settings.explicit_polar_hydrogens = False\n",
    "diagram_generator.settings.shrink_symbols = False"
   ]
  },
  {
   "cell_type": "markdown",
   "metadata": {},
   "source": [
    "Utility to help with display in JupyterLab..."
   ]
  },
  {
   "cell_type": "code",
   "execution_count": null,
   "metadata": {},
   "outputs": [],
   "source": [
    "show_df = lambda df: HTML(df.to_html(escape=False).replace(r'\\n', ''))\n",
    "\n",
    "# show_df = lambda df: df.style.set_properties(**{'text-align': 'left'})"
   ]
  },
  {
   "cell_type": "code",
   "execution_count": null,
   "metadata": {},
   "outputs": [],
   "source": []
  },
  {
   "cell_type": "markdown",
   "metadata": {},
   "source": [
    "<a id=\"mol_prep\"></a>\n",
    "\n",
    "### Query Molecule Preparation\n",
    "\n",
    "We will use Lapatinib as our query molecule.\n",
    "\n",
    "First, we use a query loaded from a molfile. As this was generated using MarvinSketch and does not have hydrogens added, we add hydrogens and normalize the bond types to CSD conventions..."
   ]
  },
  {
   "cell_type": "code",
   "execution_count": null,
   "metadata": {},
   "outputs": [],
   "source": [
    "with MoleculeReader('Lapatinib.mol') as reader:\n",
    "    \n",
    "    query_mol = reader[0]\n",
    "\n",
    "query_mol.add_hydrogens()\n",
    "\n",
    "query_mol.assign_bond_types(which='all')"
   ]
  },
  {
   "cell_type": "code",
   "execution_count": null,
   "metadata": {},
   "outputs": [],
   "source": [
    "HTML(diagram_generator.image(query_mol))"
   ]
  },
  {
   "cell_type": "code",
   "execution_count": null,
   "metadata": {},
   "outputs": [],
   "source": []
  },
  {
   "cell_type": "markdown",
   "metadata": {},
   "source": [
    "### Similarity Searching\n",
    "\n",
    "First, we will use the Search API to search the CSD using a similarity query. "
   ]
  },
  {
   "cell_type": "markdown",
   "metadata": {},
   "source": [
    "Choose a Tanimoto similarity threshold to use in the search..."
   ]
  },
  {
   "cell_type": "code",
   "execution_count": null,
   "metadata": {},
   "outputs": [],
   "source": [
    "threshold = 0.5  "
   ]
  },
  {
   "cell_type": "markdown",
   "metadata": {},
   "source": [
    "Instantiate a similarity-searcher object..."
   ]
  },
  {
   "cell_type": "code",
   "execution_count": null,
   "metadata": {},
   "outputs": [],
   "source": [
    "searcher = SimilaritySearch(query_mol, threshold=threshold)"
   ]
  },
  {
   "cell_type": "markdown",
   "metadata": {},
   "source": [
    "We will set CSD search filters _via_ the searcher's [settings](https://downloads.ccdc.cam.ac.uk/documentation/API/modules/search_api.html#ccdc.search.Search.Settings) object; this ensures hits are of sufficient resolution _etc._ (we use a 'subroutine' to do this as we'll need to apply these settings again below)..."
   ]
  },
  {
   "cell_type": "code",
   "execution_count": null,
   "metadata": {},
   "outputs": [],
   "source": [
    "def set_search_filters(searcher):\n",
    "    \n",
    "    settings = searcher.settings\n",
    "    \n",
    "    settings.has_3d_coordinates = True\n",
    "    settings.max_r_factor       = 5  # NB. Percentage not fraction; 0.05 in Conquest\n",
    "    settings.no_disorder        = 'Non-hydrogen'\n",
    "    settings.no_errors          = True\n",
    "    settings.not_polymeric      = True\n",
    "    settings.no_ions            = False\n",
    "    settings.no_powder          = True\n",
    "    settings.only_organic       = True"
   ]
  },
  {
   "cell_type": "code",
   "execution_count": null,
   "metadata": {},
   "outputs": [],
   "source": [
    "set_search_filters(searcher)"
   ]
  },
  {
   "cell_type": "markdown",
   "metadata": {},
   "source": [
    "Search the CSD using the similarity query..."
   ]
  },
  {
   "cell_type": "code",
   "execution_count": null,
   "metadata": {},
   "outputs": [],
   "source": [
    "%%time\n",
    "\n",
    "hits = searcher.search()\n",
    "\n",
    "len(hits)"
   ]
  },
  {
   "cell_type": "markdown",
   "metadata": {},
   "source": [
    "Create a table of the hits..."
   ]
  },
  {
   "cell_type": "code",
   "execution_count": null,
   "metadata": {},
   "outputs": [],
   "source": [
    "hits_df = pd.DataFrame(\n",
    "            data=[(hit.identifier, hit.similarity, hit.entry.synonyms[0] if hit.entry.synonyms else '', diagram_generator.image(hit.molecule)) for hit in hits],\n",
    "            columns=['Refcode', 'Similarity', 'Name', 'Depiction']\n",
    "            )\n",
    "\n",
    "hits_df.shape"
   ]
  },
  {
   "cell_type": "code",
   "execution_count": null,
   "metadata": {},
   "outputs": [],
   "source": [
    "show_df(hits_df)"
   ]
  },
  {
   "cell_type": "code",
   "execution_count": null,
   "metadata": {},
   "outputs": [],
   "source": []
  },
  {
   "cell_type": "markdown",
   "metadata": {},
   "source": [
    "### Query from SMILES"
   ]
  },
  {
   "cell_type": "markdown",
   "metadata": {},
   "source": [
    "A SMILES string can be used to build a query, although there are some caveats. Due to differences in the aromaticity model used by the CSD and _e.g._ RDKit, care must be take to prepare the query properly in some cases. For example, Lapatinib contains a furan, which is aromatic in RDKit SMILES but typically is not in the CSD. To get correct bond types for a CSD search, the [assign_bond_types](https://downloads.ccdc.cam.ac.uk/documentation/API/modules/molecule_api.html?highlight=assign_bond_types#ccdc.molecule.Molecule.assign_bond_types) method should be called, which means currently that a conformer must be generated first (which assigns sites)."
   ]
  },
  {
   "cell_type": "code",
   "execution_count": null,
   "metadata": {},
   "outputs": [],
   "source": [
    "smiles = 'CS(=O)(=O)CCNCc1ccc(-c2ccc3ncnc(Nc4ccc(OCc5cccc(F)c5)c(Cl)c4)c3c2)o1'  # RDKit SMILES, with aromatic furan"
   ]
  },
  {
   "cell_type": "markdown",
   "metadata": {},
   "source": [
    "Create a molecule from SMILES..."
   ]
  },
  {
   "cell_type": "code",
   "execution_count": null,
   "metadata": {},
   "outputs": [],
   "source": [
    "query_mol_2 = Molecule.from_string(smiles, format='smiles')"
   ]
  },
  {
   "cell_type": "markdown",
   "metadata": {},
   "source": [
    "Reassign bond orders..."
   ]
  },
  {
   "cell_type": "code",
   "execution_count": null,
   "metadata": {},
   "outputs": [],
   "source": [
    "conformer_generator = ConformerGenerator()       # Instantiate a conformer generator\n",
    "conformer_generator.settings.max_conformers = 1  # Only one conformer will be needed\n",
    "\n",
    "query_mol_2 = conformer_generator.generate(query_mol_2)[0].molecule  # Assigns sites to atoms\n",
    "\n",
    "query_mol_2.assign_bond_types(which='all')  # Requires atoms to have sites"
   ]
  },
  {
   "cell_type": "markdown",
   "metadata": {},
   "source": [
    "Run search..."
   ]
  },
  {
   "cell_type": "code",
   "execution_count": null,
   "metadata": {},
   "outputs": [],
   "source": [
    "searcher_2 = SimilaritySearch(query_mol_2, threshold=threshold)"
   ]
  },
  {
   "cell_type": "code",
   "execution_count": null,
   "metadata": {},
   "outputs": [],
   "source": [
    "set_search_filters(searcher_2)"
   ]
  },
  {
   "cell_type": "code",
   "execution_count": null,
   "metadata": {},
   "outputs": [],
   "source": [
    "%%time\n",
    "\n",
    "hits_2 = searcher_2.search()\n",
    "\n",
    "len(hits_2)"
   ]
  },
  {
   "cell_type": "code",
   "execution_count": null,
   "metadata": {},
   "outputs": [],
   "source": [
    "hits_2_df = pd.DataFrame(\n",
    "            data=[(hit.identifier, hit.similarity, hit.entry.synonyms[0] if hit.entry.synonyms else '', diagram_generator.image(hit.molecule)) for hit in hits_2],\n",
    "            columns=['Refcode', 'Similarity', 'Name', 'Depiction']\n",
    "            )\n",
    "\n",
    "hits_2_df.shape"
   ]
  },
  {
   "cell_type": "markdown",
   "metadata": {},
   "source": [
    "The hits are the same as obtained using the molfile..."
   ]
  },
  {
   "cell_type": "code",
   "execution_count": null,
   "metadata": {},
   "outputs": [],
   "source": [
    "assert( hits_df[['Refcode', 'Similarity']] == hits_2_df[['Refcode', 'Similarity']]).all().all"
   ]
  },
  {
   "cell_type": "code",
   "execution_count": null,
   "metadata": {},
   "outputs": [],
   "source": []
  }
 ],
 "metadata": {
  "kernelspec": {
   "display_name": "Python 3 (ipykernel)",
   "language": "python",
   "name": "python3"
  },
  "language_info": {
   "codemirror_mode": {
    "name": "ipython",
    "version": 3
   },
   "file_extension": ".py",
   "mimetype": "text/x-python",
   "name": "python",
   "nbconvert_exporter": "python",
   "pygments_lexer": "ipython3",
   "version": "3.7.13"
  }
 },
 "nbformat": 4,
 "nbformat_minor": 4
}
