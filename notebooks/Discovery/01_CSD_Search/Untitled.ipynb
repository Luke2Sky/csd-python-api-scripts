{
 "cells": [
  {
   "cell_type": "code",
   "execution_count": null,
   "id": "3f9ec95b-4c09-4cb6-8e8a-a5b868517171",
   "metadata": {},
   "outputs": [],
   "source": [
    "a = \"wtf\"\n",
    "b = \"wtf\"\n",
    "a is b"
   ]
  },
  {
   "cell_type": "code",
   "execution_count": null,
   "id": "a8ea5ef3-752f-4e5e-9cf9-fc2d6f0eef8b",
   "metadata": {},
   "outputs": [],
   "source": [
    "a = \"wtf_\"\n",
    "b = \"wtf_\"\n",
    "a is b"
   ]
  },
  {
   "cell_type": "code",
   "execution_count": null,
   "id": "0f74aa10-3105-4c97-b4ce-68c0f0008305",
   "metadata": {},
   "outputs": [],
   "source": []
  }
 ],
 "metadata": {
  "kernelspec": {
   "display_name": "Python 3.7 (XPython)",
   "language": "python",
   "name": "xpython"
  },
  "language_info": {
   "file_extension": ".py",
   "mimetype": "text/x-python",
   "name": "python",
   "version": "3.7.12"
  }
 },
 "nbformat": 4,
 "nbformat_minor": 5
}
