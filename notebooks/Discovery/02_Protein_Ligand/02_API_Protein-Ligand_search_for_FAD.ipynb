{
 "cells": [
  {
   "attachments": {},
   "cell_type": "markdown",
   "metadata": {},
   "source": [
    "```\n",
    "This script can be used for any purpose without limitation subject to the\n",
    "conditions at http://www.ccdc.cam.ac.uk/Community/Pages/Licences/v2.aspx\n",
    "\n",
    "This permission notice and the following statement of attribution must be\n",
    "included in all copies or substantial portions of this script.\n",
    "\n",
    "2022-06-01: Made available by the Cambridge Crystallographic Data Centre.\n",
    "\n",
    "```"
   ]
  },
  {
   "attachments": {},
   "cell_type": "markdown",
   "metadata": {},
   "source": [
    "# Searching for FAD in the CrossMiner database _via_ the API\n",
    "\n",
    "Here we search the CrossMiner database for FAD (Flavin Adenine Dinucleotide) in it's Quinone or Semiquinone oxidation states.\n",
    "\n",
    "These searches can be performed on the structure database released with [CSD-CrossMiner](https://www.ccdc.cam.ac.uk/support-and-resources/ccdcresources/CSD-CrossMiner_User_Guide_2020_1.pdf) alongside it's pharmacophore feature database. "
   ]
  },
  {
   "cell_type": "code",
   "execution_count": 1,
   "metadata": {},
   "outputs": [],
   "source": [
    "from pathlib import Path\n",
    "import sys\n",
    "sys.path.append('../..')\n",
    "from ccdc_notebook_utilities import create_logger\n",
    "\n",
    "import os\n",
    "from time import time\n",
    "\n",
    "import warnings"
   ]
  },
  {
   "cell_type": "code",
   "execution_count": 2,
   "metadata": {},
   "outputs": [],
   "source": [
    "from functools import reduce\n",
    "from operator import or_\n",
    "from collections import defaultdict"
   ]
  },
  {
   "cell_type": "code",
   "execution_count": 3,
   "metadata": {},
   "outputs": [],
   "source": [
    "from IPython.display import HTML"
   ]
  },
  {
   "cell_type": "code",
   "execution_count": 4,
   "metadata": {},
   "outputs": [],
   "source": [
    "import ccdc\n",
    "from ccdc.pharmacophore import Pharmacophore\n",
    "from ccdc.io import EntryReader\n",
    "from ccdc.search import SMARTSSubstructure, SubstructureSearch, CombinedSearch"
   ]
  },
  {
   "attachments": {},
   "cell_type": "markdown",
   "metadata": {},
   "source": [
    "### Configuration"
   ]
  },
  {
   "attachments": {},
   "cell_type": "markdown",
   "metadata": {},
   "source": [
    "Template URL for a PDBe visualization for a structure..."
   ]
  },
  {
   "cell_type": "code",
   "execution_count": 5,
   "metadata": {},
   "outputs": [],
   "source": [
    "pdbe_url = 'https://www.ebi.ac.uk/pdbe/entry/view3D/{pdb_id}/?view=entry_index&viewer=litemol&assembly=1'  # Template URL"
   ]
  },
  {
   "attachments": {},
   "cell_type": "markdown",
   "metadata": {},
   "source": [
    "### Initialization"
   ]
  },
  {
   "cell_type": "code",
   "execution_count": 6,
   "metadata": {},
   "outputs": [],
   "source": [
    "logger = create_logger()"
   ]
  },
  {
   "attachments": {},
   "cell_type": "markdown",
   "metadata": {},
   "source": [
    "#### Open the CrossMiner structure database\n",
    "\n",
    "As the CrossMiner structure database is quite large and not of interest to all users it is not installed by default. We thus check it is present before attempting to open it for searching..."
   ]
  },
  {
   "cell_type": "code",
   "execution_count": 7,
   "metadata": {},
   "outputs": [],
   "source": [
    "db_file = Path(Pharmacophore.default_feature_database_location()).parent / 'pdb_crossminer.csdsqlx'  # Use feature-database to locate structure database\n",
    "\n",
    "assert db_file.exists(), f\"Error! The CrossMiner structure database '{db_file.resolve()}' was not found!\""
   ]
  },
  {
   "attachments": {},
   "cell_type": "markdown",
   "metadata": {},
   "source": [
    "Open the database..."
   ]
  },
  {
   "cell_type": "code",
   "execution_count": 8,
   "metadata": {},
   "outputs": [],
   "source": [
    "db = ccdc.io.EntryReader(str(db_file))\n",
    "\n",
    "logger.info(f\"Number of entries in CrossMiner Structure database '{db_file.resolve()}': {len(db):,d}\")"
   ]
  },
  {
   "attachments": {},
   "cell_type": "markdown",
   "metadata": {},
   "source": [
    "### Search for FAD"
   ]
  },
  {
   "attachments": {},
   "cell_type": "markdown",
   "metadata": {},
   "source": [
    "SMARTS for FAD in it's Quinone or Semiquinone oxidation states (adapted from the SMILES in the Wikipedia entry for [FAD](https://en.wikipedia.org/wiki/Flavin_adenine_dinucleotide)).\n",
    "\n",
    "Note that...\n",
    "* A non-aromatic representation is used for the 5-ring of the Adenine moiety.\n",
    "* The phosphate Phosphorous is aromartic (a lower-case 'p' is used)\n",
    "* The phosphate oxygens are represented by `[#8]`, _i.e._ 'any oxygen', as this gives the most hits.\n",
    "\n",
    "More SMARTS could be added for the other oxidation states if necessary."
   ]
  },
  {
   "cell_type": "code",
   "execution_count": 9,
   "metadata": {},
   "outputs": [],
   "source": [
    "smarts = [\n",
    "    'c12cc(C)c(C)cc1N=C3C(=O)NC(=O)N=C3N2CC(O)C(O)C(O)C[#8]p([#8])([#8])[#8]p([#8])([#8])[#8]CC4C(O)C(O)C(O4)N5C=Nc6c5ncnc6N',  # Quinone\n",
    "    'c12cc(C)c(C)cc1NC=3C(=O)NC(=O)NC=3N2CC(O)C(O)C(O)C[#8]p([#8])([#8])[#8]p([#8])([#8])[#8]CC4C(O)C(O)C(O4)N5C=Nc6c5ncnc6N',  # Semiquinone\n",
    "]"
   ]
  },
  {
   "attachments": {},
   "cell_type": "markdown",
   "metadata": {},
   "source": [
    "Use combined search with `OR` operator to find FAD in either oxidation state (_N.B._ the use of `reduce` here means other SMARTS could be added to the list above without needing to modify this code, as would be the case if the queries were added individually)..."
   ]
  },
  {
   "cell_type": "code",
   "execution_count": 10,
   "metadata": {},
   "outputs": [],
   "source": [
    "def make_query(smarts, smarts_type='COFACTOR'):\n",
    "    \n",
    "    \"\"\"\n",
    "    Local utility function to make a query object from the SMARTS string of a cofactor.\n",
    "    \"\"\"\n",
    "    \n",
    "    query = SubstructureSearch()\n",
    "\n",
    "    query.settings.max_hits_per_structure = 1    \n",
    "\n",
    "    substructure = ccdc.search.SMARTSSubstructure(smarts)\n",
    "\n",
    "    for atom in substructure.atoms: atom.add_protein_atom_type_constraint(smarts_type)\n",
    "\n",
    "    query.add_substructure(substructure)\n",
    "    \n",
    "    return query"
   ]
  },
  {
   "cell_type": "code",
   "execution_count": 11,
   "metadata": {},
   "outputs": [],
   "source": [
    "searcher = CombinedSearch(reduce(or_, [make_query(x) for x in smarts]))"
   ]
  },
  {
   "cell_type": "code",
   "execution_count": null,
   "metadata": {},
   "outputs": [],
   "source": [
    "%%time\n",
    "\n",
    "hits = searcher.search(db) "
   ]
  },
  {
   "cell_type": "code",
   "execution_count": null,
   "metadata": {},
   "outputs": [],
   "source": [
    "len(hits)"
   ]
  },
  {
   "attachments": {},
   "cell_type": "markdown",
   "metadata": {},
   "source": [
    "Organise hits by PDB ID..."
   ]
  },
  {
   "cell_type": "code",
   "execution_count": null,
   "metadata": {},
   "outputs": [],
   "source": [
    "hits_by_pdb_id = defaultdict(list)\n",
    "\n",
    "for hit in hits:\n",
    "    \n",
    "    pdb_id = hit.identifier.split('_')[0]  # Extract PDB code portion from CrossMiner identifier\n",
    "    \n",
    "    hits_by_pdb_id[pdb_id].append(hit)"
   ]
  },
  {
   "cell_type": "code",
   "execution_count": null,
   "metadata": {},
   "outputs": [],
   "source": [
    "len(hits_by_pdb_id)"
   ]
  },
  {
   "attachments": {},
   "cell_type": "markdown",
   "metadata": {},
   "source": [
    "Examine a hit..."
   ]
  },
  {
   "cell_type": "code",
   "execution_count": null,
   "metadata": {},
   "outputs": [],
   "source": [
    "n = 0\n",
    "\n",
    "pdb_id, hits_for_pdb_id = list(hits_by_pdb_id.items())[n]\n",
    "\n",
    "print('\\n'.join(sorted(x.identifier for x in hits_for_pdb_id)))"
   ]
  },
  {
   "attachments": {},
   "cell_type": "markdown",
   "metadata": {},
   "source": [
    "We can now create a link to the PDBe entry, which provides the full context including a 3D visualization..."
   ]
  },
  {
   "cell_type": "code",
   "execution_count": null,
   "metadata": {},
   "outputs": [],
   "source": [
    "HTML(f'<a href=\"https://www.ebi.ac.uk/pdbe/entry/pdb/{pdb_id}\" target=\"_blank\">{pdb_id}</a>')"
   ]
  }
 ],
 "metadata": {
  "kernelspec": {
   "display_name": "Python 3 (ipykernel)",
   "language": "python",
   "name": "python3"
  },
  "language_info": {
   "codemirror_mode": {
    "name": "ipython",
    "version": 3
   },
   "file_extension": ".py",
   "mimetype": "text/x-python",
   "name": "python",
   "nbconvert_exporter": "python",
   "pygments_lexer": "ipython3",
   "version": "3.9.16"
  }
 },
 "nbformat": 4,
 "nbformat_minor": 4
}
