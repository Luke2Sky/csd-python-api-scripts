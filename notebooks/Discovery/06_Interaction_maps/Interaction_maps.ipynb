{
 "cells": [
  {
   "cell_type": "markdown",
   "metadata": {},
   "source": [
    "# Interaction Maps and the Interaction API\n",
    "\n",
    "SuperStar uses the same underlying knowledge-base of intermolecular interaction preferences as IsoStar. It can be used to analyse potential protein binding sites or small molecules for regions where complementary interacting groups might lie. This functionality can also be accessed _via_ the [Interaction API](https://downloads.ccdc.cam.ac.uk/documentation/API/descriptive_docs/interaction_map_analysis.html).\n",
    "\n",
    "We will also use the [Protein API](https://downloads.ccdc.cam.ac.uk/documentation/API/descriptive_docs/protein.html) to set up the binding site analysis and the [Utilities API](https://downloads.ccdc.cam.ac.uk/documentation/API/descriptive_docs/utilities.html) to postprocess the results. \n",
    "\n",
    "The interaction maps will be inspected in PyMOL."
   ]
  },
  {
   "cell_type": "code",
   "execution_count": null,
   "metadata": {},
   "outputs": [],
   "source": [
    "%run ../Discovery_Notebook_Utils.py"
   ]
  },
  {
   "cell_type": "code",
   "execution_count": null,
   "metadata": {},
   "outputs": [],
   "source": [
    "from ccdc.protein import Protein\n",
    "from ccdc.interaction import InteractionMapAnalysis\n",
    "from ccdc.utilities import Grid"
   ]
  },
  {
   "cell_type": "code",
   "execution_count": null,
   "metadata": {},
   "outputs": [],
   "source": []
  },
  {
   "cell_type": "markdown",
   "metadata": {},
   "source": [
    "### Configuration"
   ]
  },
  {
   "cell_type": "code",
   "execution_count": null,
   "metadata": {},
   "outputs": [],
   "source": []
  },
  {
   "cell_type": "markdown",
   "metadata": {},
   "source": [
    "### Initialization"
   ]
  },
  {
   "cell_type": "code",
   "execution_count": null,
   "metadata": {},
   "outputs": [],
   "source": [
    "logger.info(script_info)"
   ]
  },
  {
   "cell_type": "code",
   "execution_count": null,
   "metadata": {},
   "outputs": [],
   "source": []
  },
  {
   "cell_type": "markdown",
   "metadata": {},
   "source": [
    "### Analysis of a protein binding site\n",
    "\n",
    "First w read a PDB file and create a protein object..."
   ]
  },
  {
   "cell_type": "code",
   "execution_count": null,
   "metadata": {},
   "outputs": [],
   "source": [
    "pdb_file = '2UW7.pdb'"
   ]
  },
  {
   "cell_type": "code",
   "execution_count": null,
   "metadata": {},
   "outputs": [],
   "source": [
    "protein = Protein.from_file(pdb_file)"
   ]
  },
  {
   "cell_type": "markdown",
   "metadata": {},
   "source": [
    "What ligands are present in this PDB entry?"
   ]
  },
  {
   "cell_type": "code",
   "execution_count": null,
   "metadata": {},
   "outputs": [],
   "source": [
    "[ligand.identifier for ligand in protein.ligands]"
   ]
  },
  {
   "cell_type": "markdown",
   "metadata": {},
   "source": [
    "We will be examining the binding site around the ligand `A/GVP`..."
   ]
  },
  {
   "cell_type": "code",
   "execution_count": null,
   "metadata": {},
   "outputs": [],
   "source": [
    "ligand = protein.ligands[0]\n",
    "\n",
    "ligand.identifier"
   ]
  },
  {
   "cell_type": "code",
   "execution_count": null,
   "metadata": {},
   "outputs": [],
   "source": [
    "mol2html(ligand)"
   ]
  },
  {
   "cell_type": "markdown",
   "metadata": {},
   "source": [
    "First, we set up the binding site analysis using a `ProteinSettings` object..."
   ]
  },
  {
   "cell_type": "code",
   "execution_count": null,
   "metadata": {},
   "outputs": [],
   "source": [
    "settings = InteractionMapAnalysis.ProteinSettings()"
   ]
  },
  {
   "cell_type": "markdown",
   "metadata": {},
   "source": [
    "Set the working directory, _i.e._ where the output directory is to be created (note that an absolute path is required)..."
   ]
  },
  {
   "cell_type": "code",
   "execution_count": null,
   "metadata": {},
   "outputs": [],
   "source": [
    "settings.working_directory = Path('.').absolute()"
   ]
  },
  {
   "cell_type": "markdown",
   "metadata": {},
   "source": [
    "By default, the whole protein will be searched for cavities.\n",
    "\n",
    "Instead, we will use a cavity based on the residues around the chosen ligand..."
   ]
  },
  {
   "cell_type": "code",
   "execution_count": null,
   "metadata": {},
   "outputs": [],
   "source": [
    "settings.detect_cavities = False\n",
    "\n",
    "settings.detect_cavity_from_residues = Protein.BindingSiteFromMolecule(protein, ligand, 6.0)"
   ]
  },
  {
   "cell_type": "markdown",
   "metadata": {},
   "source": [
    "We will use the CSD as the source for scatterplot data..."
   ]
  },
  {
   "cell_type": "code",
   "execution_count": null,
   "metadata": {},
   "outputs": [],
   "source": [
    "settings.source = 'CSD'"
   ]
  },
  {
   "cell_type": "markdown",
   "metadata": {},
   "source": [
    "We will use all three probes available by default..."
   ]
  },
  {
   "cell_type": "code",
   "execution_count": null,
   "metadata": {},
   "outputs": [],
   "source": [
    "settings.probe_names"
   ]
  },
  {
   "cell_type": "markdown",
   "metadata": {},
   "source": [
    "We wish to generate a contour surface and rotate terminal -X-H groups on the protein (_e.g._ in Ser, Thr, Tyr, Cys and Lys residues)..."
   ]
  },
  {
   "cell_type": "code",
   "execution_count": null,
   "metadata": {},
   "outputs": [],
   "source": [
    "settings.calculate_contour_surface = True\n",
    "\n",
    "settings.rotate_torsions = True # For rotatable OH, SH and NH groups on the protein"
   ]
  },
  {
   "cell_type": "markdown",
   "metadata": {},
   "source": [
    "Perform the analysis..."
   ]
  },
  {
   "cell_type": "code",
   "execution_count": null,
   "metadata": {},
   "outputs": [],
   "source": [
    "%%time\n",
    "\n",
    "analyser = InteractionMapAnalysis(settings=settings)\n",
    "\n",
    "results = analyser.analyse_protein(protein)"
   ]
  },
  {
   "cell_type": "markdown",
   "metadata": {},
   "source": [
    "Note that the protein, interaction maps and hotspots (_i.e._ maxima for the interaction maps) are saved by default.\n",
    "\n",
    "The maps are saved in `acnt` format. This can be easily converted to other formats, such as a grid file that may be read by PyMOL..."
   ]
  },
  {
   "cell_type": "code",
   "execution_count": null,
   "metadata": {},
   "outputs": [],
   "source": [
    "results_dir = Path(results.directory)"
   ]
  },
  {
   "cell_type": "code",
   "execution_count": null,
   "metadata": {},
   "outputs": [],
   "source": [
    "for probe_name in settings.probe_names:\n",
    "    \n",
    "    name = probe_name.replace(' ', '_')  # Fix probe name\n",
    "        \n",
    "    grid = Grid.from_file(str(results_dir  / f'{name}.acnt'))\n",
    "\n",
    "    grid.write(str(results_dir  / f'{name}.grd'))"
   ]
  },
  {
   "cell_type": "markdown",
   "metadata": {},
   "source": [
    "Save the ligand to the results directory for visualization..."
   ]
  },
  {
   "cell_type": "code",
   "execution_count": null,
   "metadata": {},
   "outputs": [],
   "source": [
    "ligand.identifier = ligand.identifier.replace(':', '_')  # Fix the name, as the colon can cause problems when used in file paths\n",
    "\n",
    "with MoleculeWriter(str(results_dir / f'{ligand.identifier}.mol2')) as writer:\n",
    "\n",
    "    writer.write(ligand)"
   ]
  },
  {
   "cell_type": "markdown",
   "metadata": {},
   "source": [
    "Visualise using PyMOL..."
   ]
  },
  {
   "cell_type": "code",
   "execution_count": null,
   "metadata": {},
   "outputs": [],
   "source": [
    "# Local utility to visualise results using PyMOL, via the helper script `visualise.py`.\n",
    "# As I'm not sure how to pass parameters to a PyMOL script run this way, I'll just do it via a file.\n",
    "\n",
    "def view_results(results_dir):\n",
    "    \n",
    "    pymol = start_pymol()\n",
    "\n",
    "    if pymol:\n",
    "\n",
    "        with Path('results_dir.txt').open('w') as file:\n",
    "\n",
    "             file.write(str(results_dir))\n",
    "\n",
    "        pymol.do(\"run visualise.py\")\n",
    "\n",
    "        os.unlink('results_dir.txt')"
   ]
  },
  {
   "cell_type": "code",
   "execution_count": null,
   "metadata": {},
   "outputs": [],
   "source": [
    "view_results(results_dir)"
   ]
  },
  {
   "cell_type": "code",
   "execution_count": null,
   "metadata": {},
   "outputs": [],
   "source": []
  },
  {
   "cell_type": "markdown",
   "metadata": {},
   "source": [
    "### Analysis of a Small Molecule"
   ]
  },
  {
   "cell_type": "markdown",
   "metadata": {},
   "source": [
    "It is also possible to analyse a small molecule, independently of a protein.\n",
    "\n",
    "We now use the SmallMoleculeSettings class instead of the ProteinSettings class..."
   ]
  },
  {
   "cell_type": "code",
   "execution_count": null,
   "metadata": {},
   "outputs": [],
   "source": [
    "settings = InteractionMapAnalysis.SmallMoleculeSettings()"
   ]
  },
  {
   "cell_type": "markdown",
   "metadata": {},
   "source": [
    "Again, we use all probes available by default..."
   ]
  },
  {
   "cell_type": "code",
   "execution_count": null,
   "metadata": {},
   "outputs": [],
   "source": [
    "settings.probe_names"
   ]
  },
  {
   "cell_type": "markdown",
   "metadata": {},
   "source": [
    "Perform the analysis..."
   ]
  },
  {
   "cell_type": "code",
   "execution_count": null,
   "metadata": {},
   "outputs": [],
   "source": [
    "analyser = InteractionMapAnalysis(settings=settings)\n",
    "\n",
    "results = analyser.analyse_small_molecule(ligand)"
   ]
  },
  {
   "cell_type": "markdown",
   "metadata": {},
   "source": [
    "Convert maps to grid format for PyMOL..."
   ]
  },
  {
   "cell_type": "code",
   "execution_count": null,
   "metadata": {},
   "outputs": [],
   "source": [
    "results_dir = Path(results.directory)"
   ]
  },
  {
   "cell_type": "code",
   "execution_count": null,
   "metadata": {},
   "outputs": [],
   "source": [
    "for probe_name in settings.probe_names:\n",
    "    \n",
    "    name = probe_name.replace(' ', '_')  # Fix probe name\n",
    "        \n",
    "    grid = Grid.from_file(str(results_dir  / f'{name}.acnt'))\n",
    "\n",
    "    grid.write(str(results_dir  / f'{name}.grd'))"
   ]
  },
  {
   "cell_type": "markdown",
   "metadata": {},
   "source": [
    "Visualise results using PyMOL, as before.\n",
    "\n",
    "_N.B._ This is commented out so as not to interfere with the visualization of the Protein analysis. Just uncomment it as necessary."
   ]
  },
  {
   "cell_type": "code",
   "execution_count": null,
   "metadata": {},
   "outputs": [],
   "source": [
    "# view_results(results_dir)"
   ]
  }
 ],
 "metadata": {
  "kernelspec": {
   "display_name": "Python 3 (ipykernel)",
   "language": "python",
   "name": "python3"
  },
  "language_info": {
   "codemirror_mode": {
    "name": "ipython",
    "version": 3
   },
   "file_extension": ".py",
   "mimetype": "text/x-python",
   "name": "python",
   "nbconvert_exporter": "python",
   "pygments_lexer": "ipython3",
   "version": "3.7.11"
  }
 },
 "nbformat": 4,
 "nbformat_minor": 4
}
