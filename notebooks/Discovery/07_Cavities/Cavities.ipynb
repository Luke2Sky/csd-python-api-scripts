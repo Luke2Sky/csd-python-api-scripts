{
 "cells": [
  {
   "cell_type": "markdown",
   "metadata": {},
   "source": [
    "# Cavities\n",
    "\n",
    "This notebook illustrates some tools for working with protein cavities.\n",
    "\n",
    "[Descriptive Documentation](https://downloads.ccdc.cam.ac.uk/documentation/API/descriptive_docs/cavities.html)"
   ]
  },
  {
   "cell_type": "code",
   "execution_count": null,
   "metadata": {},
   "outputs": [],
   "source": [
    "import warnings\n",
    "warnings.filterwarnings('ignore')\n",
    "warnings.simplefilter('ignore')"
   ]
  },
  {
   "cell_type": "code",
   "execution_count": null,
   "metadata": {},
   "outputs": [],
   "source": [
    "%run ../Discovery_Notebook_utils.py"
   ]
  },
  {
   "cell_type": "code",
   "execution_count": null,
   "metadata": {},
   "outputs": [],
   "source": [
    "from functools import reduce"
   ]
  },
  {
   "cell_type": "code",
   "execution_count": null,
   "metadata": {},
   "outputs": [],
   "source": [
    "from ccdc.protein import Protein\n",
    "\n",
    "from ccdc.cavity import Cavity, CavityDatabase"
   ]
  },
  {
   "cell_type": "code",
   "execution_count": null,
   "metadata": {},
   "outputs": [],
   "source": []
  },
  {
   "cell_type": "markdown",
   "metadata": {},
   "source": [
    "### Config"
   ]
  },
  {
   "cell_type": "markdown",
   "metadata": {},
   "source": [
    "Directory containing protein structures..."
   ]
  },
  {
   "cell_type": "code",
   "execution_count": null,
   "metadata": {},
   "outputs": [],
   "source": [
    "protein_dir = Path('proteins')"
   ]
  },
  {
   "cell_type": "markdown",
   "metadata": {},
   "source": [
    "Cavity API feature types, ordered for convenience when inspecting cavities..."
   ]
  },
  {
   "cell_type": "code",
   "execution_count": null,
   "metadata": {},
   "outputs": [],
   "source": [
    "feature_types = ['donor', 'acceptor',  'donor_acceptor', 'aromatic', 'pi', 'aliphatic', 'metal']\n",
    "\n",
    "assert sorted(feature_types) == sorted(Cavity.feature_types.keys())  # Check all API feature types are accounted for"
   ]
  },
  {
   "cell_type": "markdown",
   "metadata": {},
   "source": [
    "Local utility to depict a molecule with atoms labelled and it's identifier as a header..."
   ]
  },
  {
   "cell_type": "code",
   "execution_count": null,
   "metadata": {},
   "outputs": [],
   "source": [
    "def mol2html(mol, hetero_only=True):\n",
    "    \n",
    "    atoms_to_label = []\n",
    "\n",
    "    for n, atom in enumerate(mol.atoms, 1):\n",
    "\n",
    "        if hetero_only and atom.atomic_symbol in ('C', 'H'): continue\n",
    "\n",
    "        atoms_to_label.append(atom)\n",
    "                        \n",
    "    image = diagram_generator.image(mol, label_atoms=atoms_to_label)\n",
    "    \n",
    "    return HTML(f'<h3>{ligand.identifier}</h3>' + image)"
   ]
  },
  {
   "cell_type": "code",
   "execution_count": null,
   "metadata": {},
   "outputs": [],
   "source": []
  },
  {
   "cell_type": "markdown",
   "metadata": {},
   "source": [
    "### Initialization"
   ]
  },
  {
   "cell_type": "code",
   "execution_count": null,
   "metadata": {},
   "outputs": [],
   "source": [
    "print(script_info)"
   ]
  },
  {
   "cell_type": "code",
   "execution_count": null,
   "metadata": {},
   "outputs": [],
   "source": [
    "pd.options.display.max_rows = 1000  # Show more rows in JupyterLab"
   ]
  },
  {
   "cell_type": "code",
   "execution_count": null,
   "metadata": {},
   "outputs": [],
   "source": []
  },
  {
   "cell_type": "markdown",
   "metadata": {},
   "source": [
    "### Load a protein and find the cavities on it's surface"
   ]
  },
  {
   "cell_type": "markdown",
   "metadata": {},
   "source": [
    "We will use the Factor Xa structure [1fax](https://www.ebi.ac.uk/pdbe/entry/pdb/1fax) in the examples below. Note that, for historical reasons, the Cavity API currently only reads PDB files. "
   ]
  },
  {
   "cell_type": "code",
   "execution_count": null,
   "metadata": {},
   "outputs": [],
   "source": [
    "pdb_code = '1fax'"
   ]
  },
  {
   "cell_type": "code",
   "execution_count": null,
   "metadata": {},
   "outputs": [],
   "source": [
    "pdb_file = str(protein_dir / f'pdb{pdb_code}.ent')"
   ]
  },
  {
   "cell_type": "code",
   "execution_count": null,
   "metadata": {},
   "outputs": [],
   "source": [
    "cavities = Cavity.from_pdb_file(str(protein_dir / f'pdb{pdb_code}.ent'))\n",
    "\n",
    "len(cavities)"
   ]
  },
  {
   "cell_type": "markdown",
   "metadata": {},
   "source": [
    "Make a table of cavity data for inspection..."
   ]
  },
  {
   "cell_type": "code",
   "execution_count": null,
   "metadata": {},
   "outputs": [],
   "source": [
    "cavities_row = lambda x: (\n",
    "    x.identifier,\n",
    "    len(x.features),\n",
    "    x.volume,\n",
    "    len(x.ligand_identifiers),\n",
    "    ', '.join(x.ligand_identifiers) if x.ligand_identifiers else '',\n",
    ")\n",
    "\n",
    "cavities_df = (\n",
    "    pd.DataFrame(\n",
    "        data=[cavities_row(x) for x in cavities],\n",
    "        columns=['identifier', 'n_features', 'volume', 'n_ligands', 'ligand_identifiers']\n",
    "    )\n",
    ")\n",
    "\n",
    "cavities_df"
   ]
  },
  {
   "cell_type": "markdown",
   "metadata": {},
   "source": [
    "We will take the cavity containing a ligand..."
   ]
  },
  {
   "cell_type": "code",
   "execution_count": null,
   "metadata": {},
   "outputs": [],
   "source": [
    "cavity = cavities[cavities_df.query(\"n_ligands > 0\").iloc[0].name]"
   ]
  },
  {
   "cell_type": "markdown",
   "metadata": {},
   "source": [
    "Make a table of cavity feature data for inspection..."
   ]
  },
  {
   "cell_type": "code",
   "execution_count": null,
   "metadata": {},
   "outputs": [],
   "source": [
    "v2s = lambda x: '(' + ', '.join(f'{y:.3f}' for y in x) + ')'  # vector to string\n",
    "\n",
    "features_row = lambda x: (\n",
    "    x.residue.identifier,\n",
    "    x.atom.label if x.atom else '',\n",
    "    x.type,\n",
    "    round(x.burial, 3),\n",
    "    len(x.surface_points),\n",
    "    v2s(x.coordinates),\n",
    "    v2s(x.protein_vector),\n",
    "    v2s(x.surface_vector),\n",
    ")\n",
    "\n",
    "features_df = (\n",
    "    pd.DataFrame(\n",
    "        data=[features_row(x) for x in cavity.features],\n",
    "        columns=['residue', 'atom', 'type', 'burial', 'n_surface_points', 'coordinates', 'protein_vector', 'surface_vector']\n",
    "    )\n",
    "    .assign(type = lambda df: pd.Categorical(df['type'], ordered=True, categories=feature_types))  # Make type an ordered categorical column for display purposes\n",
    ")\n",
    "\n",
    "features_df.sort_values('type')  "
   ]
  },
  {
   "cell_type": "code",
   "execution_count": null,
   "metadata": {},
   "outputs": [],
   "source": []
  },
  {
   "cell_type": "markdown",
   "metadata": {},
   "source": [
    "### Cavity-ligand interactions"
   ]
  },
  {
   "cell_type": "markdown",
   "metadata": {},
   "source": [
    "Get the ligand molecule..."
   ]
  },
  {
   "cell_type": "code",
   "execution_count": null,
   "metadata": {},
   "outputs": [],
   "source": [
    "assert len(cavity.ligands) == 1  # There is only on ligand in the cavity\n",
    "\n",
    "ligand = cavity.ligands[0]\n",
    "\n",
    "ligand"
   ]
  },
  {
   "cell_type": "code",
   "execution_count": null,
   "metadata": {},
   "outputs": [],
   "source": [
    "mol2html(ligand)"
   ]
  },
  {
   "cell_type": "code",
   "execution_count": null,
   "metadata": {},
   "outputs": [],
   "source": []
  },
  {
   "cell_type": "markdown",
   "metadata": {},
   "source": [
    "Make table of ligand-cavity interactions for inspection..."
   ]
  },
  {
   "cell_type": "code",
   "execution_count": null,
   "metadata": {},
   "outputs": [],
   "source": [
    "def interactions_rows(atom):\n",
    "    \n",
    "    max_distance = 3.5\n",
    "\n",
    "    if not (atom.is_donor or atom.is_acceptor): return []\n",
    "        \n",
    "    nearby_features = cavity.features_by_distance(atom.coordinates, max_distance)\n",
    "    \n",
    "    if not nearby_features: return []\n",
    "    \n",
    "    rows = []\n",
    "\n",
    "    for type_ in ['donor', 'acceptor', 'donor_acceptor']:\n",
    "\n",
    "        for feature in nearby_features & cavity.features_by_type(type_):\n",
    "\n",
    "            feature_residue = feature.residue.identifier\n",
    "            \n",
    "            feature_atom = feature.atom.label\n",
    "            \n",
    "            distance = round(feature.point_distance(atom.coordinates), 2)\n",
    "\n",
    "            rows.append([atom.label, atom.is_donor, atom.is_acceptor, feature_residue, feature_atom, type_, distance])\n",
    "                \n",
    "    return rows\n",
    "\n",
    "interactions_df = pd.DataFrame(\n",
    "    data=[row for rows in [interactions_rows(atom) for atom in ligand.atoms] for row in rows],\n",
    "    columns=['ligand_atom', 'is_donor', 'is_acceptor', 'feature_residue', 'feature_atom', 'feature_type', 'distance']\n",
    ")\n",
    "\n",
    "interactions_df"
   ]
  },
  {
   "cell_type": "code",
   "execution_count": null,
   "metadata": {},
   "outputs": [],
   "source": []
  },
  {
   "cell_type": "markdown",
   "metadata": {},
   "source": [
    "### Features by Residue(s)\n",
    "\n",
    "Here we examine the features associated with a list of residues. We will need to create an API [Protein](https://downloads.ccdc.cam.ac.uk/documentation/API/descriptive_docs/protein.html) object to work with."
   ]
  },
  {
   "cell_type": "code",
   "execution_count": null,
   "metadata": {},
   "outputs": [],
   "source": [
    "identifiers = ['A:ASP189', 'A:ALA190']"
   ]
  },
  {
   "cell_type": "code",
   "execution_count": null,
   "metadata": {},
   "outputs": [],
   "source": [
    "protein = Protein.from_file(pdb_file)  # Protein object"
   ]
  },
  {
   "cell_type": "code",
   "execution_count": null,
   "metadata": {},
   "outputs": [],
   "source": [
    "residues = [x for x in protein.residues if x.identifier in identifiers]  # Protein.Residue objects"
   ]
  },
  {
   "cell_type": "markdown",
   "metadata": {},
   "source": [
    "Get features associated with the residues, then build a table of feature data for inspection..."
   ]
  },
  {
   "cell_type": "code",
   "execution_count": null,
   "metadata": {},
   "outputs": [],
   "source": [
    "features_by_residues = cavity.features_by_residues(residues)"
   ]
  },
  {
   "cell_type": "code",
   "execution_count": null,
   "metadata": {},
   "outputs": [],
   "source": [
    "(\n",
    "    pd.DataFrame(\n",
    "        data=[features_row(x) for x in features_by_residues],\n",
    "        columns=['residue', 'atom', 'type', 'burial', 'n_surface_points', 'coordinates', 'protein_vector', 'surface_vector']\n",
    "    )\n",
    "    .assign(type = lambda df: pd.Categorical(df['type'], ordered=True, categories=['donor', 'acceptor',  'donor_acceptor', 'aromatic', 'pi', 'aliphatic', 'metal']))\n",
    ")"
   ]
  },
  {
   "cell_type": "code",
   "execution_count": null,
   "metadata": {},
   "outputs": [],
   "source": []
  },
  {
   "cell_type": "markdown",
   "metadata": {},
   "source": [
    "### Visualization of Cavities"
   ]
  },
  {
   "cell_type": "markdown",
   "metadata": {},
   "source": [
    "The API may be used to write a PyMOL script to set up a visualization of a cavity..."
   ]
  },
  {
   "cell_type": "code",
   "execution_count": null,
   "metadata": {},
   "outputs": [],
   "source": [
    "# cavity.to_pymol_file('cavity.py')"
   ]
  },
  {
   "cell_type": "code",
   "execution_count": null,
   "metadata": {},
   "outputs": [],
   "source": [
    "# pymol = start_pymol()\n",
    "\n",
    "# if pymol:\n",
    "\n",
    "#     pymol.load(str(pdb_file))\n",
    "        \n",
    "#     pymol.do('run cavity.py')"
   ]
  },
  {
   "cell_type": "markdown",
   "metadata": {},
   "source": [
    "Similarly, the API may be used to write a `rlbcoor` file that allows visualization of a cavity..."
   ]
  },
  {
   "cell_type": "code",
   "execution_count": null,
   "metadata": {},
   "outputs": [],
   "source": [
    "cavity.write('cavity.rlbcoor')\n",
    "\n",
    "status = subprocess.Popen([hermes_exe, 'cavity.rlbcoor'])"
   ]
  },
  {
   "cell_type": "code",
   "execution_count": null,
   "metadata": {},
   "outputs": [],
   "source": []
  },
  {
   "cell_type": "markdown",
   "metadata": {},
   "source": [
    "### Comparison of Cavities\n",
    "\n",
    "There are three methods in the API for comparing cavities, offering various trade-off of speed, accuracy and the diagnostic information returned.\n",
    "\n",
    "We will illustrate these using the FXa structure used above, [1fax](https://www.ebi.ac.uk/pdbe/entry/pdb/1fax), and the Thrombin structure [5af9](https://www.ebi.ac.uk/pdbe/entry/pdb/5af9)."
   ]
  },
  {
   "cell_type": "code",
   "execution_count": null,
   "metadata": {},
   "outputs": [],
   "source": [
    "pdb_codes = ['1fax', '5af9']  # '1ett'"
   ]
  },
  {
   "cell_type": "code",
   "execution_count": null,
   "metadata": {},
   "outputs": [],
   "source": [
    "pdb_files = [str(protein_dir / f'pdb{pdb_code}.ent') for pdb_code in pdb_codes]"
   ]
  },
  {
   "cell_type": "markdown",
   "metadata": {},
   "source": [
    "To keep things simple, for each protein we just take the first cavity that contains a ligand. In the present case, this gives us the cavities corresponding to the active sites, which is what we want. In general, of course, this would most likely be too simplistic; there might be no ligand present in that active site and/or there could be multiple binding sites (_e.g._ for inorganic ions, DMSO, GOL _etc._). Thus, in practice, a more sophisticated approach would be necessary."
   ]
  },
  {
   "cell_type": "code",
   "execution_count": null,
   "metadata": {},
   "outputs": [],
   "source": [
    "cavities = [[cavity for cavity in Cavity.from_pdb_file(pdb_file) if cavity.ligands][0] for pdb_file in pdb_files]  # Take first cavity with a ligand"
   ]
  },
  {
   "cell_type": "markdown",
   "metadata": {},
   "source": [
    "Create a table of cavity data for inspection..."
   ]
  },
  {
   "cell_type": "code",
   "execution_count": null,
   "metadata": {},
   "outputs": [],
   "source": [
    "cavities_df = pd.DataFrame(\n",
    "    data=[cavities_row(x) for x in cavities],\n",
    "    columns=['identifier', 'n_features', 'volume', 'n_ligands', 'ligand_identifiers']\n",
    ")\n",
    "\n",
    "cavities_df"
   ]
  },
  {
   "cell_type": "markdown",
   "metadata": {},
   "source": [
    "The three methods are illustarted below, showing timings and the diagnostic information returned. Note that the scores returned for the various methods are not on  the same scale, so are not comparable between methods."
   ]
  },
  {
   "cell_type": "markdown",
   "metadata": {},
   "source": [
    "#### 1) Fast Cavity Graph Comparison\n",
    "\n",
    "This is currently the default comparison method. It is derived from the original CavBase method (see below), but enhanced to provide faster comparisons with comparable accuracy.\n",
    "<br>For details, see: “Extended Graph-Based Models for Enhanced Similarity Search in Cavbase”, T. Krotzky _et al_, IEEE/ACM Trans. Comput. Biol. Bioinf. 11, 878-890, 2014. DOI: [10.1109/TCBB.2014.2325020](https://dx.doi.org/10.1109/TCBB.2014.2325020)."
   ]
  },
  {
   "cell_type": "code",
   "execution_count": null,
   "metadata": {},
   "outputs": [],
   "source": [
    "%%time\n",
    "\n",
    "fast = cavities[0].compare(cavities[1], comparison_method=Cavity.ComparisonMethod.FAST_CAVITY_GRAPH_COMPARISON)"
   ]
  },
  {
   "cell_type": "code",
   "execution_count": null,
   "metadata": {},
   "outputs": [],
   "source": [
    "print(f\"\"\"\n",
    "Score:                {fast.score:.3f}\n",
    "Largest clique size:  {fast.largest_clique_size}\n",
    "Product graph size:   {fast.product_graph_size}\n",
    "\"\"\")"
   ]
  },
  {
   "cell_type": "markdown",
   "metadata": {},
   "source": [
    "#### 2) The original CavBase algorithm\n",
    "\n",
    "This is implementation of the original CavBase cavity-graph comparison method. Although significantly slower than the default method, it does give access to the transformation matrix.\n",
    "<br>For details, see: “A New Method to Detect Related Function Among Proteins Independent of Sequence and Fold Homology”, S. Schmitt _et al_, J. Mol. Biol. 323, 387-406, 2002.  DOI: [10.1016/S0022-2836(02)00811-2](https://dx.doi.org/10.1016/S0022-2836(02)00811-2)."
   ]
  },
  {
   "cell_type": "code",
   "execution_count": null,
   "metadata": {},
   "outputs": [],
   "source": [
    "%%time\n",
    "\n",
    "original = cavities[0].compare(cavities[1], comparison_method=Cavity.ComparisonMethod.CAVITY_GRAPH_COMPARISON)"
   ]
  },
  {
   "cell_type": "code",
   "execution_count": null,
   "metadata": {},
   "outputs": [],
   "source": [
    "print(f\"\"\"\n",
    "Score:       {original.score:.3f}\n",
    "RMSD:        {original.rmsd:.3f}\n",
    "Clique RMSD: {original.clique_rmsd:.3f}\n",
    "N cliques:   {original.n_cliques}\n",
    "N matches:   {original.n_matches}\n",
    "\n",
    "Matrix:      {original.transformation_matrix}\n",
    "\"\"\")"
   ]
  },
  {
   "cell_type": "markdown",
   "metadata": {},
   "source": [
    "#### 3) Cavity histograms \n",
    "\n",
    "This is an implementation of the RAPMAD ('RApid Pocket MAtching using Distances') method. It is fast but provides less diagnostic information than the default method.\n",
    "<br>For details, see: “Large-Scale Mining for Similar Protein Binding Pockets: With RAPMAD Retrieval on the Fly Becomes Real”, T. Krotzky _et al_, J. Chem. Inf. Model., 55, 165-179, 2015.  DOI: [10.1021/ci5005898](https://dx.doi.org/10.1021/ci5005898)."
   ]
  },
  {
   "cell_type": "code",
   "execution_count": null,
   "metadata": {},
   "outputs": [],
   "source": [
    "%%time\n",
    "\n",
    "histogram = cavities[0].compare(cavities[1], comparison_method=Cavity.ComparisonMethod.CAVITY_HISTOGRAMS_COMPARISON)"
   ]
  },
  {
   "cell_type": "markdown",
   "metadata": {},
   "source": [
    "Note that *only* the score is returned..."
   ]
  },
  {
   "cell_type": "code",
   "execution_count": null,
   "metadata": {},
   "outputs": [],
   "source": [
    "print(f\"Score: {histogram:.3f}\")  "
   ]
  },
  {
   "cell_type": "code",
   "execution_count": null,
   "metadata": {},
   "outputs": [],
   "source": []
  },
  {
   "cell_type": "markdown",
   "metadata": {},
   "source": [
    "### Overlaying Proteins\n",
    "\n",
    "The API allows us to overlay proteins both _via_ a sequence alignment and _via_ the cavity representation.  We will illustrate both methods using the FXa and Thrombin structures used above.\n",
    "Note that the first protein is the static template onto which the second is overlaid, so, here, (mobile) Thrombin is overlaid onto (static) FXa."
   ]
  },
  {
   "cell_type": "code",
   "execution_count": null,
   "metadata": {},
   "outputs": [],
   "source": [
    "pdb_codes"
   ]
  },
  {
   "cell_type": "markdown",
   "metadata": {},
   "source": [
    "#### 1) Overlay _via_ sequence alignment around binding site\n",
    "\n",
    "Proteins may be overlaid based on an alignment of the full sequences or, as here, just the binding sites; see Protein API [Descriptive Documentation](https://downloads.ccdc.cam.ac.uk/documentation/API/descriptive_docs/protein.html?highlight=chainsuperposition#superposing-protein-chains-and-binding-sites) and \n",
    "[API Documentation](https://downloads.ccdc.cam.ac.uk/documentation/API/modules/protein_api.html#ccdc.protein.Protein.ChainSuperposition) for further details.\n",
    "\n",
    "For simplicity, we are simply using the first ligand of the template protein to define the binding site (which we are assuming is the active site of the protein). In practice, there may be no ligand and/or multiple binding sites other than the active site (_e.g._ for inorganic ions, DMSO, GOL _etc._) so care would need to be taken that the correct one was chosen. "
   ]
  },
  {
   "cell_type": "code",
   "execution_count": null,
   "metadata": {},
   "outputs": [],
   "source": [
    "proteins = [Protein.from_file(pdb_file) for pdb_file in pdb_files]  # Instantiate Protein objects"
   ]
  },
  {
   "cell_type": "code",
   "execution_count": null,
   "metadata": {},
   "outputs": [],
   "source": [
    "superposer = Protein.ChainSuperposition()\n",
    "\n",
    "binding_site = Protein.BindingSiteFromMolecule(proteins[0], proteins[0].ligands[0], 6.0)  # First ligand binding site of template protein\n",
    "\n",
    "overlaid_protein = proteins[1].copy()  # The overlaid protein object will be altered, so we use a copy\n",
    "\n",
    "rmsd, _ = superposer.superpose(proteins[0].chains[0], overlaid_protein.chains[0], binding_site1=binding_site)  # Use first chain\n",
    "\n",
    "round(rmsd, 3)"
   ]
  },
  {
   "cell_type": "markdown",
   "metadata": {},
   "source": [
    "Write out overlaid protein for visualization..."
   ]
  },
  {
   "cell_type": "code",
   "execution_count": null,
   "metadata": {},
   "outputs": [],
   "source": [
    "with MoleculeWriter('overlaid_via_sequence.pdb') as writer:\n",
    "\n",
    "    writer.write(overlaid_protein)"
   ]
  },
  {
   "cell_type": "markdown",
   "metadata": {},
   "source": [
    "#### 2) Overlay _via_ cavities\n",
    "\n",
    "For cavity-based overlay, we must use the original Cavity Graph Comparison method, as only it provides the transformation matrix. We will thus reuse the comparison result object `original` generated above."
   ]
  },
  {
   "cell_type": "code",
   "execution_count": null,
   "metadata": {},
   "outputs": [],
   "source": [
    "type(original)"
   ]
  },
  {
   "cell_type": "code",
   "execution_count": null,
   "metadata": {},
   "outputs": [],
   "source": [
    "# For reference, the command used to generate the comprison object above was...\n",
    "\n",
    "# original = cavities[0].compare(cavities[1], comparison_method=Cavity.ComparisonMethod.CAVITY_GRAPH_COMPARISON)  "
   ]
  },
  {
   "cell_type": "code",
   "execution_count": null,
   "metadata": {},
   "outputs": [],
   "source": [
    "print(f\"\"\"\n",
    "score:       {original.score:.3f}\n",
    "rmsd:        {original.rmsd:.3f}\n",
    "matrix:      {original.transformation_matrix}\n",
    "\"\"\")"
   ]
  },
  {
   "cell_type": "markdown",
   "metadata": {},
   "source": [
    "Apply the transformation..."
   ]
  },
  {
   "cell_type": "code",
   "execution_count": null,
   "metadata": {},
   "outputs": [],
   "source": [
    "overlaid_protein = proteins[1].copy()  # The overlaid protein object will be altered, so we use a copy\n",
    "\n",
    "overlaid_protein.transform(original.transformation_matrix)  "
   ]
  },
  {
   "cell_type": "code",
   "execution_count": null,
   "metadata": {},
   "outputs": [],
   "source": [
    "type(overlaid_protein)"
   ]
  },
  {
   "cell_type": "code",
   "execution_count": null,
   "metadata": {},
   "outputs": [],
   "source": [
    "overlaid_protein"
   ]
  },
  {
   "cell_type": "markdown",
   "metadata": {},
   "source": [
    "Write out overlaid protein for visualization..."
   ]
  },
  {
   "cell_type": "code",
   "execution_count": null,
   "metadata": {},
   "outputs": [],
   "source": [
    "with MoleculeWriter('overlaid_via_cavities.pdb') as writer:\n",
    "    \n",
    "    writer.write(overlaid_protein)"
   ]
  },
  {
   "cell_type": "code",
   "execution_count": null,
   "metadata": {},
   "outputs": [],
   "source": []
  },
  {
   "cell_type": "markdown",
   "metadata": {},
   "source": [
    "#### Visualize overlays\n",
    "\n",
    "The overlays are very similar in this case, which is not surprising as the sequence homology is high and the folds are thus very similar. Where the cavity-overlay method could really help is in cases where homology is low but the cavities are similar as, for example, they have evolved to bind similar ligands."
   ]
  },
  {
   "cell_type": "markdown",
   "metadata": {},
   "source": [
    "In PyMOL..."
   ]
  },
  {
   "cell_type": "code",
   "execution_count": null,
   "metadata": {},
   "outputs": [],
   "source": [
    "# pymol = start_pymol()\n",
    "\n",
    "# if pymol:\n",
    "\n",
    "#     pymol.load(pdb_files[0])  # Template protein\n",
    "\n",
    "#     pymol.load('overlaid_via_sequence.pdb')\n",
    "#     pymol.load('overlaid_via_cavities.pdb')"
   ]
  },
  {
   "cell_type": "markdown",
   "metadata": {},
   "source": [
    "In Hermes..."
   ]
  },
  {
   "cell_type": "code",
   "execution_count": null,
   "metadata": {},
   "outputs": [],
   "source": [
    "status = subprocess.Popen([hermes_exe, pdb_files[0], 'overlaid_via_sequence.pdb', 'overlaid_via_cavities.pdb'])"
   ]
  },
  {
   "cell_type": "code",
   "execution_count": null,
   "metadata": {},
   "outputs": [],
   "source": []
  },
  {
   "cell_type": "markdown",
   "metadata": {},
   "source": [
    "## Cavity Databases\n",
    "\n",
    "This part of the tutorial is still under development, and more detail is being added. Please see the [Descriptive Documentation](https://downloads.ccdc.cam.ac.uk/documentation/API/descriptive_docs/cavities.html#cavity-databases) for more material."
   ]
  },
  {
   "cell_type": "markdown",
   "metadata": {},
   "source": [
    "A cavity database is built from a set of PDB files. For out test database, a small number of protease and kinase structures will be used.\n",
    "As well as the human FXa (1fax) and Thrombin (5af9) structures used above, there is a bovine Thrombin structure (1ett), SARS-Cov-2 (COVID-19) and SARS-Cov MPro structures (6lu7 and 2amq) and four Human Spleen Tyrosine Kinase (SYK) structures (4px6, 4xg8, 4yjp and 5lma). \n",
    "\n",
    "Links to the PDBe are provided below so the entries used to build our test may be inspected...."
   ]
  },
  {
   "cell_type": "code",
   "execution_count": null,
   "metadata": {},
   "outputs": [],
   "source": [
    "url = 'https://www.ebi.ac.uk/pdbe/entry/pdb/{pdb_code}'\n",
    "\n",
    "pdb_codes = [x.name[3:-4] for x in protein_dir.glob('pdb*.ent')]\n",
    "\n",
    "HTML('<ul>' + ''.join([f'<li> <a target=\"_blank\" href=\"{url.format(pdb_code=x)}\">{x}</a> </li>' for x in pdb_codes]) + '</ul>')"
   ]
  },
  {
   "cell_type": "markdown",
   "metadata": {},
   "source": [
    "Create a fresh database..."
   ]
  },
  {
   "cell_type": "code",
   "execution_count": null,
   "metadata": {},
   "outputs": [],
   "source": [
    "db_file = Path('cavities.db')"
   ]
  },
  {
   "cell_type": "code",
   "execution_count": null,
   "metadata": {},
   "outputs": [],
   "source": [
    "if db_file.exists():\n",
    "    \n",
    "    os.remove(db_file)"
   ]
  },
  {
   "cell_type": "code",
   "execution_count": null,
   "metadata": {},
   "outputs": [],
   "source": [
    "db = CavityDatabase(str(db_file))"
   ]
  },
  {
   "cell_type": "code",
   "execution_count": null,
   "metadata": {},
   "outputs": [],
   "source": [
    "db.populate_all(protein_dir, verbose=True)"
   ]
  },
  {
   "cell_type": "code",
   "execution_count": null,
   "metadata": {},
   "outputs": [],
   "source": [
    "print(f'''\n",
    "Number of cavities: {db.get_number_of_cavities()}\n",
    "Number of ligands:  {db.get_number_of_ligands()}\n",
    "''')"
   ]
  },
  {
   "cell_type": "code",
   "execution_count": null,
   "metadata": {},
   "outputs": [],
   "source": [
    "db_df = pd.DataFrame([{'name': name, **db.get_info_for_cavity(name)} for name in [x.identifier for x in db.cavities()]])\n",
    "\n",
    "db_df"
   ]
  },
  {
   "cell_type": "code",
   "execution_count": null,
   "metadata": {},
   "outputs": [],
   "source": []
  },
  {
   "cell_type": "markdown",
   "metadata": {},
   "source": [
    "The cavity database is currently an SQLite database, and can be accessed as any other database could be. However, this may not be true in future and should not be relied upon."
   ]
  },
  {
   "cell_type": "code",
   "execution_count": null,
   "metadata": {},
   "outputs": [],
   "source": [
    "# import sqlite3\n",
    "\n",
    "# conn = sqlite3.connect(db_file)\n",
    "\n",
    "# pd.read_sql_query('SELECT a.name, b.* FROM cav_xml a JOIN cav_info b ON a.cavity_id = b.cavity_id', conn)"
   ]
  },
  {
   "cell_type": "code",
   "execution_count": null,
   "metadata": {},
   "outputs": [],
   "source": []
  },
  {
   "cell_type": "markdown",
   "metadata": {},
   "source": [
    "Cavities may be found by PDB code..."
   ]
  },
  {
   "cell_type": "code",
   "execution_count": null,
   "metadata": {},
   "outputs": [],
   "source": [
    "cavities = db.get_cavities_by_pdb_code('1fax')"
   ]
  },
  {
   "cell_type": "code",
   "execution_count": null,
   "metadata": {},
   "outputs": [],
   "source": [
    "[x.identifier for x in cavities]"
   ]
  },
  {
   "cell_type": "code",
   "execution_count": null,
   "metadata": {},
   "outputs": [],
   "source": []
  },
  {
   "cell_type": "markdown",
   "metadata": {},
   "source": [
    "Cavities may be also be found by ligand names..."
   ]
  },
  {
   "cell_type": "code",
   "execution_count": null,
   "metadata": {},
   "outputs": [],
   "source": [
    "ligand_name = db.get_ligands_by_pdb_code('6lu7')[0]\n",
    "\n",
    "ligand_name"
   ]
  },
  {
   "cell_type": "code",
   "execution_count": null,
   "metadata": {},
   "outputs": [],
   "source": [
    "[x.identifier for x in db.get_cavities_by_ligand(ligand_name)]"
   ]
  },
  {
   "cell_type": "code",
   "execution_count": null,
   "metadata": {},
   "outputs": [],
   "source": []
  },
  {
   "cell_type": "markdown",
   "metadata": {},
   "source": [
    "More complex quereis may be set up using the database [Settings](https://downloads.ccdc.cam.ac.uk/documentation/API/modules/cavities_api.html#ccdc.cavity.CavityDatabase.Settings) object... "
   ]
  },
  {
   "cell_type": "code",
   "execution_count": null,
   "metadata": {},
   "outputs": [],
   "source": [
    "settings = db.Settings()\n",
    "\n",
    "settings.aromatic_range = [0, 2]\n",
    "\n",
    "settings.ligand_range = [1]\n",
    "\n",
    "cavities = db.search(settings=settings)\n",
    "\n",
    "[x.identifier for x in cavities]"
   ]
  },
  {
   "cell_type": "code",
   "execution_count": null,
   "metadata": {},
   "outputs": [],
   "source": []
  },
  {
   "cell_type": "markdown",
   "metadata": {},
   "source": [
    "The various cavity-comparion methods explore above may be used to search the database..."
   ]
  },
  {
   "cell_type": "code",
   "execution_count": null,
   "metadata": {},
   "outputs": [],
   "source": [
    "# Give the methods friendly names...\n",
    "\n",
    "methods = {\n",
    "    'original':  Cavity.ComparisonMethod.CAVITY_GRAPH_COMPARISON,\n",
    "    'fast':      Cavity.ComparisonMethod.FAST_CAVITY_GRAPH_COMPARISON,\n",
    "    'histogram': Cavity.ComparisonMethod.CAVITY_HISTOGRAMS_COMPARISON,\n",
    "}"
   ]
  },
  {
   "cell_type": "code",
   "execution_count": null,
   "metadata": {},
   "outputs": [],
   "source": [
    "query = db.cavity('pdb1fax.1')"
   ]
  },
  {
   "cell_type": "markdown",
   "metadata": {},
   "source": [
    "Search the test database using all methods..."
   ]
  },
  {
   "cell_type": "code",
   "execution_count": null,
   "metadata": {},
   "outputs": [],
   "source": [
    "results = {name: db.search(query, comparison_method=value) for name, value in methods.items()}"
   ]
  },
  {
   "cell_type": "markdown",
   "metadata": {},
   "source": [
    "Build a dataframe of the scores for inspection..."
   ]
  },
  {
   "cell_type": "code",
   "execution_count": null,
   "metadata": {},
   "outputs": [],
   "source": [
    "dfs = [pd.DataFrame(data, columns=[method, 'cavity']).assign(**{method: lambda df: df[method] / df[method].iloc[0]}) for method, data in results.items()]\n",
    "\n",
    "results_df = reduce(pd.merge, dfs)[['cavity', *results.keys()]]"
   ]
  },
  {
   "cell_type": "code",
   "execution_count": null,
   "metadata": {},
   "outputs": [],
   "source": [
    "# results_df.to_pickle('results_df.pkl')\n",
    "# results_df = pd.read_pickle('results_df.pkl')"
   ]
  },
  {
   "cell_type": "code",
   "execution_count": null,
   "metadata": {},
   "outputs": [],
   "source": [
    "results_df"
   ]
  },
  {
   "cell_type": "markdown",
   "metadata": {},
   "source": [
    "We can plot the scores for the various methods agains eaach other to see how the methods compare..."
   ]
  },
  {
   "cell_type": "code",
   "execution_count": null,
   "metadata": {},
   "outputs": [],
   "source": [
    "scale = scale=altair.Scale(domain=(0, 1.1))\n",
    "\n",
    "cols = results_df.columns.to_list()"
   ]
  },
  {
   "cell_type": "code",
   "execution_count": null,
   "metadata": {},
   "outputs": [],
   "source": [
    "(\n",
    "    altair.Chart(results_df).mark_circle(size=60, color='red').encode(\n",
    "        x=altair.X('original', scale=scale),\n",
    "        y=altair.Y('fast', scale=scale),\n",
    "        tooltip=cols\n",
    "    ).interactive() +\n",
    "    altair.Chart(results_df).mark_circle(size=60, color='blue').encode(\n",
    "        x=altair.X('original', scale=scale),\n",
    "        y=altair.Y('histogram', scale=scale),\n",
    "        tooltip=cols\n",
    "    ).interactive()\n",
    ")"
   ]
  },
  {
   "cell_type": "markdown",
   "metadata": {},
   "source": [
    "Recall that the query is the active site for human Factor Xa. The human and bovine Thrombin active sites are clearly ranked highest by the `original` method, with the two MPro active sites being next and other protease cavities and the kinase active sites ranked below them.  The `fast` method also finds the protease active sites although the difference in scores is not pronounced at the lower end. The histogram method is not performing well on this set."
   ]
  },
  {
   "cell_type": "code",
   "execution_count": null,
   "metadata": {},
   "outputs": [],
   "source": []
  },
  {
   "cell_type": "markdown",
   "metadata": {},
   "source": [
    "Search for a kinase active site..."
   ]
  },
  {
   "cell_type": "code",
   "execution_count": null,
   "metadata": {},
   "outputs": [],
   "source": [
    "query_2 = db.get_cavities_by_pdb_code('5lma')[0]\n",
    "\n",
    "query_2.identifier"
   ]
  },
  {
   "cell_type": "code",
   "execution_count": null,
   "metadata": {},
   "outputs": [],
   "source": [
    "results_2 = {name: db.search(query_2, comparison_method=value) for name, value in methods.items()}"
   ]
  },
  {
   "cell_type": "code",
   "execution_count": null,
   "metadata": {},
   "outputs": [],
   "source": [
    "dfs = [pd.DataFrame(data, columns=[method, 'cavity']).assign(**{method: lambda df: df[method] / df[method].iloc[0]}) for method, data in results_2.items()]\n",
    "\n",
    "results_2_df = reduce(pd.merge, dfs)[['cavity', *results_2.keys()]]"
   ]
  },
  {
   "cell_type": "code",
   "execution_count": null,
   "metadata": {},
   "outputs": [],
   "source": [
    "results_2_df"
   ]
  },
  {
   "cell_type": "code",
   "execution_count": null,
   "metadata": {},
   "outputs": [],
   "source": [
    "(\n",
    "    altair.Chart(results_2_df).mark_circle(size=60, color='red').encode(\n",
    "        x=altair.X('original', scale=scale),\n",
    "        y=altair.Y('fast', scale=scale),\n",
    "        tooltip=cols\n",
    "    ).interactive() +\n",
    "    altair.Chart(results_2_df).mark_circle(size=60, color='blue').encode(\n",
    "        x=altair.X('original', scale=scale),\n",
    "        y=altair.Y('histogram', scale=scale),\n",
    "        tooltip=cols\n",
    "    ).interactive()\n",
    ")"
   ]
  },
  {
   "cell_type": "markdown",
   "metadata": {},
   "source": [
    "The four kinase active sits are identified by the `origina`l and `fast` methods, with the `original` method again showing a much clearer separartion. The `histogram` method has ranked most of the SYK activae sites highest, with one exception, although the score differences are small in all cases.\n",
    "\n",
    "These results show that the slower `original` method performs best, with the `fast` method next. The fastest method, `histogram`, is not performing well here. Thus the trade-off between speed and quality of results is very plain here. "
   ]
  },
  {
   "cell_type": "code",
   "execution_count": null,
   "metadata": {},
   "outputs": [],
   "source": []
  }
 ],
 "metadata": {
  "kernelspec": {
   "display_name": "Python 3 (ipykernel)",
   "language": "python",
   "name": "python3"
  },
  "language_info": {
   "codemirror_mode": {
    "name": "ipython",
    "version": 3
   },
   "file_extension": ".py",
   "mimetype": "text/x-python",
   "name": "python",
   "nbconvert_exporter": "python",
   "pygments_lexer": "ipython3",
   "version": "3.7.11"
  }
 },
 "nbformat": 4,
 "nbformat_minor": 4
}
