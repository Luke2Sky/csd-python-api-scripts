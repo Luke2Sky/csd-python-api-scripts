{
 "cells": [
  {
   "attachments": {},
   "cell_type": "markdown",
   "metadata": {},
   "source": [
    "```\n",
    "This script can be used for any purpose without limitation subject to the\n",
    "conditions at http://www.ccdc.cam.ac.uk/Community/Pages/Licences/v2.aspx\n",
    "\n",
    "This permission notice and the following statement of attribution must be\n",
    "included in all copies or substantial portions of this script.\n",
    "\n",
    "2022-06-01: Made available by the Cambridge Crystallographic Data Centre.\n",
    "\n",
    "```"
   ]
  },
  {
   "attachments": {},
   "cell_type": "markdown",
   "metadata": {},
   "source": [
    "# Cavities\n",
    "\n",
    "This notebook illustrates some uses of the [Cavity API](https://downloads.ccdc.cam.ac.uk/documentation/API/descriptive_docs/cavities.html)."
   ]
  },
  {
   "cell_type": "code",
   "execution_count": 1,
   "metadata": {},
   "outputs": [],
   "source": [
    "from pathlib import Path\n",
    "import sys\n",
    "sys.path.append('../..')\n",
    "from ccdc_notebook_utilities import create_logger, run_hermes\n",
    "import os\n",
    "from time import time\n",
    "from functools import reduce\n",
    "\n",
    "import warnings"
   ]
  },
  {
   "cell_type": "code",
   "execution_count": 2,
   "metadata": {},
   "outputs": [],
   "source": [
    "with warnings.catch_warnings():\n",
    "    warnings.filterwarnings(action='ignore', category=DeprecationWarning)  # Ignore current 'distutils Version classes are deprecated' warning\n",
    "    \n",
    "    import pandas as pd\n",
    "    \n",
    "    import plotly.express as px"
   ]
  },
  {
   "cell_type": "code",
   "execution_count": 3,
   "metadata": {},
   "outputs": [],
   "source": [
    "from IPython.display import HTML\n",
    "\n",
    "from IPython.core.interactiveshell import InteractiveShell\n",
    "InteractiveShell.ast_node_interactivity = 'all'"
   ]
  },
  {
   "cell_type": "code",
   "execution_count": 4,
   "metadata": {},
   "outputs": [],
   "source": [
    "import ccdc\n",
    "from ccdc.protein import Protein\n",
    "\n",
    "from ccdc.diagram import DiagramGenerator\n",
    "from ccdc.io import MoleculeWriter\n",
    "\n",
    "with warnings.catch_warnings():\n",
    "    warnings.filterwarnings(action='ignore', category=DeprecationWarning)  # Ignore current 'distutils Version classes are deprecated' warning\n",
    "    \n",
    "    from ccdc.cavity import Cavity, CavityDatabase"
   ]
  },
  {
   "attachments": {},
   "cell_type": "markdown",
   "metadata": {},
   "source": [
    "### Configuration"
   ]
  },
  {
   "attachments": {},
   "cell_type": "markdown",
   "metadata": {},
   "source": [
    "Directory containing protein structures..."
   ]
  },
  {
   "cell_type": "code",
   "execution_count": 5,
   "metadata": {},
   "outputs": [],
   "source": [
    "protein_dir = Path('proteins')"
   ]
  },
  {
   "attachments": {},
   "cell_type": "markdown",
   "metadata": {},
   "source": [
    "Cavity API feature types, ordered for convenience when inspecting cavities..."
   ]
  },
  {
   "cell_type": "code",
   "execution_count": 6,
   "metadata": {},
   "outputs": [],
   "source": [
    "feature_types = ['donor', 'acceptor',  'donor_acceptor', 'aromatic', 'pi', 'aliphatic', 'metal']\n",
    "\n",
    "assert sorted(feature_types) == sorted(Cavity.feature_types.keys())  # Check all API feature types are accounted for"
   ]
  },
  {
   "attachments": {},
   "cell_type": "markdown",
   "metadata": {},
   "source": [
    "Local utility to depict a molecule with atoms labelled and it's identifier as a header..."
   ]
  },
  {
   "cell_type": "code",
   "execution_count": 7,
   "metadata": {},
   "outputs": [],
   "source": [
    "def mol2html(mol, hetero_only=True):\n",
    "    \n",
    "    atoms_to_label = []\n",
    "\n",
    "    for n, atom in enumerate(mol.atoms, 1):\n",
    "\n",
    "        if hetero_only and atom.atomic_symbol in ('C', 'H'): continue\n",
    "\n",
    "        atoms_to_label.append(atom)\n",
    "                        \n",
    "    image = diagram_generator.image(mol, label_atoms=atoms_to_label)\n",
    "    \n",
    "    return HTML(f'<h3>{ligand.identifier}</h3>' + image)"
   ]
  },
  {
   "attachments": {},
   "cell_type": "markdown",
   "metadata": {},
   "source": [
    "### Initialization"
   ]
  },
  {
   "cell_type": "code",
   "execution_count": 8,
   "metadata": {},
   "outputs": [],
   "source": [
    "logger = create_logger()"
   ]
  },
  {
   "attachments": {},
   "cell_type": "markdown",
   "metadata": {},
   "source": [
    "Set up a CCDC Diagram Generator..."
   ]
  },
  {
   "cell_type": "code",
   "execution_count": 9,
   "metadata": {},
   "outputs": [],
   "source": [
    "diagram_generator = DiagramGenerator()\n",
    "\n",
    "diagram_generator.settings.return_type = 'SVG'\n",
    "diagram_generator.settings.explicit_polar_hydrogens = False\n",
    "diagram_generator.settings.shrink_symbols = False"
   ]
  },
  {
   "attachments": {},
   "cell_type": "markdown",
   "metadata": {},
   "source": [
    "Utility to help with display in JupyterLab..."
   ]
  },
  {
   "cell_type": "code",
   "execution_count": 10,
   "metadata": {},
   "outputs": [],
   "source": [
    "show_df = lambda df: df.style.set_properties(**{'text-align': 'left'})"
   ]
  },
  {
   "attachments": {},
   "cell_type": "markdown",
   "metadata": {},
   "source": [
    "### Load a protein and find the cavities on it's surface"
   ]
  },
  {
   "attachments": {},
   "cell_type": "markdown",
   "metadata": {},
   "source": [
    "We will use the Factor Xa structure [1fax](https://www.ebi.ac.uk/pdbe/entry/pdb/1fax) in the examples below. Note that, for historical reasons, the Cavity API currently only reads PDB files. "
   ]
  },
  {
   "cell_type": "code",
   "execution_count": 11,
   "metadata": {},
   "outputs": [],
   "source": [
    "pdb_code = '1fax'"
   ]
  },
  {
   "cell_type": "code",
   "execution_count": 12,
   "metadata": {},
   "outputs": [],
   "source": [
    "pdb_file = str(protein_dir / f'pdb{pdb_code}.ent')"
   ]
  },
  {
   "cell_type": "code",
   "execution_count": 13,
   "metadata": {},
   "outputs": [
    {
     "data": {
      "text/plain": [
       "2"
      ]
     },
     "execution_count": 13,
     "metadata": {},
     "output_type": "execute_result"
    }
   ],
   "source": [
    "cavities = Cavity.from_pdb_file(str(protein_dir / f'pdb{pdb_code}.ent'))\n",
    "\n",
    "len(cavities)"
   ]
  },
  {
   "attachments": {},
   "cell_type": "markdown",
   "metadata": {},
   "source": [
    "Make a table of cavity data for inspection..."
   ]
  },
  {
   "cell_type": "code",
   "execution_count": 14,
   "metadata": {},
   "outputs": [],
   "source": [
    "cavities_row = lambda x: (\n",
    "    x.identifier,\n",
    "    len(x.features),\n",
    "    x.volume,\n",
    "    len(x.ligand_identifiers),\n",
    "    ', '.join(x.ligand_identifiers) if x.ligand_identifiers else '',\n",
    ")\n",
    "\n",
    "cavities_df = (\n",
    "    pd.DataFrame(\n",
    "        data=[cavities_row(x) for x in cavities],\n",
    "        columns=['identifier', 'n_features', 'volume', 'n_ligands', 'ligand_identifiers']\n",
    "    )\n",
    ")\n",
    "\n",
    "cavities_df"
   ]
  },
  {
   "attachments": {},
   "cell_type": "markdown",
   "metadata": {},
   "source": [
    "We will take the cavity containing a ligand..."
   ]
  },
  {
   "cell_type": "code",
   "execution_count": 15,
   "metadata": {},
   "outputs": [],
   "source": [
    "with warnings.catch_warnings():\n",
    "    warnings.filterwarnings(action='ignore', category=DeprecationWarning)  # Ignore current 'distutils Version classes are deprecated' warning\n",
    "    \n",
    "    cavity = cavities[cavities_df.query(\"n_ligands > 0\").iloc[0].name]"
   ]
  },
  {
   "attachments": {},
   "cell_type": "markdown",
   "metadata": {},
   "source": [
    "Make a table of cavity feature data for inspection..."
   ]
  },
  {
   "cell_type": "code",
   "execution_count": 16,
   "metadata": {},
   "outputs": [],
   "source": [
    "v2s = lambda x: '(' + ', '.join(f'{y:.3f}' for y in x) + ')'  # vector to string\n",
    "\n",
    "features_row = lambda x: (\n",
    "    x.residue.identifier,\n",
    "    x.atom.label if x.atom else '',\n",
    "    x.type,\n",
    "    round(x.burial, 3),\n",
    "    len(x.surface_points),\n",
    "    v2s(x.coordinates),\n",
    "    v2s(x.protein_vector),\n",
    "    v2s(x.surface_vector),\n",
    ")\n",
    "\n",
    "features_df = (\n",
    "    pd.DataFrame(\n",
    "        data=[features_row(x) for x in cavity.features],\n",
    "        columns=['residue', 'atom', 'type', 'burial', 'n_surface_points', 'coordinates', 'protein_vector', 'surface_vector']\n",
    "    )\n",
    "    .assign(type = lambda df: pd.Categorical(df['type'], ordered=True, categories=feature_types))  # Make type an ordered categorical column for display purposes\n",
    ")\n",
    "\n",
    "features_df.sort_values('type')  "
   ]
  },
  {
   "attachments": {},
   "cell_type": "markdown",
   "metadata": {},
   "source": [
    "### Cavity-ligand interactions"
   ]
  },
  {
   "attachments": {},
   "cell_type": "markdown",
   "metadata": {},
   "source": [
    "Get the ligand molecule..."
   ]
  },
  {
   "cell_type": "code",
   "execution_count": 17,
   "metadata": {},
   "outputs": [],
   "source": [
    "assert len(cavity.ligands) == 1  # There is only on ligand in the cavity\n",
    "\n",
    "ligand = cavity.ligands[0]"
   ]
  },
  {
   "cell_type": "code",
   "execution_count": 18,
   "metadata": {},
   "outputs": [],
   "source": [
    "HTML(diagram_generator.image(ligand))"
   ]
  },
  {
   "attachments": {},
   "cell_type": "markdown",
   "metadata": {},
   "source": [
    "Make table of ligand-cavity interactions for inspection..."
   ]
  },
  {
   "cell_type": "code",
   "execution_count": 19,
   "metadata": {},
   "outputs": [],
   "source": [
    "def interactions_rows(atom):\n",
    "    \n",
    "    max_distance = 3.5\n",
    "\n",
    "    if not (atom.is_donor or atom.is_acceptor): return []\n",
    "        \n",
    "    nearby_features = cavity.features_by_distance(atom.coordinates, max_distance)\n",
    "    \n",
    "    if not nearby_features: return []\n",
    "    \n",
    "    rows = []\n",
    "\n",
    "    for type_ in ['donor', 'acceptor', 'donor_acceptor']:\n",
    "\n",
    "        for feature in nearby_features & cavity.features_by_type(type_):\n",
    "\n",
    "            feature_residue = feature.residue.identifier\n",
    "            \n",
    "            feature_atom = feature.atom.label\n",
    "            \n",
    "            distance = round(feature.point_distance(atom.coordinates), 2)\n",
    "\n",
    "            rows.append([atom.label, atom.is_donor, atom.is_acceptor, feature_residue, feature_atom, type_, distance])\n",
    "                \n",
    "    return rows\n",
    "\n",
    "interactions_df = pd.DataFrame(\n",
    "    data=[row for rows in [interactions_rows(atom) for atom in ligand.atoms] for row in rows],\n",
    "    columns=['ligand_atom', 'is_donor', 'is_acceptor', 'feature_residue', 'feature_atom', 'feature_type', 'distance']\n",
    ")\n",
    "\n",
    "interactions_df"
   ]
  },
  {
   "attachments": {},
   "cell_type": "markdown",
   "metadata": {},
   "source": [
    "### Features by Residue(s)\n",
    "\n",
    "Here we examine the features associated with a list of residues. We will need to create an API [Protein](https://downloads.ccdc.cam.ac.uk/documentation/API/descriptive_docs/protein.html) object to work with."
   ]
  },
  {
   "cell_type": "code",
   "execution_count": 20,
   "metadata": {},
   "outputs": [],
   "source": [
    "identifiers = ['A:ASP189', 'A:ALA190']"
   ]
  },
  {
   "cell_type": "code",
   "execution_count": 21,
   "metadata": {},
   "outputs": [],
   "source": [
    "protein = Protein.from_file(pdb_file)  # Protein object"
   ]
  },
  {
   "cell_type": "code",
   "execution_count": 22,
   "metadata": {},
   "outputs": [],
   "source": [
    "residues = [x for x in protein.residues if x.identifier in identifiers]  # Protein.Residue objects"
   ]
  },
  {
   "attachments": {},
   "cell_type": "markdown",
   "metadata": {},
   "source": [
    "Get features associated with the residues, then build a table of feature data for inspection..."
   ]
  },
  {
   "cell_type": "code",
   "execution_count": 23,
   "metadata": {},
   "outputs": [],
   "source": [
    "features_by_residues = cavity.features_by_residues(residues)"
   ]
  },
  {
   "cell_type": "code",
   "execution_count": 24,
   "metadata": {},
   "outputs": [
    {
     "data": {
      "text/html": [
       "<div>\n",
       "<style scoped>\n",
       "    .dataframe tbody tr th:only-of-type {\n",
       "        vertical-align: middle;\n",
       "    }\n",
       "\n",
       "    .dataframe tbody tr th {\n",
       "        vertical-align: top;\n",
       "    }\n",
       "\n",
       "    .dataframe thead th {\n",
       "        text-align: right;\n",
       "    }\n",
       "</style>\n",
       "<table border=\"1\" class=\"dataframe\">\n",
       "  <thead>\n",
       "    <tr style=\"text-align: right;\">\n",
       "      <th></th>\n",
       "      <th>residue</th>\n",
       "      <th>atom</th>\n",
       "      <th>type</th>\n",
       "      <th>burial</th>\n",
       "      <th>n_surface_points</th>\n",
       "      <th>coordinates</th>\n",
       "      <th>protein_vector</th>\n",
       "      <th>surface_vector</th>\n",
       "    </tr>\n",
       "  </thead>\n",
       "  <tbody>\n",
       "    <tr>\n",
       "      <th>0</th>\n",
       "      <td>A:ASP189</td>\n",
       "      <td>OD2</td>\n",
       "      <td>acceptor</td>\n",
       "      <td>6.756</td>\n",
       "      <td>86</td>\n",
       "      <td>(11.334, 6.497, 30.911)</td>\n",
       "      <td>(-0.557, -0.091, -0.825)</td>\n",
       "      <td>(-0.323, -0.702, -0.634)</td>\n",
       "    </tr>\n",
       "    <tr>\n",
       "      <th>1</th>\n",
       "      <td>A:ALA190</td>\n",
       "      <td></td>\n",
       "      <td>aliphatic</td>\n",
       "      <td>6.000</td>\n",
       "      <td>25</td>\n",
       "      <td>(13.464, 10.506, 29.602)</td>\n",
       "      <td>(0.000, 0.000, 0.000)</td>\n",
       "      <td>(0.000, 0.000, 0.000)</td>\n",
       "    </tr>\n",
       "    <tr>\n",
       "      <th>2</th>\n",
       "      <td>A:ALA190</td>\n",
       "      <td>N</td>\n",
       "      <td>donor</td>\n",
       "      <td>7.000</td>\n",
       "      <td>9</td>\n",
       "      <td>(12.678, 9.599, 31.729)</td>\n",
       "      <td>(0.723, -0.689, -0.053)</td>\n",
       "      <td>(-0.082, -0.499, -0.862)</td>\n",
       "    </tr>\n",
       "    <tr>\n",
       "      <th>3</th>\n",
       "      <td>A:ALA190</td>\n",
       "      <td>O</td>\n",
       "      <td>acceptor</td>\n",
       "      <td>6.860</td>\n",
       "      <td>50</td>\n",
       "      <td>(10.584, 9.148, 30.135)</td>\n",
       "      <td>(-0.374, -0.926, 0.061)</td>\n",
       "      <td>(0.116, -0.516, -0.848)</td>\n",
       "    </tr>\n",
       "    <tr>\n",
       "      <th>4</th>\n",
       "      <td>A:ASP189</td>\n",
       "      <td>CG</td>\n",
       "      <td>pi</td>\n",
       "      <td>6.438</td>\n",
       "      <td>64</td>\n",
       "      <td>(12.016, 6.608, 31.921)</td>\n",
       "      <td>(0.298, 0.906, -0.301)</td>\n",
       "      <td>(-0.414, -0.827, -0.381)</td>\n",
       "    </tr>\n",
       "    <tr>\n",
       "      <th>5</th>\n",
       "      <td>A:ALA190</td>\n",
       "      <td>C</td>\n",
       "      <td>pi</td>\n",
       "      <td>6.537</td>\n",
       "      <td>41</td>\n",
       "      <td>(11.047, 10.295, 30.059)</td>\n",
       "      <td>(-0.496, 0.255, 0.830)</td>\n",
       "      <td>(0.073, -0.556, -0.828)</td>\n",
       "    </tr>\n",
       "  </tbody>\n",
       "</table>\n",
       "</div>"
      ],
      "text/plain": [
       "    residue atom       type  burial  n_surface_points  \\\n",
       "0  A:ASP189  OD2   acceptor   6.756                86   \n",
       "1  A:ALA190       aliphatic   6.000                25   \n",
       "2  A:ALA190    N      donor   7.000                 9   \n",
       "3  A:ALA190    O   acceptor   6.860                50   \n",
       "4  A:ASP189   CG         pi   6.438                64   \n",
       "5  A:ALA190    C         pi   6.537                41   \n",
       "\n",
       "                coordinates            protein_vector  \\\n",
       "0   (11.334, 6.497, 30.911)  (-0.557, -0.091, -0.825)   \n",
       "1  (13.464, 10.506, 29.602)     (0.000, 0.000, 0.000)   \n",
       "2   (12.678, 9.599, 31.729)   (0.723, -0.689, -0.053)   \n",
       "3   (10.584, 9.148, 30.135)   (-0.374, -0.926, 0.061)   \n",
       "4   (12.016, 6.608, 31.921)    (0.298, 0.906, -0.301)   \n",
       "5  (11.047, 10.295, 30.059)    (-0.496, 0.255, 0.830)   \n",
       "\n",
       "             surface_vector  \n",
       "0  (-0.323, -0.702, -0.634)  \n",
       "1     (0.000, 0.000, 0.000)  \n",
       "2  (-0.082, -0.499, -0.862)  \n",
       "3   (0.116, -0.516, -0.848)  \n",
       "4  (-0.414, -0.827, -0.381)  \n",
       "5   (0.073, -0.556, -0.828)  "
      ]
     },
     "execution_count": 24,
     "metadata": {},
     "output_type": "execute_result"
    }
   ],
   "source": [
    "(\n",
    "    pd.DataFrame(\n",
    "        data=[features_row(x) for x in features_by_residues],\n",
    "        columns=['residue', 'atom', 'type', 'burial', 'n_surface_points', 'coordinates', 'protein_vector', 'surface_vector']\n",
    "    )\n",
    "    .assign(type = lambda df: pd.Categorical(df['type'], ordered=True, categories=['donor', 'acceptor',  'donor_acceptor', 'aromatic', 'pi', 'aliphatic', 'metal']))\n",
    ")"
   ]
  },
  {
   "attachments": {},
   "cell_type": "markdown",
   "metadata": {},
   "source": [
    "### Visualization of Cavities"
   ]
  },
  {
   "attachments": {},
   "cell_type": "markdown",
   "metadata": {},
   "source": [
    "The API may be used to write a `rlbcoor` file that allows visualization of a cavity..."
   ]
  },
  {
   "cell_type": "code",
   "execution_count": 25,
   "metadata": {},
   "outputs": [],
   "source": [
    "cavity.write('cavity.rlbcoor')\n",
    "run_hermes('cavity.rlbcoor')"
   ]
  },
  {
   "attachments": {},
   "cell_type": "markdown",
   "metadata": {},
   "source": [
    "### Comparison of Cavities\n",
    "\n",
    "There are three methods in the API for comparing cavities, offering various trade-off of speed, accuracy and the diagnostic information returned.\n",
    "\n",
    "We will illustrate these using the FXa structure used above, [1fax](https://www.ebi.ac.uk/pdbe/entry/pdb/1fax), and the Thrombin structure [5af9](https://www.ebi.ac.uk/pdbe/entry/pdb/5af9)."
   ]
  },
  {
   "cell_type": "code",
   "execution_count": 26,
   "metadata": {},
   "outputs": [],
   "source": [
    "pdb_codes = ['1fax', '5af9']  # '1ett'"
   ]
  },
  {
   "cell_type": "code",
   "execution_count": 27,
   "metadata": {},
   "outputs": [],
   "source": [
    "pdb_files = [str(protein_dir / f'pdb{pdb_code}.ent') for pdb_code in pdb_codes]"
   ]
  },
  {
   "attachments": {},
   "cell_type": "markdown",
   "metadata": {},
   "source": [
    "To keep things simple, for each protein we just take the first cavity that contains a ligand. In the present case, this gives us the cavities corresponding to the active sites, which is what we want. In general, of course, this would most likely be too simplistic; there might be no ligand present in that active site and/or there could be multiple binding sites (_e.g._ for inorganic ions, DMSO, GOL _etc._). Thus, in practice, a more sophisticated approach would be necessary."
   ]
  },
  {
   "cell_type": "code",
   "execution_count": 28,
   "metadata": {},
   "outputs": [],
   "source": [
    "cavities = [[cavity for cavity in Cavity.from_pdb_file(pdb_file) if cavity.ligands][0] for pdb_file in pdb_files]  # Take first cavity with a ligand"
   ]
  },
  {
   "attachments": {},
   "cell_type": "markdown",
   "metadata": {},
   "source": [
    "Create a table of cavity data for inspection..."
   ]
  },
  {
   "cell_type": "code",
   "execution_count": 29,
   "metadata": {},
   "outputs": [],
   "source": [
    "cavities_df = pd.DataFrame(\n",
    "    data=[cavities_row(x) for x in cavities],\n",
    "    columns=['identifier', 'n_features', 'volume', 'n_ligands', 'ligand_identifiers']\n",
    ")\n",
    "\n",
    "cavities_df"
   ]
  },
  {
   "attachments": {},
   "cell_type": "markdown",
   "metadata": {},
   "source": [
    "The three methods are illustarted below, showing timings and the diagnostic information returned. Note that the scores returned for the various methods are not on  the same scale, so are not comparable between methods."
   ]
  },
  {
   "attachments": {},
   "cell_type": "markdown",
   "metadata": {},
   "source": [
    "#### 1) Fast Cavity Graph Comparison\n",
    "\n",
    "This is currently the default comparison method. It is derived from the original CavBase method (see below), but enhanced to provide faster comparisons with comparable accuracy.\n",
    "<br>For details, see: “Extended Graph-Based Models for Enhanced Similarity Search in Cavbase”, T. Krotzky _et al_, IEEE/ACM Trans. Comput. Biol. Bioinf. 11, 878-890, 2014. DOI: [10.1109/TCBB.2014.2325020](https://dx.doi.org/10.1109/TCBB.2014.2325020)."
   ]
  },
  {
   "cell_type": "code",
   "execution_count": 30,
   "metadata": {},
   "outputs": [],
   "source": [
    "%%time\n",
    "\n",
    "fast = cavities[0].compare(cavities[1], comparison_method=Cavity.ComparisonMethod.FAST_CAVITY_GRAPH_COMPARISON)"
   ]
  },
  {
   "cell_type": "code",
   "execution_count": 31,
   "metadata": {},
   "outputs": [],
   "source": [
    "print(f\"\"\"\n",
    "Score:                {fast.score:.3f}\n",
    "Largest clique size:  {fast.largest_clique_size}\n",
    "Product graph size:   {fast.product_graph_size}\n",
    "\"\"\")"
   ]
  },
  {
   "attachments": {},
   "cell_type": "markdown",
   "metadata": {},
   "source": [
    "#### 2) The original CavBase algorithm\n",
    "\n",
    "This is implementation of the original CavBase cavity-graph comparison method. Although significantly slower than the default method, it does give access to the transformation matrix.\n",
    "<br>For details, see: “A New Method to Detect Related Function Among Proteins Independent of Sequence and Fold Homology”, S. Schmitt _et al_, J. Mol. Biol. 323, 387-406, 2002.  DOI: [10.1016/S0022-2836(02)00811-2](https://dx.doi.org/10.1016/S0022-2836(02)00811-2)."
   ]
  },
  {
   "cell_type": "code",
   "execution_count": 32,
   "metadata": {},
   "outputs": [],
   "source": [
    "%%time\n",
    "\n",
    "original = cavities[0].compare(cavities[1], comparison_method=Cavity.ComparisonMethod.CAVITY_GRAPH_COMPARISON)"
   ]
  },
  {
   "cell_type": "code",
   "execution_count": 33,
   "metadata": {},
   "outputs": [],
   "source": [
    "print(f\"\"\"\n",
    "Score:       {original.score:.3f}\n",
    "RMSD:        {original.rmsd:.3f}\n",
    "Clique RMSD: {original.clique_rmsd:.3f}\n",
    "N cliques:   {original.n_cliques}\n",
    "N matches:   {original.n_matches}\n",
    "\n",
    "Matrix:      {original.transformation_matrix}\n",
    "\"\"\")"
   ]
  },
  {
   "attachments": {},
   "cell_type": "markdown",
   "metadata": {},
   "source": [
    "#### 3) Cavity histograms \n",
    "\n",
    "This is an implementation of the RAPMAD ('RApid Pocket MAtching using Distances') method. It is fast but provides less diagnostic information than the default method.\n",
    "<br>For details, see: “Large-Scale Mining for Similar Protein Binding Pockets: With RAPMAD Retrieval on the Fly Becomes Real”, T. Krotzky _et al_, J. Chem. Inf. Model., 55, 165-179, 2015.  DOI: [10.1021/ci5005898](https://dx.doi.org/10.1021/ci5005898)."
   ]
  },
  {
   "cell_type": "code",
   "execution_count": 34,
   "metadata": {},
   "outputs": [],
   "source": [
    "%%time\n",
    "\n",
    "histogram = cavities[0].compare(cavities[1], comparison_method=Cavity.ComparisonMethod.CAVITY_HISTOGRAMS_COMPARISON)"
   ]
  },
  {
   "attachments": {},
   "cell_type": "markdown",
   "metadata": {},
   "source": [
    "Note that *only* the score is returned..."
   ]
  },
  {
   "cell_type": "code",
   "execution_count": 35,
   "metadata": {},
   "outputs": [],
   "source": [
    "print(f\"Score: {histogram:.3f}\")  "
   ]
  },
  {
   "attachments": {},
   "cell_type": "markdown",
   "metadata": {},
   "source": [
    "### Overlaying Proteins\n",
    "\n",
    "The API allows us to overlay proteins both _via_ a sequence alignment and _via_ the cavity representation.  We will illustrate both methods using the FXa and Thrombin structures used above.\n",
    "Note that the first protein is the static template onto which the second is overlaid, so, here, (mobile) Thrombin is overlaid onto (static) FXa."
   ]
  },
  {
   "cell_type": "code",
   "execution_count": 36,
   "metadata": {},
   "outputs": [],
   "source": [
    "pdb_codes"
   ]
  },
  {
   "attachments": {},
   "cell_type": "markdown",
   "metadata": {},
   "source": [
    "#### 1) Overlay _via_ sequence alignment around binding site\n",
    "\n",
    "Proteins may be overlaid based on an alignment of the full sequences or, as here, just the binding sites; see Protein API [Descriptive Documentation](https://downloads.ccdc.cam.ac.uk/documentation/API/descriptive_docs/protein.html?highlight=chainsuperposition#superposing-protein-chains-and-binding-sites) and \n",
    "[API Documentation](https://downloads.ccdc.cam.ac.uk/documentation/API/modules/protein_api.html#ccdc.protein.Protein.ChainSuperposition) for further details.\n",
    "\n",
    "For simplicity, we are simply using the first ligand of the template protein to define the binding site (which we are assuming is the active site of the protein). In practice, there may be no ligand and/or multiple binding sites other than the active site (_e.g._ for inorganic ions, DMSO, GOL _etc._) so care would need to be taken that the correct one was chosen. "
   ]
  },
  {
   "cell_type": "code",
   "execution_count": 37,
   "metadata": {},
   "outputs": [],
   "source": [
    "proteins = [Protein.from_file(pdb_file) for pdb_file in pdb_files]  # Instantiate Protein objects"
   ]
  },
  {
   "cell_type": "code",
   "execution_count": 38,
   "metadata": {},
   "outputs": [],
   "source": [
    "superposer = Protein.ChainSuperposition()\n",
    "\n",
    "binding_site = Protein.BindingSiteFromMolecule(proteins[0], proteins[0].ligands[0], 6.0)  # First ligand binding site of template protein\n",
    "\n",
    "overlaid_protein = proteins[1].copy()  # The overlaid protein object will be altered, so we use a copy\n",
    "\n",
    "rmsd, _ = superposer.superpose(proteins[0].chains[0], overlaid_protein.chains[0], binding_site1=binding_site)  # Use first chain\n",
    "\n",
    "round(rmsd, 3)"
   ]
  },
  {
   "attachments": {},
   "cell_type": "markdown",
   "metadata": {},
   "source": [
    "Write out overlaid protein for visualization..."
   ]
  },
  {
   "cell_type": "code",
   "execution_count": 39,
   "metadata": {},
   "outputs": [],
   "source": [
    "with MoleculeWriter('overlaid_via_sequence.pdb') as writer:\n",
    "\n",
    "    writer.write(overlaid_protein)"
   ]
  },
  {
   "attachments": {},
   "cell_type": "markdown",
   "metadata": {},
   "source": [
    "#### 2) Overlay _via_ cavities\n",
    "\n",
    "For cavity-based overlay, we must use the original Cavity Graph Comparison method, as only it provides the transformation matrix. We will thus reuse the comparison result object `original` generated above."
   ]
  },
  {
   "cell_type": "code",
   "execution_count": 40,
   "metadata": {},
   "outputs": [],
   "source": [
    "# For reference, the command used to generate the comprison object above was...\n",
    "\n",
    "# original = cavities[0].compare(cavities[1], comparison_method=Cavity.ComparisonMethod.CAVITY_GRAPH_COMPARISON)  "
   ]
  },
  {
   "cell_type": "code",
   "execution_count": 41,
   "metadata": {},
   "outputs": [],
   "source": [
    "print(f\"\"\"\n",
    "score:       {original.score:.3f}\n",
    "rmsd:        {original.rmsd:.3f}\n",
    "matrix:      {original.transformation_matrix}\n",
    "\"\"\")"
   ]
  },
  {
   "attachments": {},
   "cell_type": "markdown",
   "metadata": {},
   "source": [
    "Apply the transformation..."
   ]
  },
  {
   "cell_type": "code",
   "execution_count": 42,
   "metadata": {},
   "outputs": [],
   "source": [
    "overlaid_protein = proteins[1].copy()  # The overlaid protein object will be altered, so we use a copy\n",
    "\n",
    "overlaid_protein.transform(original.transformation_matrix)  "
   ]
  },
  {
   "cell_type": "code",
   "execution_count": 43,
   "metadata": {},
   "outputs": [],
   "source": [
    "overlaid_protein.identifier"
   ]
  },
  {
   "attachments": {},
   "cell_type": "markdown",
   "metadata": {},
   "source": [
    "Write out overlaid protein for visualization..."
   ]
  },
  {
   "cell_type": "code",
   "execution_count": 44,
   "metadata": {},
   "outputs": [],
   "source": [
    "with MoleculeWriter('overlaid_via_cavities.pdb') as writer:\n",
    "    \n",
    "    writer.write(overlaid_protein)"
   ]
  },
  {
   "attachments": {},
   "cell_type": "markdown",
   "metadata": {},
   "source": [
    "#### Visualize overlays\n",
    "\n",
    "The overlays are very similar in this case, which is not surprising as the sequence homology is high and the folds are thus very similar. Where the cavity-overlay method could really help is in cases where homology is low but the cavities are similar as, for example, they have evolved to bind similar ligands."
   ]
  },
  {
   "cell_type": "code",
   "execution_count": 45,
   "metadata": {},
   "outputs": [],
   "source": [
    "run_hermes(pdb_files[0], 'overlaid_via_sequence.pdb', 'overlaid_via_cavities.pdb')"
   ]
  },
  {
   "attachments": {},
   "cell_type": "markdown",
   "metadata": {},
   "source": [
    "## Cavity Databases\n",
    "\n",
    "This part of the tutorial is still under development, and more detail is being added. Please see the [Descriptive Documentation](https://downloads.ccdc.cam.ac.uk/documentation/API/descriptive_docs/cavities.html#cavity-databases) for more material."
   ]
  },
  {
   "attachments": {},
   "cell_type": "markdown",
   "metadata": {},
   "source": [
    "A cavity database is built from a set of PDB files. For out test database, a small number of protease and kinase structures will be used:\n",
    "\n",
    "* Human FXa ([1fax](https://www.ebi.ac.uk/pdbe/entry/pdb/1fax)) \n",
    "* Human Thrombin ([5af9](https://www.ebi.ac.uk/pdbe/entry/pdb/5af9)) \n",
    "* Bovine Thrombin ([1ett](https://www.ebi.ac.uk/pdbe/entry/pdb/1ett))\n",
    "* SARS-Cov-2 MPro ([6lu7](https://www.ebi.ac.uk/pdbe/entry/pdb/6lu7))\n",
    "* SARS-Cov MPro ([2amq](https://www.ebi.ac.uk/pdbe/entry/pdb/2amq))\n",
    "* Human Spleen Tyrosine Kinase ([4px6](https://www.ebi.ac.uk/pdbe/entry/pdb/4px6), [4xg8](https://www.ebi.ac.uk/pdbe/entry/pdb/4xg8), [4yjp](https://www.ebi.ac.uk/pdbe/entry/pdb/4yjp), [5lma](https://www.ebi.ac.uk/pdbe/entry/pdb/5lma)). "
   ]
  },
  {
   "attachments": {},
   "cell_type": "markdown",
   "metadata": {},
   "source": [
    "Create a fresh database..."
   ]
  },
  {
   "cell_type": "code",
   "execution_count": 46,
   "metadata": {},
   "outputs": [],
   "source": [
    "db_file = Path('cavities.db')"
   ]
  },
  {
   "cell_type": "code",
   "execution_count": 47,
   "metadata": {},
   "outputs": [],
   "source": [
    "if db_file.exists():\n",
    "    \n",
    "    os.remove(db_file)"
   ]
  },
  {
   "cell_type": "code",
   "execution_count": 48,
   "metadata": {},
   "outputs": [],
   "source": [
    "db = CavityDatabase(str(db_file))"
   ]
  },
  {
   "cell_type": "code",
   "execution_count": 49,
   "metadata": {},
   "outputs": [],
   "source": [
    "db.populate_all(protein_dir, verbose=True)"
   ]
  },
  {
   "cell_type": "code",
   "execution_count": 50,
   "metadata": {},
   "outputs": [],
   "source": [
    "print(f'''\n",
    "Number of cavities: {db.get_number_of_cavities()}\n",
    "Number of ligands:  {db.get_number_of_ligands()}\n",
    "''')"
   ]
  },
  {
   "cell_type": "code",
   "execution_count": 51,
   "metadata": {},
   "outputs": [],
   "source": [
    "db_df = pd.DataFrame([{'name': name, **db.get_info_for_cavity(name)} for name in [x.identifier for x in db.cavities()]])\n",
    "\n",
    "db_df"
   ]
  },
  {
   "attachments": {},
   "cell_type": "markdown",
   "metadata": {},
   "source": [
    "Cavities may be found by PDB code..."
   ]
  },
  {
   "cell_type": "code",
   "execution_count": 52,
   "metadata": {},
   "outputs": [],
   "source": [
    "cavities = db.get_cavities_by_pdb_code('1fax')"
   ]
  },
  {
   "cell_type": "code",
   "execution_count": 53,
   "metadata": {},
   "outputs": [
    {
     "data": {
      "text/plain": [
       "['pdb1fax.2', 'pdb1fax.1']"
      ]
     },
     "execution_count": 53,
     "metadata": {},
     "output_type": "execute_result"
    }
   ],
   "source": [
    "[x.identifier for x in cavities]"
   ]
  },
  {
   "attachments": {},
   "cell_type": "markdown",
   "metadata": {},
   "source": [
    "Cavities may be also be found by ligand names..."
   ]
  },
  {
   "cell_type": "code",
   "execution_count": 54,
   "metadata": {},
   "outputs": [
    {
     "data": {
      "text/plain": [
       "'ALA-VAL-LEU-02J-PJE-010'"
      ]
     },
     "execution_count": 54,
     "metadata": {},
     "output_type": "execute_result"
    }
   ],
   "source": [
    "ligand_name = db.get_ligands_by_pdb_code('6lu7')[0]\n",
    "\n",
    "ligand_name"
   ]
  },
  {
   "cell_type": "code",
   "execution_count": 55,
   "metadata": {},
   "outputs": [],
   "source": [
    "[x.identifier for x in db.get_cavities_by_ligand(ligand_name)]"
   ]
  },
  {
   "attachments": {},
   "cell_type": "markdown",
   "metadata": {},
   "source": [
    "More complex quereis may be set up using the database [Settings](https://downloads.ccdc.cam.ac.uk/documentation/API/modules/cavities_api.html#ccdc.cavity.CavityDatabase.Settings) object... "
   ]
  },
  {
   "cell_type": "code",
   "execution_count": 56,
   "metadata": {},
   "outputs": [
    {
     "data": {
      "text/plain": [
       "['pdb2amq.4', 'pdb2amq.2', 'pdb4px6.1', 'pdb4xg8.1', 'pdb4yjp.1', 'pdb6lu7.1']"
      ]
     },
     "execution_count": 56,
     "metadata": {},
     "output_type": "execute_result"
    }
   ],
   "source": [
    "settings = db.Settings()\n",
    "\n",
    "settings.aromatic_range = [0, 2]\n",
    "\n",
    "settings.ligand_range = [1]\n",
    "\n",
    "cavities = db.search(settings=settings)\n",
    "\n",
    "[x.identifier for x in cavities]"
   ]
  },
  {
   "attachments": {},
   "cell_type": "markdown",
   "metadata": {},
   "source": [
    "The various cavity-comparion methods explore above may be used to search the database..."
   ]
  },
  {
   "cell_type": "code",
   "execution_count": 57,
   "metadata": {},
   "outputs": [],
   "source": [
    "# Give the methods friendly names...\n",
    "\n",
    "methods = {\n",
    "    'original':  Cavity.ComparisonMethod.CAVITY_GRAPH_COMPARISON,\n",
    "    'fast':      Cavity.ComparisonMethod.FAST_CAVITY_GRAPH_COMPARISON,\n",
    "    'histogram': Cavity.ComparisonMethod.CAVITY_HISTOGRAMS_COMPARISON,\n",
    "}"
   ]
  },
  {
   "cell_type": "code",
   "execution_count": 58,
   "metadata": {},
   "outputs": [],
   "source": [
    "query = db.cavity('pdb1fax.1')"
   ]
  },
  {
   "attachments": {},
   "cell_type": "markdown",
   "metadata": {},
   "source": [
    "Search the test database using all methods..."
   ]
  },
  {
   "cell_type": "code",
   "execution_count": null,
   "metadata": {},
   "outputs": [],
   "source": [
    "results = {name: db.search(query, comparison_method=value) for name, value in methods.items()}"
   ]
  },
  {
   "attachments": {},
   "cell_type": "markdown",
   "metadata": {},
   "source": [
    "Build a dataframe of the scores for inspection..."
   ]
  },
  {
   "cell_type": "code",
   "execution_count": null,
   "metadata": {},
   "outputs": [],
   "source": [
    "dfs = [pd.DataFrame(data, columns=[method, 'cavity']).assign(**{method: lambda df: df[method] / df[method].iloc[0]}) for method, data in results.items()]\n",
    "\n",
    "results_df = reduce(pd.merge, dfs)[['cavity', *results.keys()]]"
   ]
  },
  {
   "cell_type": "code",
   "execution_count": null,
   "metadata": {},
   "outputs": [],
   "source": [
    "results_df"
   ]
  },
  {
   "attachments": {},
   "cell_type": "markdown",
   "metadata": {},
   "source": [
    "We can plot the scores for the various methods against each other to see how the methods compare (_N.B._ the self-comparison of `pdb1fax.1` against itself is excluded)..."
   ]
  },
  {
   "cell_type": "code",
   "execution_count": null,
   "metadata": {},
   "outputs": [],
   "source": [
    "with warnings.catch_warnings():\n",
    "    warnings.filterwarnings(action='ignore', category=DeprecationWarning)  # Ignore current 'distutils Version classes are deprecated' warning\n",
    "    \n",
    "    px.scatter(results_df.iloc[1:], x='original', y='fast', hover_name='cavity')\n",
    "    \n",
    "    px.scatter(results_df.iloc[1:], x='original', y='histogram', hover_name='cavity')"
   ]
  },
  {
   "attachments": {},
   "cell_type": "markdown",
   "metadata": {},
   "source": [
    "Recall that the query is the active site for human Factor Xa. The human and bovine Thrombin active sites are clearly ranked highest by the `original` method, with the two MPro active sites being next and other protease cavities and the kinase active sites ranked below them.  The `fast` method also finds the protease active sites although the difference in scores is not pronounced at the lower end.\n",
    "\n",
    "The histogram method is not performing well on this set."
   ]
  },
  {
   "attachments": {},
   "cell_type": "markdown",
   "metadata": {},
   "source": [
    "Search for a kinase active site instead..."
   ]
  },
  {
   "cell_type": "code",
   "execution_count": null,
   "metadata": {},
   "outputs": [],
   "source": [
    "query_2 = db.get_cavities_by_pdb_code('5lma')[0]\n",
    "\n",
    "query_2.identifier"
   ]
  },
  {
   "cell_type": "code",
   "execution_count": null,
   "metadata": {},
   "outputs": [],
   "source": [
    "results_2 = {name: db.search(query_2, comparison_method=value) for name, value in methods.items()}"
   ]
  },
  {
   "cell_type": "code",
   "execution_count": null,
   "metadata": {},
   "outputs": [],
   "source": [
    "dfs = [pd.DataFrame(data, columns=[method, 'cavity']).assign(**{method: lambda df: df[method] / df[method].iloc[0]}) for method, data in results_2.items()]\n",
    "\n",
    "results_2_df = reduce(pd.merge, dfs)[['cavity', *results_2.keys()]]"
   ]
  },
  {
   "cell_type": "code",
   "execution_count": null,
   "metadata": {},
   "outputs": [],
   "source": [
    "results_2_df"
   ]
  },
  {
   "cell_type": "code",
   "execution_count": null,
   "metadata": {},
   "outputs": [],
   "source": [
    "with warnings.catch_warnings():\n",
    "    warnings.filterwarnings(action='ignore', category=DeprecationWarning)  # Ignore current 'distutils Version classes are deprecated' warning\n",
    "    \n",
    "    px.scatter(results_2_df.iloc[1:], x='original', y='fast', hover_name='cavity')\n",
    "    \n",
    "    px.scatter(results_2_df.iloc[1:], x='original', y='histogram', hover_name='cavity')"
   ]
  },
  {
   "attachments": {},
   "cell_type": "markdown",
   "metadata": {},
   "source": [
    "The kinase active sites are identified by the `original` and `fast` methods, with the `original` method again showing a much clearer separartion. The `histogram` method has again scored poorly.\n",
    "\n",
    "These results show that the slower `original` method performs by far the best, with the `fast` method next. The fastest method, `histogram`, is not performing well here. Thus the trade-off between speed and quality of results is very plain. "
   ]
  }
 ],
 "metadata": {
  "kernelspec": {
   "display_name": "Python 3 (ipykernel)",
   "language": "python",
   "name": "python3"
  },
  "language_info": {
   "codemirror_mode": {
    "name": "ipython",
    "version": 3
   },
   "file_extension": ".py",
   "mimetype": "text/x-python",
   "name": "python",
   "nbconvert_exporter": "python",
   "pygments_lexer": "ipython3",
   "version": "3.9.16"
  }
 },
 "nbformat": 4,
 "nbformat_minor": 4
}
