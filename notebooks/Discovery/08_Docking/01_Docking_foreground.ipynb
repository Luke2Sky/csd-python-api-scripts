{
 "cells": [
  {
   "attachments": {},
   "cell_type": "markdown",
   "metadata": {},
   "source": [
    "```\n",
    "This script can be used for any purpose without limitation subject to the\n",
    "conditions at http://www.ccdc.cam.ac.uk/Community/Pages/Licences/v2.aspx\n",
    "\n",
    "This permission notice and the following statement of attribution must be\n",
    "included in all copies or substantial portions of this script.\n",
    "\n",
    "2022-06-01: Made available by the Cambridge Crystallographic Data Centre.\n",
    "\n",
    "```"
   ]
  },
  {
   "attachments": {},
   "cell_type": "markdown",
   "metadata": {},
   "source": [
    "# Run GOLD using the CSD Python API\n",
    "\n",
    "In this set if notebooks we illustrate setting up and running dockings _via_ the CSD Python API `docking` module.\n",
    "\n",
    "There are various modes in which the API can be used run GOLD...\n",
    "\n",
    "* In `foreground` mode, the default, the script waits for the docking run it to finish before proceeding. This is the simplest mode, but is best used with smaller jobs as there is no way for the calling script to monitor progress.\n",
    "\n",
    "* In `background` mode, control is returned to the script while GOLD runs. This can be useful as the script can monitor progress by, for example, watching for output files to be created and/or by reading log files.\n",
    "\n",
    "* In `interactive` mode, the script communicates with GOLD _via_ a socket. This can be very useful in various circumstances, such as where precise monitoring of progress is required.\n",
    "\n",
    "Docking using the API may be configured in various ways...\n",
    "\n",
    "* All configuration may be performed _via_ API methods. This is particularly useful when attempting to optimise parameter sets, as these may be explored programmatically. Such optimization might be appropriate when investigating a new protein target, or when some particular trade-off between speed and accuracy is required.\n",
    "\n",
    "* A pre-prepared GOLD conf file may be uploaded to perform the configuration. This is useful when sharing a particular configuration that has been prepared using the GOLD tools in Hermes or programatically _via_ the API.\n",
    "\n",
    "* A GOLD conf file may be uploaded and then the configurtion modified using API methods.\n",
    "\n",
    "Various combinations of mode and configuration method are explored in this collection of notebooks.\n",
    "\n",
    "Note that in all the notebooks, a fresh directory for the docking run is created and changed into and the docking then run in the current working directory; this is in contrast to having GOLD create the output directory. I prefer to run GOLD this way as I find it slightly tidier than the alternative, but it is a matter of opinion.\n",
    "\n",
    "In this notebook, the docking is configured entirely using the API and GOLD is run in the default `foreground` mode."
   ]
  },
  {
   "attachments": {},
   "cell_type": "markdown",
   "metadata": {},
   "source": [
    "#### GOLD docs\n",
    "* [User Guide](https://www.ccdc.cam.ac.uk/support-and-resources/ccdcresources/GOLD_User_Guide.pdf)\n",
    "* [Conf file](https://www.ccdc.cam.ac.uk/support-and-resources/ccdcresources/GOLD_conf_file_user_guide.pdf)\n",
    "\n",
    "#### Docking API docs\n",
    "* [Descriptive](https://downloads.ccdc.cam.ac.uk/documentation/API/descriptive_docs/docking.html)\n",
    "* [Module API](https://downloads.ccdc.cam.ac.uk/documentation/API/modules/docking_api.html)"
   ]
  },
  {
   "cell_type": "code",
   "execution_count": 1,
   "metadata": {},
   "outputs": [],
   "source": [
    "import sys\n",
    "import os\n",
    "import shutil\n",
    "from pathlib import Path\n",
    "import time\n",
    "import subprocess\n",
    "\n",
    "import warnings\n",
    "\n",
    "sys.path.append('../..')\n",
    "from ccdc_notebook_utilities import run_hermes, create_logger"
   ]
  },
  {
   "cell_type": "code",
   "execution_count": 2,
   "metadata": {},
   "outputs": [],
   "source": [
    "with warnings.catch_warnings():\n",
    "    warnings.filterwarnings(action='ignore', category=DeprecationWarning)  # Ignore current 'distutils Version classes are deprecated' warning\n",
    "    \n",
    "    import pandas as pd"
   ]
  },
  {
   "cell_type": "code",
   "execution_count": 3,
   "metadata": {},
   "outputs": [],
   "source": [
    "from IPython.display import HTML"
   ]
  },
  {
   "cell_type": "code",
   "execution_count": 4,
   "metadata": {},
   "outputs": [],
   "source": [
    "import ccdc\n",
    "from ccdc.io import MoleculeReader, EntryReader, EntryWriter\n",
    "from ccdc.docking import Docker\n",
    "from ccdc.diagram import DiagramGenerator"
   ]
  },
  {
   "cell_type": "code",
   "execution_count": null,
   "metadata": {},
   "outputs": [],
   "source": []
  },
  {
   "attachments": {},
   "cell_type": "markdown",
   "metadata": {},
   "source": [
    "### Initialization"
   ]
  },
  {
   "cell_type": "code",
   "execution_count": 5,
   "metadata": {},
   "outputs": [
    {
     "name": "stderr",
     "output_type": "stream",
     "text": [
      "[23-05-17 11:21:02 INFO   ] \n",
      "Platform:                     Windows-10-10.0.19045-SP0\n",
      "\n",
      "Python exe:                   C:\\Users\\cole\\Anaconda3\\envs\\latest_csd_python_api\\python.exe\n",
      "Python version:               3.9.16\n",
      "\n",
      "CSD version:                  544\n",
      "CSD directory:                C:/Users/cole/CCDC/ccdc-data/csd\n",
      "API version:                  3.0.15\n",
      "\n",
      "CSDHOME:                      C:/Users/cole/CCDC/ccdc-data/csd\n",
      "CCDC_LICENSING_CONFIGURATION: Not set\n",
      "\n"
     ]
    }
   ],
   "source": [
    "logger = create_logger()"
   ]
  },
  {
   "attachments": {},
   "cell_type": "markdown",
   "metadata": {},
   "source": [
    "### Config"
   ]
  },
  {
   "attachments": {},
   "cell_type": "markdown",
   "metadata": {},
   "source": [
    "The directory containing the input files for these dockings; directory must exist..."
   ]
  },
  {
   "cell_type": "code",
   "execution_count": 6,
   "metadata": {},
   "outputs": [],
   "source": [
    "input_dir = Path('input_files').absolute()"
   ]
  },
  {
   "attachments": {},
   "cell_type": "markdown",
   "metadata": {},
   "source": [
    "Protein target and a native ligand (used to define binding site); files must exist..."
   ]
  },
  {
   "cell_type": "code",
   "execution_count": 7,
   "metadata": {},
   "outputs": [],
   "source": [
    "target_dir = input_dir / 'target'\n",
    "\n",
    "protein_file = target_dir / 'protein.mol2'\n",
    "ligand_file  = target_dir / 'ligand.mol2'"
   ]
  },
  {
   "attachments": {},
   "cell_type": "markdown",
   "metadata": {},
   "source": [
    "Molecules to dock; file must exist..."
   ]
  },
  {
   "cell_type": "code",
   "execution_count": 8,
   "metadata": {},
   "outputs": [],
   "source": [
    "input_file = input_dir / 'input.sdf'  # 'input.mol2'"
   ]
  },
  {
   "cell_type": "code",
   "execution_count": null,
   "metadata": {},
   "outputs": [],
   "source": []
  },
  {
   "attachments": {},
   "cell_type": "markdown",
   "metadata": {},
   "source": [
    "Binding site radius..."
   ]
  },
  {
   "cell_type": "code",
   "execution_count": 9,
   "metadata": {},
   "outputs": [],
   "source": [
    "radius = 6"
   ]
  },
  {
   "attachments": {},
   "cell_type": "markdown",
   "metadata": {},
   "source": [
    "Number of dockings (_i.e._ GA runs) per ligand; default is 10..."
   ]
  },
  {
   "cell_type": "code",
   "execution_count": 10,
   "metadata": {},
   "outputs": [],
   "source": [
    "ndocks = 5  # Set to 5 for speed"
   ]
  },
  {
   "attachments": {},
   "cell_type": "markdown",
   "metadata": {},
   "source": [
    "Fitness function (Options are 'goldscore', 'chemscore', 'asp', 'plp'. GoldScore is selected by default)...."
   ]
  },
  {
   "cell_type": "code",
   "execution_count": 11,
   "metadata": {},
   "outputs": [],
   "source": [
    "fitness_function = 'plp'"
   ]
  },
  {
   "attachments": {},
   "cell_type": "markdown",
   "metadata": {},
   "source": [
    "Autoscale parameter (as a percentage); default is 100%..."
   ]
  },
  {
   "cell_type": "code",
   "execution_count": 12,
   "metadata": {},
   "outputs": [],
   "source": [
    "autoscale = 30  # Set to 30% for speed"
   ]
  },
  {
   "attachments": {},
   "cell_type": "markdown",
   "metadata": {},
   "source": [
    "Output directory (will be created)..."
   ]
  },
  {
   "cell_type": "code",
   "execution_count": 13,
   "metadata": {},
   "outputs": [],
   "source": [
    "output_dir = Path('output_foreground')"
   ]
  },
  {
   "attachments": {},
   "cell_type": "markdown",
   "metadata": {},
   "source": [
    "Output format (_N.B._ the input file format would be used if the output format is not specified)..."
   ]
  },
  {
   "cell_type": "code",
   "execution_count": 14,
   "metadata": {},
   "outputs": [],
   "source": [
    "output_format = 'sdf'  # 'mol2'"
   ]
  },
  {
   "attachments": {},
   "cell_type": "markdown",
   "metadata": {},
   "source": [
    "Write options (see [here](https://downloads.ccdc.cam.ac.uk/documentation/API/modules/docking_api.html?highlight=write_options#ccdc.docking.Docker.Settings.write_options) for available options, and the GOLD Configuration File User Guide, Chapter 16 for more details)."
   ]
  },
  {
   "cell_type": "code",
   "execution_count": 15,
   "metadata": {},
   "outputs": [],
   "source": [
    "write_options = ['NO_LINK_FILES', 'NO_RNK_FILES', 'NO_GOLD_LIGAND_MOL2_FILE']"
   ]
  },
  {
   "attachments": {},
   "cell_type": "markdown",
   "metadata": {},
   "source": [
    "Lone pairs are written by default; however, we will turn them off here as they can cause issues for some third-party programs..."
   ]
  },
  {
   "cell_type": "code",
   "execution_count": 16,
   "metadata": {},
   "outputs": [],
   "source": [
    "save_lone_pairs = False"
   ]
  },
  {
   "cell_type": "code",
   "execution_count": 17,
   "metadata": {},
   "outputs": [],
   "source": [
    "diagram_generator = DiagramGenerator()\n",
    "\n",
    "diagram_generator.settings.return_type = 'SVG'\n",
    "diagram_generator.settings.explicit_polar_hydrogens = False\n",
    "diagram_generator.settings.shrink_symbols = False"
   ]
  },
  {
   "cell_type": "code",
   "execution_count": 18,
   "metadata": {},
   "outputs": [],
   "source": [
    "# Utility function to help with display in Jupyter-Lab...\n",
    "\n",
    "def show_dataframe(df):\n",
    "    \n",
    "    return HTML(df.to_html(escape=False).replace(r'\\n', ''))"
   ]
  },
  {
   "attachments": {},
   "cell_type": "markdown",
   "metadata": {},
   "source": [
    "Utility to improve renedering of DataFrames..."
   ]
  },
  {
   "cell_type": "code",
   "execution_count": 19,
   "metadata": {},
   "outputs": [],
   "source": [
    "show_df = lambda df: df.style.set_properties(**{'text-align': 'left'})"
   ]
  },
  {
   "attachments": {},
   "cell_type": "markdown",
   "metadata": {},
   "source": [
    "Create a fresh output directory for the docking run..."
   ]
  },
  {
   "cell_type": "code",
   "execution_count": 20,
   "metadata": {},
   "outputs": [],
   "source": [
    "if output_dir.exists():\n",
    "    \n",
    "    logger.warning(f\"The output directory '{output_dir}' exists and will be overwritten.\")\n",
    "    \n",
    "    shutil.rmtree(output_dir)\n",
    "    \n",
    "output_dir.mkdir()\n",
    "\n",
    "os.chdir(output_dir)"
   ]
  },
  {
   "cell_type": "code",
   "execution_count": 21,
   "metadata": {},
   "outputs": [],
   "source": [
    "logger.info(f\"In output dir: '{Path('.').absolute()}'\")"
   ]
  },
  {
   "attachments": {},
   "cell_type": "markdown",
   "metadata": {},
   "source": [
    "### Configure docking\n",
    "\n",
    "Here, the docking configuration is set up from scratch using the API. We do this by instantiating a `Docker.Settings` object and modifying it _via_ it's methods and attributes..."
   ]
  },
  {
   "cell_type": "code",
   "execution_count": 22,
   "metadata": {},
   "outputs": [],
   "source": [
    "settings = Docker.Settings()"
   ]
  },
  {
   "attachments": {},
   "cell_type": "markdown",
   "metadata": {},
   "source": [
    "Specify the protein target..."
   ]
  },
  {
   "cell_type": "code",
   "execution_count": 23,
   "metadata": {},
   "outputs": [],
   "source": [
    "settings.add_protein_file(str(protein_file))"
   ]
  },
  {
   "attachments": {},
   "cell_type": "markdown",
   "metadata": {},
   "source": [
    "Define the binding site using the native ligand..."
   ]
  },
  {
   "cell_type": "code",
   "execution_count": 24,
   "metadata": {},
   "outputs": [],
   "source": [
    "native_ligand = MoleculeReader(str(ligand_file))[0]\n",
    "\n",
    "settings.binding_site = settings.BindingSiteFromLigand(settings.proteins[0], native_ligand, radius)"
   ]
  },
  {
   "attachments": {},
   "cell_type": "markdown",
   "metadata": {},
   "source": [
    "Specify the input file of compounds to dock..."
   ]
  },
  {
   "cell_type": "code",
   "execution_count": 25,
   "metadata": {},
   "outputs": [],
   "source": [
    "settings.add_ligand_file(str(input_file), ndocks=ndocks)"
   ]
  },
  {
   "attachments": {},
   "cell_type": "markdown",
   "metadata": {},
   "source": [
    "Note that the `output_directory` attribute is set by default to the currrent directory..."
   ]
  },
  {
   "cell_type": "code",
   "execution_count": 26,
   "metadata": {},
   "outputs": [],
   "source": [
    "logger.info(f\"settings.output_directory: '{settings.output_directory}'\")"
   ]
  },
  {
   "attachments": {},
   "cell_type": "markdown",
   "metadata": {},
   "source": [
    "Set other options as specified above..."
   ]
  },
  {
   "cell_type": "code",
   "execution_count": 27,
   "metadata": {},
   "outputs": [],
   "source": [
    "settings.output_format = output_format"
   ]
  },
  {
   "cell_type": "code",
   "execution_count": 28,
   "metadata": {},
   "outputs": [],
   "source": [
    "settings.fitness_function = fitness_function"
   ]
  },
  {
   "cell_type": "code",
   "execution_count": 29,
   "metadata": {},
   "outputs": [],
   "source": [
    "settings.autoscale = autoscale"
   ]
  },
  {
   "cell_type": "code",
   "execution_count": 30,
   "metadata": {},
   "outputs": [],
   "source": [
    "settings.write_options = write_options"
   ]
  },
  {
   "cell_type": "code",
   "execution_count": 31,
   "metadata": {},
   "outputs": [],
   "source": [
    "settings.save_lone_pairs = save_lone_pairs"
   ]
  },
  {
   "attachments": {},
   "cell_type": "markdown",
   "metadata": {},
   "source": [
    "#### Add a protein H-bond constraint\n",
    "\n",
    "Here we add a protein H-bond constraint to the backbone NH that donates the conserved H-bond in the hinge.\n",
    "\n",
    "This means the fitness of a docked ligand will be penalised if it doesn't make an H-bond with this atom.  Note that the penalty applied can be modified _via_ the [weight](https://downloads.ccdc.cam.ac.uk/documentation/API/modules/docking_api.html#ccdc.docking.Docker.Settings.ProteinHBondConstraint) parameter."
   ]
  },
  {
   "cell_type": "code",
   "execution_count": 32,
   "metadata": {},
   "outputs": [],
   "source": [
    "chain_label, residue_label, atom_label = 'A', 'ALA451', 'H'  # Conserved hinge H-bond donor"
   ]
  },
  {
   "cell_type": "code",
   "execution_count": 33,
   "metadata": {},
   "outputs": [],
   "source": [
    "protein = settings.proteins[0]\n",
    "\n",
    "atom = [atom for atom in protein[f'{chain_label}:{residue_label}'].atoms if atom.label == atom_label][0]\n",
    "\n",
    "settings.add_constraint(settings.ProteinHBondConstraint([atom]))"
   ]
  },
  {
   "cell_type": "code",
   "execution_count": 34,
   "metadata": {},
   "outputs": [],
   "source": [
    "constraint = settings.constraints[0]\n",
    "\n",
    "logger.info(f\"\"\"\n",
    "Atom index: {constraint.atoms[0].index}\n",
    "Weight:     {constraint.weight}\n",
    "Min. Score: {constraint.min_hbond_score}\n",
    "\"\"\")"
   ]
  },
  {
   "attachments": {},
   "cell_type": "markdown",
   "metadata": {},
   "source": [
    "### Run docking\n",
    "\n",
    "Here we run GOLD in `foreground` mode...\n",
    "\n",
    "Note the status code is checked to see if GOLD exited successfully."
   ]
  },
  {
   "cell_type": "code",
   "execution_count": 35,
   "metadata": {},
   "outputs": [],
   "source": [
    "%%time\n",
    "\n",
    "docker = Docker(settings=settings)\n",
    "\n",
    "results = docker.dock(mode='foreground', file_name='api_gold.conf') \n",
    "\n",
    "assert results.return_code == 0, \"Error! GOLD did not run successfully.\""
   ]
  },
  {
   "attachments": {},
   "cell_type": "markdown",
   "metadata": {},
   "source": [
    "### The Results object\n",
    "\n",
    "Once the docking has finished, we can examine the output in various ways. For example, the [Results](https://downloads.ccdc.cam.ac.uk/documentation/API/modules/docking_api.html#ccdc.docking.Docker.Results) object can be used to access the solutions as [DockedLigand](https://downloads.ccdc.cam.ac.uk/documentation/API/modules/docking_api.html#ccdc.docking.Docker.Results.DockedLigand) objects, which allow access to all data about the docking."
   ]
  },
  {
   "cell_type": "code",
   "execution_count": 36,
   "metadata": {},
   "outputs": [],
   "source": [
    "logger.info(f\"No. solutions: {len(results.ligands)}.\")"
   ]
  },
  {
   "cell_type": "code",
   "execution_count": 37,
   "metadata": {},
   "outputs": [],
   "source": [
    "soln = results.ligands[0]\n",
    "\n",
    "logger.info(f\"Name: '{soln.identifier}'; Fitness: {soln.fitness():.2f}\")"
   ]
  },
  {
   "attachments": {},
   "cell_type": "markdown",
   "metadata": {},
   "source": [
    "The `fitness` method of the solution object provide a simple way of accessing the fitness score..."
   ]
  },
  {
   "cell_type": "code",
   "execution_count": 38,
   "metadata": {},
   "outputs": [],
   "source": [
    "soln.fitness()"
   ]
  },
  {
   "cell_type": "code",
   "execution_count": null,
   "metadata": {},
   "outputs": [],
   "source": []
  },
  {
   "attachments": {},
   "cell_type": "markdown",
   "metadata": {},
   "source": [
    "#### The Fitness Score\n",
    "\n",
    "The `scoring_term` method of the solution object gives access to the fitness score and all it's various components..."
   ]
  },
  {
   "cell_type": "code",
   "execution_count": 39,
   "metadata": {},
   "outputs": [],
   "source": [
    "soln.scoring_term()"
   ]
  },
  {
   "attachments": {},
   "cell_type": "markdown",
   "metadata": {},
   "source": [
    "This can be used to build a table for further analysis (_N.B._ this isn't optimised for efficiency or elegance)...\n",
    "\n",
    "Note that `fitness` is just a convenient duplicate of, in this case, `Gold.PLP.Fitness`; for other scoring functions the name of the column duplicated by `fitness` will obviously be different. Note also that the solutions for a ligand appear in the order the are found by GOLD: thus they are not sorted by fitness by default."
   ]
  },
  {
   "cell_type": "code",
   "execution_count": 40,
   "metadata": {},
   "outputs": [],
   "source": [
    "scores_df = (\n",
    "        pd.DataFrame([\n",
    "            {\n",
    "                'identifier': x.identifier,                # Solution identifier\n",
    "                'fitness': x.fitness(),                    # Fitness score\n",
    "                **x.scoring_term(),                        # Fitness score components (column names will differ for different scoring functions)\n",
    "                'index': int(x.identifier.split('|')[3]),  # For convenience, add index of ligand (i.e. it's position in input file)\n",
    "                'soln': x,                                 # Add a convenient reference to the solution's result object (see below for use)\n",
    "                \n",
    "            }\n",
    "            for x in results.ligands]\n",
    "        )    )\n",
    "\n",
    "scores_df.shape"
   ]
  },
  {
   "cell_type": "code",
   "execution_count": 41,
   "metadata": {},
   "outputs": [],
   "source": [
    "scores_df.drop(columns=['soln']).head()"
   ]
  },
  {
   "attachments": {},
   "cell_type": "markdown",
   "metadata": {},
   "source": [
    "Sort on `fitness` to see the top scoring solutions..."
   ]
  },
  {
   "cell_type": "code",
   "execution_count": 42,
   "metadata": {},
   "outputs": [],
   "source": [
    "scores_df.sort_values('fitness', ascending=False).drop(columns=['soln']).head()"
   ]
  },
  {
   "attachments": {},
   "cell_type": "markdown",
   "metadata": {},
   "source": [
    "Examine only solutions for first ligand..."
   ]
  },
  {
   "cell_type": "code",
   "execution_count": 43,
   "metadata": {},
   "outputs": [],
   "source": [
    "with warnings.catch_warnings():\n",
    "    warnings.filterwarnings(action='ignore', category=DeprecationWarning)  # Ignore current 'distutils Version classes are deprecated' warning\n",
    "    \n",
    "    scores_df.query(\"index == 1\").sort_values('fitness', ascending=False).drop(columns=['soln']).head()"
   ]
  },
  {
   "cell_type": "code",
   "execution_count": null,
   "metadata": {},
   "outputs": [],
   "source": []
  },
  {
   "attachments": {},
   "cell_type": "markdown",
   "metadata": {},
   "source": [
    "#### Other information\n",
    "\n",
    "Futher information, including _e.g._ the mobile atoms of the protein and H-bonds made are available _via_ the solution's `attributes`..."
   ]
  },
  {
   "cell_type": "code",
   "execution_count": 44,
   "metadata": {},
   "outputs": [],
   "source": [
    "print(f\"\"\"\n",
    "Rotated Torsions:\n",
    "{soln.attributes['Gold.Protein.RotatedTorsions']}\n",
    "\n",
    "Rotated Atoms:\n",
    "{soln.attributes['Gold.Protein.RotatedAtoms']}\n",
    "\n",
    "Chemscore Hbonds:\n",
    "{soln.attributes['Gold.Chemscore.Hbonds']}\n",
    "\"\"\")"
   ]
  },
  {
   "cell_type": "code",
   "execution_count": null,
   "metadata": {},
   "outputs": [],
   "source": []
  },
  {
   "attachments": {},
   "cell_type": "markdown",
   "metadata": {},
   "source": [
    "#### Examining constraints\n",
    "\n",
    "The 'Constraint' component of the score shows whether any constraints were satisfied.\n",
    "\n",
    "Note that a _protein_ hydrogen-bond constraint being satisfied doesn't mean the 'correct' ligand atom made the H-bond to the protein atom."
   ]
  },
  {
   "cell_type": "code",
   "execution_count": 45,
   "metadata": {},
   "outputs": [],
   "source": [
    "constraints_df = scores_df[['identifier', 'Gold.PLP.Fitness', 'Gold.PLP.Constraint']].sort_values('Gold.PLP.Fitness', ascending=False)"
   ]
  },
  {
   "attachments": {},
   "cell_type": "markdown",
   "metadata": {},
   "source": [
    "The top scorers all have the constraint satisfied..."
   ]
  },
  {
   "cell_type": "code",
   "execution_count": 46,
   "metadata": {},
   "outputs": [],
   "source": [
    "constraints_df.head(5)"
   ]
  },
  {
   "attachments": {},
   "cell_type": "markdown",
   "metadata": {},
   "source": [
    "There a couple of cases where the 'bad' ligand fails to make the conserved H-bond and so the constraint penalty is applied..."
   ]
  },
  {
   "cell_type": "code",
   "execution_count": 47,
   "metadata": {},
   "outputs": [],
   "source": [
    "# constraints_df[constraints_df['soln'].str.match(r'5LMA_bad\\|')]\n",
    "\n",
    "constraints_df[constraints_df['Gold.PLP.Constraint'] < 0.0]"
   ]
  },
  {
   "attachments": {},
   "cell_type": "markdown",
   "metadata": {},
   "source": [
    "This implies that most solutions for the 'bad' ligand make the H-bond. Inspection in Hermes (see below) confirms that this is indeed the case: the H-bond is made, but not in a wholly realistic manner (as reflected in the generally low scores)."
   ]
  },
  {
   "cell_type": "code",
   "execution_count": null,
   "metadata": {},
   "outputs": [],
   "source": []
  },
  {
   "attachments": {},
   "cell_type": "markdown",
   "metadata": {},
   "source": [
    "#### API Molecule object\n",
    "\n",
    "The solution also contains an [Molecule](https://downloads.ccdc.cam.ac.uk/documentation/API/descriptive_docs/molecule.html) object..."
   ]
  },
  {
   "cell_type": "code",
   "execution_count": 48,
   "metadata": {},
   "outputs": [],
   "source": [
    "soln.molecule.atoms[:5],soln.molecule.bonds[:2]"
   ]
  },
  {
   "cell_type": "code",
   "execution_count": 49,
   "metadata": {},
   "outputs": [],
   "source": [
    "print('\\n'.join(soln.molecule.to_string('mol2').split('\\n')[:2]))  # Convert to MOL2"
   ]
  },
  {
   "cell_type": "code",
   "execution_count": 50,
   "metadata": {},
   "outputs": [],
   "source": [
    "print('\\n'.join(soln.molecule.to_string('sdf').split('\\n')[:2]))  # Convert to SDF"
   ]
  },
  {
   "cell_type": "code",
   "execution_count": null,
   "metadata": {},
   "outputs": [],
   "source": []
  },
  {
   "attachments": {},
   "cell_type": "markdown",
   "metadata": {},
   "source": [
    "### Visualization"
   ]
  },
  {
   "attachments": {},
   "cell_type": "markdown",
   "metadata": {},
   "source": [
    "#### Hermes\n",
    "\n",
    "The results of a GOLD run setup and run _via_ the API may be visualized in Hermes by loading the GOLD conf file written by the API..."
   ]
  },
  {
   "cell_type": "code",
   "execution_count": 51,
   "metadata": {},
   "outputs": [],
   "source": [
    "run_hermes('api_gold.conf')"
   ]
  },
  {
   "attachments": {},
   "cell_type": "markdown",
   "metadata": {},
   "source": [
    "#### Exporting complexes for import into other visualizers"
   ]
  },
  {
   "attachments": {},
   "cell_type": "markdown",
   "metadata": {},
   "source": [
    "Hermes will automatically adjust rotatable bonds on the protein as each solution is loaded. If another visualizer is to be used, such as PyMOL or YASARA, then the [make_complex](https://downloads.ccdc.cam.ac.uk/documentation/API/modules/docking_api.html#ccdc.docking.Docker.Results.make_complex) method of the `Results` object be useful. This creates a complex between the protein and a docked solution, adjusting rotatable bonds as required. See [here](https://www.ccdc.cam.ac.uk/support-and-resources/support/case/?caseid=58574edf-72e0-e511-aa29-005056868fc8) for a note on lone pairs in GOLD output."
   ]
  },
  {
   "cell_type": "code",
   "execution_count": 52,
   "metadata": {},
   "outputs": [],
   "source": [
    "export_format = 'pdb'  # File format in which to export protein-ligand complexes\n",
    "\n",
    "complexed = results.make_complex(soln) \n",
    "\n",
    "complexed.remove_unknown_atoms()  # Remove lone pairs for export\n",
    "\n",
    "file_path = f'complexed.{export_format}'\n",
    "\n",
    "with EntryWriter(file_path) as writer:\n",
    "    \n",
    "    writer.write(complexed)"
   ]
  },
  {
   "cell_type": "code",
   "execution_count": null,
   "metadata": {},
   "outputs": [],
   "source": []
  },
  {
   "attachments": {},
   "cell_type": "markdown",
   "metadata": {},
   "source": [
    "This facility can also be used to export all solutions. In the example below, solutions are exported in descending order of fitness for each input ligand in turn."
   ]
  },
  {
   "cell_type": "code",
   "execution_count": 53,
   "metadata": {},
   "outputs": [],
   "source": [
    "complexes_dir = Path('complexes')\n",
    "\n",
    "complexes_dir.mkdir(exist_ok=True)"
   ]
  },
  {
   "cell_type": "code",
   "execution_count": 54,
   "metadata": {},
   "outputs": [],
   "source": [
    "for index, df in scores_df.groupby('index'):  # Index is the ligand's position in input file\n",
    "    \n",
    "    for rank, soln in enumerate(df.sort_values('fitness', ascending=False)['soln'], 1):  # Rank solutions for ligand by fitness\n",
    "\n",
    "        complexed = results.make_complex(soln) \n",
    "\n",
    "        complexed.remove_unknown_atoms()  # Remove lone pairs for export\n",
    "        \n",
    "        file_path = complexes_dir / f'{index:03d}_{rank:02d}.{export_format}'\n",
    "\n",
    "        with EntryWriter(str(file_path)) as writer:\n",
    "    \n",
    "            writer.write(complexed)\n",
    "        \n",
    "            logger.info(f\"Solution {soln.identifier:30} (fitness {soln.fitness():.1f}) written to file {file_path}.\")"
   ]
  },
  {
   "cell_type": "code",
   "execution_count": null,
   "metadata": {},
   "outputs": [],
   "source": []
  },
  {
   "attachments": {},
   "cell_type": "markdown",
   "metadata": {},
   "source": [
    "### Reloading results\n",
    "\n",
    "A docking run _via_ the API may also be configured by reading in a `gold.conf` file usinf the `Docker.Settings.from_file` method (note that the settings may subsequently be modified). Setting up a GOLD docking this way is demonstarted in other notebooks on this directory. \n",
    "\n",
    "The same method may be used to read in the `gold.conf` file from a (completed docking run, which gives access to a recreated `results` object which can be used for analyses of the docking as illustrated above."
   ]
  },
  {
   "cell_type": "code",
   "execution_count": 55,
   "metadata": {},
   "outputs": [],
   "source": [
    "settings = Docker.Settings.from_file('api_gold.conf')\n",
    "\n",
    "docker = Docker(settings=settings)\n",
    "\n",
    "results = docker.results"
   ]
  },
  {
   "cell_type": "code",
   "execution_count": 56,
   "metadata": {},
   "outputs": [],
   "source": [
    "len(results.ligands)"
   ]
  },
  {
   "cell_type": "code",
   "execution_count": 57,
   "metadata": {},
   "outputs": [],
   "source": [
    "soln = results.ligands[0]\n",
    "\n",
    "soln.identifier"
   ]
  },
  {
   "cell_type": "code",
   "execution_count": null,
   "metadata": {},
   "outputs": [],
   "source": []
  }
 ],
 "metadata": {
  "kernelspec": {
   "display_name": "Python 3 (ipykernel)",
   "language": "python",
   "name": "python3"
  },
  "language_info": {
   "codemirror_mode": {
    "name": "ipython",
    "version": 3
   },
   "file_extension": ".py",
   "mimetype": "text/x-python",
   "name": "python",
   "nbconvert_exporter": "python",
   "pygments_lexer": "ipython3",
   "version": "3.9.16"
  }
 },
 "nbformat": 4,
 "nbformat_minor": 4
}
