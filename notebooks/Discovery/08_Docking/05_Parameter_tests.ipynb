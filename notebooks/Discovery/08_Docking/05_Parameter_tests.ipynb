{
 "cells": [
  {
   "cell_type": "markdown",
   "metadata": {},
   "source": [
    "# Test GOLD parameter sets using the CSD Python API\n",
    "\n",
    "One advantage of GOLD is that it is highly configurable and that docking protocols can be optimized for particular systems. However, the sheer number of options means that the optimization process can be difficult. Using the Docking API means that it is easy to test various combinations of options programatically, thus making the optimization task much more feasible.\n",
    "\n",
    "This Notebook illustrates how to modify various aspects of the GOLD configuration. Please refer to the GOLD and Docking API documentation for details of the various options available."
   ]
  },
  {
   "cell_type": "markdown",
   "metadata": {},
   "source": [
    "#### GOLD docs\n",
    "* [User Guide](https://www.ccdc.cam.ac.uk/support-and-resources/ccdcresources/GOLD_User_Guide.pdf)\n",
    "* [Conf file](https://www.ccdc.cam.ac.uk/support-and-resources/ccdcresources/GOLD_conf_file_user_guide.pdf)\n",
    "\n",
    "#### Docking API docs\n",
    "* [Descriptive](https://downloads.ccdc.cam.ac.uk/documentation/API/descriptive_docs/docking.html)\n",
    "* [Module API](https://downloads.ccdc.cam.ac.uk/documentation/API/modules/docking_api.html)"
   ]
  },
  {
   "cell_type": "code",
   "execution_count": null,
   "metadata": {},
   "outputs": [],
   "source": [
    "import logging\n",
    "import sys\n",
    "import os\n",
    "import shutil\n",
    "from pathlib import Path\n",
    "from platform import platform\n",
    "import time\n",
    "import subprocess"
   ]
  },
  {
   "cell_type": "code",
   "execution_count": null,
   "metadata": {},
   "outputs": [],
   "source": [
    "import pandas as pd"
   ]
  },
  {
   "cell_type": "code",
   "execution_count": null,
   "metadata": {},
   "outputs": [],
   "source": [
    "import ccdc\n",
    "from ccdc.io import MoleculeReader, EntryReader, EntryWriter\n",
    "from ccdc.docking import Docker"
   ]
  },
  {
   "cell_type": "code",
   "execution_count": null,
   "metadata": {},
   "outputs": [],
   "source": []
  },
  {
   "cell_type": "markdown",
   "metadata": {},
   "source": [
    "### Config"
   ]
  },
  {
   "cell_type": "markdown",
   "metadata": {},
   "source": [
    "The directory containing the input files for these dockings; directory must exist..."
   ]
  },
  {
   "cell_type": "code",
   "execution_count": null,
   "metadata": {},
   "outputs": [],
   "source": [
    "input_dir = Path(r'input_files').absolute()"
   ]
  },
  {
   "cell_type": "markdown",
   "metadata": {},
   "source": [
    "Protein target and a native ligand (used to define binding site); files must exist..."
   ]
  },
  {
   "cell_type": "code",
   "execution_count": null,
   "metadata": {},
   "outputs": [],
   "source": [
    "target_dir = input_dir / 'target'\n",
    "\n",
    "protein_file = target_dir / 'protein.mol2'\n",
    "ligand_file  = target_dir / 'ligand.mol2'"
   ]
  },
  {
   "cell_type": "markdown",
   "metadata": {},
   "source": [
    "Molecules to dock; file must exist..."
   ]
  },
  {
   "cell_type": "code",
   "execution_count": null,
   "metadata": {},
   "outputs": [],
   "source": [
    "input_file = input_dir / 'input.sdf'"
   ]
  },
  {
   "cell_type": "markdown",
   "metadata": {},
   "source": [
    "The directory where individual docking run directories will be created; it will be created itself if necessary..."
   ]
  },
  {
   "cell_type": "code",
   "execution_count": null,
   "metadata": {},
   "outputs": [],
   "source": [
    "runs_dir = Path(r'parameter_tests')"
   ]
  },
  {
   "cell_type": "code",
   "execution_count": null,
   "metadata": {},
   "outputs": [],
   "source": []
  },
  {
   "cell_type": "markdown",
   "metadata": {},
   "source": [
    "Input options..."
   ]
  },
  {
   "cell_type": "code",
   "execution_count": null,
   "metadata": {},
   "outputs": [],
   "source": [
    "# Binding site radius; N.B. the native ligand will be used to define the binding site (see above)\n",
    "\n",
    "radius = 6.0"
   ]
  },
  {
   "cell_type": "code",
   "execution_count": null,
   "metadata": {},
   "outputs": [],
   "source": [
    "# Number of GA runs (https://downloads.ccdc.cam.ac.uk/documentation/API/_modules/ccdc/docking.html#Docker.Settings.add_ligand_file)...\n",
    "\n",
    "n_ga_runs = 10  # API default is 1, GOLD/Hermes default is 10"
   ]
  },
  {
   "cell_type": "code",
   "execution_count": null,
   "metadata": {},
   "outputs": [],
   "source": [
    "# Fitness function (options are 'goldscore', 'chemscore', 'asp' and 'plp', with the default being 'goldscore')...\n",
    "\n",
    "fitness_function = 'goldscore'"
   ]
  },
  {
   "cell_type": "code",
   "execution_count": null,
   "metadata": {},
   "outputs": [],
   "source": []
  },
  {
   "cell_type": "markdown",
   "metadata": {},
   "source": [
    "Output options..."
   ]
  },
  {
   "cell_type": "code",
   "execution_count": null,
   "metadata": {},
   "outputs": [],
   "source": [
    "# Output dir...\n",
    "\n",
    "output_directory = 'output'"
   ]
  },
  {
   "cell_type": "code",
   "execution_count": null,
   "metadata": {},
   "outputs": [],
   "source": [
    "# Output format...\n",
    "    \n",
    "output_format = 'sdf'  # 'mol2'"
   ]
  },
  {
   "cell_type": "code",
   "execution_count": null,
   "metadata": {},
   "outputs": [],
   "source": [
    "# Concatenated output file to be used; set to None to write individual solution files (with autogenerated names)...\n",
    "\n",
    "output_file = f'docked.{output_format}'"
   ]
  },
  {
   "cell_type": "code",
   "execution_count": null,
   "metadata": {},
   "outputs": [],
   "source": [
    "# Discard side-chain torsion and lone-pair info...\n",
    "    \n",
    "reduce_size_of_output_files = False "
   ]
  },
  {
   "cell_type": "code",
   "execution_count": null,
   "metadata": {},
   "outputs": [],
   "source": [
    "# Keep only the best N poses for a ligand; set to None to use default...\n",
    "\n",
    "n_solutions = None  # 3"
   ]
  },
  {
   "cell_type": "code",
   "execution_count": null,
   "metadata": {},
   "outputs": [],
   "source": [
    "# Save N top-ranked ligands only; set to None to use default...\n",
    "\n",
    "n_ligands = None"
   ]
  },
  {
   "cell_type": "code",
   "execution_count": null,
   "metadata": {},
   "outputs": [],
   "source": [
    "# Save ligands with a minumum fitness only; set to None to use default...\n",
    "\n",
    "fitness_threshold = None  # 50"
   ]
  },
  {
   "cell_type": "code",
   "execution_count": null,
   "metadata": {},
   "outputs": [],
   "source": []
  },
  {
   "cell_type": "markdown",
   "metadata": {},
   "source": [
    "### Initialization"
   ]
  },
  {
   "cell_type": "code",
   "execution_count": null,
   "metadata": {},
   "outputs": [],
   "source": [
    "logger = logging.getLogger(__name__)\n",
    "handler = logging.StreamHandler()\n",
    "handler.setFormatter(logging.Formatter('[%(asctime)s %(levelname)-7s] %(message)s', datefmt='%y-%m-%d %H:%M:%S'))\n",
    "logger.addHandler(handler)\n",
    "logger.setLevel(logging.INFO)"
   ]
  },
  {
   "cell_type": "code",
   "execution_count": null,
   "metadata": {},
   "outputs": [],
   "source": [
    "logger.info(\"\"\"\n",
    "Platform:                     {platform()}\n",
    "\n",
    "Python exe:                   {sys.executable}\n",
    "Python version:               {'.'.join(str(x) for x in sys.version_info[:3])}\n",
    "\n",
    "CSD version:                  {ccdc.io.csd_version()}\n",
    "CSD directory:                {ccdc.io.csd_directory()}\n",
    "API version:                  {ccdc.__version__}\n",
    "\n",
    "CSDHOME:                      {os.environ.get('CSDHOME', 'Not set')}\n",
    "CCDC_LICENSING_CONFIGURATION: {os.environ.get('CCDC_LICENSING_CONFIGURATION', 'Not set')}\n",
    "\"\"\")"
   ]
  },
  {
   "cell_type": "code",
   "execution_count": null,
   "metadata": {},
   "outputs": [],
   "source": []
  },
  {
   "cell_type": "markdown",
   "metadata": {},
   "source": [
    "Check that all required files and directories exist..."
   ]
  },
  {
   "cell_type": "code",
   "execution_count": null,
   "metadata": {},
   "outputs": [],
   "source": [
    "for directory in [input_dir, target_dir]: assert directory.exists(), f\"Error! Required directory '{directory}' not found.\"\n",
    "\n",
    "for file in [protein_file, ligand_file, input_file]: assert file.exists(), f\"Error! Required file '{file}' not found.\""
   ]
  },
  {
   "cell_type": "code",
   "execution_count": null,
   "metadata": {},
   "outputs": [],
   "source": []
  },
  {
   "cell_type": "markdown",
   "metadata": {},
   "source": [
    "Create a new runs directory, if necessary..."
   ]
  },
  {
   "cell_type": "code",
   "execution_count": null,
   "metadata": {},
   "outputs": [],
   "source": [
    "runs_dir.mkdir(exist_ok=True)"
   ]
  },
  {
   "cell_type": "code",
   "execution_count": null,
   "metadata": {},
   "outputs": [],
   "source": []
  },
  {
   "cell_type": "markdown",
   "metadata": {},
   "source": [
    "Create a new directory for this run..."
   ]
  },
  {
   "cell_type": "code",
   "execution_count": null,
   "metadata": {},
   "outputs": [],
   "source": [
    "run_dirs = sorted(runs_dir.glob('[0-9][0-9][0-9]'))\n",
    "\n",
    "run_dir = runs_dir / f\"{(int(run_dirs[-1].stem) if run_dirs else 0) + 1:03d}\""
   ]
  },
  {
   "cell_type": "code",
   "execution_count": null,
   "metadata": {},
   "outputs": [],
   "source": [
    "run_dir.mkdir(exist_ok=False)"
   ]
  },
  {
   "cell_type": "code",
   "execution_count": null,
   "metadata": {},
   "outputs": [],
   "source": [
    "logging.info(f\"Run dir: {run_dir}\")"
   ]
  },
  {
   "cell_type": "code",
   "execution_count": null,
   "metadata": {},
   "outputs": [],
   "source": [
    "os.chdir(run_dir)"
   ]
  },
  {
   "cell_type": "code",
   "execution_count": null,
   "metadata": {},
   "outputs": [],
   "source": []
  },
  {
   "cell_type": "markdown",
   "metadata": {},
   "source": [
    "### Configure docking\n",
    "\n",
    "We can configure all aspects of a GOLD docking _via_ the [Docker.Setting](https://downloads.ccdc.cam.ac.uk/documentation/API/modules/docking_api.html#ccdc.docking.Docker.Settings) object."
   ]
  },
  {
   "cell_type": "code",
   "execution_count": null,
   "metadata": {},
   "outputs": [],
   "source": [
    "docker = Docker()\n",
    "\n",
    "settings = docker.settings"
   ]
  },
  {
   "cell_type": "code",
   "execution_count": null,
   "metadata": {},
   "outputs": [],
   "source": []
  },
  {
   "cell_type": "markdown",
   "metadata": {},
   "source": [
    "Basic setup..."
   ]
  },
  {
   "cell_type": "code",
   "execution_count": null,
   "metadata": {},
   "outputs": [],
   "source": [
    "# Protein to dock ligands into...\n",
    "\n",
    "settings.add_protein_file(str(protein_file))"
   ]
  },
  {
   "cell_type": "code",
   "execution_count": null,
   "metadata": {},
   "outputs": [],
   "source": [
    "# Binding site specified from native ligand...\n",
    "\n",
    "native_ligand = MoleculeReader(str(ligand_file))[0]\n",
    "\n",
    "settings.binding_site = settings.BindingSiteFromLigand(settings.proteins[0], native_ligand, radius)"
   ]
  },
  {
   "cell_type": "code",
   "execution_count": null,
   "metadata": {},
   "outputs": [],
   "source": [
    "# Molecules to dock...\n",
    "\n",
    "settings.add_ligand_file(str(input_file), n_ga_runs)"
   ]
  },
  {
   "cell_type": "code",
   "execution_count": null,
   "metadata": {},
   "outputs": [],
   "source": [
    "# Fitness function...\n",
    "\n",
    "settings.fitness_function = fitness_function"
   ]
  },
  {
   "cell_type": "code",
   "execution_count": null,
   "metadata": {},
   "outputs": [],
   "source": [
    "# Output format...\n",
    "    \n",
    "settings.output_format = output_format\n",
    "\n",
    "# Output dir...\n",
    "\n",
    "settings.output_directory = output_directory"
   ]
  },
  {
   "cell_type": "code",
   "execution_count": null,
   "metadata": {},
   "outputs": [],
   "source": []
  },
  {
   "cell_type": "markdown",
   "metadata": {},
   "source": [
    "`SAVE_OPTIONS`\n",
    "\n"
   ]
  },
  {
   "cell_type": "markdown",
   "metadata": {},
   "source": [
    "Use concatenated output file or individual files?\n",
    "\n",
    "Note that we request that individual file output is deleted if concatenated output is selected."
   ]
  },
  {
   "cell_type": "code",
   "execution_count": null,
   "metadata": {},
   "outputs": [],
   "source": [
    "if output_file:\n",
    "    \n",
    "    settings.output_file = output_file  # Request concatenated output\n",
    "    \n",
    "    settings._settings.set_delete_all_solutions(True)   # Suppress individual output\n",
    "    \n",
    "    print(f\"Will write only a concatenated output file.\")\n",
    "\n",
    "else:\n",
    "    \n",
    "    print(f\"Will write individual output files.\")"
   ]
  },
  {
   "cell_type": "code",
   "execution_count": null,
   "metadata": {},
   "outputs": [],
   "source": []
  },
  {
   "cell_type": "markdown",
   "metadata": {},
   "source": [
    "Reduce size of output files..."
   ]
  },
  {
   "cell_type": "code",
   "execution_count": null,
   "metadata": {},
   "outputs": [],
   "source": [
    "if reduce_size_of_output_files:\n",
    "    \n",
    "    settings._settings.set_save_protein_torsions(False)\n",
    "\n",
    "    settings._settings.set_save_lone_pairs(False)"
   ]
  },
  {
   "cell_type": "markdown",
   "metadata": {},
   "source": [
    "Number of solutions per ligand...\n",
    "\n",
    "_N.B._ From the [gold_conf](https://www.ccdc.cam.ac.uk/support-and-resources/ccdcresources/409d221af167455c8bac9e81dadabc34.pdf) docs:\n",
    "\"In order for `clean_up_option save_top_n_solutions` to take effect the options `clean_up_option delete_empty_directories` and `clean_up_option delete_redundant_log_files` also need to be set.\""
   ]
  },
  {
   "cell_type": "code",
   "execution_count": null,
   "metadata": {},
   "outputs": [],
   "source": [
    "if n_solutions is not None:\n",
    "    \n",
    "    settings._settings.set_save_top_n_solutions(n_solutions)\n",
    "\n",
    "    settings._settings.set_delete_empty_directories(True)\n",
    "\n",
    "    settings._settings.set_delete_redundant_log_files(True)"
   ]
  },
  {
   "cell_type": "markdown",
   "metadata": {},
   "source": [
    "Total number of (top-ranked) ligands to save..."
   ]
  },
  {
   "cell_type": "code",
   "execution_count": null,
   "metadata": {},
   "outputs": [],
   "source": [
    "if n_ligands is not None:\n",
    "    \n",
    "    settings._settings.set_save_best_n_ligands(n_ligands)"
   ]
  },
  {
   "cell_type": "markdown",
   "metadata": {},
   "source": [
    "Fitness score threshold..."
   ]
  },
  {
   "cell_type": "code",
   "execution_count": null,
   "metadata": {},
   "outputs": [],
   "source": [
    "if fitness_threshold is not None:\n",
    "\n",
    "    settings._settings.set_fitness_threshold(fitness_threshold)\n",
    "\n",
    "    settings._settings.set_save_fitness_better_than(True)"
   ]
  },
  {
   "cell_type": "code",
   "execution_count": null,
   "metadata": {},
   "outputs": [],
   "source": []
  },
  {
   "cell_type": "markdown",
   "metadata": {},
   "source": [
    "`WRITE_OPTIONS`\n",
    "\n",
    "[Write Options](https://downloads.ccdc.cam.ac.uk/documentation/API/descriptive_docs/docking.html?highlight=dummy#output-file-write-options) control how much output is written."
   ]
  },
  {
   "cell_type": "code",
   "execution_count": null,
   "metadata": {},
   "outputs": [],
   "source": [
    "# settings._settings.set_no_asp_mol2_files(True)\n",
    "\n",
    "# settings._settings.set_no_bestranking_lst_file(True)\n",
    "\n",
    "# settings._settings.set_no_fit_pts_files(True)\n",
    "\n",
    "# settings._settings.set_no_gold_err_file(True)\n",
    "\n",
    "# settings._settings.set_no_gold_ligand_mol2_file(True)\n",
    "\n",
    "# settings._settings.set_no_gold_log_file(True)\n",
    "\n",
    "# settings._settings.set_no_gold_protein_mol2_file(True)\n",
    "\n",
    "# settings._settings.set_no_gold_soln_ligand_mol2_files(True)\n",
    "\n",
    "# settings._settings.set_no_lgfname_file(True)\n",
    "\n",
    "# settings._settings.set_no_link_files(True)\n",
    "\n",
    "# settings._settings.set_no_log_files(True)\n",
    "\n",
    "# settings._settings.set_no_pid_file(True)\n",
    "\n",
    "# settings._settings.set_no_plp_mol2_files(True)\n",
    "\n",
    "# settings._settings.set_no_rnk_files(True)\n",
    "\n",
    "# settings._settings.set_no_seed_log_file(True)"
   ]
  },
  {
   "cell_type": "code",
   "execution_count": null,
   "metadata": {},
   "outputs": [],
   "source": []
  },
  {
   "cell_type": "markdown",
   "metadata": {},
   "source": [
    "### Run GOLD\n",
    "\n",
    "_N.B._  Writing the conf file (by any method) also causes a cavity-definition file to be written, which is simply a (renamed) copy of the native ligand file."
   ]
  },
  {
   "cell_type": "code",
   "execution_count": null,
   "metadata": {},
   "outputs": [],
   "source": [
    "%%time\n",
    "\n",
    "results = docker.dock(file_name='gold.conf', mode='foreground')  # See note above about cavity file\n",
    "\n",
    "assert results.return_code == 0, \"Error! GOLD did not run successfully.\"\n",
    "\n",
    "logging.info(f\"GOLD run completed in dir: {run_dir}.\")"
   ]
  },
  {
   "cell_type": "code",
   "execution_count": null,
   "metadata": {},
   "outputs": [],
   "source": []
  },
  {
   "cell_type": "markdown",
   "metadata": {},
   "source": [
    "Change back to original directory..."
   ]
  },
  {
   "cell_type": "code",
   "execution_count": null,
   "metadata": {},
   "outputs": [],
   "source": [
    "os.chdir('../..')"
   ]
  }
 ],
 "metadata": {
  "kernelspec": {
   "display_name": "Python 3 (ipykernel)",
   "language": "python",
   "name": "python3"
  },
  "language_info": {
   "codemirror_mode": {
    "name": "ipython",
    "version": 3
   },
   "file_extension": ".py",
   "mimetype": "text/x-python",
   "name": "python",
   "nbconvert_exporter": "python",
   "pygments_lexer": "ipython3",
   "version": "3.7.13"
  }
 },
 "nbformat": 4,
 "nbformat_minor": 4
}
