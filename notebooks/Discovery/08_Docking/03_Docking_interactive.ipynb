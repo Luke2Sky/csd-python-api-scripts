{
 "cells": [
  {
   "attachments": {},
   "cell_type": "markdown",
   "metadata": {},
   "source": [
    "```\n",
    "This script can be used for any purpose without limitation subject to the\n",
    "conditions at http://www.ccdc.cam.ac.uk/Community/Pages/Licences/v2.aspx\n",
    "\n",
    "This permission notice and the following statement of attribution must be\n",
    "included in all copies or substantial portions of this script.\n",
    "\n",
    "2022-06-01: Made available by the Cambridge Crystallographic Data Centre.\n",
    "\n",
    "```"
   ]
  },
  {
   "attachments": {},
   "cell_type": "markdown",
   "metadata": {},
   "source": [
    "# Run GOLD using the CSD Python API\n",
    "\n",
    "This note book illustrates running GOLD _via_ the CSD Python API in [interactive](https://downloads.ccdc.cam.ac.uk/documentation/API/descriptive_docs/docking.html#interactive-docking) mode, with the docking being configured entirely _via_ the API.\n",
    "\n",
    "Note that, in `interactive` mode, we need to write out the solution files ourselves (using the standard GOLD file naming scheme) if we wish to use Hermes to view the results."
   ]
  },
  {
   "attachments": {},
   "cell_type": "markdown",
   "metadata": {},
   "source": [
    "#### GOLD docs\n",
    "* [User Guide](https://www.ccdc.cam.ac.uk/support-and-resources/ccdcresources/GOLD_User_Guide.pdf)\n",
    "* [Conf file](https://www.ccdc.cam.ac.uk/support-and-resources/ccdcresources/GOLD_conf_file_user_guide.pdf)\n",
    "\n",
    "#### Docking API docs\n",
    "* [Descriptive](https://downloads.ccdc.cam.ac.uk/documentation/API/descriptive_docs/docking.html)\n",
    "* [Module API](https://downloads.ccdc.cam.ac.uk/documentation/API/modules/docking_api.html)"
   ]
  },
  {
   "cell_type": "code",
   "execution_count": 1,
   "metadata": {},
   "outputs": [],
   "source": [
    "import sys\n",
    "sys.path.append('../..')\n",
    "from ccdc_notebook_utilities import create_logger, run_hermes\n",
    "import os\n",
    "import shutil\n",
    "from pathlib import Path\n",
    "import time"
   ]
  },
  {
   "cell_type": "code",
   "execution_count": 2,
   "metadata": {},
   "outputs": [],
   "source": [
    "import pandas as pd"
   ]
  },
  {
   "cell_type": "code",
   "execution_count": 3,
   "metadata": {},
   "outputs": [],
   "source": [
    "import ccdc\n",
    "from ccdc.io import MoleculeReader, EntryReader, EntryWriter\n",
    "from ccdc.docking import Docker"
   ]
  },
  {
   "attachments": {},
   "cell_type": "markdown",
   "metadata": {},
   "source": [
    "### Config"
   ]
  },
  {
   "attachments": {},
   "cell_type": "markdown",
   "metadata": {},
   "source": [
    "The directory containing the input files for these dockings; directory must exist..."
   ]
  },
  {
   "cell_type": "code",
   "execution_count": 4,
   "metadata": {},
   "outputs": [],
   "source": [
    "input_dir = Path('input_files').absolute()"
   ]
  },
  {
   "attachments": {},
   "cell_type": "markdown",
   "metadata": {},
   "source": [
    "Protein target and a native ligand (used to define binding site); files must exist..."
   ]
  },
  {
   "cell_type": "code",
   "execution_count": 5,
   "metadata": {},
   "outputs": [],
   "source": [
    "target_dir = input_dir / 'target'\n",
    "\n",
    "protein_file = target_dir / 'protein.mol2'\n",
    "ligand_file  = target_dir / 'ligand.mol2'"
   ]
  },
  {
   "attachments": {},
   "cell_type": "markdown",
   "metadata": {},
   "source": [
    "Molecules to dock; file must exist..."
   ]
  },
  {
   "cell_type": "code",
   "execution_count": 6,
   "metadata": {},
   "outputs": [],
   "source": [
    "input_file = input_dir / 'input.sdf'"
   ]
  },
  {
   "attachments": {},
   "cell_type": "markdown",
   "metadata": {},
   "source": [
    "Binding site radius..."
   ]
  },
  {
   "cell_type": "code",
   "execution_count": 7,
   "metadata": {},
   "outputs": [],
   "source": [
    "radius = 6"
   ]
  },
  {
   "attachments": {},
   "cell_type": "markdown",
   "metadata": {},
   "source": [
    "Number of dockings (_i.e._ GA runs) per ligand; default is 10..."
   ]
  },
  {
   "cell_type": "code",
   "execution_count": 8,
   "metadata": {},
   "outputs": [],
   "source": [
    "ndocks = 5  # Set to 5 for speed"
   ]
  },
  {
   "attachments": {},
   "cell_type": "markdown",
   "metadata": {},
   "source": [
    "Fitness function (Options are 'goldscore', 'chemscore', 'asp', 'plp'. GoldScore is selected by default)...."
   ]
  },
  {
   "cell_type": "code",
   "execution_count": 9,
   "metadata": {},
   "outputs": [],
   "source": [
    "fitness_function = 'plp'"
   ]
  },
  {
   "attachments": {},
   "cell_type": "markdown",
   "metadata": {},
   "source": [
    "Autoscale parameter (as a percentage); default is 100%..."
   ]
  },
  {
   "cell_type": "code",
   "execution_count": 10,
   "metadata": {},
   "outputs": [],
   "source": [
    "autoscale = 30  # Set to 30% for speed"
   ]
  },
  {
   "attachments": {},
   "cell_type": "markdown",
   "metadata": {},
   "source": [
    "Output directory (will be created)..."
   ]
  },
  {
   "cell_type": "code",
   "execution_count": 11,
   "metadata": {},
   "outputs": [],
   "source": [
    "output_dir = Path('output_interactive')"
   ]
  },
  {
   "attachments": {},
   "cell_type": "markdown",
   "metadata": {},
   "source": [
    "Output format (_N.B._ the input file format will be used if the output format is not specified)..."
   ]
  },
  {
   "cell_type": "code",
   "execution_count": 12,
   "metadata": {},
   "outputs": [],
   "source": [
    "# output_format = 'sdf'  # 'mol2'"
   ]
  },
  {
   "attachments": {},
   "cell_type": "markdown",
   "metadata": {},
   "source": [
    "We will set the 'write options' to `MIN_OUT` so output to disk is minimal. See [here](https://downloads.ccdc.cam.ac.uk/documentation/API/modules/docking_api.html?highlight=write_options#ccdc.docking.Docker.Settings.write_options) for available write options, and the GOLD Configuration File User Guide, Chapter 16 for more details. "
   ]
  },
  {
   "cell_type": "code",
   "execution_count": 13,
   "metadata": {},
   "outputs": [],
   "source": [
    "write_options = ['MIN_OUT']"
   ]
  },
  {
   "attachments": {},
   "cell_type": "markdown",
   "metadata": {},
   "source": [
    "### Initialization"
   ]
  },
  {
   "cell_type": "code",
   "execution_count": 14,
   "metadata": {},
   "outputs": [],
   "source": [
    "logger = create_logger()"
   ]
  },
  {
   "attachments": {},
   "cell_type": "markdown",
   "metadata": {},
   "source": [
    "Create a fresh output directory for the docking run..."
   ]
  },
  {
   "cell_type": "code",
   "execution_count": 15,
   "metadata": {},
   "outputs": [],
   "source": [
    "if output_dir.exists():\n",
    "    \n",
    "    logger.warning(f\"The output directory '{output_dir}' exists and will be overwritten.\")\n",
    "    \n",
    "    shutil.rmtree(output_dir)\n",
    "    \n",
    "output_dir.mkdir()\n",
    "\n",
    "os.chdir(output_dir)"
   ]
  },
  {
   "attachments": {},
   "cell_type": "markdown",
   "metadata": {},
   "source": [
    "### Configure docking\n",
    "\n",
    "Here, the docking configuration is set up from scratch using the API. We do this by instantiating a `Docker.Settings` object and modifying it _via_ it's methods and attributes..."
   ]
  },
  {
   "cell_type": "code",
   "execution_count": 16,
   "metadata": {},
   "outputs": [],
   "source": [
    "settings = Docker.Settings()"
   ]
  },
  {
   "attachments": {},
   "cell_type": "markdown",
   "metadata": {},
   "source": [
    "Specify the protein target..."
   ]
  },
  {
   "cell_type": "code",
   "execution_count": 17,
   "metadata": {},
   "outputs": [],
   "source": [
    "settings.add_protein_file(str(protein_file))"
   ]
  },
  {
   "attachments": {},
   "cell_type": "markdown",
   "metadata": {},
   "source": [
    "Define the binding site using the native ligand..."
   ]
  },
  {
   "cell_type": "code",
   "execution_count": 18,
   "metadata": {},
   "outputs": [],
   "source": [
    "native_ligand = MoleculeReader(str(ligand_file))[0]\n",
    "\n",
    "settings.binding_site = settings.BindingSiteFromLigand(settings.proteins[0], native_ligand, radius)"
   ]
  },
  {
   "attachments": {},
   "cell_type": "markdown",
   "metadata": {},
   "source": [
    "Set the fitness function..."
   ]
  },
  {
   "cell_type": "code",
   "execution_count": 19,
   "metadata": {},
   "outputs": [],
   "source": [
    "settings.fitness_function = fitness_function"
   ]
  },
  {
   "attachments": {},
   "cell_type": "markdown",
   "metadata": {},
   "source": [
    "Set number of dockings (_N.B._ interactive mode defaults to only one solution, not 10 as in other modes)..."
   ]
  },
  {
   "cell_type": "code",
   "execution_count": 20,
   "metadata": {},
   "outputs": [],
   "source": [
    "settings.set_hostname(ndocks=ndocks) "
   ]
  },
  {
   "attachments": {},
   "cell_type": "markdown",
   "metadata": {},
   "source": [
    "Set the autoscale parameter..."
   ]
  },
  {
   "cell_type": "code",
   "execution_count": 21,
   "metadata": {},
   "outputs": [],
   "source": [
    "settings.autoscale = autoscale"
   ]
  },
  {
   "attachments": {},
   "cell_type": "markdown",
   "metadata": {},
   "source": [
    "Set output format if it was explicitly specified above (_N.B._ the input file format will be used if not)..."
   ]
  },
  {
   "cell_type": "code",
   "execution_count": 22,
   "metadata": {},
   "outputs": [],
   "source": [
    "if 'output_format' in locals() and output_format:\n",
    "    \n",
    "    settings.output_format = output_format"
   ]
  },
  {
   "attachments": {},
   "cell_type": "markdown",
   "metadata": {},
   "source": [
    "Set write options..."
   ]
  },
  {
   "cell_type": "code",
   "execution_count": 23,
   "metadata": {},
   "outputs": [],
   "source": [
    "settings.write_options = write_options"
   ]
  },
  {
   "attachments": {},
   "cell_type": "markdown",
   "metadata": {},
   "source": [
    "#### Add a protein H-bond constraint\n",
    "\n",
    "Here we add a protein H-bond constraint to the backbone NH that donates the conserved H-bond in the hinge. This means the fitness of a docked ligand will be penalised if it doesn't make an H-bond with this atom."
   ]
  },
  {
   "cell_type": "code",
   "execution_count": 24,
   "metadata": {},
   "outputs": [],
   "source": [
    "chain_label, residue_label, atom_label = 'A', 'ALA451', 'H'  # Conserved hinge H-bond donor"
   ]
  },
  {
   "cell_type": "code",
   "execution_count": 25,
   "metadata": {},
   "outputs": [],
   "source": [
    "protein = settings.proteins[0]\n",
    "\n",
    "atom = [atom for atom in protein[f'{chain_label}:{residue_label}'].atoms if atom.label == atom_label][0]\n",
    "\n",
    "settings.add_constraint(settings.ProteinHBondConstraint([atom]))"
   ]
  },
  {
   "attachments": {},
   "cell_type": "markdown",
   "metadata": {},
   "source": [
    "### Run docking\n",
    "\n",
    "Here we run GOLD in `interactive` mode...\n",
    "\n",
    "Note how the list of solutions is built up during the docking run: as each molecule is docked in turn, the `session.dock` method returns a tuple of solutions for that molecule. This list of tuples is then used to write out the solution files using the standard GOLD solution file nameing scheme and is then flattened to build up a table of fitness function components."
   ]
  },
  {
   "cell_type": "code",
   "execution_count": 26,
   "metadata": {},
   "outputs": [],
   "source": [
    "# Instantiate a docker...\n",
    "\n",
    "docker = Docker(settings=settings)\n",
    "\n",
    "# Start an interactive session...\n",
    "\n",
    "session = docker.dock(mode='interactive', file_name='api_gold.conf')\n",
    "\n",
    "session.ligand_preparation = None  # We assume ligand preparation has been done\n",
    "\n",
    "logger.info(f\"GOLD interactive session PID: {session.pid}\")"
   ]
  },
  {
   "cell_type": "code",
   "execution_count": 27,
   "metadata": {},
   "outputs": [],
   "source": [
    "logger.info(f\"Starting to dock ligands from input file '{input_file}'.\")\n",
    "\n",
    "solns_by_mol = []  # We will build up a list of tuples of solutions as we dock each mol\n",
    "\n",
    "with EntryReader(str(input_file)) as reader:\n",
    "\n",
    "    for n_mol, entry in enumerate(reader, 1):\n",
    "\n",
    "        mol, name = entry.molecule, entry.identifier\n",
    "        \n",
    "        logger.info(f\"Starting ligand '{name}'...\")\n",
    "\n",
    "        solns = session.dock(mol)  # Tuple of solutions for this mol\n",
    "        \n",
    "        logger.info(f\"... done ({len(solns)} solutions).\")\n",
    "        \n",
    "        solns_by_mol.append(solns)  # Append tuple to list of solutions\n",
    "\n",
    "logger.info(f\"Finished.\")"
   ]
  },
  {
   "attachments": {},
   "cell_type": "markdown",
   "metadata": {},
   "source": [
    "Close socket..."
   ]
  },
  {
   "cell_type": "code",
   "execution_count": 28,
   "metadata": {},
   "outputs": [],
   "source": [
    "# session._client_socket.close()\n",
    "\n",
    "# session._socket.close()"
   ]
  },
  {
   "attachments": {},
   "cell_type": "markdown",
   "metadata": {},
   "source": [
    "The fitness and it's components are available _via_ a flattened list of solutions..."
   ]
  },
  {
   "cell_type": "code",
   "execution_count": 29,
   "metadata": {},
   "outputs": [],
   "source": [
    "solutions = [y for x in solns_by_mol for y in x]  # Flatten list of tuples"
   ]
  },
  {
   "cell_type": "code",
   "execution_count": 30,
   "metadata": {},
   "outputs": [],
   "source": [
    "scores_df = pd.DataFrame([{'identifier': x.identifier, 'fitness': x.fitness(), **x.scoring_term()} for x in solutions])\n",
    "\n",
    "scores_df.shape"
   ]
  },
  {
   "cell_type": "code",
   "execution_count": 31,
   "metadata": {},
   "outputs": [],
   "source": [
    "scores_df.head()"
   ]
  },
  {
   "attachments": {},
   "cell_type": "markdown",
   "metadata": {},
   "source": [
    "### Visualization"
   ]
  },
  {
   "attachments": {},
   "cell_type": "markdown",
   "metadata": {},
   "source": [
    "Now, as we have been talking to GOLD over a socket and we specified write option `MIN_OUT` above, the solutions have not been written to disk at this point. If we wish to visualise them in _e.g._ Hermes, we will need to do this ourselves.\n",
    "\n",
    "So, write out the solution files using the standard GOLD solution file naming scheme..."
   ]
  },
  {
   "cell_type": "code",
   "execution_count": 32,
   "metadata": {},
   "outputs": [],
   "source": [
    "stem, suffix = input_file.stem, input_file.suffix[1:]  # For GOLD standard solution file naming scheme\n",
    "\n",
    "for n_mol, solns in enumerate(solns_by_mol, 1):\n",
    "    \n",
    "    for n_soln, soln in enumerate(solns, 1):\n",
    "\n",
    "        file_name = f'gold_soln_{stem}_m{n_mol}_{n_soln}.{suffix}'  # GOLD standard solution file naming scheme\n",
    "\n",
    "        with EntryWriter(file_name) as writer: \n",
    "\n",
    "            writer.write(soln)"
   ]
  },
  {
   "attachments": {},
   "cell_type": "markdown",
   "metadata": {},
   "source": [
    "Once the solution files have been written, the results of a GOLD run setup and run _via_ the API may be visualized in Hermes by loading the GOLD conf file written by the API..."
   ]
  },
  {
   "cell_type": "code",
   "execution_count": 33,
   "metadata": {},
   "outputs": [],
   "source": [
    "run_hermes('api_gold.conf')"
   ]
  }
 ],
 "metadata": {
  "kernelspec": {
   "display_name": "Python 3 (ipykernel)",
   "language": "python",
   "name": "python3"
  },
  "language_info": {
   "codemirror_mode": {
    "name": "ipython",
    "version": 3
   },
   "file_extension": ".py",
   "mimetype": "text/x-python",
   "name": "python",
   "nbconvert_exporter": "python",
   "pygments_lexer": "ipython3",
   "version": "3.9.16"
  }
 },
 "nbformat": 4,
 "nbformat_minor": 4
}
