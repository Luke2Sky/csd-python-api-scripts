{
 "cells": [
  {
   "attachments": {},
   "cell_type": "markdown",
   "metadata": {},
   "source": [
    "```\n",
    "This script can be used for any purpose without limitation subject to the\n",
    "conditions at http://www.ccdc.cam.ac.uk/Community/Pages/Licences/v2.aspx\n",
    "\n",
    "This permission notice and the following statement of attribution must be\n",
    "included in all copies or substantial portions of this script.\n",
    "\n",
    "2022-06-01: Made available by the Cambridge Crystallographic Data Centre.\n",
    "\n",
    "```"
   ]
  },
  {
   "attachments": {},
   "cell_type": "markdown",
   "metadata": {},
   "source": [
    "# Preparing ligands for GOLD docking.\n",
    "\n",
    "For optimal performance, GOLD requires a good-quality 3D ligand structure as input. The CSD [Molecule API](https://downloads.ccdc.cam.ac.uk/documentation/API/modules/molecule_api.html) and [Conformer API](https://downloads.ccdc.cam.ac.uk/documentation/API/modules/conformer_api.html) can now be used together to generate such structures. This notebook is designed to show how this can be done.\n",
    "\n",
    "Note that it is assumed that the input structures are all in the desired charge and tautomeric states. No protonation/deprotonation or tautomer standardization/enumeration is done here. This is currently out of scope for the [CSD Python API](https://downloads.ccdc.cam.ac.uk/documentation/API/index.html), but we recommend [RDKit](http://www.rdkit.org/docs/GettingStartedInPython.html) to those who wish to investigate it further."
   ]
  },
  {
   "cell_type": "code",
   "execution_count": 1,
   "metadata": {},
   "outputs": [],
   "source": [
    "import sys\n",
    "sys.path.append('../..')\n",
    "from ccdc_notebook_utilities import create_logger\n",
    "import os\n",
    "from pathlib import Path\n",
    "import re\n",
    "import csv"
   ]
  },
  {
   "cell_type": "code",
   "execution_count": 2,
   "metadata": {},
   "outputs": [],
   "source": [
    "import ccdc\n",
    "from ccdc.molecule import Molecule\n",
    "from ccdc.entry import Entry\n",
    "from ccdc.conformer import ConformerGenerator\n",
    "from ccdc.io import EntryWriter"
   ]
  },
  {
   "attachments": {},
   "cell_type": "markdown",
   "metadata": {},
   "source": [
    "#### Config"
   ]
  },
  {
   "attachments": {},
   "cell_type": "markdown",
   "metadata": {},
   "source": [
    "The directory containing the input files for docking; directory must exist..."
   ]
  },
  {
   "cell_type": "code",
   "execution_count": 3,
   "metadata": {},
   "outputs": [],
   "source": [
    "input_dir = Path('input_files')"
   ]
  },
  {
   "attachments": {},
   "cell_type": "markdown",
   "metadata": {},
   "source": [
    "CSV file of input structures as SMILES with Names (_N.B._ any other columns will be kept as data items)..."
   ]
  },
  {
   "cell_type": "code",
   "execution_count": 4,
   "metadata": {},
   "outputs": [],
   "source": [
    "input_csv = input_dir / 'input.csv'\n",
    "\n",
    "smiles_col, name_col = 'smiles', 'name'  # Columns requied in input file"
   ]
  },
  {
   "attachments": {},
   "cell_type": "markdown",
   "metadata": {},
   "source": [
    "Output file for this script (which is the _input_ file for GOLD); note that the file extension determines the format..."
   ]
  },
  {
   "cell_type": "code",
   "execution_count": 5,
   "metadata": {},
   "outputs": [],
   "source": [
    "output_file = input_dir / 'input.sdf' "
   ]
  },
  {
   "attachments": {},
   "cell_type": "markdown",
   "metadata": {},
   "source": [
    "#### Initialization"
   ]
  },
  {
   "cell_type": "code",
   "execution_count": 6,
   "metadata": {},
   "outputs": [],
   "source": [
    "# Get logger and configure if necessary...\n",
    "\n",
    "logger = create_logger()"
   ]
  },
  {
   "cell_type": "code",
   "execution_count": 7,
   "metadata": {},
   "outputs": [],
   "source": [
    "# Check that all required files and directories exist...\n",
    "\n",
    "for directory in [input_dir]: assert directory.exists(), f\"Error! Required directory '{directory}' not found.\"\n",
    "\n",
    "for file in [input_csv]: assert file.exists(), f\"Error! Required file '{file}' not found.\""
   ]
  },
  {
   "cell_type": "code",
   "execution_count": 8,
   "metadata": {},
   "outputs": [],
   "source": [
    "comment = re.compile(r'^\\s*#')  # Pattern to match comment lines in CSV files etc."
   ]
  },
  {
   "attachments": {},
   "cell_type": "markdown",
   "metadata": {},
   "source": [
    "### Load SMILES input from CSV file and create a 3D input file for GOLD\n",
    "\n",
    "Recall that a SMILES and Name column are required. All columns in the input CSV file are written to the output file as SD-format data items, including the SMILES, Name and any data columns that might be present. This is not strictly necessary but experience suggests it can be convenient in practice."
   ]
  },
  {
   "attachments": {},
   "cell_type": "markdown",
   "metadata": {},
   "source": [
    "Initialise a conformer generator: recall that only a single conformer is required, as GOLD performs flexible docking..."
   ]
  },
  {
   "cell_type": "code",
   "execution_count": 9,
   "metadata": {},
   "outputs": [],
   "source": [
    "conformer_generator = ConformerGenerator()\n",
    "\n",
    "conformer_generator.settings.max_conformers = 1 "
   ]
  },
  {
   "attachments": {},
   "cell_type": "markdown",
   "metadata": {},
   "source": [
    "Process the ligands..."
   ]
  },
  {
   "cell_type": "code",
   "execution_count": 10,
   "metadata": {},
   "outputs": [],
   "source": [
    "logger.info(f\"Starting to process ligands...\")\n",
    "\n",
    "with input_csv.open() as file:\n",
    "    \n",
    "    reader = csv.DictReader(file)\n",
    "    \n",
    "    assert all(col in reader.fieldnames for col in [smiles_col, name_col]), f\"Error! Required column missing from '{input_csv}'.\"  # Ensure all required columns are present\n",
    "    \n",
    "    with EntryWriter(output_file) as writer:  # Recall that the API uses the output file suffix to determine the output format\n",
    "        \n",
    "        for index, record in enumerate(record for record in reader if not comment.match(record[reader.fieldnames[0]])):  # Skip commented-out lines\n",
    "            \n",
    "            smiles, name = record[smiles_col], record[name_col]  # Required columns\n",
    "            \n",
    "            # Convert SMILES to a 0D API molecule (we call this '0D' as this mol object has neither 2D or 3D coordinates)...\n",
    "            \n",
    "            try:\n",
    "\n",
    "                mol = Molecule.from_string(smiles, format='smiles')\n",
    "\n",
    "                mol.identifier = name\n",
    "\n",
    "            except RuntimeError as error:\n",
    "\n",
    "                logger.warning(f\"Failed to make 0D mol for '{name}': {error.args[0]}\")\n",
    "                \n",
    "                continue\n",
    "                \n",
    "            # Convert 0D molecule to 3D by generating a single conformer...\n",
    "            \n",
    "            try:\n",
    "\n",
    "                mol = conformer_generator.generate(mol)[0].molecule\n",
    "\n",
    "            except RuntimeError as error:\n",
    "                \n",
    "                logger.warning(f\"Failed to make 3D mol for '{name}': {error.args[0]}\")\n",
    "                \n",
    "                continue\n",
    "            \n",
    "            # Create an API entry object from the molecule, which will allow the saving of SD-format data items...\n",
    "\n",
    "            entry = Entry.from_molecule(mol, index=index, **record)\n",
    "            \n",
    "            # Write to the output file...\n",
    "\n",
    "            writer.write(entry)\n",
    "            \n",
    "            logger.info(f\"{index:3d}) completed mol '{name}'.\")\n",
    "            \n",
    "logger.info(f\"Finished.\")"
   ]
  }
 ],
 "metadata": {
  "interpreter": {
   "hash": "cd874d1de8b133eb72a3b3b6bde4bab3b058f584415ba83d2a2f95fb6aa21e17"
  },
  "kernelspec": {
   "display_name": "Python 3 (ipykernel)",
   "language": "python",
   "name": "python3"
  },
  "language_info": {
   "codemirror_mode": {
    "name": "ipython",
    "version": 3
   },
   "file_extension": ".py",
   "mimetype": "text/x-python",
   "name": "python",
   "nbconvert_exporter": "python",
   "pygments_lexer": "ipython3",
   "version": "3.9.16"
  }
 },
 "nbformat": 4,
 "nbformat_minor": 4
}
