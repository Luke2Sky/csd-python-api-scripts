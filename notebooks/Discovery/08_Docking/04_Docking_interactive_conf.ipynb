{
 "cells": [
  {
   "cell_type": "markdown",
   "metadata": {},
   "source": [
    "# Run GOLD using the CSD Python API\n",
    "\n",
    "This notebook again illustrates running GOLD _via_ the CSD Python API in [interactive](https://downloads.ccdc.cam.ac.uk/documentation/API/descriptive_docs/docking.html#interactive-docking) mode; however, this time, the docking is configured using a pre-prepared GOLD configuration file. There are a couple of changes that need to be made when doing it this way _vs._ configuring entirely _via_ the API that it is worthwhile to illustrate.\n",
    "\n",
    "Note that Interactive Docking specifically has some quirks that still need to be addressed. For example, if the `save_top_n_solutions` option is set in the input conf file it is not respected here."
   ]
  },
  {
   "cell_type": "markdown",
   "metadata": {},
   "source": [
    "#### GOLD docs\n",
    "* [User Guide](https://www.ccdc.cam.ac.uk/support-and-resources/ccdcresources/GOLD_User_Guide.pdf)\n",
    "* [Conf file](https://www.ccdc.cam.ac.uk/support-and-resources/ccdcresources/GOLD_conf_file_user_guide.pdf)\n",
    "\n",
    "#### Docking API docs\n",
    "* [Descriptive](https://downloads.ccdc.cam.ac.uk/documentation/API/descriptive_docs/docking.html)\n",
    "* [Module API](https://downloads.ccdc.cam.ac.uk/documentation/API/modules/docking_api.html)"
   ]
  },
  {
   "cell_type": "code",
   "execution_count": null,
   "metadata": {},
   "outputs": [],
   "source": [
    "import logging\n",
    "import sys\n",
    "import os\n",
    "import shutil\n",
    "from pathlib import Path\n",
    "from platform import platform\n",
    "import time\n",
    "import subprocess"
   ]
  },
  {
   "cell_type": "code",
   "execution_count": null,
   "metadata": {},
   "outputs": [],
   "source": [
    "import pandas as pd"
   ]
  },
  {
   "cell_type": "code",
   "execution_count": null,
   "metadata": {},
   "outputs": [],
   "source": [
    "import ccdc\n",
    "from ccdc.io import MoleculeReader, EntryReader, EntryWriter\n",
    "from ccdc.docking import Docker"
   ]
  },
  {
   "cell_type": "code",
   "execution_count": null,
   "metadata": {},
   "outputs": [],
   "source": []
  },
  {
   "cell_type": "markdown",
   "metadata": {},
   "source": [
    "### Config"
   ]
  },
  {
   "cell_type": "markdown",
   "metadata": {},
   "source": [
    "The directory containing the input files for these dockings; directory must exist..."
   ]
  },
  {
   "cell_type": "code",
   "execution_count": null,
   "metadata": {},
   "outputs": [],
   "source": [
    "input_dir = Path('input_files').absolute()"
   ]
  },
  {
   "cell_type": "markdown",
   "metadata": {},
   "source": [
    "GOLD conf file; file must exist..."
   ]
  },
  {
   "cell_type": "code",
   "execution_count": null,
   "metadata": {},
   "outputs": [],
   "source": [
    "conf_file = input_dir / 'gold.conf'"
   ]
  },
  {
   "cell_type": "markdown",
   "metadata": {},
   "source": [
    "Molecules to dock; file must exist..."
   ]
  },
  {
   "cell_type": "code",
   "execution_count": null,
   "metadata": {},
   "outputs": [],
   "source": [
    "input_file = input_dir / 'input.sdf'"
   ]
  },
  {
   "cell_type": "code",
   "execution_count": null,
   "metadata": {},
   "outputs": [],
   "source": []
  },
  {
   "cell_type": "markdown",
   "metadata": {},
   "source": [
    "Output directory (will be created)..."
   ]
  },
  {
   "cell_type": "code",
   "execution_count": null,
   "metadata": {},
   "outputs": [],
   "source": [
    "output_dir = Path('output_interactive_conf')"
   ]
  },
  {
   "cell_type": "markdown",
   "metadata": {},
   "source": [
    "We will set the 'write options' to `MIN_OUT` so output to disk is minimal. See [here](https://downloads.ccdc.cam.ac.uk/documentation/API/modules/docking_api.html?highlight=write_options#ccdc.docking.Docker.Settings.write_options) for available write options, and the GOLD Configuration File User Guide, Chapter 16 for more details. "
   ]
  },
  {
   "cell_type": "code",
   "execution_count": null,
   "metadata": {},
   "outputs": [],
   "source": [
    "write_options = ['MIN_OUT']"
   ]
  },
  {
   "cell_type": "code",
   "execution_count": null,
   "metadata": {},
   "outputs": [],
   "source": []
  },
  {
   "cell_type": "markdown",
   "metadata": {},
   "source": [
    "### Initialization"
   ]
  },
  {
   "cell_type": "code",
   "execution_count": null,
   "metadata": {},
   "outputs": [],
   "source": [
    "logger = logging.getLogger(__name__)\n",
    "handler = logging.StreamHandler()\n",
    "handler.setFormatter(logging.Formatter('[%(asctime)s %(levelname)-7s] %(message)s', datefmt='%y-%m-%d %H:%M:%S'))\n",
    "logger.addHandler(handler)\n",
    "logger.setLevel(logging.INFO)"
   ]
  },
  {
   "cell_type": "code",
   "execution_count": null,
   "metadata": {},
   "outputs": [],
   "source": [
    "logger.info(\"\"\"\n",
    "Platform:                     {platform()}\n",
    "\n",
    "Python exe:                   {sys.executable}\n",
    "Python version:               {'.'.join(str(x) for x in sys.version_info[:3])}\n",
    "\n",
    "CSD version:                  {ccdc.io.csd_version()}\n",
    "CSD directory:                {ccdc.io.csd_directory()}\n",
    "API version:                  {ccdc.__version__}\n",
    "\n",
    "CSDHOME:                      {os.environ.get('CSDHOME', 'Not set')}\n",
    "CCDC_LICENSING_CONFIGURATION: {os.environ.get('CCDC_LICENSING_CONFIGURATION', 'Not set')}\n",
    "\"\"\")"
   ]
  },
  {
   "cell_type": "code",
   "execution_count": null,
   "metadata": {},
   "outputs": [],
   "source": [
    "discovery_dir = sorted(Path(os.environ['CSDHOME']).parent.parent.glob('Discovery_*'))[-1]\n",
    "\n",
    "hermes_exe = (discovery_dir / 'Hermes' / 'hermes.exe' if platform().startswith('Windows') else discovery_dir / 'bin' / 'hermes').as_posix()"
   ]
  },
  {
   "cell_type": "code",
   "execution_count": null,
   "metadata": {},
   "outputs": [],
   "source": []
  },
  {
   "cell_type": "markdown",
   "metadata": {},
   "source": [
    "Create a fresh output directory for the docking run..."
   ]
  },
  {
   "cell_type": "code",
   "execution_count": null,
   "metadata": {},
   "outputs": [],
   "source": [
    "if output_dir.exists():\n",
    "    \n",
    "    logger.warning(f\"The output directory '{output_dir}' exists and will be overwritten.\")\n",
    "    \n",
    "    shutil.rmtree(output_dir)\n",
    "    \n",
    "output_dir.mkdir()\n",
    "\n",
    "os.chdir(output_dir)"
   ]
  },
  {
   "cell_type": "code",
   "execution_count": null,
   "metadata": {},
   "outputs": [],
   "source": []
  },
  {
   "cell_type": "markdown",
   "metadata": {},
   "source": [
    "### Configure docking\n",
    "\n",
    "This docking run is largely configured using a pre-prepared GOLD conf file, although we need to make some minor modifications as we will be using the `interactive` mode. We do this by instantiating a `Docker.Settings` object from the file and then modifying it _via_ it's methods and attributes..."
   ]
  },
  {
   "cell_type": "code",
   "execution_count": null,
   "metadata": {},
   "outputs": [],
   "source": [
    "settings = Docker.Settings.from_file(str(conf_file))"
   ]
  },
  {
   "cell_type": "markdown",
   "metadata": {},
   "source": [
    "We will be using interactive docking here, so won't use the input ligand file(s) as specified in the conf file (although we do actually use the same input file).\n",
    "\n",
    "However, we do need to extract the number of docking runs (`ndocks`) specified in the ligand file record..."
   ]
  },
  {
   "cell_type": "code",
   "execution_count": null,
   "metadata": {},
   "outputs": [],
   "source": [
    "ndocks = settings.ligand_files[0].ndocks"
   ]
  },
  {
   "cell_type": "markdown",
   "metadata": {},
   "source": [
    "We then need to clear the ligand files setting (as we will be using interactive docking)..."
   ]
  },
  {
   "cell_type": "code",
   "execution_count": null,
   "metadata": {},
   "outputs": [],
   "source": [
    "settings.clear_ligand_files()"
   ]
  },
  {
   "cell_type": "markdown",
   "metadata": {},
   "source": [
    "Set number of dockings..."
   ]
  },
  {
   "cell_type": "code",
   "execution_count": null,
   "metadata": {},
   "outputs": [],
   "source": [
    "settings.set_hostname(ndocks=ndocks) "
   ]
  },
  {
   "cell_type": "markdown",
   "metadata": {},
   "source": [
    "Change the `output_directory` attribute to the current directory..."
   ]
  },
  {
   "cell_type": "code",
   "execution_count": null,
   "metadata": {},
   "outputs": [],
   "source": [
    "settings.output_directory = '.'"
   ]
  },
  {
   "cell_type": "markdown",
   "metadata": {},
   "source": [
    "Set write options..."
   ]
  },
  {
   "cell_type": "code",
   "execution_count": null,
   "metadata": {},
   "outputs": [],
   "source": [
    "settings.write_options = write_options"
   ]
  },
  {
   "cell_type": "code",
   "execution_count": null,
   "metadata": {},
   "outputs": [],
   "source": []
  },
  {
   "cell_type": "markdown",
   "metadata": {},
   "source": [
    "### Run docking\n",
    "\n",
    "Here we run GOLD in `interactive` mode...\n",
    "\n",
    "Note how the list of solutions is built up during the docking run: as each molecule is docked in turn, the `session.dock` method returns a tuple of solutions for that molecule. This list of tuples is then used to write out the solution files using the standard GOLD solution file nameing scheme and is then flattened to build up a table of fitness function components."
   ]
  },
  {
   "cell_type": "code",
   "execution_count": null,
   "metadata": {},
   "outputs": [],
   "source": [
    "# Instantiate a docker...\n",
    "\n",
    "docker = Docker(settings=settings)\n",
    "\n",
    "# Start an interactive session...\n",
    "\n",
    "session = docker.dock(mode='interactive', file_name='api_gold.conf')\n",
    "\n",
    "session.ligand_preparation = None  # We assume ligand preparation has been done\n",
    "\n",
    "logger.info(f\"GOLD interactive session PID: {session.pid}\")\n",
    "\n",
    "logger.info(f\"Starting to dock ligands from input file '{input_file}'.\")\n",
    "\n",
    "solns_by_mol = []  # We will build up a list of tuples of solutions as we dock each mol\n",
    "\n",
    "with EntryReader(input_file.as_posix()) as reader:\n",
    "\n",
    "    for n_mol, entry in enumerate(reader, 1):\n",
    "\n",
    "        mol, name = entry.molecule, entry.identifier\n",
    "\n",
    "        logger.info(f\"Starting ligand '{name}'...\")\n",
    "\n",
    "        solns = session.dock(mol)  # Tuple of solutions for this mol\n",
    "        \n",
    "        logger.info(f\"... done ({len(solns)} solutions).\")\n",
    "        \n",
    "        solns_by_mol.append(solns)  # Append tuple to list of solutions\n",
    "\n",
    "logger.info(f\"Finished.\")"
   ]
  },
  {
   "cell_type": "code",
   "execution_count": null,
   "metadata": {},
   "outputs": [],
   "source": []
  },
  {
   "cell_type": "markdown",
   "metadata": {},
   "source": [
    "The fitness and it's components are available _via_ a flattened list of solutions..."
   ]
  },
  {
   "cell_type": "code",
   "execution_count": null,
   "metadata": {},
   "outputs": [],
   "source": [
    "solutions = [y for x in solns_by_mol for y in x]  # Flatten list of tuples"
   ]
  },
  {
   "cell_type": "code",
   "execution_count": null,
   "metadata": {},
   "outputs": [],
   "source": [
    "scores_df = pd.DataFrame([{'identifier': x.identifier, 'fitness': x.fitness(), **x.scoring_term()} for x in solutions])\n",
    "\n",
    "scores_df.shape"
   ]
  },
  {
   "cell_type": "code",
   "execution_count": null,
   "metadata": {},
   "outputs": [],
   "source": [
    "scores_df.head()"
   ]
  },
  {
   "cell_type": "code",
   "execution_count": null,
   "metadata": {},
   "outputs": [],
   "source": []
  },
  {
   "cell_type": "markdown",
   "metadata": {},
   "source": [
    "### Visualization"
   ]
  },
  {
   "cell_type": "markdown",
   "metadata": {},
   "source": [
    "Now, as we have been talking to GOLD over a socket and we specified write option `MIN_OUT` above, the solutions have not been written to disk at this point. If we wish to visualise them in _e.g._ Hermes, we will need to do this ourselves.\n",
    "\n",
    "So, write out the solution files using the standard GOLD solution file naming scheme..."
   ]
  },
  {
   "cell_type": "code",
   "execution_count": null,
   "metadata": {},
   "outputs": [],
   "source": [
    "stem, suffix = input_file.stem, input_file.suffix[1:]  # For GOLD standard solution file naming scheme\n",
    "\n",
    "for n_mol, solns in enumerate(solns_by_mol, 1):\n",
    "    \n",
    "    for n_soln, soln in enumerate(solns, 1):\n",
    "\n",
    "        file_name = f'gold_soln_{stem}_m{n_mol}_{n_soln}.{suffix}'  # GOLD standard solution file naming scheme\n",
    "\n",
    "        with EntryWriter(file_name) as writer: \n",
    "\n",
    "            writer.write(soln)"
   ]
  },
  {
   "cell_type": "markdown",
   "metadata": {},
   "source": [
    "Once the solution files have been written, the results of a GOLD run setup and run _via_ the API may be visualized in Hermes by loading the GOLD conf file written by the API..."
   ]
  },
  {
   "cell_type": "code",
   "execution_count": null,
   "metadata": {},
   "outputs": [],
   "source": [
    "status = subprocess.Popen([hermes_exe, 'api_gold.conf'])"
   ]
  },
  {
   "cell_type": "code",
   "execution_count": null,
   "metadata": {},
   "outputs": [],
   "source": []
  }
 ],
 "metadata": {
  "kernelspec": {
   "display_name": "Python 3",
   "language": "python",
   "name": "python3"
  },
  "language_info": {
   "codemirror_mode": {
    "name": "ipython",
    "version": 3
   },
   "file_extension": ".py",
   "mimetype": "text/x-python",
   "name": "python",
   "nbconvert_exporter": "python",
   "pygments_lexer": "ipython3",
   "version": "3.7.11"
  }
 },
 "nbformat": 4,
 "nbformat_minor": 4
}
