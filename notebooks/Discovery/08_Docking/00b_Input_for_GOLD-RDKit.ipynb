{
 "cells": [
  {
   "cell_type": "markdown",
   "metadata": {},
   "source": [
    "# Preparing ligands for GOLD docking using RDKit\n",
    "\n",
    "This notebook illustrates preparing a set of ligands for GOLD docking uisng RDKit.\n",
    "\n",
    "For optimal performance, GOLD requires good-quality 3D ligand structures as input (note that it only requires a single conformer as it performs flexible docking based on the input structure). Now, the [Conformer API](https://downloads.ccdc.cam.ac.uk/documentation/API/modules/conformer_api.html) can be used to generate a 3D structure that reflects conformational preferences observed in the CSD and thus provides ideal input for GOLD. This process is illustrated in the notebook [00a_Input_for_GOLD](./00a_Input_for_GOLD.ipynb).\n",
    "\n",
    "However, if this tool is not available (_e.g._ for licencing reasons), we recommend the use of [RDKit](http://rdkit.org/) to generate an initial 3D structure.\n",
    "\n",
    "Note that it is assumed that the input structures are all in the desired charge and tautomeric states. No protonation/deprotonation or tautomer standardization/enumeration is done here."
   ]
  },
  {
   "cell_type": "code",
   "execution_count": null,
   "metadata": {},
   "outputs": [],
   "source": [
    "from platform import platform\n",
    "import sys\n",
    "import os\n",
    "from pathlib import Path\n",
    "import logging\n",
    "import re\n",
    "import csv"
   ]
  },
  {
   "cell_type": "code",
   "execution_count": null,
   "metadata": {},
   "outputs": [],
   "source": [
    "from rdkit import Chem\n",
    "from rdkit.Chem import AllChem"
   ]
  },
  {
   "cell_type": "code",
   "execution_count": null,
   "metadata": {},
   "outputs": [],
   "source": [
    "import ccdc\n",
    "from ccdc.molecule import Molecule\n",
    "from ccdc.entry import Entry\n",
    "from ccdc.io import EntryWriter"
   ]
  },
  {
   "cell_type": "code",
   "execution_count": null,
   "metadata": {},
   "outputs": [],
   "source": []
  },
  {
   "cell_type": "markdown",
   "metadata": {},
   "source": [
    "#### Config"
   ]
  },
  {
   "cell_type": "markdown",
   "metadata": {},
   "source": [
    "The directory containing the input files for docking; directory must exist..."
   ]
  },
  {
   "cell_type": "code",
   "execution_count": null,
   "metadata": {},
   "outputs": [],
   "source": [
    "input_dir = Path('input_files')"
   ]
  },
  {
   "cell_type": "markdown",
   "metadata": {},
   "source": [
    "CSV file of input structures as SMILES with Names..."
   ]
  },
  {
   "cell_type": "code",
   "execution_count": null,
   "metadata": {},
   "outputs": [],
   "source": [
    "input_csv = input_dir / 'input.csv'\n",
    "\n",
    "smiles_col, name_col = 'smiles', 'name'  # Required columns"
   ]
  },
  {
   "cell_type": "markdown",
   "metadata": {},
   "source": [
    "Output file for this script (which is the _input_ file for GOLD); note that the file extension determines the format..."
   ]
  },
  {
   "cell_type": "code",
   "execution_count": null,
   "metadata": {},
   "outputs": [],
   "source": [
    "output_file = input_dir / 'input.sdf' "
   ]
  },
  {
   "cell_type": "markdown",
   "metadata": {},
   "source": [
    "Set `minimization_attempts` to a positive integer to enable MMFF minimization. Note that RDKit no longer [recommendeds the minimisation](https://www.rdkit.org/docs/GettingStartedInPython.html#working-with-3d-molecules)."
   ]
  },
  {
   "cell_type": "code",
   "execution_count": null,
   "metadata": {},
   "outputs": [],
   "source": [
    "minimization_attempts = 0"
   ]
  },
  {
   "cell_type": "code",
   "execution_count": null,
   "metadata": {},
   "outputs": [],
   "source": []
  },
  {
   "cell_type": "markdown",
   "metadata": {},
   "source": [
    "#### Initialization"
   ]
  },
  {
   "cell_type": "code",
   "execution_count": null,
   "metadata": {},
   "outputs": [],
   "source": [
    "# Get logger and configure if necessary...\n",
    "\n",
    "logger = logging.getLogger(__name__)\n",
    "\n",
    "if not logger.hasHandlers():\n",
    "    handler = logging.StreamHandler()\n",
    "    handler.setFormatter(logging.Formatter('[%(asctime)s %(levelname)-7s] %(message)s', datefmt='%y-%m-%d %H:%M:%S'))\n",
    "    logger.addHandler(handler)\n",
    "    logger.setLevel(logging.INFO)"
   ]
  },
  {
   "cell_type": "code",
   "execution_count": null,
   "metadata": {},
   "outputs": [],
   "source": [
    "logger.info(f\"\"\"\n",
    "Platform:                     {platform()}\n",
    "\n",
    "Python exe:                   {sys.executable}\n",
    "Python version:               {'.'.join(str(x) for x in sys.version_info[:3])}\n",
    "\n",
    "CSD version:                  {ccdc.io.csd_version()}\n",
    "CSD directory:                {ccdc.io.csd_directory()}\n",
    "API version:                  {ccdc.__version__}\n",
    "\n",
    "CSDHOME:                      {os.environ.get('CSDHOME', 'Not set')}\n",
    "CCDC_LICENSING_CONFIGURATION: {os.environ.get('CCDC_LICENSING_CONFIGURATION', 'Not set')}\n",
    "\"\"\")"
   ]
  },
  {
   "cell_type": "code",
   "execution_count": null,
   "metadata": {},
   "outputs": [],
   "source": [
    "# Check that all required files and directories exist...\n",
    "\n",
    "for directory in [input_dir]: assert directory.exists(), f\"Error! Required directory '{directory}' not found.\"\n",
    "\n",
    "for file in [input_csv]: assert file.exists(), f\"Error! Required file '{file}' not found.\""
   ]
  },
  {
   "cell_type": "code",
   "execution_count": null,
   "metadata": {},
   "outputs": [],
   "source": [
    "comment = re.compile(r'^\\s*#')  # Pattern to match comment lines in CSV files etc."
   ]
  },
  {
   "cell_type": "code",
   "execution_count": null,
   "metadata": {},
   "outputs": [],
   "source": []
  },
  {
   "cell_type": "markdown",
   "metadata": {},
   "source": [
    "### Load SMILES input from CSV file and create a 3D input file for GOLD\n",
    "\n",
    "Recall that a SMILES and Name column are required. All columns in the input CSV file are written to the output file, including the SMILES, Name and any data columns that might be present.\n",
    "This is done because experience suggests keeping such data associated with a structure throughout the docking process can be convenient in practice."
   ]
  },
  {
   "cell_type": "code",
   "execution_count": null,
   "metadata": {},
   "outputs": [],
   "source": [
    "logger.info(f\"Starting to process ligands...\")\n",
    "\n",
    "with input_csv.open() as file:\n",
    "    \n",
    "    reader = csv.DictReader(file)\n",
    "    \n",
    "    assert all(col in reader.fieldnames for col in [smiles_col, name_col]), f\"Error! Required column missing from '{input_csv}'.\"  # Ensure required columss are present\n",
    "    \n",
    "    first_col = reader.fieldnames[0]\n",
    "    \n",
    "    with EntryWriter(output_file) as writer:\n",
    "\n",
    "        for index, record in enumerate(x for x in reader if not comment.match(x[first_col])):\n",
    "            \n",
    "            smiles, name = record[smiles_col], record[name_col]\n",
    "            \n",
    "            rdk_mol = Chem.MolFromSmiles(smiles)  # Convert SMILES to 2D RDKit mol\n",
    "            \n",
    "            rdk_mol.SetProp('_Name', name)  # _Name is a special property that becomes the name in the molblock header\n",
    "\n",
    "            # nvert 2D RDKit mol to 3D...\n",
    "            \n",
    "            rdk_mol = Chem.AddHs(rdk_mol)  # Hs are required for 3D structure generation (N.B. also copies the mol)\n",
    "    \n",
    "            if AllChem.EmbedMolecule(rdk_mol) == -1:  # Generate 3D coordinates\n",
    "    \n",
    "                logger.warning(f\"RDKit: embedding failed for mol '{name}'.\")\n",
    "        \n",
    "                next\n",
    "    \n",
    "            if minimization_attempts:  # Optional MMFF minimization\n",
    "\n",
    "                for n in range(minimization_attempts):\n",
    "\n",
    "                    if AllChem.MMFFOptimizeMolecule(rdk_mol) == 0: break\n",
    "\n",
    "                else:\n",
    "\n",
    "                    logger.warning(f\"RDKit: minimisation did not finish after maximum of {minimization_attempts} attempts for mol '{name}'.\")\n",
    "                    \n",
    "                    # N.B. We don't currently skip if the (optional) minimisation doesn't finish\n",
    "\n",
    "            # Convert to API Molecule object via a string representation (i.e. the molblock)...\n",
    "\n",
    "            api_mol = Molecule.from_string(Chem.MolToMolBlock(rdk_mol))\n",
    "\n",
    "            # Standardize molecular representation to ensure conformance with CSD conventions.\n",
    "            # N.B. This is not essential here, as GOLD will perform the normalizations it needs.\n",
    "\n",
    "            # api_mol.remove_hydrogens()\n",
    "            # api_mol.assign_bond_types(which='unknown')\n",
    "            # api_mol.standardise_delocalised_bonds()\n",
    "            # api_mol.standardise_aromatic_bonds()\n",
    "            # api_mol.add_hydrogens()\n",
    "        \n",
    "            # Create an API entry object from the molecule and write to the SDF file...\n",
    "        \n",
    "            entry = Entry.from_molecule(api_mol, index=index, **record)\n",
    "\n",
    "            writer.write(entry)\n",
    "            \n",
    "            logger.info(f\"{index:3d}) completed mol '{name}'.\")\n",
    "            \n",
    "logger.info(f\"Finished.\")"
   ]
  }
 ],
 "metadata": {
  "kernelspec": {
   "display_name": "Python 3 (ipykernel)",
   "language": "python",
   "name": "python3"
  },
  "language_info": {
   "codemirror_mode": {
    "name": "ipython",
    "version": 3
   },
   "file_extension": ".py",
   "mimetype": "text/x-python",
   "name": "python",
   "nbconvert_exporter": "python",
   "pygments_lexer": "ipython3",
   "version": "3.7.13"
  }
 },
 "nbformat": 4,
 "nbformat_minor": 4
}
