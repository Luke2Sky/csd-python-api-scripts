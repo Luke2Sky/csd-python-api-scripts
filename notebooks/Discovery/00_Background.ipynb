{
 "cells": [
  {
   "cell_type": "markdown",
   "metadata": {},
   "source": [
    "# Background\n",
    "\n",
    "This notebook runs through a few simple examples of CSD Python API usage to set the satge for the main notebook collection.\n",
    "\n",
    "Some of the functionality illustrated, along with the imports _etc._ are recorded in the file `Discovery_Notebook_utils.py` for use by the other notebooks."
   ]
  },
  {
   "cell_type": "code",
   "execution_count": null,
   "metadata": {},
   "outputs": [],
   "source": [
    "from platform import platform\n",
    "import sys\n",
    "import os\n",
    "from pathlib import Path\n",
    "import logging"
   ]
  },
  {
   "cell_type": "code",
   "execution_count": null,
   "metadata": {},
   "outputs": [],
   "source": [
    "import pandas as pd"
   ]
  },
  {
   "cell_type": "code",
   "execution_count": null,
   "metadata": {},
   "outputs": [],
   "source": [
    "from IPython.display import HTML"
   ]
  },
  {
   "cell_type": "code",
   "execution_count": null,
   "metadata": {},
   "outputs": [],
   "source": [
    "import rdkit\n",
    "from rdkit.Chem.Draw import IPythonConsole"
   ]
  },
  {
   "cell_type": "code",
   "execution_count": null,
   "metadata": {},
   "outputs": [],
   "source": [
    "import ccdc\n",
    "from ccdc.io import csd_version"
   ]
  },
  {
   "cell_type": "code",
   "execution_count": null,
   "metadata": {},
   "outputs": [],
   "source": [
    "from ccdc.io import EntryReader\n",
    "from ccdc.diagram import DiagramGenerator"
   ]
  },
  {
   "cell_type": "code",
   "execution_count": null,
   "metadata": {},
   "outputs": [],
   "source": []
  },
  {
   "cell_type": "markdown",
   "metadata": {},
   "source": [
    "### Initialization"
   ]
  },
  {
   "cell_type": "markdown",
   "metadata": {},
   "source": [
    "Define info useful for debugging..."
   ]
  },
  {
   "cell_type": "code",
   "execution_count": null,
   "metadata": {},
   "outputs": [],
   "source": [
    "script_info = f\"\"\"\n",
    "Platform:       {platform()}\n",
    "Python version: {'.'.join(str(x) for x in sys.version_info[:3])}\n",
    "Python exe:     {sys.executable}\n",
    "CSD version:    {csd_version()}\n",
    "CSDHOME:        {os.environ['CSDHOME']}\n",
    "API version:    {ccdc.__version__}\n",
    "RDKit version:  {rdkit.__version__}\n",
    "\"\"\""
   ]
  },
  {
   "cell_type": "markdown",
   "metadata": {},
   "source": [
    "Set up a logger object, with timestamp _etc._..."
   ]
  },
  {
   "cell_type": "code",
   "execution_count": null,
   "metadata": {},
   "outputs": [],
   "source": [
    "logger = logging.getLogger(__name__)\n",
    "handler = logging.StreamHandler()\n",
    "handler.setFormatter(logging.Formatter('[%(asctime)s %(levelname)-7s] %(message)s', datefmt='%y-%m-%d %H:%M:%S'))\n",
    "logger.addHandler(handler)\n",
    "logger.setLevel(logging.INFO)"
   ]
  },
  {
   "cell_type": "code",
   "execution_count": null,
   "metadata": {},
   "outputs": [],
   "source": [
    "logger.info(script_info)"
   ]
  },
  {
   "cell_type": "code",
   "execution_count": null,
   "metadata": {},
   "outputs": [],
   "source": []
  },
  {
   "cell_type": "markdown",
   "metadata": {},
   "source": [
    "### Basic Lookup and CSD Entities\n",
    "\n",
    "There are three 'entity types' in the CSD database system, Entries, Crystals and Molecules. They manage different type of data relevant to a database entry and each have an API module dedicated to them. The Entry object is the 'highest level', and contains nested Crystal and Molecule objects."
   ]
  },
  {
   "cell_type": "markdown",
   "metadata": {},
   "source": [
    "#### Entry\n",
    "The [Entry](https://downloads.ccdc.cam.ac.uk/documentation/API/modules/entry_api.html) holds high-level information such as the deposition date and citation. The Entry for a CSD Refcode may be obtained very straightforwardly _via_ an [EntryReader](https://downloads.ccdc.cam.ac.uk/documentation/API/modules/io_api.html?highlight=entryreader#ccdc.io.EntryReader) object..."
   ]
  },
  {
   "cell_type": "code",
   "execution_count": null,
   "metadata": {},
   "outputs": [],
   "source": [
    "reader = EntryReader()"
   ]
  },
  {
   "cell_type": "code",
   "execution_count": null,
   "metadata": {},
   "outputs": [],
   "source": [
    "refcode = 'ZODZEA'"
   ]
  },
  {
   "cell_type": "code",
   "execution_count": null,
   "metadata": {},
   "outputs": [],
   "source": [
    "HTML(f'<a href=\"https://www.ccdc.cam.ac.uk/structures/Search?ccdcid={refcode}\" target=\"_blank\">{refcode}</a>')"
   ]
  },
  {
   "cell_type": "code",
   "execution_count": null,
   "metadata": {},
   "outputs": [],
   "source": [
    "entry = reader.entry(refcode)"
   ]
  },
  {
   "cell_type": "code",
   "execution_count": null,
   "metadata": {},
   "outputs": [],
   "source": [
    "entry.deposition_date"
   ]
  },
  {
   "cell_type": "markdown",
   "metadata": {},
   "source": [
    "The Publication field contain nested a nested Journal objects..."
   ]
  },
  {
   "cell_type": "code",
   "execution_count": null,
   "metadata": {},
   "outputs": [],
   "source": [
    "publication = entry.publication\n",
    "\n",
    "publication"
   ]
  },
  {
   "cell_type": "code",
   "execution_count": null,
   "metadata": {},
   "outputs": [],
   "source": [
    "publication.authors"
   ]
  },
  {
   "cell_type": "code",
   "execution_count": null,
   "metadata": {},
   "outputs": [],
   "source": [
    "journal = entry.publication.journal\n",
    "\n",
    "journal.full_name, journal.abbreviated_name"
   ]
  },
  {
   "cell_type": "code",
   "execution_count": null,
   "metadata": {},
   "outputs": [],
   "source": []
  },
  {
   "cell_type": "markdown",
   "metadata": {},
   "source": [
    "#### Crystal\n",
    "\n",
    "The [Crystal](https://downloads.ccdc.cam.ac.uk/documentation/API/modules/crystal_api.html) holds crystallographic information, such as unit cell parameters. A Crystal object may be retrieved directly from the database using a [CrystalReader](https://downloads.ccdc.cam.ac.uk/documentation/API/modules/io_api.html?highlight=crystalreader#ccdc.io.CrystalReader) object or extracted from an Entry object, as below..."
   ]
  },
  {
   "cell_type": "code",
   "execution_count": null,
   "metadata": {},
   "outputs": [],
   "source": [
    "crystal = entry.crystal"
   ]
  },
  {
   "cell_type": "code",
   "execution_count": null,
   "metadata": {},
   "outputs": [],
   "source": [
    "crystal.cell_angles"
   ]
  },
  {
   "cell_type": "code",
   "execution_count": null,
   "metadata": {},
   "outputs": [],
   "source": [
    "crystal.cell_lengths"
   ]
  },
  {
   "cell_type": "code",
   "execution_count": null,
   "metadata": {},
   "outputs": [],
   "source": [
    "crystal.cell_volume"
   ]
  },
  {
   "cell_type": "code",
   "execution_count": null,
   "metadata": {},
   "outputs": [],
   "source": []
  },
  {
   "cell_type": "markdown",
   "metadata": {},
   "source": [
    "#### Molecule\n",
    "\n",
    "The [Molecule](https://downloads.ccdc.cam.ac.uk/documentation/API/modules/molecule_api.html) holds chemical information, such as the connection table. It may be retrieved directly from the CSD or read from a variety of file formats using a [MoleculeReader](https://downloads.ccdc.cam.ac.uk/documentation/API/modules/io_api.html?highlight=moleculereader#ccdc.io.MoleculeReader) object. It may also be extracted from an Entry object, as below...\n",
    "\n",
    "Note that the Python API is primarily intended as a means of programatically accessing the CSD. It is not currently intended to be a full-featured cheminformatics toolkit, although the Molecule API can be used for a variety of chemiformatics tasks."
   ]
  },
  {
   "cell_type": "code",
   "execution_count": null,
   "metadata": {},
   "outputs": [],
   "source": [
    "mol = entry.molecule"
   ]
  },
  {
   "cell_type": "code",
   "execution_count": null,
   "metadata": {},
   "outputs": [],
   "source": [
    "def make_row(atom):\n",
    "    \n",
    "    bonds = ' / '.join([f\"{bond.atoms[1].label if bond.atoms[0].label == atom.label else bond.atoms[0].label} ({bond.sybyl_type})\" for bond in atom.bonds])\n",
    "\n",
    "    return [atom.label, atom.atomic_number, atom.sybyl_type, *atom.coordinates, bonds]\n",
    "\n",
    "atoms_df = pd.DataFrame(\n",
    "        data=[make_row(atom) for atom in mol.atoms],\n",
    "        columns=['label', 'atomic_number', 'atom_type', 'x', 'y', 'z', 'bonds']\n",
    "    )\n",
    "\n",
    "atoms_df.shape"
   ]
  },
  {
   "cell_type": "code",
   "execution_count": null,
   "metadata": {},
   "outputs": [],
   "source": [
    "atoms_df.head()"
   ]
  },
  {
   "cell_type": "code",
   "execution_count": null,
   "metadata": {},
   "outputs": [],
   "source": [
    "def make_row(bond):\n",
    "\n",
    "    return [bond.atoms[0].label, bond.atoms[1].label, bond.sybyl_type]\n",
    "\n",
    "bonds_df = pd.DataFrame(\n",
    "        data=[make_row(bond) for bond in mol.bonds],\n",
    "        columns=['atom_1', 'atom_2', 'bond_type']\n",
    "    )\n",
    "\n",
    "bonds_df.shape"
   ]
  },
  {
   "cell_type": "code",
   "execution_count": null,
   "metadata": {},
   "outputs": [],
   "source": [
    "bonds_df.head()"
   ]
  },
  {
   "cell_type": "markdown",
   "metadata": {},
   "source": [
    "The connection table may be witten in a variety of formats, which is useful for interoperability with other toolkits such as RDKit (see below)."
   ]
  },
  {
   "cell_type": "code",
   "execution_count": null,
   "metadata": {},
   "outputs": [],
   "source": [
    "conn_tab = mol.to_string('sdf') \n",
    "\n",
    "print(conn_tab)"
   ]
  },
  {
   "cell_type": "code",
   "execution_count": null,
   "metadata": {},
   "outputs": [],
   "source": [
    "# print(mol.to_string('mol2'))"
   ]
  },
  {
   "cell_type": "markdown",
   "metadata": {},
   "source": [
    "A SMILES string is also available..."
   ]
  },
  {
   "cell_type": "code",
   "execution_count": null,
   "metadata": {},
   "outputs": [],
   "source": [
    "mol.smiles"
   ]
  },
  {
   "cell_type": "code",
   "execution_count": null,
   "metadata": {},
   "outputs": [],
   "source": []
  },
  {
   "cell_type": "markdown",
   "metadata": {},
   "source": [
    "### 2D Depictions"
   ]
  },
  {
   "cell_type": "markdown",
   "metadata": {},
   "source": [
    "A 2D depiction may be generated using the [Diagram API](https://downloads.ccdc.cam.ac.uk/documentation/API/descriptive_docs/diagram.html?highlight=diagram).\n",
    "\n",
    "First, set up a CCDC Diagram Generator..."
   ]
  },
  {
   "cell_type": "code",
   "execution_count": null,
   "metadata": {},
   "outputs": [],
   "source": [
    "diagram_generator = DiagramGenerator()\n",
    "\n",
    "diagram_generator.settings.return_type = 'SVG'\n",
    "diagram_generator.settings.explicit_polar_hydrogens = False\n",
    "diagram_generator.settings.shrink_symbols = False"
   ]
  },
  {
   "cell_type": "markdown",
   "metadata": {},
   "source": [
    "Then generate an SVG image and display..."
   ]
  },
  {
   "cell_type": "code",
   "execution_count": null,
   "metadata": {},
   "outputs": [],
   "source": [
    "HTML(diagram_generator.image(mol))"
   ]
  },
  {
   "cell_type": "markdown",
   "metadata": {},
   "source": [
    "Markup may be applied to depictions, such as highlighting substructure matches or labelling certain atoms. Examples of this are shown in other Notebooks."
   ]
  },
  {
   "cell_type": "code",
   "execution_count": null,
   "metadata": {},
   "outputs": [],
   "source": []
  },
  {
   "cell_type": "markdown",
   "metadata": {},
   "source": [
    "### RDKit\n",
    "\n",
    "As noted above, the Python API is primarily intended as a means of programatically accessing the CSD. It is not currently intended to be a full-featured cheminformatics toolkit, although the Molecule API can be used for a variety of chemiformatics tasks. Where functionality is not present in the Molecule API, we normally use the [RDKit](http://rdkit.org/docs/index.html), as it is freely-available, powerful and well-supported."
   ]
  },
  {
   "cell_type": "code",
   "execution_count": null,
   "metadata": {},
   "outputs": [],
   "source": [
    "rdk_mol = rdkit.Chem.MolFromMolBlock(conn_tab)  # See above for source of conn_tab    \n",
    "\n",
    "rdkit.Chem.MolToSmiles(rdk_mol)"
   ]
  },
  {
   "cell_type": "code",
   "execution_count": null,
   "metadata": {},
   "outputs": [],
   "source": []
  },
  {
   "cell_type": "markdown",
   "metadata": {},
   "source": [
    "### Plotting\n",
    "\n",
    "There are many good plotting packages available for Python now, with various strengths and weaknesses. One I find generally useful is [Altair](https://altair-viz.github.io/index.html), because it straightforwardly generates attractive plots that integrate well with Jupyter. Altair is used in various Notebooks in this collection, athough it could be substituted for other packages if desired. One nice feature of Altair is that it allows the creation of [interative](https://altair-viz.github.io/user_guide/interactions.html) plots, although we will not explore that much in these Notebooks. "
   ]
  },
  {
   "cell_type": "code",
   "execution_count": null,
   "metadata": {},
   "outputs": [],
   "source": []
  },
  {
   "cell_type": "markdown",
   "metadata": {},
   "source": [
    "### 3D Visualisation"
   ]
  },
  {
   "cell_type": "markdown",
   "metadata": {},
   "source": [
    "The CCDC is working on a suite of web-based tools for visualisation of small molecules and proteins. These tools will be embeddable in notebooks so as to allow interactive visualisation of CSD database entries, PDB enties and small molecule- and macromolecular structures from other sources.\n",
    "\n",
    "In the meantime, PyMOL may be driven from a Jupyter notebook as shown below."
   ]
  },
  {
   "cell_type": "code",
   "execution_count": null,
   "metadata": {},
   "outputs": [],
   "source": [
    "# Imports required for PyMOL demo...\n",
    "\n",
    "import subprocess\n",
    "import xmlrpc.client as xmlrpclib\n",
    "from time import sleep"
   ]
  },
  {
   "cell_type": "markdown",
   "metadata": {},
   "source": [
    "**Important!** The PyMOL executable named in `pymol_exe` below must be in your path. If you installed PyMOL using `conda` (as per the instructions in `Setup_CSD_API.ps1`) this should be the case. If not, you will need to set `pymol_exe` to the name of your PyMOL executable, and to either ensure it is in your path or include the full path to the executable in `pymol_exe`."
   ]
  },
  {
   "cell_type": "code",
   "execution_count": null,
   "metadata": {},
   "outputs": [],
   "source": [
    "pymol_exe = 'pymol.exe'"
   ]
  },
  {
   "cell_type": "markdown",
   "metadata": {},
   "source": [
    "Utility to start PyMOL (somewhat) robustly..."
   ]
  },
  {
   "cell_type": "code",
   "execution_count": null,
   "metadata": {},
   "outputs": [],
   "source": [
    "def start_pymol():\n",
    "    \n",
    "    process = subprocess.Popen([pymol_exe, '-R'])\n",
    "\n",
    "    pymol = xmlrpclib.ServerProxy('http://localhost:9123')\n",
    "\n",
    "    for n_try in range(10):\n",
    "\n",
    "        try:\n",
    "            \n",
    "            pymol.do('')  # No-op\n",
    "            \n",
    "            return pymol\n",
    "        \n",
    "        except ConnectionRefusedError as error:\n",
    "        \n",
    "            sleep(1)\n",
    "\n",
    "    return None  # Failed to start PyMOL"
   ]
  },
  {
   "cell_type": "markdown",
   "metadata": {},
   "source": [
    "Write the string representation of the molecule we retrieved above (_i.e._ `conn_tab`) to a temporary file..."
   ]
  },
  {
   "cell_type": "code",
   "execution_count": null,
   "metadata": {},
   "outputs": [],
   "source": [
    "mol_file = 'demo.mol'\n",
    "\n",
    "with open(mol_file, 'w') as file:\n",
    "    \n",
    "    file.write(conn_tab + '\\n')  # See above for source of conn_tab    "
   ]
  },
  {
   "cell_type": "markdown",
   "metadata": {},
   "source": [
    "Start PyMOL, load the molecule and configure the visulization..."
   ]
  },
  {
   "cell_type": "code",
   "execution_count": null,
   "metadata": {},
   "outputs": [],
   "source": [
    "pymol = start_pymol()\n",
    "\n",
    "if pymol:\n",
    "    \n",
    "    pymol.load(mol_file)\n",
    "    \n",
    "    pymol.do('set stick_radius, 0.1')"
   ]
  },
  {
   "cell_type": "code",
   "execution_count": null,
   "metadata": {},
   "outputs": [],
   "source": [
    "os.unlink(mol_file)  # Tidy up"
   ]
  }
 ],
 "metadata": {
  "kernelspec": {
   "display_name": "Python 3",
   "language": "python",
   "name": "python3"
  },
  "language_info": {
   "codemirror_mode": {
    "name": "ipython",
    "version": 3
   },
   "file_extension": ".py",
   "mimetype": "text/x-python",
   "name": "python",
   "nbconvert_exporter": "python",
   "pygments_lexer": "ipython3",
   "version": "3.7.10"
  }
 },
 "nbformat": 4,
 "nbformat_minor": 4
}
