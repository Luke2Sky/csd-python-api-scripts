{
 "cells": [
  {
   "cell_type": "markdown",
   "metadata": {},
   "source": [
    "```\n",
    "This script can be used for any purpose without limitation subject to the\n",
    "conditions at http://www.ccdc.cam.ac.uk/Community/Pages/Licences/v2.aspx\n",
    "\n",
    "This permission notice and the following statement of attribution must be\n",
    "included in all copies or substantial portions of this script.\n",
    "\n",
    "2023-05-15: Made available by the Cambridge Crystallographic Data Centre.\n",
    "\n",
    "```"
   ]
  },
  {
   "cell_type": "markdown",
   "metadata": {},
   "source": [
    "# Protein Features in the CSD Python API"
   ]
  },
  {
   "cell_type": "code",
   "execution_count": 1,
   "metadata": {},
   "outputs": [],
   "source": [
    "from pathlib import Path\n",
    "import sys\n",
    "sys.path.append('../..')\n",
    "from ccdc_notebook_utilities import run_hermes, create_logger\n",
    "\n",
    "import os\n",
    "from time import time\n",
    "\n",
    "import warnings\n",
    "from ccdc.protein import Protein"
   ]
  },
  {
   "cell_type": "code",
   "execution_count": 2,
   "metadata": {},
   "outputs": [],
   "source": [
    "from IPython.display import HTML\n",
    "\n",
    "from IPython.core.interactiveshell import InteractiveShell\n",
    "InteractiveShell.ast_node_interactivity = 'all'"
   ]
  },
  {
   "cell_type": "markdown",
   "metadata": {},
   "source": [
    "### Initialization"
   ]
  },
  {
   "cell_type": "code",
   "execution_count": 3,
   "metadata": {},
   "outputs": [
    {
     "name": "stderr",
     "output_type": "stream",
     "text": [
      "[23-05-19 10:26:50 INFO   ] \n",
      "Platform:                     Windows-10-10.0.19045-SP0\n",
      "\n",
      "Python exe:                   C:\\Users\\cole\\Anaconda3\\envs\\latest_csd_python_api\\python.exe\n",
      "Python version:               3.9.16\n",
      "\n",
      "CSD version:                  544\n",
      "CSD directory:                C:/Users/cole/CCDC/ccdc-data/csd\n",
      "API version:                  3.0.15\n",
      "\n",
      "CSDHOME:                      C:/Users/cole/CCDC/ccdc-data/csd\n",
      "CCDC_LICENSING_CONFIGURATION: Not set\n",
      "\n"
     ]
    }
   ],
   "source": [
    "logger = create_logger()"
   ]
  },
  {
   "cell_type": "markdown",
   "metadata": {},
   "source": [
    "### Getting started\n",
    "\n",
    "Lets start by importing the protein object. This, unsurprisingly, is part of the protein module in the CSD Python API. We can load it easily enough."
   ]
  },
  {
   "cell_type": "code",
   "execution_count": 4,
   "metadata": {},
   "outputs": [],
   "source": [
    "from ccdc.protein import Protein"
   ]
  },
  {
   "cell_type": "markdown",
   "metadata": {},
   "source": [
    "First, we need to load a protein. We can do this by using the from_file() method:"
   ]
  },
  {
   "cell_type": "code",
   "execution_count": 5,
   "metadata": {},
   "outputs": [],
   "source": [
    "my_protein_pdb = Protein.from_file('3kk6.pdb')"
   ]
  },
  {
   "cell_type": "markdown",
   "metadata": {},
   "source": [
    "Proteins support molecules in PDB, mmCIF, or Mol2 format"
   ]
  },
  {
   "cell_type": "code",
   "execution_count": 6,
   "metadata": {},
   "outputs": [],
   "source": [
    "my_protein_cif = Protein.from_file('3kk6.cif')"
   ]
  },
  {
   "cell_type": "markdown",
   "metadata": {},
   "source": [
    "You can write PDB format or mol2 format files in the usual way, but note this only saves the 3D coordinate information."
   ]
  },
  {
   "cell_type": "code",
   "execution_count": 7,
   "metadata": {},
   "outputs": [
    {
     "name": "stdout",
     "output_type": "stream",
     "text": [
      "The output file looks like this note that it is orthogonal coordinates:\n",
      "\n",
      "HEADER    CSD ENTRY 3KK6\n",
      "CRYST1   1.0000   1.0000   1.0000  90.00  90.00  90.00          \n",
      "SCALE1      1.000000  0.000000  0.000000       0.000000\n",
      "SCALE2      0.000000  1.000000  0.000000       0.000000\n",
      "SCALE3      0.000000  0.000000  1.000000       0.000000\n",
      "ATOM      1  N   PRO A   1      -1.471  73.907  -4.091  1.00111.70           N  \n",
      "ATOM      2  CA  PRO A   1      -2.058  73.750  -2.771  1.00118.46           C  \n",
      "ATOM      3  C   PRO A   1      -3.273  72.889  -2.915  1.00124.49           C  \n",
      "ATOM      4  O   PRO A   1      -4.153  72.917  -2.071  1.00121.31           O  \n",
      "ATOM      5  CB  PRO A   1      -2.500  75.159  -2.446  1.00116.04           C  \n",
      "... etc ...\n"
     ]
    }
   ],
   "source": [
    "from ccdc.io import EntryWriter\n",
    "with EntryWriter('3kk6_out.pdb') as ew:\n",
    "    ew.write(my_protein_cif)\n",
    "    \n",
    "with open('3kk6_out.pdb','r') as outf:\n",
    "    lines = outf.readlines()\n",
    "    print(\"The output file looks like this note that it is orthogonal coordinates:\\n\")\n",
    "    for line in lines[:10]:\n",
    "        print(line[:-1])\n",
    "    print(\"... etc ...\")"
   ]
  },
  {
   "cell_type": "markdown",
   "metadata": {},
   "source": [
    "We can access the usual attributes of a protein through the returned object: first we have the chains:"
   ]
  },
  {
   "cell_type": "code",
   "execution_count": 8,
   "metadata": {},
   "outputs": [
    {
     "name": "stdout",
     "output_type": "stream",
     "text": [
      "(<ccdc.protein.Protein.Chain object at 0x0000029AB69E31F0>, <ccdc.protein.Protein.Chain object at 0x0000029AB69E3940>)\n"
     ]
    }
   ],
   "source": [
    "chains = my_protein_cif.chains\n",
    "print(chains)"
   ]
  },
  {
   "cell_type": "markdown",
   "metadata": {},
   "source": [
    "This protein has 2 chain objects: lets look at what's inside a chain:"
   ]
  },
  {
   "cell_type": "code",
   "execution_count": 9,
   "metadata": {},
   "outputs": [
    {
     "name": "stdout",
     "output_type": "stream",
     "text": [
      "['identifier', 'index', 'residues', 'sequence']\n"
     ]
    }
   ],
   "source": [
    "print([x for x in dir(chains[0]) if not x.startswith('_')])"
   ]
  },
  {
   "cell_type": "markdown",
   "metadata": {},
   "source": [
    "Each chain has an identifier and an index, a list of individual residues, and a sequence"
   ]
  },
  {
   "cell_type": "code",
   "execution_count": 10,
   "metadata": {},
   "outputs": [
    {
     "name": "stdout",
     "output_type": "stream",
     "text": [
      "PVNPCCYYPCQHQGICVRFGLDRYQCDCTRTGYSGPNCTIPEIWTWLRTTLRPSPSFIHFLLTHGRWLWDFVNATFIRDTLMRLVLTVRSNLIPSPPTYNIAHDYISWESFSNVSYYTRILPSVPRDCPTPMGTKGKKQLPDAEFLSRRFLLRRKFIPDPQGTNLMFAFFAQHFTHQFFKTSGKMGPGFTKALGHGVDLGHIYGDNLERQYQLRLFKDGKLKYQMLNGEVYPPSVEEAPVLMHYPRGIPPQSQMAVGQEVFGLLPGLMLYATIWLREHNRVCDLLKAEHPTWGDEQLFQTARLILIGETIKIVIEEYVQQLSGYFLQLKFDPELLFGAQFQYRNRIAMEFNQLYHWHPLMPDSFRVGPQDYSYEQFLFNTSMLVDYGVEALVDAFSRQPAGRIGGGRNIDHHILHVAVDVIKESRVLRLQPFNEYRKRFGMKPYTSFQELTGEKEMAAELEELYGDIDALEFYPGLLLEKCHPNSIFGESMIEMGAPFSLKGLLGNPICSPEYWKASTFGGEVGFNLVKTATLKKLVCLNTKTCPYVSFHVPD\n"
     ]
    }
   ],
   "source": [
    "print(chains[0].sequence)"
   ]
  },
  {
   "cell_type": "markdown",
   "metadata": {},
   "source": [
    "The sequence is a direct reflection of the atomic residues in the input: it does not reflect the SEQRES record in the PDB file. For example - here we read the same PDB but only with the first 6 residues included and we get a tiny chain."
   ]
  },
  {
   "cell_type": "code",
   "execution_count": 11,
   "metadata": {},
   "outputs": [],
   "source": [
    "tiny = Protein.from_file('tiny.pdb')"
   ]
  },
  {
   "cell_type": "code",
   "execution_count": 12,
   "metadata": {},
   "outputs": [
    {
     "name": "stdout",
     "output_type": "stream",
     "text": [
      "PVNPCC\n"
     ]
    }
   ],
   "source": [
    "print(tiny.chains[0].sequence)"
   ]
  },
  {
   "cell_type": "markdown",
   "metadata": {},
   "source": [
    "Lets look at the various chain identifiers:"
   ]
  },
  {
   "cell_type": "code",
   "execution_count": 13,
   "metadata": {},
   "outputs": [
    {
     "name": "stdout",
     "output_type": "stream",
     "text": [
      "A\n",
      "PVNPCCYYPCQHQGICVRFGLDRYQCDCTRTGYSGPNCTIPEIWTWLRTTLRPSPSFIHFLLTHGRWLWDFVNATFIRDTLMRLVLTVRSNLIPSPPTYNIAHDYISWESFSNVSYYTRILPSVPRDCPTPMGTKGKKQLPDAEFLSRRFLLRRKFIPDPQGTNLMFAFFAQHFTHQFFKTSGKMGPGFTKALGHGVDLGHIYGDNLERQYQLRLFKDGKLKYQMLNGEVYPPSVEEAPVLMHYPRGIPPQSQMAVGQEVFGLLPGLMLYATIWLREHNRVCDLLKAEHPTWGDEQLFQTARLILIGETIKIVIEEYVQQLSGYFLQLKFDPELLFGAQFQYRNRIAMEFNQLYHWHPLMPDSFRVGPQDYSYEQFLFNTSMLVDYGVEALVDAFSRQPAGRIGGGRNIDHHILHVAVDVIKESRVLRLQPFNEYRKRFGMKPYTSFQELTGEKEMAAELEELYGDIDALEFYPGLLLEKCHPNSIFGESMIEMGAPFSLKGLLGNPICSPEYWKASTFGGEVGFNLVKTATLKKLVCLNTKTCPYVSFHVPD\n",
      "B\n",
      "PVNPCCYYPCQHQGICVRFGLDRYQCDCTRTGYSGPNCTIPEIWTWLRTTLRPSPSFIHFLLTHGRWLWDFVNATFIRDTLMRLVLTVRSNLIPSPPTYNIAHDYISWESFSNVSYYTRILPSVPRDCPTPMGTKGKKQLPDAEFLSRRFLLRRKFIPDPQGTNLMFAFFAQHFTHQFFKTSGKMGPGFTKALGHGVDLGHIYGDNLERQYQLRLFKDGKLKYQMLNGEVYPPSVEEAPVLMHYPRGIPPQSQMAVGQEVFGLLPGLMLYATIWLREHNRVCDLLKAEHPTWGDEQLFQTARLILIGETIKIVIEEYVQQLSGYFLQLKFDPELLFGAQFQYRNRIAMEFNQLYHWHPLMPDSFRVGPQDYSYEQFLFNTSMLVDYGVEALVDAFSRQPAGRIGGGRNIDHHILHVAVDVIKESRVLRLQPFNEYRKRFGMKPYTSFQELTGEKEMAAELEELYGDIDALEFYPGLLLEKCHPNSIFGESMIEMGAPFSLKGLLGNPICSPEYWKASTFGGEVGFNLVKTATLKKLVCLNTKTCPYVSFHVPD\n"
     ]
    }
   ],
   "source": [
    "for chain in my_protein_cif.chains:\n",
    "    print(chain.identifier)\n",
    "    print(chain.sequence)"
   ]
  },
  {
   "cell_type": "markdown",
   "metadata": {},
   "source": [
    "Sequences are text strings, so we can compare them as is."
   ]
  },
  {
   "cell_type": "code",
   "execution_count": 14,
   "metadata": {},
   "outputs": [
    {
     "name": "stdout",
     "output_type": "stream",
     "text": [
      "The chain sequences are identical\n"
     ]
    }
   ],
   "source": [
    "if my_protein_cif.chains[0].sequence == my_protein_cif.chains[1].sequence:\n",
    "    print(\"The chain sequences are identical\")"
   ]
  },
  {
   "cell_type": "markdown",
   "metadata": {},
   "source": [
    "### Editing Protein Objects\n",
    "\n",
    "We can edit a protein using the add and remove methods. For example, lets remove a chain"
   ]
  },
  {
   "cell_type": "code",
   "execution_count": 15,
   "metadata": {},
   "outputs": [
    {
     "name": "stdout",
     "output_type": "stream",
     "text": [
      "A\n",
      "PVNPCCYYPCQHQGICVRFGLDRYQCDCTRTGYSGPNCTIPEIWTWLRTTLRPSPSFIHFLLTHGRWLWDFVNATFIRDTLMRLVLTVRSNLIPSPPTYNIAHDYISWESFSNVSYYTRILPSVPRDCPTPMGTKGKKQLPDAEFLSRRFLLRRKFIPDPQGTNLMFAFFAQHFTHQFFKTSGKMGPGFTKALGHGVDLGHIYGDNLERQYQLRLFKDGKLKYQMLNGEVYPPSVEEAPVLMHYPRGIPPQSQMAVGQEVFGLLPGLMLYATIWLREHNRVCDLLKAEHPTWGDEQLFQTARLILIGETIKIVIEEYVQQLSGYFLQLKFDPELLFGAQFQYRNRIAMEFNQLYHWHPLMPDSFRVGPQDYSYEQFLFNTSMLVDYGVEALVDAFSRQPAGRIGGGRNIDHHILHVAVDVIKESRVLRLQPFNEYRKRFGMKPYTSFQELTGEKEMAAELEELYGDIDALEFYPGLLLEKCHPNSIFGESMIEMGAPFSLKGLLGNPICSPEYWKASTFGGEVGFNLVKTATLKKLVCLNTKTCPYVSFHVPD\n"
     ]
    }
   ],
   "source": [
    "chains = my_protein_cif.chains\n",
    "my_protein_cif.remove_chain(chains[1].identifier)\n",
    "for chain in my_protein_cif.chains:\n",
    "    print(chain.identifier)\n",
    "    print(chain.sequence)"
   ]
  },
  {
   "cell_type": "markdown",
   "metadata": {},
   "source": [
    "Now, as you can see we have only one chain. Protein has several 'remove' and 'add' methods for adding and removing attributes of a protein. Lets remove the first 50 residues:"
   ]
  },
  {
   "cell_type": "code",
   "execution_count": 16,
   "metadata": {},
   "outputs": [
    {
     "name": "stdout",
     "output_type": "stream",
     "text": [
      "Currently we have 553 residues and 9380 atoms\n",
      "After editing, we have 503 residues and 8622 atoms\n",
      "\n",
      "LRPSPSFIHFLLTHGRWLWDFVNATFIRDTLMRLVLTVRSNLIPSPPTYNIAHDYISWESFSNVSYYTRILPSVPRDCPTPMGTKGKKQLPDAEFLSRRFLLRRKFIPDPQGTNLMFAFFAQHFTHQFFKTSGKMGPGFTKALGHGVDLGHIYGDNLERQYQLRLFKDGKLKYQMLNGEVYPPSVEEAPVLMHYPRGIPPQSQMAVGQEVFGLLPGLMLYATIWLREHNRVCDLLKAEHPTWGDEQLFQTARLILIGETIKIVIEEYVQQLSGYFLQLKFDPELLFGAQFQYRNRIAMEFNQLYHWHPLMPDSFRVGPQDYSYEQFLFNTSMLVDYGVEALVDAFSRQPAGRIGGGRNIDHHILHVAVDVIKESRVLRLQPFNEYRKRFGMKPYTSFQELTGEKEMAAELEELYGDIDALEFYPGLLLEKCHPNSIFGESMIEMGAPFSLKGLLGNPICSPEYWKASTFGGEVGFNLVKTATLKKLVCLNTKTCPYVSFHVPD\n"
     ]
    }
   ],
   "source": [
    "print(f\"Currently we have {len(my_protein_cif.residues)} residues and {len(my_protein_cif.atoms)} atoms\")\n",
    "\n",
    "_ = [ my_protein_cif.remove_residue(r.identifier) for r in my_protein_cif.residues[:50] ]\n",
    "    \n",
    "print(f\"After editing, we have {len(my_protein_cif.residues)} residues and {len(my_protein_cif.atoms)} atoms\")\n",
    "print()\n",
    "print(my_protein_cif.chains[0].sequence)"
   ]
  },
  {
   "cell_type": "markdown",
   "metadata": {},
   "source": [
    "Similar methods exist for adding and removing ligands, cofactors, nucleotides, metals and waters. we can also remove individual atoms. Currently removing atoms can be a bit slow.\n",
    "\n",
    "Lets remove all the sidechains atoms in our protein. First we build the list of atoms to remove:"
   ]
  },
  {
   "cell_type": "code",
   "execution_count": 17,
   "metadata": {},
   "outputs": [],
   "source": [
    "atoms_to_remove = [ atom for residue in my_protein_cif.residues for atom in residue.sidechain_atoms ]"
   ]
  },
  {
   "cell_type": "code",
   "execution_count": 18,
   "metadata": {},
   "outputs": [
    {
     "name": "stdout",
     "output_type": "stream",
     "text": [
      "First to atoms are [Atom(CB), Atom(CG), Atom(CD1), Atom(CD2), Atom(HA), Atom(HB2), Atom(HB3), Atom(HG), Atom(HD11), Atom(HD12)]\n"
     ]
    }
   ],
   "source": [
    "print(f\"First ten atoms are {atoms_to_remove[:10]}\")"
   ]
  },
  {
   "cell_type": "code",
   "execution_count": 19,
   "metadata": {},
   "outputs": [],
   "source": [
    "my_protein_cif.remove_atoms(atoms_to_remove)"
   ]
  },
  {
   "cell_type": "markdown",
   "metadata": {},
   "source": [
    "Lets write it out and view it in Hermes:"
   ]
  },
  {
   "cell_type": "code",
   "execution_count": 24,
   "metadata": {},
   "outputs": [],
   "source": [
    "from ccdc.io import MoleculeWriter\n",
    "with MoleculeWriter('saved.mol2') as mw:\n",
    "    mw.write(my_protein_cif)\n",
    "    \n",
    "run_hermes('saved.mol2')"
   ]
  },
  {
   "cell_type": "markdown",
   "metadata": {},
   "source": [
    "As you can see, the protein now just has the backbone atoms left."
   ]
  }
 ],
 "metadata": {
  "kernelspec": {
   "display_name": "Python 3 (ipykernel)",
   "language": "python",
   "name": "python3"
  },
  "language_info": {
   "codemirror_mode": {
    "name": "ipython",
    "version": 3
   },
   "file_extension": ".py",
   "mimetype": "text/x-python",
   "name": "python",
   "nbconvert_exporter": "python",
   "pygments_lexer": "ipython3",
   "version": "3.9.16"
  }
 },
 "nbformat": 4,
 "nbformat_minor": 4
}
